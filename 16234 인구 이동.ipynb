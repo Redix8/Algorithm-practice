{
 "cells": [
  {
   "cell_type": "code",
   "execution_count": 5,
   "metadata": {
    "collapsed": false
   },
   "outputs": [
    {
     "name": "stdout",
     "output_type": "stream",
     "text": [
      "2 20 50\n",
      "50 30\n",
      "20 40\n"
     ]
    }
   ],
   "source": [
    "N, L, R = map(int, input().split())\n",
    "arr = [list(map(int,input().split())) for _ in range(N)]\n",
    "    "
   ]
  },
  {
   "cell_type": "code",
   "execution_count": 20,
   "metadata": {
    "collapsed": true
   },
   "outputs": [],
   "source": [
    "def border(arr):\n",
    "    global N\n",
    "    ret = []\n",
    "    visited = [[0]*N for _ in range(N)]\n",
    "    for i in range(N):\n",
    "        for j in range(N):\n",
    "            if not visited[i][j]:\n",
    "                res, visited = search(i,j,visited)\n",
    "                if len(res) !=1:\n",
    "                    ret.append(res)\n",
    "    return ret     "
   ]
  },
  {
   "cell_type": "code",
   "execution_count": 21,
   "metadata": {
    "collapsed": false
   },
   "outputs": [],
   "source": [
    "def search(r,c,visited):\n",
    "    global N, arr, L, R\n",
    "    ret =[]\n",
    "    st = []\n",
    "    x = [0,0,1,-1]\n",
    "    y = [1,-1,0,0]\n",
    "    ret.append((r,c))\n",
    "    st.append((r,c))\n",
    "    visited[r][c] = 1\n",
    "    while st:\n",
    "        r,c = st.pop()        \n",
    "        for i in range(4):\n",
    "            nr = r+y[i]\n",
    "            nc = c+x[i]\n",
    "            if 0<=nr<N and 0<=nc<N and not visited[nr][nc]:\n",
    "                if L<=abs(arr[r][c]-arr[nr][nc])<=R:\n",
    "                    st.append((nr,nc))\n",
    "                    ret.append((nr,nc))\n",
    "                    visited[nr][nc] = 1\n",
    "    return (ret, visited)"
   ]
  },
  {
   "cell_type": "code",
   "execution_count": 32,
   "metadata": {
    "collapsed": false
   },
   "outputs": [
    {
     "name": "stdout",
     "output_type": "stream",
     "text": [
      "2 20 50\n",
      "50 30\n",
      "30 40\n",
      "1\n"
     ]
    }
   ],
   "source": [
    "N, L, R = map(int, input().split())\n",
    "arr = [list(map(int,input().split())) for _ in range(N)]\n",
    "cnt = 0\n",
    "while True:\n",
    "    res = border(arr)\n",
    "    for bord in res:\n",
    "        s = 0\n",
    "        for r,c in bord:\n",
    "            s+=arr[r][c]\n",
    "        for r,c in bord:\n",
    "            arr[r][c] = s//len(bord)\n",
    "    if not res:\n",
    "        break\n",
    "    else:\n",
    "        cnt+=1\n",
    "print(cnt)"
   ]
  },
  {
   "cell_type": "code",
   "execution_count": 26,
   "metadata": {
    "collapsed": false
   },
   "outputs": [
    {
     "name": "stdout",
     "output_type": "stream",
     "text": [
      "a\n"
     ]
    }
   ],
   "source": []
  },
  {
   "cell_type": "code",
   "execution_count": null,
   "metadata": {
    "collapsed": true
   },
   "outputs": [],
   "source": []
  }
 ],
 "metadata": {
  "kernelspec": {
   "display_name": "Python 3",
   "language": "python",
   "name": "python3"
  },
  "language_info": {
   "codemirror_mode": {
    "name": "ipython",
    "version": 3
   },
   "file_extension": ".py",
   "mimetype": "text/x-python",
   "name": "python",
   "nbconvert_exporter": "python",
   "pygments_lexer": "ipython3",
   "version": "3.6.0"
  }
 },
 "nbformat": 4,
 "nbformat_minor": 2
}
