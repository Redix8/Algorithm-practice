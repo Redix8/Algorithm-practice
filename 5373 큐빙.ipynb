{
 "cells": [
  {
   "cell_type": "code",
   "execution_count": null,
   "metadata": {
    "collapsed": false
   },
   "outputs": [],
   "source": [
    "t = int(input())\n",
    "for _ in range(t):\n",
    "    up = [['w','w','w'] for _ in range(3)]\n",
    "    down = [['y','y','y'] for _ in range(3)]\n",
    "    left = [['g','g','g'] for _ in range(3)]\n",
    "    right= [['b','b','b'] for _ in range(3)]\n",
    "    back = [['o','o','o'] for _ in range(3)]\n",
    "    front = [['r','r','r'] for _ in range(3)]\n",
    "    n = int(input())\n",
    "    query = input().split()\n",
    "    for q in query:\n",
    "        move(q)\n",
    "    for x in up:\n",
    "        print(''.join(x))\n"
   ]
  },
  {
   "cell_type": "code",
   "execution_count": null,
   "metadata": {
    "collapsed": false
   },
   "outputs": [],
   "source": [
    "def move(q):\n",
    "    global up, down, left, right, back, front\n",
    "    w = q[0]\n",
    "    cl = q[1] \n",
    "    if w == 'U':\n",
    "        if cl == '+':\n",
    "            roll(front, right, back, left, 0)\n",
    "        elif cl == '-':\n",
    "            roll(front, left, back, right, 0)\n",
    "        up = spin(up, cl)\n",
    "    elif w == 'D':\n",
    "        if cl == '+':\n",
    "            roll(front,left,back,right,2)\n",
    "        elif cl == '-':\n",
    "            roll(front,right,back,left,2)\n",
    "        down = spin(down, cl)\n",
    "    elif w == 'L':\n",
    "        if cl == '+':\n",
    "            rRoll(up,back,down,front,0,2)\n",
    "        elif cl =='-':\n",
    "            rRoll2(up,front,down,back,0,2)\n",
    "        left = spin(left, cl)\n",
    "    elif w == 'R':\n",
    "        if cl == '+':\n",
    "            rRoll2(up,front,down,back,2,0)\n",
    "        elif cl =='-':\n",
    "            rRoll(up,back,down,front,2,0)\n",
    "        right = spin(right,cl)\n",
    "    elif w == 'F':\n",
    "        if cl == '+':\n",
    "            cRoll(up, left, down, right, 2, 2)            \n",
    "        if cl == '-':\n",
    "            cRoll(up, right, down, left, 2, 0)            \n",
    "        front = spin(front, cl)\n",
    "    elif w == 'B':\n",
    "        if cl == '+':\n",
    "            cRoll(up,right,down,left, 0, 2)        \n",
    "        elif cl=='-':\n",
    "            cRoll(up,left,down,right,0,0)\n",
    "        back = spin(back, cl)\n",
    "        "
   ]
  },
  {
   "cell_type": "code",
   "execution_count": null,
   "metadata": {
    "collapsed": false
   },
   "outputs": [],
   "source": [
    "def spin(arr, cl):\n",
    "    tmp = [[],[],[]]\n",
    "    if cl == '+':\n",
    "        for i, x in enumerate(zip(*arr)):\n",
    "            tmp[i] = list(reversed(x))\n",
    "    elif cl == '-':\n",
    "        for i, x in enumerate(zip(*map(reversed, arr))):\n",
    "            tmp[i] = list(x)\n",
    "    return tmp"
   ]
  },
  {
   "cell_type": "code",
   "execution_count": null,
   "metadata": {
    "collapsed": false
   },
   "outputs": [],
   "source": [
    "a = [[1,2,3],[4,5,6],[7,8,9]]\n",
    "for x in a:\n",
    "    print(x)\n",
    "print()\n",
    "for x in zip(*a):\n",
    "    print(list(reversed(x)))\n",
    "print()\n",
    "for x in zip(*map(reversed,a)):\n",
    "    print(x)"
   ]
  },
  {
   "cell_type": "code",
   "execution_count": null,
   "metadata": {
    "collapsed": false
   },
   "outputs": [],
   "source": [
    "a = [[1,2,3],[4,5,6],[7,8,9]]\n",
    "a = spin(a, '+')\n",
    "print(a)"
   ]
  },
  {
   "cell_type": "code",
   "execution_count": null,
   "metadata": {
    "collapsed": true
   },
   "outputs": [],
   "source": [
    "def roll(a,b,c,d,n):\n",
    "    tmp = a[n]\n",
    "    a[n] = b[n]\n",
    "    b[n] = c[n]\n",
    "    c[n] = d[n]\n",
    "    d[n] = tmp"
   ]
  },
  {
   "cell_type": "code",
   "execution_count": null,
   "metadata": {
    "collapsed": false
   },
   "outputs": [],
   "source": [
    "def rRoll(a,b,c,d,n,w):\n",
    "    tmp = [['','',''] for _ in range(3)]\n",
    "    for i in range(3):\n",
    "        tmp[i][n] = a[i][n]\n",
    "    for i in range(3):\n",
    "        a[i][n] = b[2-i][w]\n",
    "    for i in range(3):\n",
    "        b[i][w] = c[i][n]\n",
    "    for i in range(3):\n",
    "        c[i][n] = d[2-i][n]\n",
    "    for i in range(3):\n",
    "        d[i][n] = tmp[i][n]\n",
    "\n",
    "def rRoll2(a,b,c,d,n,w):\n",
    "    tmp = [['','',''] for _ in range(3)]\n",
    "    for i in range(3):\n",
    "        tmp[i][n] = a[i][n]\n",
    "    for i in range(3):\n",
    "        a[i][n] = b[i][n]\n",
    "    for i in range(3):\n",
    "        b[i][n] = c[2-i][n]\n",
    "    for i in range(3):\n",
    "        c[i][n] = d[i][w]\n",
    "    for i in range(3):\n",
    "        d[2-i][w] = tmp[i][n]"
   ]
  },
  {
   "cell_type": "code",
   "execution_count": null,
   "metadata": {
    "collapsed": true
   },
   "outputs": [],
   "source": [
    "def trans(a,b,n):\n",
    "    for i in range(3):\n",
    "        a[i][n] = b[i][n]"
   ]
  },
  {
   "cell_type": "code",
   "execution_count": null,
   "metadata": {
    "collapsed": true
   },
   "outputs": [],
   "source": [
    "def cRoll(a,b,c,d,n,w):\n",
    "    tmp = a[n]    \n",
    "    for i in range(3):\n",
    "        a[n][i] = b[i][w]\n",
    "        b[i][w] = c[n][i]\n",
    "        c[n][i] = d[i][2-w]\n",
    "        d[i][2-w] = tmp[i]\n"
   ]
  },
  {
   "cell_type": "code",
   "execution_count": null,
   "metadata": {
    "collapsed": false
   },
   "outputs": [],
   "source": [
    "up = [['w','w','w'] for _ in range(3)]\n",
    "down = [['y','y','y'] for _ in range(3)]\n",
    "left = [['g','g','g'] for _ in range(3)]\n",
    "right= [['b','b','b'] for _ in range(3)]\n",
    "back = [['o','o','o'] for _ in range(3)]\n",
    "front = [['r','r','r'] for _ in range(3)]\n",
    "\n",
    "for q in 'L- U- L+ U- L- U- U- L+ U+ U+'.split():\n",
    "    move(q)\n",
    "    print('up')\n",
    "    pr(up)\n",
    "    print('front')\n",
    "    pr(front)\n",
    "    print('left')\n",
    "    pr(left)\n",
    "    print('right')\n",
    "    pr(right)\n",
    "    print('back')\n",
    "    pr(back)\n",
    "    print('down')\n",
    "    pr(down)\n",
    "    print('next')"
   ]
  },
  {
   "cell_type": "code",
   "execution_count": null,
   "metadata": {
    "collapsed": true
   },
   "outputs": [],
   "source": [
    "def pr(arr):\n",
    "    for x in arr:\n",
    "        print(x)"
   ]
  },
  {
   "cell_type": "markdown",
   "metadata": {},
   "source": [
    "       9 8 7\n",
    "       6 O 4\n",
    "       3 2 1  \n",
    "7 4 1  1 2 3  3 6 9  \n",
    "8 G 2  4 W 6  2 B 8\n",
    "9 6 3  7 8 9  1 4 7\n",
    "       1 2 3\n",
    "       4 R 6\n",
    "       7 8 9\n",
    "       "
   ]
  },
  {
   "cell_type": "code",
   "execution_count": null,
   "metadata": {
    "collapsed": false
   },
   "outputs": [],
   "source": [
    "arr = [0]*55\n",
    "init = \"wyrogb\"\n",
    "for i in range(6):\n",
    "    for j in range(9):\n",
    "        arr[i*9+j] = init[i]\n",
    "        \n",
    "cube = [[[0]*3 for _ in range(3)] for l in range(6)]        \n",
    "for k in range(6):\n",
    "    for i in range(3):\n",
    "        for j in range(3):\n",
    "            cube[k][i][j] = k*9+i*3+j\n",
    "        \n",
    "rot = [\n",
    "    [36,37,38,18,19,20,45,46,47,27,28,29],     #   //U\n",
    "    [33,34,35,51,52,53,24,25,26,42,43,44],     #   //D\n",
    "    [6,7,8,44,41,38,11,10,9,45,48,51],         #   //F\n",
    "    [2,1,0,53,50,47,15,16,17,36,39,42],        #    //B\n",
    "    [0,3,6,35,32,29,9,12,15,18,21,24],         #   //L\n",
    "    [8,5,2,26,23,20,17,14,11,27,30,33]]         #   //R\n",
    "\n",
    "f = 0\n",
    "que = [0]*12\n",
    "for i in range(12):\n",
    "    que[i] = arr[rot[f][i]]\n",
    "for i in range(12):\n",
    "    arr[rot[f][i]]= que[(i + 3) % 12]"
   ]
  },
  {
   "cell_type": "code",
   "execution_count": 1,
   "metadata": {
    "collapsed": false
   },
   "outputs": [],
   "source": [
    "def rotate(f, cnt):\n",
    "    global rot, d, arr,cube\n",
    "    que = [0]*12\n",
    "    tmp = [[0]*3 for _ in range(3)]\n",
    "    for _ in range(cnt):\n",
    "        for i in range(12):\n",
    "            que[i] = arr[rot[f][i]]\n",
    "        for i in range(12):\n",
    "            arr[rot[f][i]]= que[(i + 3) % 12]\n",
    "        for i in range(3):\n",
    "            for j in range(3):\n",
    "                tmp[j][2-i] = arr[cube[f][i][j]]\n",
    "        for i in range(3):\n",
    "            for j in range(3):\n",
    "                arr[cube[f][i][j]] = tmp[i][j]\n"
   ]
  },
  {
   "cell_type": "code",
   "execution_count": 2,
   "metadata": {
    "collapsed": false
   },
   "outputs": [],
   "source": [
    "def init():\n",
    "    global arr, cube\n",
    "    s = \"wyrogb\"\n",
    "    for i in range(6):\n",
    "        for j in range(9):\n",
    "            arr[i*9+j] = s[i]\n",
    "    for k in range(6):\n",
    "        for i in range(3):\n",
    "            for j in range(3):\n",
    "                cube[k][i][j] = k*9+i*3+j"
   ]
  },
  {
   "cell_type": "code",
   "execution_count": 3,
   "metadata": {
    "collapsed": false
   },
   "outputs": [
    {
     "name": "stdout",
     "output_type": "stream",
     "text": [
      "4\n",
      "1\n",
      "L-\n"
     ]
    },
    {
     "ename": "NameError",
     "evalue": "name 'que' is not defined",
     "output_type": "error",
     "traceback": [
      "\u001b[0;31m---------------------------------------------------------------------------\u001b[0m",
      "\u001b[0;31mNameError\u001b[0m                                 Traceback (most recent call last)",
      "\u001b[0;32m<ipython-input-3-7bc42d09e9e3>\u001b[0m in \u001b[0;36m<module>\u001b[0;34m()\u001b[0m\n\u001b[1;32m     17\u001b[0m         \u001b[0mx\u001b[0m \u001b[1;33m=\u001b[0m \u001b[0mq\u001b[0m\u001b[1;33m[\u001b[0m\u001b[1;36m0\u001b[0m\u001b[1;33m]\u001b[0m\u001b[1;33m\u001b[0m\u001b[0m\n\u001b[1;32m     18\u001b[0m         \u001b[0mn\u001b[0m \u001b[1;33m=\u001b[0m \u001b[1;36m1\u001b[0m \u001b[1;32mif\u001b[0m \u001b[0mq\u001b[0m\u001b[1;33m[\u001b[0m\u001b[1;36m1\u001b[0m\u001b[1;33m]\u001b[0m \u001b[1;33m==\u001b[0m \u001b[1;34m'+'\u001b[0m \u001b[1;32melse\u001b[0m \u001b[1;36m3\u001b[0m\u001b[1;33m\u001b[0m\u001b[0m\n\u001b[0;32m---> 19\u001b[0;31m         \u001b[0mrotate\u001b[0m\u001b[1;33m(\u001b[0m\u001b[0md\u001b[0m\u001b[1;33m[\u001b[0m\u001b[0mx\u001b[0m\u001b[1;33m]\u001b[0m\u001b[1;33m,\u001b[0m \u001b[0mn\u001b[0m\u001b[1;33m)\u001b[0m\u001b[1;33m\u001b[0m\u001b[0m\n\u001b[0m\u001b[1;32m     20\u001b[0m     \u001b[1;32mfor\u001b[0m \u001b[0mi\u001b[0m \u001b[1;32min\u001b[0m \u001b[0mrange\u001b[0m\u001b[1;33m(\u001b[0m\u001b[1;36m3\u001b[0m\u001b[1;33m)\u001b[0m\u001b[1;33m:\u001b[0m\u001b[1;33m\u001b[0m\u001b[0m\n\u001b[1;32m     21\u001b[0m         \u001b[0ms\u001b[0m \u001b[1;33m=\u001b[0m \u001b[1;34m''\u001b[0m\u001b[1;33m\u001b[0m\u001b[0m\n",
      "\u001b[0;32m<ipython-input-1-84e51c252d85>\u001b[0m in \u001b[0;36mrotate\u001b[0;34m(f, cnt)\u001b[0m\n\u001b[1;32m      5\u001b[0m     \u001b[1;32mfor\u001b[0m \u001b[0m_\u001b[0m \u001b[1;32min\u001b[0m \u001b[0mrange\u001b[0m\u001b[1;33m(\u001b[0m\u001b[0mcnt\u001b[0m\u001b[1;33m)\u001b[0m\u001b[1;33m:\u001b[0m\u001b[1;33m\u001b[0m\u001b[0m\n\u001b[1;32m      6\u001b[0m         \u001b[1;32mfor\u001b[0m \u001b[0mi\u001b[0m \u001b[1;32min\u001b[0m \u001b[0mrange\u001b[0m\u001b[1;33m(\u001b[0m\u001b[1;36m12\u001b[0m\u001b[1;33m)\u001b[0m\u001b[1;33m:\u001b[0m\u001b[1;33m\u001b[0m\u001b[0m\n\u001b[0;32m----> 7\u001b[0;31m             \u001b[0mque\u001b[0m\u001b[1;33m[\u001b[0m\u001b[0mi\u001b[0m\u001b[1;33m]\u001b[0m \u001b[1;33m=\u001b[0m \u001b[0marr\u001b[0m\u001b[1;33m[\u001b[0m\u001b[0mrot\u001b[0m\u001b[1;33m[\u001b[0m\u001b[0mf\u001b[0m\u001b[1;33m]\u001b[0m\u001b[1;33m[\u001b[0m\u001b[0mi\u001b[0m\u001b[1;33m]\u001b[0m\u001b[1;33m]\u001b[0m\u001b[1;33m\u001b[0m\u001b[0m\n\u001b[0m\u001b[1;32m      8\u001b[0m         \u001b[1;32mfor\u001b[0m \u001b[0mi\u001b[0m \u001b[1;32min\u001b[0m \u001b[0mrange\u001b[0m\u001b[1;33m(\u001b[0m\u001b[1;36m12\u001b[0m\u001b[1;33m)\u001b[0m\u001b[1;33m:\u001b[0m\u001b[1;33m\u001b[0m\u001b[0m\n\u001b[1;32m      9\u001b[0m             \u001b[0marr\u001b[0m\u001b[1;33m[\u001b[0m\u001b[0mrot\u001b[0m\u001b[1;33m[\u001b[0m\u001b[0mf\u001b[0m\u001b[1;33m]\u001b[0m\u001b[1;33m[\u001b[0m\u001b[0mi\u001b[0m\u001b[1;33m]\u001b[0m\u001b[1;33m]\u001b[0m\u001b[1;33m=\u001b[0m \u001b[0mque\u001b[0m\u001b[1;33m[\u001b[0m\u001b[1;33m(\u001b[0m\u001b[0mi\u001b[0m \u001b[1;33m+\u001b[0m \u001b[1;36m3\u001b[0m\u001b[1;33m)\u001b[0m \u001b[1;33m%\u001b[0m \u001b[1;36m12\u001b[0m\u001b[1;33m]\u001b[0m\u001b[1;33m\u001b[0m\u001b[0m\n",
      "\u001b[0;31mNameError\u001b[0m: name 'que' is not defined"
     ]
    }
   ],
   "source": [
    "arr = [0]*55\n",
    "cube = [[[0]*3 for _ in range(3)] for l in range(6)]\n",
    "d = {'U':0,'D':1,'F':2,'B':3,'L':4,'R':5}        \n",
    "rot = [[36,37,38,18,19,20,45,46,47,27,28,29],     #   //U\n",
    "       [33,34,35,51,52,53,24,25,26,42,43,44],     #   //D\n",
    "       [6,7,8,44,41,38,11,10,9,45,48,51],         #   //F\n",
    "       [2,1,0,53,50,47,15,16,17,36,39,42],        #    //B\n",
    "       [0,3,6,35,32,29,9,12,15,18,21,24],         #   //L\n",
    "       [8,5,2,26,23,20,17,14,11,27,30,33]]         #   //R\n",
    "\n",
    "t = int(input())\n",
    "for _ in range(t):\n",
    "    init()    \n",
    "    n = int(input())\n",
    "    query = input().split()\n",
    "    for q in query:\n",
    "        x = q[0]\n",
    "        n = 1 if q[1] == '+' else 3\n",
    "        rotate(d[x], n)\n",
    "    for i in range(3):\n",
    "        s = ''\n",
    "        for j in range(3):\n",
    "            s+=arr[cube[d['U']][i][j]]\n",
    "        print(s)"
   ]
  },
  {
   "cell_type": "code",
   "execution_count": null,
   "metadata": {
    "collapsed": true
   },
   "outputs": [],
   "source": []
  }
 ],
 "metadata": {
  "kernelspec": {
   "display_name": "Python 3",
   "language": "python",
   "name": "python3"
  },
  "language_info": {
   "codemirror_mode": {
    "name": "ipython",
    "version": 3
   },
   "file_extension": ".py",
   "mimetype": "text/x-python",
   "name": "python",
   "nbconvert_exporter": "python",
   "pygments_lexer": "ipython3",
   "version": "3.6.0"
  }
 },
 "nbformat": 4,
 "nbformat_minor": 2
}
