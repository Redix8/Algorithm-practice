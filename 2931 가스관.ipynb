{
 "cells": [
  {
   "cell_type": "code",
   "execution_count": 23,
   "metadata": {
    "collapsed": true
   },
   "outputs": [],
   "source": [
    "def isDiscon(r,c):\n",
    "    global arr\n",
    "    block = arr[r][c]\n",
    "    if block == '|':\n",
    "        if arr[r+1][c] == '.': return (r+1,c)\n",
    "        if arr[r-1][c] == '.': return (r-1,c)\n",
    "    elif block == '-':\n",
    "        if arr[r][c-1] == '.': return (r,c-1)\n",
    "        if arr[r][c+1] == '.': return (r,c+1)\n",
    "    elif block == '+':\n",
    "        if arr[r][c-1] == '.': return (r, c-1)\n",
    "        if arr[r][c+1] == '.': return (r, c+1)\n",
    "        if arr[r+1][c] == '.': return (r+1, c)\n",
    "        if arr[r-1][c] == '.': return (r-1, c)\n",
    "    elif block == '1':\n",
    "        if arr[r][c+1] == '.': return (r,c+1)\n",
    "        if arr[r+1][c] == '.': return (r+1,c)\n",
    "    elif block == '2':\n",
    "        if arr[r-1][c] == '.': return (r-1,c)\n",
    "        if arr[r][c+1] == '.': return (r, c+1)\n",
    "    elif block == '3':\n",
    "        if arr[r-1][c] == '.': return (r-1,c)\n",
    "        if arr[r][c-1] == '.': return (r, c-1)\n",
    "    elif block == '4':\n",
    "        if arr[r+1][c] == '.': return (r+1,c)\n",
    "        if arr[r][c-1] == '.': return (r, c-1)"
   ]
  },
  {
   "cell_type": "code",
   "execution_count": 27,
   "metadata": {
    "collapsed": true
   },
   "outputs": [],
   "source": [
    "def find(r,c):\n",
    "    global arr,C,R\n",
    "    di = [0,0,0,0] #up down left right\n",
    "    x = [0,0,-1,1]\n",
    "    y = [-1,1,0,0]\n",
    "    for i in range(4):\n",
    "        nr = r+y[i] \n",
    "        nc = c+x[i]\n",
    "        if 0<=nc and nc<C and 0<=nr and nr<R:\n",
    "            if isDiscon(nr, nc):\n",
    "                di[i] = 1\n",
    "    if di == [1,1,0,0]:  return '|'\n",
    "    elif di == [0,0,1,1]:return '-'\n",
    "    elif di == [1,1,1,1]:return '+'\n",
    "    elif di == [0,1,0,1]:return '1'\n",
    "    elif di == [1,0,0,1]:return '2'\n",
    "    elif di == [1,0,1,0]:return '3'\n",
    "    elif di == [0,1,1,0]:return '4'"
   ]
  },
  {
   "cell_type": "code",
   "execution_count": 6,
   "metadata": {
    "collapsed": false
   },
   "outputs": [],
   "source": [
    "import sys"
   ]
  },
  {
   "cell_type": "code",
   "execution_count": null,
   "metadata": {
    "collapsed": true
   },
   "outputs": [],
   "source": []
  },
  {
   "cell_type": "code",
   "execution_count": 20,
   "metadata": {
    "collapsed": false
   },
   "outputs": [
    {
     "name": "stdout",
     "output_type": "stream",
     "text": [
      "6 10\n",
      "Z.1----4..\n",
      "|.|....|..\n",
      "|..14..M..\n",
      "2-+++4....\n",
      "..2323....\n",
      "..........\n",
      "0 8 None\n"
     ]
    },
    {
     "ename": "SystemExit",
     "evalue": "0",
     "output_type": "error",
     "traceback": [
      "An exception has occurred, use %tb to see the full traceback.\n",
      "\u001b[0;31mSystemExit\u001b[0m\u001b[0;31m:\u001b[0m 0\n"
     ]
    },
    {
     "name": "stderr",
     "output_type": "stream",
     "text": [
      "C:\\Users\\J\\Anaconda3\\lib\\site-packages\\IPython\\core\\interactiveshell.py:2889: UserWarning: To exit: use 'exit', 'quit', or Ctrl-D.\n",
      "  warn(\"To exit: use 'exit', 'quit', or Ctrl-D.\", stacklevel=1)\n"
     ]
    }
   ],
   "source": [
    "R, C = map(int, input().split())\n",
    "arr = [list(input()) for _ in range(R)]\n",
    "for i in range(R):\n",
    "    for j in range(C):\n",
    "        if arr[i][j] != '.':\n",
    "            res = isDiscon(i,j)\n",
    "            if res:\n",
    "                block = find(res[0],res[1])\n",
    "                print(res[0]+1, res[1]+1, block)\n",
    "                sys.exit(0)\n",
    "                "
   ]
  },
  {
   "cell_type": "code",
   "execution_count": 21,
   "metadata": {
    "collapsed": false
   },
   "outputs": [
    {
     "data": {
      "text/plain": [
       "[['Z', '.', '1', '-', '-', '-', '-', '4', '.', '.'],\n",
       " ['|', '.', '|', '.', '.', '.', '.', '|', '.', '.'],\n",
       " ['|', '.', '.', '1', '4', '.', '.', 'M', '.', '.'],\n",
       " ['2', '-', '+', '+', '+', '4', '.', '.', '.', '.'],\n",
       " ['.', '.', '2', '3', '2', '3', '.', '.', '.', '.'],\n",
       " ['.', '.', '.', '.', '.', '.', '.', '.', '.', '.']]"
      ]
     },
     "execution_count": 21,
     "metadata": {},
     "output_type": "execute_result"
    }
   ],
   "source": [
    "arr"
   ]
  },
  {
   "cell_type": "code",
   "execution_count": 25,
   "metadata": {
    "collapsed": false
   },
   "outputs": [
    {
     "name": "stdout",
     "output_type": "stream",
     "text": [
      "3 3 |\n"
     ]
    },
    {
     "ename": "SystemExit",
     "evalue": "0",
     "output_type": "error",
     "traceback": [
      "An exception has occurred, use %tb to see the full traceback.\n",
      "\u001b[0;31mSystemExit\u001b[0m\u001b[0;31m:\u001b[0m 0\n"
     ]
    },
    {
     "name": "stderr",
     "output_type": "stream",
     "text": [
      "C:\\Users\\J\\Anaconda3\\lib\\site-packages\\IPython\\core\\interactiveshell.py:2889: UserWarning: To exit: use 'exit', 'quit', or Ctrl-D.\n",
      "  warn(\"To exit: use 'exit', 'quit', or Ctrl-D.\", stacklevel=1)\n"
     ]
    }
   ],
   "source": [
    "for i in range(R):\n",
    "    for j in range(C):\n",
    "        if arr[i][j] != '.':\n",
    "            res = isDiscon(i,j)\n",
    "            if res:\n",
    "                block = find(res[0],res[1])\n",
    "                print(res[0]+1, res[1]+1, block)\n",
    "                sys.exit(0)"
   ]
  },
  {
   "cell_type": "code",
   "execution_count": null,
   "metadata": {
    "collapsed": true
   },
   "outputs": [],
   "source": []
  }
 ],
 "metadata": {
  "kernelspec": {
   "display_name": "Python 3",
   "language": "python",
   "name": "python3"
  },
  "language_info": {
   "codemirror_mode": {
    "name": "ipython",
    "version": 3
   },
   "file_extension": ".py",
   "mimetype": "text/x-python",
   "name": "python",
   "nbconvert_exporter": "python",
   "pygments_lexer": "ipython3",
   "version": "3.6.0"
  }
 },
 "nbformat": 4,
 "nbformat_minor": 2
}
