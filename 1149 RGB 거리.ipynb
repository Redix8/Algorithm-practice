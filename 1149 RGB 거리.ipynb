{
 "cells": [
  {
   "cell_type": "code",
   "execution_count": 6,
   "metadata": {
    "collapsed": false
   },
   "outputs": [
    {
     "name": "stdout",
     "output_type": "stream",
     "text": [
      "3\n",
      "26 40 83\n",
      "49 60 57\n",
      "13 89 99\n",
      "96\n"
     ]
    }
   ],
   "source": [
    "import sys\n",
    "#input = sys.stdin.readline\n",
    "n = int(input())\n",
    "arr=[]\n",
    "#dp = [[9876543210]*3 for i in range(n)]\n",
    "arr.append(list(map(int,input().split())))\n",
    "for i in range(1, n):\n",
    "    RGB = list(map(int, input().split()))\n",
    "    nxt = []\n",
    "    for j in range(3):\n",
    "        m = 9876543210\n",
    "        for k in range(3):\n",
    "            if j!=k:\n",
    "                if arr[i-1][k]<m:\n",
    "                    m = arr[i-1][k]\n",
    "        nxt.append(RGB[j]+m)\n",
    "    arr.append(nxt)\n",
    "print(min(arr[n-1])) \n",
    "\n"
   ]
  },
  {
   "cell_type": "code",
   "execution_count": 4,
   "metadata": {
    "collapsed": false
   },
   "outputs": [
    {
     "data": {
      "text/plain": [
       "[[26, 40, 83], [83, 89, 132], [172, 102, 145]]"
      ]
     },
     "execution_count": 4,
     "metadata": {},
     "output_type": "execute_result"
    }
   ],
   "source": [
    "arr"
   ]
  },
  {
   "cell_type": "code",
   "execution_count": null,
   "metadata": {
    "collapsed": true
   },
   "outputs": [],
   "source": []
  }
 ],
 "metadata": {
  "kernelspec": {
   "display_name": "Python 3",
   "language": "python",
   "name": "python3"
  },
  "language_info": {
   "codemirror_mode": {
    "name": "ipython",
    "version": 3
   },
   "file_extension": ".py",
   "mimetype": "text/x-python",
   "name": "python",
   "nbconvert_exporter": "python",
   "pygments_lexer": "ipython3",
   "version": "3.6.0"
  }
 },
 "nbformat": 4,
 "nbformat_minor": 2
}
