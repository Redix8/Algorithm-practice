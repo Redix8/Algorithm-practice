{
 "cells": [
  {
   "cell_type": "code",
   "execution_count": 76,
   "metadata": {
    "collapsed": true
   },
   "outputs": [],
   "source": [
    "from collections import deque\n",
    "\n",
    "def getRotaion(priorities):    \n",
    "    maxi = 0\n",
    "    idx = -1\n",
    "    for i, x in enumerate(priorities):\n",
    "        if x > maxi: \n",
    "            maxi = x\n",
    "            idx = i\n",
    "    return idx\n",
    "\n",
    "def solution(priorities, location):\n",
    "    priorities = deque(priorities)\n",
    "    answer = 0\n",
    "    \n",
    "    while priorities:\n",
    "        answer+=1\n",
    "        num = getRotaion(priorities)\n",
    "        priorities.rotate(-num)\n",
    "        location = (location-num)%len(priorities)\n",
    "        if location == 0: break\n",
    "        priorities.popleft()\n",
    "        location -=1\n",
    "    \n",
    "    return answer"
   ]
  },
  {
   "cell_type": "code",
   "execution_count": 69,
   "metadata": {
    "collapsed": true
   },
   "outputs": [],
   "source": [
    "priorities = [2, 1, 3, 2]\n",
    "location = 2 \n",
    "priorities = [1, 1, 9, 1, 1, 1]\n",
    "location = 0"
   ]
  },
  {
   "cell_type": "code",
   "execution_count": 3,
   "metadata": {
    "collapsed": false
   },
   "outputs": [
    {
     "data": {
      "text/plain": [
       "3"
      ]
     },
     "execution_count": 3,
     "metadata": {},
     "output_type": "execute_result"
    }
   ],
   "source": [
    "-5%4"
   ]
  },
  {
   "cell_type": "code",
   "execution_count": 5,
   "metadata": {
    "collapsed": false
   },
   "outputs": [],
   "source": [
    "from collections import deque"
   ]
  },
  {
   "cell_type": "code",
   "execution_count": 70,
   "metadata": {
    "collapsed": true
   },
   "outputs": [],
   "source": [
    "priorities = deque(priorities)\n",
    "count = 0"
   ]
  },
  {
   "cell_type": "code",
   "execution_count": 64,
   "metadata": {
    "collapsed": false
   },
   "outputs": [],
   "source": [
    "def getRotaion(priorities):    \n",
    "    maxi = 0\n",
    "    idx = -1\n",
    "    for i, x in enumerate(priorities):\n",
    "        if x > maxi: \n",
    "            maxi = x\n",
    "            idx = i\n",
    "    return idx"
   ]
  },
  {
   "cell_type": "code",
   "execution_count": 71,
   "metadata": {
    "collapsed": false
   },
   "outputs": [
    {
     "name": "stdout",
     "output_type": "stream",
     "text": [
      "deque([9, 1, 1, 1, 1, 1]) 2 4\n",
      "deque([1, 1, 1, 1, 1]) 0 3\n",
      "deque([1, 1, 1, 1]) 0 2\n",
      "deque([1, 1, 1]) 0 1\n",
      "5\n"
     ]
    }
   ],
   "source": [
    "while priorities:\n",
    "    count+=1\n",
    "    num = getRotaion(priorities)\n",
    "    priorities.rotate(-num)\n",
    "    location = (location-num)%len(priorities)\n",
    "    if location == 0: break\n",
    "    priorities.popleft()\n",
    "    location -=1\n",
    "print(count)"
   ]
  },
  {
   "cell_type": "code",
   "execution_count": 77,
   "metadata": {
    "collapsed": false
   },
   "outputs": [
    {
     "data": {
      "text/plain": [
       "1"
      ]
     },
     "execution_count": 77,
     "metadata": {},
     "output_type": "execute_result"
    }
   ],
   "source": [
    "solution([1,2,3,4,5], 4)"
   ]
  },
  {
   "cell_type": "code",
   "execution_count": 59,
   "metadata": {
    "collapsed": false
   },
   "outputs": [],
   "source": [
    "priorities.rotate(-2)"
   ]
  },
  {
   "cell_type": "code",
   "execution_count": 60,
   "metadata": {
    "collapsed": false
   },
   "outputs": [
    {
     "data": {
      "text/plain": [
       "deque([9, 1, 1, 1, 1, 1])"
      ]
     },
     "execution_count": 60,
     "metadata": {},
     "output_type": "execute_result"
    }
   ],
   "source": [
    "priorities"
   ]
  },
  {
   "cell_type": "code",
   "execution_count": null,
   "metadata": {
    "collapsed": true
   },
   "outputs": [],
   "source": []
  }
 ],
 "metadata": {
  "kernelspec": {
   "display_name": "Python 3",
   "language": "python",
   "name": "python3"
  },
  "language_info": {
   "codemirror_mode": {
    "name": "ipython",
    "version": 3
   },
   "file_extension": ".py",
   "mimetype": "text/x-python",
   "name": "python",
   "nbconvert_exporter": "python",
   "pygments_lexer": "ipython3",
   "version": "3.6.0"
  }
 },
 "nbformat": 4,
 "nbformat_minor": 2
}
