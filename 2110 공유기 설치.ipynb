{
 "cells": [
  {
   "cell_type": "code",
   "execution_count": 7,
   "metadata": {
    "collapsed": false
   },
   "outputs": [
    {
     "name": "stdout",
     "output_type": "stream",
     "text": [
      "4 3\n",
      "999999985\n",
      "999999991\n",
      "999999996\n",
      "1000000000\n",
      "6\n"
     ]
    }
   ],
   "source": [
    "import sys\n",
    "#input = sys.stdin.readline\n",
    "\n",
    "n, c = map(int, input().split())\n",
    "arr = []\n",
    "for _ in range(n):\n",
    "    arr.append(int(input()))\n",
    "\n",
    "arr.sort()\n",
    "def decision(arr, c, gap):\n",
    "    limit = -1\n",
    "    installed = 0\n",
    "    for x in arr:\n",
    "        if limit<=x:\n",
    "            installed +=1\n",
    "            limit = x+gap\n",
    "    return installed>=c\n",
    "\n",
    "def optimize(arr, c):\n",
    "    lo=0\n",
    "    hi=arr[-1]\n",
    "    for i in range(100):\n",
    "        mid = (lo+hi)//2\n",
    "        if decision(arr, c, mid):\n",
    "            lo = mid\n",
    "        else:\n",
    "            hi = mid\n",
    "    return lo\n",
    "\n",
    "print(optimize(arr,c))"
   ]
  },
  {
   "cell_type": "code",
   "execution_count": null,
   "metadata": {
    "collapsed": true
   },
   "outputs": [],
   "source": []
  }
 ],
 "metadata": {
  "kernelspec": {
   "display_name": "Python 3",
   "language": "python",
   "name": "python3"
  },
  "language_info": {
   "codemirror_mode": {
    "name": "ipython",
    "version": 3
   },
   "file_extension": ".py",
   "mimetype": "text/x-python",
   "name": "python",
   "nbconvert_exporter": "python",
   "pygments_lexer": "ipython3",
   "version": "3.6.0"
  }
 },
 "nbformat": 4,
 "nbformat_minor": 2
}
