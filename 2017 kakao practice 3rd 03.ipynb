{
 "cells": [
  {
   "cell_type": "code",
   "execution_count": 49,
   "metadata": {
    "collapsed": true
   },
   "outputs": [],
   "source": [
    "import re\n",
    "\n",
    "def sep(file):    \n",
    "    p = re.compile('([A-Za-z \\-.]+)([0-9]+)(.*)')\n",
    "    m = p.search(file)\n",
    "    print(m.groups(''))\n",
    "    return (m.groups(''))\n",
    "    \n",
    "        \n",
    "\n",
    "def solution(files):\n",
    "    new = []\n",
    "    for file in files:\n",
    "        new.append(sep(file))\n",
    "    new = sorted(new, key=lambda x:int(x[1]))\n",
    "    new = sorted(new, key=lambda x:x[0].lower())\n",
    "    ret = []\n",
    "    for x,y,z in new:\n",
    "        ret.append(x+y+z)\n",
    "    return ret\n"
   ]
  },
  {
   "cell_type": "code",
   "execution_count": 50,
   "metadata": {
    "collapsed": false
   },
   "outputs": [
    {
     "name": "stdout",
     "output_type": "stream",
     "text": [
      "('img', '12', '.png')\n",
      "('img', '10', '.png')\n",
      "('img', '02', '.png')\n",
      "('img', '1', '.png')\n",
      "('IMG', '01', '.GIF')\n",
      "('img', '2', '.JPG')\n"
     ]
    },
    {
     "data": {
      "text/plain": [
       "['img1.png', 'IMG01.GIF', 'img02.png', 'img2.JPG', 'img10.png', 'img12.png']"
      ]
     },
     "execution_count": 50,
     "metadata": {},
     "output_type": "execute_result"
    }
   ],
   "source": [
    "solution(['img12.png', 'img10.png'\n",
    "          , 'img02.png', 'img1.png', 'IMG01.GIF', 'img2.JPG'])"
   ]
  },
  {
   "cell_type": "code",
   "execution_count": 51,
   "metadata": {
    "collapsed": false
   },
   "outputs": [
    {
     "name": "stdout",
     "output_type": "stream",
     "text": [
      "('ab', '1', '')\n",
      "('ab', '2', '')\n",
      "('ab', '4', '')\n",
      "('cd', '3', '')\n"
     ]
    },
    {
     "data": {
      "text/plain": [
       "['ab1', 'ab2', 'ab4', 'cd3']"
      ]
     },
     "execution_count": 51,
     "metadata": {},
     "output_type": "execute_result"
    }
   ],
   "source": [
    "solution(['ab1','ab2','ab4','cd3'])"
   ]
  },
  {
   "cell_type": "code",
   "execution_count": null,
   "metadata": {
    "collapsed": true
   },
   "outputs": [],
   "source": []
  }
 ],
 "metadata": {
  "kernelspec": {
   "display_name": "Python 3",
   "language": "python",
   "name": "python3"
  },
  "language_info": {
   "codemirror_mode": {
    "name": "ipython",
    "version": 3
   },
   "file_extension": ".py",
   "mimetype": "text/x-python",
   "name": "python",
   "nbconvert_exporter": "python",
   "pygments_lexer": "ipython3",
   "version": "3.6.0"
  }
 },
 "nbformat": 4,
 "nbformat_minor": 2
}
