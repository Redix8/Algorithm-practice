{
 "cells": [
  {
   "cell_type": "code",
   "execution_count": 76,
   "metadata": {
    "collapsed": false
   },
   "outputs": [
    {
     "name": "stdout",
     "output_type": "stream",
     "text": [
      "5 4\n",
      "2 3\n",
      "1 1 E\n",
      "5 4 W\n",
      "1 F 4\n",
      "1 R 7\n",
      "1 F 7\n"
     ]
    }
   ],
   "source": [
    "import sys\n",
    "A, B = map(int,input().split()) #가로 , 세로\n",
    "N, M = map(int,input().split())\n",
    "arr = [[0]*A for _ in range(B)]\n",
    "robot = []\n",
    "for i in range(N):\n",
    "    c,r,w = input().split()\n",
    "    r = int(r)\n",
    "    c = int(c)\n",
    "    arr[B-r][c-1] = i+1\n",
    "    robot.append((B-r,c-1,w))\n",
    "cord = [input().split() for _ in range(M)]\n"
   ]
  },
  {
   "cell_type": "code",
   "execution_count": 26,
   "metadata": {
    "collapsed": true
   },
   "outputs": [],
   "source": [
    "def movable(query):\n",
    "    global robot, arr, A,B\n",
    "    n, qr, rep = query\n",
    "    n = int(n)\n",
    "    rep = int(rep)\n",
    "    r,c,w = robot[n-1]\n",
    "    #NWES\n",
    "    x = [0,-1,1,0]\n",
    "    y = [-1,0,0,1]\n",
    "    d = {'N':0, 'W':1, 'E':2,'S':3}\n",
    "    for i in range(1,rep+1):\n",
    "        nr = r + y[d[w]]*i\n",
    "        nc = c + x[d[w]]*i\n",
    "        if not 0<=nr<B or not 0<=nc<A:\n",
    "            return (False, 'Robot %d crashes into the wall'%n)\n",
    "        if arr[nr][nc] != 0:\n",
    "            return (False, 'Robot %d crashes into robot %d'%(n,arr[nr][nc]))\n",
    "    return (True,)\n",
    "    "
   ]
  },
  {
   "cell_type": "code",
   "execution_count": 77,
   "metadata": {
    "collapsed": false
   },
   "outputs": [
    {
     "name": "stdout",
     "output_type": "stream",
     "text": [
      "Robot 1 crashes into robot 2\n"
     ]
    },
    {
     "ename": "SystemExit",
     "evalue": "0",
     "output_type": "error",
     "traceback": [
      "An exception has occurred, use %tb to see the full traceback.\n",
      "\u001b[0;31mSystemExit\u001b[0m\u001b[0;31m:\u001b[0m 0\n"
     ]
    },
    {
     "name": "stderr",
     "output_type": "stream",
     "text": [
      "C:\\Users\\J\\Anaconda3\\lib\\site-packages\\IPython\\core\\interactiveshell.py:2889: UserWarning: To exit: use 'exit', 'quit', or Ctrl-D.\n",
      "  warn(\"To exit: use 'exit', 'quit', or Ctrl-D.\", stacklevel=1)\n"
     ]
    }
   ],
   "source": [
    "x = [0,-1,1,0]\n",
    "y = [-1,0,0,1]\n",
    "d = {'N':0, 'W':1, 'E':2,'S':3}\n",
    "t = ['N','E','S','W']\n",
    "for query in cord:\n",
    "    n, qr, rep = query\n",
    "    n = int(n)\n",
    "    rep = int(rep)\n",
    "    r,c,w = robot[n-1]\n",
    "    if qr == 'F':\n",
    "        res = movable(query)\n",
    "        if res[0]:\n",
    "            nr = r+rep*y[d[w]]\n",
    "            nc = c+rep*x[d[w]]\n",
    "            arr[nr][nc] = arr[r][c]\n",
    "            arr[r][c] = 0\n",
    "            robot[n-1]=(nr,nc,w)\n",
    "        else:\n",
    "            print(res[1])\n",
    "            sys.exit(0)\n",
    "    elif qr == 'L':\n",
    "        robot[n-1] = (r,c,t[(t.index(w)-1*rep)%4])\n",
    "    elif qr == 'R':\n",
    "        robot[n-1] = (r,c,t[(t.index(w)+1*rep)%4])\n",
    "print('OK')"
   ]
  },
  {
   "cell_type": "code",
   "execution_count": 13,
   "metadata": {
    "collapsed": true
   },
   "outputs": [],
   "source": [
    "t = ['N','E','S','W']"
   ]
  },
  {
   "cell_type": "code",
   "execution_count": 70,
   "metadata": {
    "collapsed": false
   },
   "outputs": [
    {
     "data": {
      "text/plain": [
       "(True,)"
      ]
     },
     "execution_count": 70,
     "metadata": {},
     "output_type": "execute_result"
    }
   ],
   "source": [
    "movable((1,'L', 3))"
   ]
  },
  {
   "cell_type": "code",
   "execution_count": 74,
   "metadata": {
    "collapsed": false
   },
   "outputs": [
    {
     "name": "stdout",
     "output_type": "stream",
     "text": [
      "[0, 0, 0, 0, 2]\n",
      "[0, 0, 0, 0, 0]\n",
      "[0, 0, 0, 0, 0]\n",
      "[0, 0, 0, 0, 1]\n"
     ]
    }
   ],
   "source": [
    "for x in arr:\n",
    "    print(x)"
   ]
  },
  {
   "cell_type": "code",
   "execution_count": 75,
   "metadata": {
    "collapsed": false
   },
   "outputs": [
    {
     "data": {
      "text/plain": [
       "[(3, 4, 'S'), (0, 4, 'W')]"
      ]
     },
     "execution_count": 75,
     "metadata": {},
     "output_type": "execute_result"
    }
   ],
   "source": [
    "robot"
   ]
  },
  {
   "cell_type": "code",
   "execution_count": 53,
   "metadata": {
    "collapsed": true
   },
   "outputs": [],
   "source": [
    "import sys"
   ]
  },
  {
   "cell_type": "code",
   "execution_count": null,
   "metadata": {
    "collapsed": true
   },
   "outputs": [],
   "source": []
  }
 ],
 "metadata": {
  "kernelspec": {
   "display_name": "Python 3",
   "language": "python",
   "name": "python3"
  },
  "language_info": {
   "codemirror_mode": {
    "name": "ipython",
    "version": 3
   },
   "file_extension": ".py",
   "mimetype": "text/x-python",
   "name": "python",
   "nbconvert_exporter": "python",
   "pygments_lexer": "ipython3",
   "version": "3.6.0"
  }
 },
 "nbformat": 4,
 "nbformat_minor": 2
}
