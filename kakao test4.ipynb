{
 "cells": [
  {
   "cell_type": "code",
   "execution_count": 56,
   "metadata": {
    "collapsed": false
   },
   "outputs": [
    {
     "name": "stdout",
     "output_type": "stream",
     "text": [
      "10 60 45\n",
      "[“23:59”,”23:59”, “23:59”, “23:59”, “23:59”, “23:59”, “23:59”, “23:59”, “23:59”, “23:59”, “23:59”, “23:59”, “23:59”, “23:59”, “23:59”, “23:59”]\t\n"
     ]
    }
   ],
   "source": [
    "import re\n",
    "n, t, m = map(int,input().split())\n",
    "r = re.compile('[0-9]{2}:[0-9]{2}')\n",
    "times = r.findall(input())"
   ]
  },
  {
   "cell_type": "code",
   "execution_count": 57,
   "metadata": {
    "collapsed": false
   },
   "outputs": [
    {
     "name": "stdout",
     "output_type": "stream",
     "text": [
      "18:00\n"
     ]
    }
   ],
   "source": [
    "start = 9*60-t\n",
    "from collections import deque\n",
    "mTimes = []\n",
    "for time in times:\n",
    "    H = int(time[:2])\n",
    "    M = int(time[-2:])\n",
    "    mTimes.append(H*60+M)\n",
    "mTimes.sort()\n",
    "mTimes = deque(mTimes)\n",
    "crewTime = 0\n",
    "for i in range(n):\n",
    "    start += t\n",
    "    busSize = m\n",
    "    while(busSize>0 and mTimes):\n",
    "        crewTime = mTimes.popleft()\n",
    "        if(crewTime>start):\n",
    "            mTimes.appendleft(crewTime)\n",
    "            break\n",
    "        if(crewTime<=start):\n",
    "            busSize-=1\n",
    "if(busSize == 0):\n",
    "    s = \"{0:0>2}:{1:0>2}\".format(((crewTime-1)//60), ((crewTime-1)%60))\n",
    "    print(s)\n",
    "else:\n",
    "    s = \"{0:0>2}:{1:0>2}\".format((start//60),(start%60))\n",
    "    print(s)\n",
    "\n",
    "        "
   ]
  },
  {
   "cell_type": "code",
   "execution_count": 48,
   "metadata": {
    "collapsed": true
   },
   "outputs": [],
   "source": [
    "print?"
   ]
  },
  {
   "cell_type": "code",
   "execution_count": null,
   "metadata": {
    "collapsed": true
   },
   "outputs": [],
   "source": []
  }
 ],
 "metadata": {
  "kernelspec": {
   "display_name": "Python 3",
   "language": "python",
   "name": "python3"
  },
  "language_info": {
   "codemirror_mode": {
    "name": "ipython",
    "version": 3
   },
   "file_extension": ".py",
   "mimetype": "text/x-python",
   "name": "python",
   "nbconvert_exporter": "python",
   "pygments_lexer": "ipython3",
   "version": "3.6.0"
  }
 },
 "nbformat": 4,
 "nbformat_minor": 2
}
