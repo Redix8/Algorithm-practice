{
 "cells": [
  {
   "cell_type": "code",
   "execution_count": 25,
   "metadata": {
    "collapsed": false
   },
   "outputs": [
    {
     "name": "stdout",
     "output_type": "stream",
     "text": [
      "3\n",
      "5\n",
      "1\n",
      "20\n",
      "0\n",
      "1000\n",
      "1\n"
     ]
    }
   ],
   "source": [
    "import sys\n",
    "\n",
    "tri = [i*(i+1)//2 for i in range(1,46)]\n",
    "T = int(sys.stdin.readline())\n",
    "triExist = []\n",
    "for x in tri:\n",
    "    for y in tri:\n",
    "        for z in tri:\n",
    "            if x+y+z<=1000:\n",
    "                triExist.append(x+y+z)\n",
    "for i in range(T):\n",
    "    num = int(sys.stdin.readline())\n",
    "    if num in triExist: print(1)\n",
    "    else : print(0)\n",
    "    "
   ]
  },
  {
   "cell_type": "code",
   "execution_count": 14,
   "metadata": {
    "collapsed": false
   },
   "outputs": [],
   "source": [
    "tri = [i*(i+1)//2 for i in range(1,46)]"
   ]
  },
  {
   "cell_type": "code",
   "execution_count": 26,
   "metadata": {
    "collapsed": false
   },
   "outputs": [
    {
     "name": "stdout",
     "output_type": "stream",
     "text": [
      "0\n",
      "Wall time: 19.9 ms\n"
     ]
    }
   ],
   "source": [
    "%%time\n",
    "num = 20\n",
    "triExist = []\n",
    "for x in tri:\n",
    "    for y in tri:\n",
    "        for z in tri:\n",
    "            if x+y+z<=1000:\n",
    "                triExist.append(x+y+z)\n",
    "if num in triExist: print(1)\n",
    "else : print(0)"
   ]
  },
  {
   "cell_type": "code",
   "execution_count": 27,
   "metadata": {
    "collapsed": false
   },
   "outputs": [],
   "source": [
    "import sys"
   ]
  },
  {
   "cell_type": "code",
   "execution_count": null,
   "metadata": {
    "collapsed": true
   },
   "outputs": [],
   "source": []
  }
 ],
 "metadata": {
  "kernelspec": {
   "display_name": "Python 3",
   "language": "python",
   "name": "python3"
  },
  "language_info": {
   "codemirror_mode": {
    "name": "ipython",
    "version": 3
   },
   "file_extension": ".py",
   "mimetype": "text/x-python",
   "name": "python",
   "nbconvert_exporter": "python",
   "pygments_lexer": "ipython3",
   "version": "3.6.0"
  }
 },
 "nbformat": 4,
 "nbformat_minor": 2
}
