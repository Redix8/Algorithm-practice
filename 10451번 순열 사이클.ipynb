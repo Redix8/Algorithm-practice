{
 "cells": [
  {
   "cell_type": "code",
   "execution_count": 1,
   "metadata": {
    "collapsed": false
   },
   "outputs": [
    {
     "name": "stdout",
     "output_type": "stream",
     "text": [
      "2\n",
      "8\n",
      "3 2 7 8 1 4 5 6\n",
      "3\n",
      "10\n",
      "2 1 3 4 5 6 7 9 10 8\n",
      "7\n"
     ]
    }
   ],
   "source": [
    "t = int(input())\n",
    "for _ in range(t):\n",
    "    n = int(input())\n",
    "    arr = list(map(int,input().split()))\n",
    "    graph = {i+1:x for i, x in enumerate(arr)}\n",
    "    visited=[False]*1002    \n",
    "    cycle = 0\n",
    "    for i in range(1, n+1):\n",
    "        start=0\n",
    "        st=[]        \n",
    "        if not visited[i]:\n",
    "            start = i\n",
    "            st.append(i)\n",
    "            visited[i] = True\n",
    "        while st:\n",
    "            node = st.pop()\n",
    "            sub = graph[node]\n",
    "            if start==sub:\n",
    "                cycle+=1\n",
    "            else:\n",
    "                st.append(sub)\n",
    "                visited[sub] = True\n",
    "    print(cycle)          \n",
    "                "
   ]
  },
  {
   "cell_type": "code",
   "execution_count": null,
   "metadata": {
    "collapsed": true
   },
   "outputs": [],
   "source": []
  }
 ],
 "metadata": {
  "kernelspec": {
   "display_name": "Python 3",
   "language": "python",
   "name": "python3"
  },
  "language_info": {
   "codemirror_mode": {
    "name": "ipython",
    "version": 3
   },
   "file_extension": ".py",
   "mimetype": "text/x-python",
   "name": "python",
   "nbconvert_exporter": "python",
   "pygments_lexer": "ipython3",
   "version": "3.6.0"
  }
 },
 "nbformat": 4,
 "nbformat_minor": 2
}
