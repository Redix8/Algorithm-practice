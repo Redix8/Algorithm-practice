{
 "cells": [
  {
   "cell_type": "code",
   "execution_count": 2,
   "metadata": {
    "collapsed": true
   },
   "outputs": [],
   "source": [
    "record = [\"Enter uid1234 Muzi\", \"Enter uid4567 Prodo\", \n",
    "          \"Leave uid1234\", \"Enter uid1234 Prodo\", \"Change uid4567 Ryan\"]\n"
   ]
  },
  {
   "cell_type": "code",
   "execution_count": 7,
   "metadata": {
    "collapsed": false
   },
   "outputs": [
    {
     "name": "stdout",
     "output_type": "stream",
     "text": [
      "['Prodo님이 들어왔습니다.', 'Ryan님이 들어왔습니다.', 'Prodo님이 나갔습니다.', 'Prodo님이 들어왔습니다.']\n"
     ]
    }
   ],
   "source": [
    "\n",
    "dic = dict()\n",
    "st = []\n",
    "for x in record:\n",
    "    tmp = x.split()\n",
    "    if tmp[0] == \"Enter\":\n",
    "        dic[tmp[1]] = tmp[2]\n",
    "        st.append((tmp[0], tmp[1]))\n",
    "    elif tmp[0] == \"Leave\":\n",
    "        st.append((tmp[0], tmp[1]))\n",
    "    elif tmp[0] == \"Change\":\n",
    "        dic[tmp[1]] = tmp[2]\n",
    "\n",
    "res = []\n",
    "for act, uid in st:\n",
    "    if act == \"Enter\":\n",
    "        s = dic[uid]+\"님이 들어왔습니다.\"\n",
    "    elif act == \"Leave\":\n",
    "        s = dic[uid]+\"님이 나갔습니다.\"\n",
    "    res.append(s)\n",
    "print(res)\n",
    "\n",
    "    \n",
    "    "
   ]
  },
  {
   "cell_type": "code",
   "execution_count": 5,
   "metadata": {
    "collapsed": true
   },
   "outputs": [],
   "source": [
    "a = dict()\n",
    "a[3] = 1"
   ]
  },
  {
   "cell_type": "code",
   "execution_count": 6,
   "metadata": {
    "collapsed": false
   },
   "outputs": [
    {
     "data": {
      "text/plain": [
       "{3: 1}"
      ]
     },
     "execution_count": 6,
     "metadata": {},
     "output_type": "execute_result"
    }
   ],
   "source": [
    "a"
   ]
  },
  {
   "cell_type": "code",
   "execution_count": null,
   "metadata": {
    "collapsed": true
   },
   "outputs": [],
   "source": []
  }
 ],
 "metadata": {
  "kernelspec": {
   "display_name": "Python 3",
   "language": "python",
   "name": "python3"
  },
  "language_info": {
   "codemirror_mode": {
    "name": "ipython",
    "version": 3
   },
   "file_extension": ".py",
   "mimetype": "text/x-python",
   "name": "python",
   "nbconvert_exporter": "python",
   "pygments_lexer": "ipython3",
   "version": "3.6.0"
  }
 },
 "nbformat": 4,
 "nbformat_minor": 2
}
