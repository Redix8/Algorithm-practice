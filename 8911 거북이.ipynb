{
 "cells": [
  {
   "cell_type": "code",
   "execution_count": 1,
   "metadata": {
    "collapsed": false
   },
   "outputs": [
    {
     "name": "stdout",
     "output_type": "stream",
     "text": [
      "3\n",
      "FFLF\n",
      "2\n",
      "FFRRFF\n",
      "0\n",
      "FFFBBBRFFFBBB\n",
      "9\n"
     ]
    }
   ],
   "source": [
    "N = int(input())\n",
    "for _ in range(N):\n",
    "    mxx=0\n",
    "    mxy=0\n",
    "    mix=0\n",
    "    miy=0\n",
    "    x = [0,1,0,-1]\n",
    "    y = [-1,0,1,0]\n",
    "    r=0\n",
    "    c=0\n",
    "    di = 0\n",
    "    string = input()\n",
    "    for ch in string:\n",
    "        if ch == 'F':\n",
    "            r = r+y[di]\n",
    "            c = c+x[di]\n",
    "            mxx = max(mxx, c)\n",
    "            mxy = max(mxy, r)\n",
    "            mix = min(mix, c)\n",
    "            miy = min(miy, r)\n",
    "        elif ch == 'B':\n",
    "            r = r-y[di]\n",
    "            c = c-x[di]\n",
    "            mxx = max(mxx, c)\n",
    "            mxy = max(mxy, r)\n",
    "            mix = min(mix, c)\n",
    "            miy = min(miy, r)\n",
    "        elif ch == 'L':\n",
    "            di=(di-1)%4\n",
    "        elif ch == 'R':\n",
    "            di=(di+1)%4\n",
    "    print((mxx-mix)*(mxy-miy))\n",
    "            "
   ]
  },
  {
   "cell_type": "code",
   "execution_count": null,
   "metadata": {
    "collapsed": true
   },
   "outputs": [],
   "source": []
  }
 ],
 "metadata": {
  "kernelspec": {
   "display_name": "Python 3",
   "language": "python",
   "name": "python3"
  },
  "language_info": {
   "codemirror_mode": {
    "name": "ipython",
    "version": 3
   },
   "file_extension": ".py",
   "mimetype": "text/x-python",
   "name": "python",
   "nbconvert_exporter": "python",
   "pygments_lexer": "ipython3",
   "version": "3.6.0"
  }
 },
 "nbformat": 4,
 "nbformat_minor": 2
}
