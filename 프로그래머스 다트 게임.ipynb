{
 "cells": [
  {
   "cell_type": "code",
   "execution_count": 32,
   "metadata": {
    "collapsed": true
   },
   "outputs": [],
   "source": [
    "dartResult = \"1S*2T*3S\""
   ]
  },
  {
   "cell_type": "code",
   "execution_count": 2,
   "metadata": {
    "collapsed": true
   },
   "outputs": [],
   "source": [
    "import re"
   ]
  },
  {
   "cell_type": "code",
   "execution_count": 35,
   "metadata": {
    "collapsed": false
   },
   "outputs": [],
   "source": [
    "p = re.compile(\"[0-9][0]?[SDT][*#]?\")\n",
    "result = p.findall(dartResult)"
   ]
  },
  {
   "cell_type": "code",
   "execution_count": 37,
   "metadata": {
    "collapsed": false
   },
   "outputs": [
    {
     "name": "stdout",
     "output_type": "stream",
     "text": [
      "23\n"
     ]
    }
   ],
   "source": [
    "total = 0\n",
    "tmp = 0\n",
    "for x in result:    \n",
    "    p = re.compile(\"[0-9][0]?\")\n",
    "    point = int(p.search(x).group())\n",
    "    p = re.compile(\"[SDT]\")\n",
    "    bonus = p.search(x).group()\n",
    "    p = re.compile(\"[*#]\")\n",
    "    if p.search(x):\n",
    "        option = p.search(x).group()\n",
    "    else: option = ''\n",
    "    \n",
    "    if bonus == 'S':\n",
    "        bonus = 1\n",
    "    elif bonus == 'D':\n",
    "        bonus = 2\n",
    "    elif bonus == 'T':\n",
    "        bonus = 3\n",
    "        \n",
    "    point = point**bonus\n",
    "    if option == '*':\n",
    "        total += tmp*2\n",
    "        point = point*2\n",
    "    elif option == '#':\n",
    "        point = point*(-1)\n",
    "        total += tmp\n",
    "    else:\n",
    "        total += tmp\n",
    "    tmp = point    \n",
    "total += tmp\n",
    "print(total)\n",
    "    "
   ]
  },
  {
   "cell_type": "code",
   "execution_count": 22,
   "metadata": {
    "collapsed": false
   },
   "outputs": [
    {
     "data": {
      "text/plain": [
       "['D']"
      ]
     },
     "execution_count": 22,
     "metadata": {},
     "output_type": "execute_result"
    }
   ],
   "source": [
    "p = re.compile(\"[SDT]\")\n",
    "p.findall(\"1D\")"
   ]
  },
  {
   "cell_type": "code",
   "execution_count": null,
   "metadata": {
    "collapsed": true
   },
   "outputs": [],
   "source": []
  }
 ],
 "metadata": {
  "kernelspec": {
   "display_name": "Python 3",
   "language": "python",
   "name": "python3"
  },
  "language_info": {
   "codemirror_mode": {
    "name": "ipython",
    "version": 3
   },
   "file_extension": ".py",
   "mimetype": "text/x-python",
   "name": "python",
   "nbconvert_exporter": "python",
   "pygments_lexer": "ipython3",
   "version": "3.6.0"
  }
 },
 "nbformat": 4,
 "nbformat_minor": 2
}
