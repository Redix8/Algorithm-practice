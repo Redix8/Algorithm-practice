{
 "cells": [
  {
   "cell_type": "code",
   "execution_count": 10,
   "metadata": {
    "collapsed": false
   },
   "outputs": [
    {
     "name": "stdout",
     "output_type": "stream",
     "text": [
      "25 12\n"
     ]
    }
   ],
   "source": [
    "n, m = map(int, input().split())"
   ]
  },
  {
   "cell_type": "code",
   "execution_count": 11,
   "metadata": {
    "collapsed": true
   },
   "outputs": [],
   "source": [
    "if n-m<m: m = n-m"
   ]
  },
  {
   "cell_type": "code",
   "execution_count": 37,
   "metadata": {
    "collapsed": false
   },
   "outputs": [],
   "source": [
    "up = [x for x in range(n, n-m, -1)]\n",
    "down = [x for x in range(m,1,-1)]"
   ]
  },
  {
   "cell_type": "code",
   "execution_count": 39,
   "metadata": {
    "collapsed": false
   },
   "outputs": [
    {
     "name": "stdout",
     "output_type": "stream",
     "text": [
      "2\n"
     ]
    }
   ],
   "source": [
    "res = 1\n",
    "i = len(up)-1\n",
    "j = len(down)-1\n",
    "while True:\n",
    "    if res%down[j] !=0:\n",
    "        res*=up[i]\n",
    "        i-=1\n",
    "    else:\n",
    "        res//=down[j]\n",
    "        j-=1\n",
    "    if i == 0 or j==0:\n",
    "        break\n",
    "    \n",
    "while i>=0 or j>=0:\n",
    "    if i>=0:\n",
    "        res*=up[i]\n",
    "        i-=1\n",
    "    if j>=0:\n",
    "        res//=down[j]\n",
    "        j-=1\n",
    "        \n",
    "res=str(res)\n",
    "l = len(res)\n",
    "c =0\n",
    "for i in range(l):\n",
    "    if res[l-i-1] == '0':\n",
    "        c+=1\n",
    "    else:break\n",
    "print(c)"
   ]
  },
  {
   "cell_type": "code",
   "execution_count": 41,
   "metadata": {
    "collapsed": false
   },
   "outputs": [
    {
     "name": "stdout",
     "output_type": "stream",
     "text": [
      "5200300\n"
     ]
    }
   ],
   "source": [
    "res = 1\n",
    "for x in range(n, n-m, -1):\n",
    "    res*=x\n",
    "for x in range(m,1,-1):\n",
    "    res//=x\n",
    "print(res)"
   ]
  },
  {
   "cell_type": "code",
   "execution_count": 50,
   "metadata": {
    "collapsed": true
   },
   "outputs": [],
   "source": [
    "def count(n):\n",
    "    c = n\n",
    "    two =0\n",
    "    five =0\n",
    "    while c:\n",
    "        two+=c//2\n",
    "        c=c//2\n",
    "    c = n\n",
    "    while c:\n",
    "        five+=c//5\n",
    "        c=c//5\n",
    "    return two, five\n",
    "        "
   ]
  },
  {
   "cell_type": "code",
   "execution_count": 52,
   "metadata": {
    "collapsed": false
   },
   "outputs": [
    {
     "name": "stdout",
     "output_type": "stream",
     "text": [
      "25 12\n"
     ]
    }
   ],
   "source": [
    "n, m = map(int, input().split())\n",
    "if n-m<m: m = n-m"
   ]
  },
  {
   "cell_type": "code",
   "execution_count": 59,
   "metadata": {
    "collapsed": false
   },
   "outputs": [
    {
     "name": "stdout",
     "output_type": "stream",
     "text": [
      "2\n"
     ]
    }
   ],
   "source": [
    "uptwo, upfive = count(n)\n",
    "dtwo, dfive = count(m)\n",
    "xtwo, xfive = count(n-m)\n",
    "print(min(uptwo-dtwo-xtwo, upfive-dfive-xfive))"
   ]
  },
  {
   "cell_type": "code",
   "execution_count": 58,
   "metadata": {
    "collapsed": false
   },
   "outputs": [
    {
     "data": {
      "text/plain": [
       "(10, 2)"
      ]
     },
     "execution_count": 58,
     "metadata": {},
     "output_type": "execute_result"
    }
   ],
   "source": [
    "dtwo, dfive"
   ]
  },
  {
   "cell_type": "code",
   "execution_count": null,
   "metadata": {
    "collapsed": true
   },
   "outputs": [],
   "source": []
  }
 ],
 "metadata": {
  "kernelspec": {
   "display_name": "Python 3",
   "language": "python",
   "name": "python3"
  },
  "language_info": {
   "codemirror_mode": {
    "name": "ipython",
    "version": 3
   },
   "file_extension": ".py",
   "mimetype": "text/x-python",
   "name": "python",
   "nbconvert_exporter": "python",
   "pygments_lexer": "ipython3",
   "version": "3.6.0"
  }
 },
 "nbformat": 4,
 "nbformat_minor": 2
}
