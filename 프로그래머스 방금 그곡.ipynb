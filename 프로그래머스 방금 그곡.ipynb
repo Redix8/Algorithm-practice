{
 "cells": [
  {
   "cell_type": "code",
   "execution_count": 62,
   "metadata": {
    "collapsed": true
   },
   "outputs": [],
   "source": [
    "m = \"ABCDEFG\"\n",
    "musicinfos = [\"12:00,12:14,HELLO,CDEFGAB\", \"13:00,13:05,WORLD,ABCDEF\"]\n",
    "m = \"CC#BCC#BCC#BCC#B\"\n",
    "musicinfos = [\"03:00,03:30,FOO,CC#B\", \"04:00,04:08,BAR,CC#BCC#BCC#B\"]\n",
    "m = \"ABC\"\n",
    "musicinfos = [\"12:00,12:14,HELLO,C#DEFGAB\", \"13:00,13:05,WORLD,ABCDEF\"]"
   ]
  },
  {
   "cell_type": "code",
   "execution_count": 29,
   "metadata": {
    "collapsed": true
   },
   "outputs": [],
   "source": [
    "def timeCal(s, e):\n",
    "    sh, sm  = map(int, s.split(':'))\n",
    "    eh, em  = map(int, e.split(':'))\n",
    "    if sh == eh:\n",
    "        time = em - sm\n",
    "    elif sh < eh:        \n",
    "        time = (eh-sh)*60 + em - sm\n",
    "    elif sh > eh:\n",
    "        time = (24-sh)*60 + em - sm\n",
    "    return time    "
   ]
  },
  {
   "cell_type": "code",
   "execution_count": 25,
   "metadata": {
    "collapsed": false
   },
   "outputs": [],
   "source": [
    "def minsong(m, song):\n",
    "    slen = len(song)\n",
    "    mlen = len(m)\n",
    "    for i in range(slen-mlen+1):\n",
    "        if song[i:i+mlen] == m:\n",
    "            return True\n",
    "    return False        "
   ]
  },
  {
   "cell_type": "code",
   "execution_count": 49,
   "metadata": {
    "collapsed": false
   },
   "outputs": [
    {
     "data": {
      "text/plain": [
       "230"
      ]
     },
     "execution_count": 49,
     "metadata": {},
     "output_type": "execute_result"
    }
   ],
   "source": [
    "timeCal(\"00:20\", \"4:10\")"
   ]
  },
  {
   "cell_type": "code",
   "execution_count": 40,
   "metadata": {
    "collapsed": false
   },
   "outputs": [],
   "source": [
    "def change(m):\n",
    "    import re\n",
    "    p = re.compile('[A-G]#?')\n",
    "    result = p.findall(m)\n",
    "    return result"
   ]
  },
  {
   "cell_type": "code",
   "execution_count": 69,
   "metadata": {
    "collapsed": false
   },
   "outputs": [
    {
     "data": {
      "text/plain": [
       "'C#D#EF#'"
      ]
     },
     "execution_count": 69,
     "metadata": {},
     "output_type": "execute_result"
    }
   ],
   "source": [
    "mel(\"C#D#EF#D\", 4)"
   ]
  },
  {
   "cell_type": "code",
   "execution_count": 63,
   "metadata": {
    "collapsed": false
   },
   "outputs": [
    {
     "name": "stdout",
     "output_type": "stream",
     "text": [
      "WORLD\n"
     ]
    }
   ],
   "source": [
    "res = ''\n",
    "m = change(m)\n",
    "maxlen = 0\n",
    "for info in musicinfos:\n",
    "    s, e, title, melody = info.split(',')\n",
    "    time = timeCal(s, e)    \n",
    "    melody = change(melody)\n",
    "    mlen = len(melody)\n",
    "    song = (time//mlen)*melody + melody[:time%mlen]\n",
    "    slen = len(song)    \n",
    "    if minsong(m,song):\n",
    "        if slen>maxlen:\n",
    "            res = title\n",
    "            maxlen = slen\n",
    "    if res == '':\n",
    "        res = \"(None)\"\n",
    "print(res)"
   ]
  },
  {
   "cell_type": "code",
   "execution_count": 39,
   "metadata": {
    "collapsed": false
   },
   "outputs": [
    {
     "data": {
      "text/plain": [
       "'ABC'"
      ]
     },
     "execution_count": 39,
     "metadata": {},
     "output_type": "execute_result"
    }
   ],
   "source": [
    "change(\"C#D#EF#D\")\n",
    "m"
   ]
  },
  {
   "cell_type": "code",
   "execution_count": null,
   "metadata": {
    "collapsed": true
   },
   "outputs": [],
   "source": []
  }
 ],
 "metadata": {
  "kernelspec": {
   "display_name": "Python 3",
   "language": "python",
   "name": "python3"
  },
  "language_info": {
   "codemirror_mode": {
    "name": "ipython",
    "version": 3
   },
   "file_extension": ".py",
   "mimetype": "text/x-python",
   "name": "python",
   "nbconvert_exporter": "python",
   "pygments_lexer": "ipython3",
   "version": "3.6.0"
  }
 },
 "nbformat": 4,
 "nbformat_minor": 2
}
