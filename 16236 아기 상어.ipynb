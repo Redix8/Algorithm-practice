{
 "cells": [
  {
   "cell_type": "code",
   "execution_count": 110,
   "metadata": {
    "collapsed": false
   },
   "outputs": [
    {
     "name": "stdout",
     "output_type": "stream",
     "text": [
      "2\n",
      "9 3\n",
      "3 1\n"
     ]
    }
   ],
   "source": [
    "N = int(input())\n",
    "arr = [list(map(int,input().split())) for _ in range(N)]\n",
    "shark = 2\n",
    "\n",
    "for i in range(N):\n",
    "    for j in range(N):\n",
    "        if arr[i][j] == 9:\n",
    "            w = (i, j)"
   ]
  },
  {
   "cell_type": "code",
   "execution_count": 1,
   "metadata": {
    "collapsed": true
   },
   "outputs": [],
   "source": [
    "from collections import deque"
   ]
  },
  {
   "cell_type": "code",
   "execution_count": 108,
   "metadata": {
    "collapsed": true
   },
   "outputs": [],
   "source": [
    "def eatFish(r,c):\n",
    "    global N, shark\n",
    "    visited = [[0]*N for _ in range(N)]\n",
    "    x=[0, -1, 1, 0]\n",
    "    y=[-1, 0, 0, 1]\n",
    "    q = deque()\n",
    "    tmp = []\n",
    "    cnt = 0\n",
    "    q.append((r,c))\n",
    "    visited[r][c] = 1    \n",
    "    while q:\n",
    "        r,c = q.popleft()\n",
    "        if 0 < arr[r][c] < shark:\n",
    "            break\n",
    "        for i in range(4):\n",
    "            nr = r+y[i]\n",
    "            nc = c+x[i]\n",
    "            if 0<=nr<N and 0<=nc<N and not visited[nr][nc]:\n",
    "                if arr[nr][nc] <=shark:\n",
    "                    tmp.append((nr,nc))\n",
    "                    visited[nr][nc] = 1\n",
    "        if not q:\n",
    "            tmp.sort()\n",
    "            q = deque(tmp)\n",
    "            tmp = []\n",
    "            cnt+=1\n",
    "    return (r,c, cnt)\n"
   ]
  },
  {
   "cell_type": "code",
   "execution_count": 19,
   "metadata": {
    "collapsed": false
   },
   "outputs": [
    {
     "data": {
      "text/plain": [
       "(0, 3, 3)"
      ]
     },
     "execution_count": 19,
     "metadata": {},
     "output_type": "execute_result"
    }
   ],
   "source": [
    "eatFish(w[0],w[1])"
   ]
  },
  {
   "cell_type": "code",
   "execution_count": 115,
   "metadata": {
    "collapsed": false
   },
   "outputs": [
    {
     "name": "stdout",
     "output_type": "stream",
     "text": [
      "4\n",
      "4 3 2 1\n",
      "0 0 0 0\n",
      "0 0 9 0\n",
      "1 2 3 4\n",
      "14\n"
     ]
    }
   ],
   "source": [
    "N = int(input())\n",
    "arr = [list(map(int,input().split())) for _ in range(N)]\n",
    "shark = 2\n",
    "\n",
    "for i in range(N):\n",
    "    for j in range(N):\n",
    "        if arr[i][j] == 9:\n",
    "            w = (i, j)\n",
    "\n",
    "ret = 0\n",
    "stomach = 0\n",
    "while True:\n",
    "    r, c, cnt = eatFish(w[0], w[1])\n",
    "    arr[w[0]][w[1]] = 0\n",
    "    if  0 < arr[r][c] < shark:\n",
    "        arr[r][c] = 9\n",
    "        w = (r,c)\n",
    "        ret+=cnt\n",
    "        stomach+=1\n",
    "        if stomach == shark:\n",
    "            shark+=1\n",
    "            stomach=0        \n",
    "    else:\n",
    "        break\n",
    "    \n",
    "print(ret)    "
   ]
  },
  {
   "cell_type": "code",
   "execution_count": 105,
   "metadata": {
    "collapsed": false
   },
   "outputs": [
    {
     "data": {
      "text/plain": [
       "[[0, 2, 2], [2, 2, 3], [1, 3, 1]]"
      ]
     },
     "execution_count": 105,
     "metadata": {},
     "output_type": "execute_result"
    }
   ],
   "source": [
    "arr"
   ]
  },
  {
   "cell_type": "code",
   "execution_count": 56,
   "metadata": {
    "collapsed": false
   },
   "outputs": [
    {
     "data": {
      "text/plain": [
       "[(1, 1), (1, 2), (2, 2), (2, 3), (2, 4)]"
      ]
     },
     "execution_count": 56,
     "metadata": {},
     "output_type": "execute_result"
    }
   ],
   "source": [
    "sorted([(1,2),(1,1),(2,3),(2,4),(2,2)])"
   ]
  },
  {
   "cell_type": "code",
   "execution_count": 66,
   "metadata": {
    "collapsed": true
   },
   "outputs": [],
   "source": [
    "a = [(1,2),(1,1),(2,3),(2,4),(2,2)]\n",
    "a.sort()"
   ]
  },
  {
   "cell_type": "code",
   "execution_count": 107,
   "metadata": {
    "collapsed": false
   },
   "outputs": [
    {
     "data": {
      "text/plain": [
       "(0, 0)"
      ]
     },
     "execution_count": 107,
     "metadata": {},
     "output_type": "execute_result"
    }
   ],
   "source": [
    "w"
   ]
  },
  {
   "cell_type": "code",
   "execution_count": null,
   "metadata": {
    "collapsed": true
   },
   "outputs": [],
   "source": []
  }
 ],
 "metadata": {
  "kernelspec": {
   "display_name": "Python 3",
   "language": "python",
   "name": "python3"
  },
  "language_info": {
   "codemirror_mode": {
    "name": "ipython",
    "version": 3
   },
   "file_extension": ".py",
   "mimetype": "text/x-python",
   "name": "python",
   "nbconvert_exporter": "python",
   "pygments_lexer": "ipython3",
   "version": "3.6.0"
  }
 },
 "nbformat": 4,
 "nbformat_minor": 2
}
