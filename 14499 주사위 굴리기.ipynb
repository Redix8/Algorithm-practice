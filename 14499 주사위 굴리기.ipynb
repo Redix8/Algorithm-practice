{
 "cells": [
  {
   "cell_type": "code",
   "execution_count": 51,
   "metadata": {
    "collapsed": false
   },
   "outputs": [
    {
     "name": "stdout",
     "output_type": "stream",
     "text": [
      "3 3 0 0 16\n",
      "0 1 2\n",
      "3 4 5\n",
      "6 7 8\n",
      "4 4 1 1 3 3 2 2 4 4 1 1 3 3 2 2\n",
      "0\n",
      "0\n",
      "0\n",
      "6\n",
      "0\n",
      "8\n",
      "0\n",
      "2\n",
      "0\n",
      "8\n",
      "0\n",
      "2\n",
      "0\n",
      "8\n",
      "0\n",
      "2\n"
     ]
    }
   ],
   "source": [
    "n, m, x, y, k = map(int, input().split())\n",
    "arr= [list(map(int, input().split())) for _ in range(n)]\n",
    "query = input().split()\n",
    "dice = [0]*6 #top,bot,left,right,up,down\n",
    "res = []\n",
    "for q in query:\n",
    "    move(q)\n",
    "for r in res:\n",
    "    print(r)"
   ]
  },
  {
   "cell_type": "code",
   "execution_count": 52,
   "metadata": {
    "collapsed": false
   },
   "outputs": [
    {
     "ename": "SyntaxError",
     "evalue": "'continue' not properly in loop (<ipython-input-52-3f59786cdfa4>, line 14)",
     "output_type": "error",
     "traceback": [
      "\u001b[0;36m  File \u001b[0;32m\"<ipython-input-52-3f59786cdfa4>\"\u001b[0;36m, line \u001b[0;32m14\u001b[0m\n\u001b[0;31m    else:continue\u001b[0m\n\u001b[0m        ^\u001b[0m\n\u001b[0;31mSyntaxError\u001b[0m\u001b[0;31m:\u001b[0m 'continue' not properly in loop\n"
     ]
    }
   ],
   "source": [
    "#동서북남 1234\n",
    "def move(di):\n",
    "    global x, y, n,m,dice\n",
    "    top,bot,left,right,up,down = [0,1,2,3,4,5]\n",
    "    if di == '4':\n",
    "        if x+1 <n: #남\n",
    "            x+=1\n",
    "            temp = dice[down]\n",
    "            dice[down] = dice[top]\n",
    "            dice[top] = dice[up]\n",
    "            dice[up] = dice[bot]\n",
    "            dice[bot] = temp\n",
    "            res.append(dice[top])\n",
    "        else:return\n",
    "    elif di == '3':\n",
    "        if x-1>=0 : #북\n",
    "            x-=1\n",
    "            temp = dice[up]\n",
    "            dice[up] = dice[top]\n",
    "            dice[top] = dice[down]\n",
    "            dice[down] = dice[bot]\n",
    "            dice[bot] = temp     \n",
    "            res.append(dice[top])\n",
    "        else:return\n",
    "    elif di == '2':\n",
    "        if y-1>=0: #서\n",
    "            y-=1\n",
    "            temp = dice[left]\n",
    "            dice[left] = dice[top]\n",
    "            dice[top] = dice[right]\n",
    "            dice[right] = dice[bot]\n",
    "            dice[bot] = temp\n",
    "            res.append(dice[top])\n",
    "        else:return\n",
    "    elif di == '1':\n",
    "        if y+1<m: #동\n",
    "            y+=1\n",
    "            temp = dice[right]\n",
    "            dice[right] = dice[top]\n",
    "            dice[top] = dice[left]\n",
    "            dice[left] = dice[bot]\n",
    "            dice[bot] = temp\n",
    "            res.append(dice[top])\n",
    "        else:return\n",
    "    if arr[x][y] == 0 :\n",
    "        arr[x][y] = dice[bot]\n",
    "    else:\n",
    "        dice[bot] = arr[x][y]\n",
    "        arr[x][y] = 0"
   ]
  },
  {
   "cell_type": "code",
   "execution_count": 32,
   "metadata": {
    "collapsed": false
   },
   "outputs": [
    {
     "name": "stdout",
     "output_type": "stream",
     "text": [
      "[0, 0, 3, 0, 0, 8, 6, 3]\n"
     ]
    }
   ],
   "source": []
  },
  {
   "cell_type": "code",
   "execution_count": 28,
   "metadata": {
    "collapsed": false
   },
   "outputs": [
    {
     "data": {
      "text/plain": [
       "[0, 7, 4, 8, 6, 2]"
      ]
     },
     "execution_count": 28,
     "metadata": {},
     "output_type": "execute_result"
    }
   ],
   "source": [
    "dice"
   ]
  },
  {
   "cell_type": "code",
   "execution_count": null,
   "metadata": {
    "collapsed": true
   },
   "outputs": [],
   "source": []
  }
 ],
 "metadata": {
  "kernelspec": {
   "display_name": "Python 3",
   "language": "python",
   "name": "python3"
  },
  "language_info": {
   "codemirror_mode": {
    "name": "ipython",
    "version": 3
   },
   "file_extension": ".py",
   "mimetype": "text/x-python",
   "name": "python",
   "nbconvert_exporter": "python",
   "pygments_lexer": "ipython3",
   "version": "3.6.0"
  }
 },
 "nbformat": 4,
 "nbformat_minor": 2
}
