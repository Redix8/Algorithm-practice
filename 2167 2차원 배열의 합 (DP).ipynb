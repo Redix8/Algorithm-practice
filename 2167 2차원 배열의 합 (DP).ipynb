{
 "cells": [
  {
   "cell_type": "code",
   "execution_count": null,
   "metadata": {
    "collapsed": true
   },
   "outputs": [],
   "source": [
    "import sys\n",
    "N, M = map(int, sys.stdin.readline().split())\n",
    "mat = [list(map(int, sys.stdin.readline().split())) for _ in range(N)]\n",
    "K = int(sys.stdin.readline())\n",
    "for m in range(K):\n",
    "    i, j, x, y = map(int, sys.stdin.readline().split())"
   ]
  },
  {
   "cell_type": "code",
   "execution_count": null,
   "metadata": {
    "collapsed": true
   },
   "outputs": [],
   "source": [
    "N, M = 2, 3\n",
    "mat = [[1,2,4],[8,16,32]]\n",
    "K = 3\n",
    "\n",
    "summ = [[0]*(M+1) for _ in range(N+1)]"
   ]
  },
  {
   "cell_type": "code",
   "execution_count": 54,
   "metadata": {
    "collapsed": false
   },
   "outputs": [
    {
     "name": "stdout",
     "output_type": "stream",
     "text": [
      "[0, 0, 0, 0]\n",
      "[0, 1, 3, 7]\n",
      "[0, 9, 27, 63]\n"
     ]
    }
   ],
   "source": [
    "summ[1][1] = mat[0][0]\n",
    "for p in range(1,N):\n",
    "    summ[p+1][1] = summ[p][1] + mat[p][0]\n",
    "for p in range(1,M):\n",
    "    summ[1][p+1] = summ[1][p] + mat[0][p]\n",
    "for p in range(1,N):\n",
    "    for q in range(1,M):\n",
    "        summ[p+1][q+1] = summ[p][q+1] + summ[p+1][q] - summ[p][q] + mat[p][q]\n",
    "\n",
    "for _ in range(N+1):\n",
    "    print(summ[_])"
   ]
  },
  {
   "cell_type": "code",
   "execution_count": 59,
   "metadata": {
    "collapsed": false
   },
   "outputs": [
    {
     "name": "stdout",
     "output_type": "stream",
     "text": [
      "1 1 2 3\n",
      "63\n",
      "1 2 1 2\n",
      "2\n",
      "1 3 2 3\n",
      "36\n"
     ]
    }
   ],
   "source": [
    "for m in range(K):\n",
    "    i, j, x, y = map(int, input().split())\n",
    "    result = summ[x][y] - summ[i-1][y] - summ[x][j-1] + summ[i-1][j-1]\n",
    "    print(result)"
   ]
  },
  {
   "cell_type": "code",
   "execution_count": 55,
   "metadata": {
    "collapsed": false
   },
   "outputs": [],
   "source": [
    "result = summ[x][y] - summ[i-1][y] - summ[x][j-1] + summ[i-1][j-1]"
   ]
  },
  {
   "cell_type": "code",
   "execution_count": 56,
   "metadata": {
    "collapsed": false
   },
   "outputs": [
    {
     "data": {
      "text/plain": [
       "32"
      ]
     },
     "execution_count": 56,
     "metadata": {},
     "output_type": "execute_result"
    }
   ],
   "source": [
    "result"
   ]
  },
  {
   "cell_type": "code",
   "execution_count": 57,
   "metadata": {
    "collapsed": false
   },
   "outputs": [
    {
     "data": {
      "text/plain": [
       "27"
      ]
     },
     "execution_count": 57,
     "metadata": {},
     "output_type": "execute_result"
    }
   ],
   "source": [
    "summ[i-1][y]"
   ]
  },
  {
   "cell_type": "code",
   "execution_count": null,
   "metadata": {
    "collapsed": true
   },
   "outputs": [],
   "source": []
  }
 ],
 "metadata": {
  "kernelspec": {
   "display_name": "Python 3",
   "language": "python",
   "name": "python3"
  },
  "language_info": {
   "codemirror_mode": {
    "name": "ipython",
    "version": 3
   },
   "file_extension": ".py",
   "mimetype": "text/x-python",
   "name": "python",
   "nbconvert_exporter": "python",
   "pygments_lexer": "ipython3",
   "version": "3.6.0"
  }
 },
 "nbformat": 4,
 "nbformat_minor": 2
}
