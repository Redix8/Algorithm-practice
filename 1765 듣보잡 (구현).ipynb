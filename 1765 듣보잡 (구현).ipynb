{
 "cells": [
  {
   "cell_type": "code",
   "execution_count": 1,
   "metadata": {
    "collapsed": true
   },
   "outputs": [],
   "source": [
    "import sys"
   ]
  },
  {
   "cell_type": "code",
   "execution_count": 6,
   "metadata": {
    "collapsed": false
   },
   "outputs": [
    {
     "name": "stdout",
     "output_type": "stream",
     "text": [
      "3 4\n"
     ]
    }
   ],
   "source": [
    "n, m = map(int, input().split())\n",
    "nh = set()\n",
    "ns = set()\n",
    "for i in range(n):\n",
    "    nh.add(sys.stdin.readline().strip())\n",
    "for i in range(m):\n",
    "    ns.add(sys.stdin.readline().strip())\n",
    "result = list(ns&nh)\n",
    "result.sort()\n",
    "print(len(result))\n",
    "for i in result:\n",
    "    print(i)"
   ]
  },
  {
   "cell_type": "code",
   "execution_count": 10,
   "metadata": {
    "collapsed": false
   },
   "outputs": [],
   "source": [
    "nh = set(['ohhenrie','charlie','baesangwook'])\n",
    "\n",
    "ns = set(['obama','baesangwook','ohhenrie','clinton'])"
   ]
  },
  {
   "cell_type": "code",
   "execution_count": 23,
   "metadata": {
    "collapsed": false
   },
   "outputs": [
    {
     "name": "stdout",
     "output_type": "stream",
     "text": [
      "2 \n",
      "baesangwook \n",
      "ohhenrie\n"
     ]
    }
   ],
   "source": [
    "result = list(ns&nh)\n",
    "result.sort()\n",
    "print(len(result),'')\n",
    "for i in range(len(result)):\n",
    "    if i == len(result)-1:\n",
    "        print(result[i])\n",
    "    else:print(result[i],'')\n",
    "    "
   ]
  },
  {
   "cell_type": "code",
   "execution_count": 18,
   "metadata": {
    "collapsed": false
   },
   "outputs": [
    {
     "data": {
      "text/plain": [
       "['baesangwook', 'ohhenrie']"
      ]
     },
     "execution_count": 18,
     "metadata": {},
     "output_type": "execute_result"
    }
   ],
   "source": []
  },
  {
   "cell_type": "code",
   "execution_count": null,
   "metadata": {
    "collapsed": true
   },
   "outputs": [],
   "source": []
  }
 ],
 "metadata": {
  "kernelspec": {
   "display_name": "Python 3",
   "language": "python",
   "name": "python3"
  },
  "language_info": {
   "codemirror_mode": {
    "name": "ipython",
    "version": 3
   },
   "file_extension": ".py",
   "mimetype": "text/x-python",
   "name": "python",
   "nbconvert_exporter": "python",
   "pygments_lexer": "ipython3",
   "version": "3.6.0"
  }
 },
 "nbformat": 4,
 "nbformat_minor": 2
}
