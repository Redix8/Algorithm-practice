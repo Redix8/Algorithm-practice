{
 "cells": [
  {
   "cell_type": "code",
   "execution_count": 17,
   "metadata": {
    "collapsed": false
   },
   "outputs": [
    {
     "name": "stdout",
     "output_type": "stream",
     "text": [
      "4\n",
      "0 0 10 10\n",
      "10 0 3 10\n",
      "10 10 0 3\n",
      "3 10 10 0\n",
      "33\n"
     ]
    }
   ],
   "source": [
    "N = int(input())\n",
    "W = [list(map(int, input().split())) for x in range(N)]\n",
    "\n",
    "def shortestPath(path, visited, currentLength):\n",
    "    global W\n",
    "    if(len(path) == N):\n",
    "        if W[path[-1]][path[0]] == 0: currentLength+=9876543210\n",
    "        return currentLength + W[path[-1]][path[0]]\n",
    "    ret = 9876543210987654321\n",
    "    for going in range(N):\n",
    "        if(visited[going]): continue\n",
    "        now = path[-1]\n",
    "        path.append(going)\n",
    "        visited[going] = True          \n",
    "        if W[now][going] == 0: currentLength+=9876543210\n",
    "        cand = shortestPath(path, visited, currentLength + W[now][going])        \n",
    "        #if W[now][going] == 0: cand = cand+9876543210        \n",
    "        ret = min(ret, cand)\n",
    "        visited[going] = False\n",
    "        path.pop()\n",
    "    return ret\n",
    "\n",
    "path = []\n",
    "visited = [False]*N\n",
    "currentLength = 0\n",
    "ret = 9876543210987654321\n",
    "for i in range(N):\n",
    "    path.append(i)\n",
    "    visited[i] = True\n",
    "    cand = shortestPath(path, visited, currentLength)\n",
    "    ret = min(ret, cand)\n",
    "    path.pop()\n",
    "    visited[i] = False\n",
    "print(ret)"
   ]
  },
  {
   "cell_type": "code",
   "execution_count": null,
   "metadata": {
    "collapsed": true
   },
   "outputs": [],
   "source": []
  }
 ],
 "metadata": {
  "kernelspec": {
   "display_name": "Python 3",
   "language": "python",
   "name": "python3"
  },
  "language_info": {
   "codemirror_mode": {
    "name": "ipython",
    "version": 3
   },
   "file_extension": ".py",
   "mimetype": "text/x-python",
   "name": "python",
   "nbconvert_exporter": "python",
   "pygments_lexer": "ipython3",
   "version": "3.6.0"
  }
 },
 "nbformat": 4,
 "nbformat_minor": 2
}
