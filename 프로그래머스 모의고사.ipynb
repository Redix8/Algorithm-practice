{
 "cells": [
  {
   "cell_type": "code",
   "execution_count": 63,
   "metadata": {
    "collapsed": true
   },
   "outputs": [],
   "source": [
    "from collections import Counter\n",
    "\n",
    "def solution(answers):\n",
    "    one = [1,2,3,4,5]\n",
    "    two = [2,1,2,3,2,4,2,5]\n",
    "    three=[3,3,1,1,2,2,4,4,5,5]\n",
    "    answer =[]\n",
    "    r= Counter()\n",
    "    \n",
    "    for i, x in enumerate(answers):\n",
    "        r[1] += 1 if one[i%len(one)] == x else 0\n",
    "        r[2] += 1 if two[i%len(two)] == x else 0\n",
    "        r[3] += 1 if three[i%len(three)] == x else 0\n",
    "    r = sorted(r.items(), key=lambda x: x[0])\n",
    "    r = sorted(r, key=lambda x: x[1], reverse=True)\n",
    "    answer.append(r[0][0])\n",
    "    if r[1][1] == r[0][1] : answer.append(r[1][0])\n",
    "    if r[2][1] == r[0][1] : answer.append(r[2][0])\n",
    "        \n",
    "    return answer "
   ]
  },
  {
   "cell_type": "code",
   "execution_count": 2,
   "metadata": {
    "collapsed": true
   },
   "outputs": [],
   "source": [
    "one = [1,2,3,4,5]\n",
    "two = [2,1,2,3,2,4,2,5]\n",
    "three=[3,3,1,1,2,2,4,4,5,5]"
   ]
  },
  {
   "cell_type": "code",
   "execution_count": 61,
   "metadata": {
    "collapsed": true
   },
   "outputs": [],
   "source": [
    "answers = [1,2,3,4,5,1,2,3]\n",
    "answers = [1,3,2,4,2,4]\n",
    "answers = [3,3,1,1,2,2,2,3]\n",
    "answer = []\n",
    "from collections import Counter"
   ]
  },
  {
   "cell_type": "code",
   "execution_count": 62,
   "metadata": {
    "collapsed": false
   },
   "outputs": [],
   "source": [
    "r= Counter()\n",
    "for i, x in enumerate(answers):\n",
    "    r[1] += 1 if one[i%len(one)] == x else 0\n",
    "    r[2] += 1 if two[i%len(two)] == x else 0\n",
    "    r[3] += 1 if three[i%len(three)] == x else 0\n",
    "r = sorted(r.items(), key=lambda x: x[0])\n",
    "r = sorted(r, key=lambda x: x[1], reverse=True)\n",
    "answer.append(r[0][0])\n",
    "if r[1][0] == answer[0] : answer.append(r[1][0])\n",
    "if r[2][0] == answer[0] : answer.append(r[2][0])"
   ]
  },
  {
   "cell_type": "code",
   "execution_count": 45,
   "metadata": {
    "collapsed": false
   },
   "outputs": [
    {
     "ename": "AttributeError",
     "evalue": "'list' object has no attribute 'items'",
     "output_type": "error",
     "traceback": [
      "\u001b[0;31m---------------------------------------------------------------------------\u001b[0m",
      "\u001b[0;31mAttributeError\u001b[0m                            Traceback (most recent call last)",
      "\u001b[0;32m<ipython-input-45-4e75421b397f>\u001b[0m in \u001b[0;36m<module>\u001b[0;34m()\u001b[0m\n\u001b[0;32m----> 1\u001b[0;31m \u001b[0mr\u001b[0m\u001b[1;33m.\u001b[0m\u001b[0mitems\u001b[0m\u001b[1;33m(\u001b[0m\u001b[1;33m)\u001b[0m\u001b[1;33m\u001b[0m\u001b[0m\n\u001b[0m",
      "\u001b[0;31mAttributeError\u001b[0m: 'list' object has no attribute 'items'"
     ]
    }
   ],
   "source": [
    "r.items()"
   ]
  },
  {
   "cell_type": "code",
   "execution_count": null,
   "metadata": {
    "collapsed": true
   },
   "outputs": [],
   "source": []
  }
 ],
 "metadata": {
  "kernelspec": {
   "display_name": "Python 3",
   "language": "python",
   "name": "python3"
  },
  "language_info": {
   "codemirror_mode": {
    "name": "ipython",
    "version": 3
   },
   "file_extension": ".py",
   "mimetype": "text/x-python",
   "name": "python",
   "nbconvert_exporter": "python",
   "pygments_lexer": "ipython3",
   "version": "3.6.0"
  }
 },
 "nbformat": 4,
 "nbformat_minor": 2
}
