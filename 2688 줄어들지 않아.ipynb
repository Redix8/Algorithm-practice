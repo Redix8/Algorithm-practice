{
 "cells": [
  {
   "cell_type": "code",
   "execution_count": 19,
   "metadata": {
    "collapsed": true
   },
   "outputs": [],
   "source": [
    "d = [[] for _ in range(64)]"
   ]
  },
  {
   "cell_type": "code",
   "execution_count": 20,
   "metadata": {
    "collapsed": true
   },
   "outputs": [],
   "source": [
    "d[0] = [str(i) for i in range(10)]"
   ]
  },
  {
   "cell_type": "code",
   "execution_count": 21,
   "metadata": {
    "collapsed": false
   },
   "outputs": [
    {
     "ename": "KeyboardInterrupt",
     "evalue": "",
     "output_type": "error",
     "traceback": [
      "\u001b[0;31m---------------------------------------------------------------------------\u001b[0m",
      "\u001b[0;31mKeyboardInterrupt\u001b[0m                         Traceback (most recent call last)",
      "\u001b[0;32m<ipython-input-21-b5c7651fec91>\u001b[0m in \u001b[0;36m<module>\u001b[0;34m()\u001b[0m\n\u001b[1;32m      1\u001b[0m \u001b[1;32mfor\u001b[0m \u001b[0mi\u001b[0m \u001b[1;32min\u001b[0m \u001b[0mrange\u001b[0m\u001b[1;33m(\u001b[0m\u001b[1;36m1\u001b[0m\u001b[1;33m,\u001b[0m\u001b[1;36m64\u001b[0m\u001b[1;33m+\u001b[0m\u001b[1;36m1\u001b[0m\u001b[1;33m)\u001b[0m\u001b[1;33m:\u001b[0m\u001b[1;33m\u001b[0m\u001b[0m\n\u001b[1;32m      2\u001b[0m     \u001b[1;32mfor\u001b[0m \u001b[0mx\u001b[0m \u001b[1;32min\u001b[0m \u001b[0md\u001b[0m\u001b[1;33m[\u001b[0m\u001b[0mi\u001b[0m\u001b[1;33m-\u001b[0m\u001b[1;36m1\u001b[0m\u001b[1;33m]\u001b[0m\u001b[1;33m:\u001b[0m\u001b[1;33m\u001b[0m\u001b[0m\n\u001b[0;32m----> 3\u001b[0;31m         \u001b[1;32mfor\u001b[0m \u001b[0mj\u001b[0m \u001b[1;32min\u001b[0m \u001b[0mrange\u001b[0m\u001b[1;33m(\u001b[0m\u001b[1;36m10\u001b[0m\u001b[1;33m)\u001b[0m\u001b[1;33m:\u001b[0m\u001b[1;33m\u001b[0m\u001b[0m\n\u001b[0m\u001b[1;32m      4\u001b[0m             \u001b[1;32mif\u001b[0m \u001b[0mj\u001b[0m\u001b[1;33m<=\u001b[0m\u001b[0mint\u001b[0m\u001b[1;33m(\u001b[0m\u001b[0mx\u001b[0m\u001b[1;33m[\u001b[0m\u001b[1;36m0\u001b[0m\u001b[1;33m]\u001b[0m\u001b[1;33m)\u001b[0m\u001b[1;33m:\u001b[0m\u001b[1;33m\u001b[0m\u001b[0m\n\u001b[1;32m      5\u001b[0m                 \u001b[0md\u001b[0m\u001b[1;33m[\u001b[0m\u001b[0mi\u001b[0m\u001b[1;33m]\u001b[0m\u001b[1;33m.\u001b[0m\u001b[0mappend\u001b[0m\u001b[1;33m(\u001b[0m\u001b[0mstr\u001b[0m\u001b[1;33m(\u001b[0m\u001b[0mj\u001b[0m\u001b[1;33m)\u001b[0m\u001b[1;33m+\u001b[0m\u001b[0mx\u001b[0m\u001b[1;33m)\u001b[0m\u001b[1;33m\u001b[0m\u001b[0m\n",
      "\u001b[0;31mKeyboardInterrupt\u001b[0m: "
     ]
    }
   ],
   "source": [
    "for i in range(1,64+1):\n",
    "    for x in d[i-1]:\n",
    "        for j in range(10):\n",
    "            if j<=int(x[0]):\n",
    "                d[i].append(str(j)+x)\n",
    "            else: break"
   ]
  },
  {
   "cell_type": "code",
   "execution_count": 25,
   "metadata": {
    "collapsed": false
   },
   "outputs": [
    {
     "name": "stdout",
     "output_type": "stream",
     "text": [
      "['0', '1', '2', '3', '4', '5', '6', '7', '8', '9']\n",
      "['00', '01', '11', '02', '12', '22', '03', '13', '23', '33', '04', '14', '24', '34', '44', '05', '15', '25', '35', '45', '55', '06', '16', '26', '36', '46', '56', '66', '07', '17', '27', '37', '47', '57', '67', '77', '08', '18', '28', '38', '48', '58', '68', '78', '88', '09', '19', '29', '39', '49', '59', '69', '79', '89', '99']\n",
      "['000', '001', '011', '111', '002', '012', '112', '022', '122', '222', '003', '013', '113', '023', '123', '223', '033', '133', '233', '333', '004', '014', '114', '024', '124', '224', '034', '134', '234', '334', '044', '144', '244', '344', '444', '005', '015', '115', '025', '125', '225', '035', '135', '235', '335', '045', '145', '245', '345', '445', '055', '155', '255', '355', '455', '555', '006', '016', '116', '026', '126', '226', '036', '136', '236', '336', '046', '146', '246', '346', '446', '056', '156', '256', '356', '456', '556', '066', '166', '266', '366', '466', '566', '666', '007', '017', '117', '027', '127', '227', '037', '137', '237', '337', '047', '147', '247', '347', '447', '057', '157', '257', '357', '457', '557', '067', '167', '267', '367', '467', '567', '667', '077', '177', '277', '377', '477', '577', '677', '777', '008', '018', '118', '028', '128', '228', '038', '138', '238', '338', '048', '148', '248', '348', '448', '058', '158', '258', '358', '458', '558', '068', '168', '268', '368', '468', '568', '668', '078', '178', '278', '378', '478', '578', '678', '778', '088', '188', '288', '388', '488', '588', '688', '788', '888', '009', '019', '119', '029', '129', '229', '039', '139', '239', '339', '049', '149', '249', '349', '449', '059', '159', '259', '359', '459', '559', '069', '169', '269', '369', '469', '569', '669', '079', '179', '279', '379', '479', '579', '679', '779', '089', '189', '289', '389', '489', '589', '689', '789', '889', '099', '199', '299', '399', '499', '599', '699', '799', '899', '999']\n"
     ]
    }
   ],
   "source": [
    "for x in d[:3]:\n",
    "    print(x)\n"
   ]
  },
  {
   "cell_type": "code",
   "execution_count": 30,
   "metadata": {
    "collapsed": false
   },
   "outputs": [
    {
     "name": "stdout",
     "output_type": "stream",
     "text": [
      "3\n",
      "2\n",
      "55\n",
      "3\n",
      "220\n",
      "4\n",
      "715\n"
     ]
    }
   ],
   "source": [
    "import sys\n",
    "#input = sys.stdin.readline\n",
    "d = [[1]*10 for _ in range(65)]\n",
    "for i in range(2,65):\n",
    "    for j in range(10):\n",
    "        d[i][j] = sum(d[i-1][:j+1])\n",
    "t = int(input())\n",
    "for i in range(t):\n",
    "    print(sum(d[int(input())]))\n"
   ]
  },
  {
   "cell_type": "code",
   "execution_count": 26,
   "metadata": {
    "collapsed": false
   },
   "outputs": [
    {
     "data": {
      "text/plain": [
       "[]"
      ]
     },
     "execution_count": 26,
     "metadata": {},
     "output_type": "execute_result"
    }
   ],
   "source": [
    "[1,2,3][:0]"
   ]
  },
  {
   "cell_type": "code",
   "execution_count": null,
   "metadata": {
    "collapsed": true
   },
   "outputs": [],
   "source": []
  }
 ],
 "metadata": {
  "kernelspec": {
   "display_name": "Python 3",
   "language": "python",
   "name": "python3"
  },
  "language_info": {
   "codemirror_mode": {
    "name": "ipython",
    "version": 3
   },
   "file_extension": ".py",
   "mimetype": "text/x-python",
   "name": "python",
   "nbconvert_exporter": "python",
   "pygments_lexer": "ipython3",
   "version": "3.6.0"
  }
 },
 "nbformat": 4,
 "nbformat_minor": 2
}
