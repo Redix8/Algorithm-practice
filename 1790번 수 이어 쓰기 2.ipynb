{
 "cells": [
  {
   "cell_type": "code",
   "execution_count": 93,
   "metadata": {
    "collapsed": false
   },
   "outputs": [
    {
     "name": "stdout",
     "output_type": "stream",
     "text": [
      "300 190\n"
     ]
    }
   ],
   "source": [
    "N, k = map(int, input().split())"
   ]
  },
  {
   "cell_type": "code",
   "execution_count": 43,
   "metadata": {
    "collapsed": false
   },
   "outputs": [
    {
     "name": "stdout",
     "output_type": "stream",
     "text": [
      "0\n"
     ]
    }
   ],
   "source": [
    "s = ''\n",
    "for i in range(1,N+1):\n",
    "    s+=str(i)\n",
    "if len(s)<k: print(-1)\n",
    "else: print(s[k-1])"
   ]
  },
  {
   "cell_type": "code",
   "execution_count": 94,
   "metadata": {
    "collapsed": false
   },
   "outputs": [
    {
     "name": "stdout",
     "output_type": "stream",
     "text": [
      "1\n"
     ]
    }
   ],
   "source": [
    "m = 0\n",
    "for i in range(1,N+1):\n",
    "    m += len(str(i))\n",
    "    if m > k-1:\n",
    "        s = str(i)        \n",
    "        print(s[len(s)-1-(m-k)])\n",
    "        break\n",
    "if not m > k-1:\n",
    "    print(-1)"
   ]
  },
  {
   "cell_type": "code",
   "execution_count": 112,
   "metadata": {
    "collapsed": false
   },
   "outputs": [
    {
     "name": "stdout",
     "output_type": "stream",
     "text": [
      "Wall time: 8.65 s\n"
     ]
    }
   ],
   "source": [
    "%%time\n",
    "b = 0\n",
    "for i in range(10000000,100000000):\n",
    "    b += 1"
   ]
  },
  {
   "cell_type": "code",
   "execution_count": 48,
   "metadata": {
    "collapsed": false
   },
   "outputs": [
    {
     "data": {
      "text/plain": [
       "200"
      ]
     },
     "execution_count": 48,
     "metadata": {},
     "output_type": "execute_result"
    }
   ],
   "source": [
    "N - 10**(len(str(N))-1)"
   ]
  },
  {
   "cell_type": "code",
   "execution_count": 66,
   "metadata": {
    "collapsed": true
   },
   "outputs": [],
   "source": [
    "N = 321\n",
    "temp = 0"
   ]
  },
  {
   "cell_type": "code",
   "execution_count": 62,
   "metadata": {
    "collapsed": false
   },
   "outputs": [
    {
     "name": "stdout",
     "output_type": "stream",
     "text": [
      "100 663\n"
     ]
    }
   ],
   "source": [
    "a = N - 10**(len(str(N))-1)\n",
    "temp += len(str(a))*a\n",
    "N = N - a\n",
    "print(N, temp)"
   ]
  },
  {
   "cell_type": "code",
   "execution_count": 67,
   "metadata": {
    "collapsed": false,
    "scrolled": true
   },
   "outputs": [
    {
     "name": "stdout",
     "output_type": "stream",
     "text": [
      "100 663\n",
      "10 843\n",
      "0.09999999999999964 872.7\n"
     ]
    }
   ],
   "source": [
    "for i in range(len(str(N))):\n",
    "    a = N - 10**(len(str(N))-2)\n"
   ]
  },
  {
   "cell_type": "code",
   "execution_count": 29,
   "metadata": {
    "collapsed": false
   },
   "outputs": [
    {
     "name": "stdout",
     "output_type": "stream",
     "text": [
      "0\n"
     ]
    }
   ],
   "source": [
    "N = 300\n",
    "k = 192\n",
    "p = 0\n",
    "j = 0\n",
    "while p < k:\n",
    "    p += 9*(10**j)*(j+1)\n",
    "    j += 1\n",
    "\n",
    "j -=1\n",
    "m = p - 9*(10**j)*(j+1)\n",
    "\n",
    "for i in range(10**j,10**(j+1)):\n",
    "    m += len(str(i))\n",
    "    if m > k-1:\n",
    "        s = str(i)        \n",
    "        print(s[len(s)-1-(m-k)])\n",
    "        break\n",
    "if not m > k-1:\n",
    "    print(-1)"
   ]
  },
  {
   "cell_type": "code",
   "execution_count": 57,
   "metadata": {
    "collapsed": false
   },
   "outputs": [
    {
     "name": "stdout",
     "output_type": "stream",
     "text": [
      "6\n"
     ]
    }
   ],
   "source": [
    "N = 16\n",
    "k = 23\n",
    "p = 0\n",
    "j = 0\n",
    "while p < k:\n",
    "    p += 9*(10**j)*(j+1)\n",
    "    j += 1\n",
    "\n",
    "j -=1\n",
    "p = p - 9*(10**j)*(j+1)\n",
    "\n",
    "m = k - p -1\n",
    "\n",
    "#print(m, j, p)\n",
    "#print(m//(j+1), m%(j+1))\n",
    "r = 10**(j)+m//(j+1)\n",
    "\n",
    "#print(r)\n",
    "if r<= N:\n",
    "    print(str(r)[m%(j+1)])\n",
    "else:\n",
    "    print(-1)"
   ]
  },
  {
   "cell_type": "code",
   "execution_count": null,
   "metadata": {
    "collapsed": true
   },
   "outputs": [],
   "source": []
  }
 ],
 "metadata": {
  "kernelspec": {
   "display_name": "Python 3",
   "language": "python",
   "name": "python3"
  },
  "language_info": {
   "codemirror_mode": {
    "name": "ipython",
    "version": 3
   },
   "file_extension": ".py",
   "mimetype": "text/x-python",
   "name": "python",
   "nbconvert_exporter": "python",
   "pygments_lexer": "ipython3",
   "version": "3.6.0"
  }
 },
 "nbformat": 4,
 "nbformat_minor": 2
}
