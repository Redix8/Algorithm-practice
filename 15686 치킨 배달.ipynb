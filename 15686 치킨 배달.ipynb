{
 "cells": [
  {
   "cell_type": "code",
   "execution_count": 1,
   "metadata": {
    "collapsed": true
   },
   "outputs": [],
   "source": [
    "def distance(home, chick):\n",
    "    y,x= home\n",
    "    r,c= chick\n",
    "    return abs(y-r)+abs(x-c)\n"
   ]
  },
  {
   "cell_type": "code",
   "execution_count": 2,
   "metadata": {
    "collapsed": true
   },
   "outputs": [],
   "source": [
    "from itertools import combinations"
   ]
  },
  {
   "cell_type": "code",
   "execution_count": 7,
   "metadata": {
    "collapsed": false
   },
   "outputs": [
    {
     "name": "stdout",
     "output_type": "stream",
     "text": [
      "5 1\n",
      "1 2 0 2 1\n",
      "1 2 0 2 1\n",
      "1 2 0 2 1\n",
      "1 2 0 2 1\n",
      "1 2 0 2 1\n",
      "32\n"
     ]
    }
   ],
   "source": [
    "N, M = map(int, input().split())\n",
    "arr = [input().split() for _ in range(N)]\n",
    "homes = []\n",
    "chickens =[]\n",
    "for i in range(N):\n",
    "    for j in range(N):\n",
    "        if arr[i][j] == '1':\n",
    "            homes.append((i,j))\n",
    "        elif arr[i][j] == '2':\n",
    "            chickens.append((i,j))\n",
    "candi = combinations(chickens, M)\n",
    "res = 987654321\n",
    "for chicks in candi:\n",
    "    citydis = 0\n",
    "    for home in homes:\n",
    "        mindis = 987654321\n",
    "        for chick in chicks:\n",
    "            dis = distance(home, chick)\n",
    "            if dis<mindis:\n",
    "                mindis = dis\n",
    "            if mindis == 1: break\n",
    "        citydis+=mindis\n",
    "    if citydis<res:\n",
    "        res = citydis\n",
    "print(res)    "
   ]
  },
  {
   "cell_type": "code",
   "execution_count": null,
   "metadata": {
    "collapsed": true
   },
   "outputs": [],
   "source": []
  }
 ],
 "metadata": {
  "kernelspec": {
   "display_name": "Python 3",
   "language": "python",
   "name": "python3"
  },
  "language_info": {
   "codemirror_mode": {
    "name": "ipython",
    "version": 3
   },
   "file_extension": ".py",
   "mimetype": "text/x-python",
   "name": "python",
   "nbconvert_exporter": "python",
   "pygments_lexer": "ipython3",
   "version": "3.6.0"
  }
 },
 "nbformat": 4,
 "nbformat_minor": 2
}
