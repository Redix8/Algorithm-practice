{
 "cells": [
  {
   "cell_type": "code",
   "execution_count": 7,
   "metadata": {
    "collapsed": false
   },
   "outputs": [
    {
     "name": "stdout",
     "output_type": "stream",
     "text": [
      "......\n",
      "......\n",
      "......\n",
      "......\n",
      "......\n",
      "......\n",
      "......\n",
      "......\n",
      ".Y....\n",
      ".YG...\n",
      "RRYG..\n",
      "RRYGG.\n"
     ]
    }
   ],
   "source": [
    "arr = [list(input()) for _ in range(12)]\n"
   ]
  },
  {
   "cell_type": "code",
   "execution_count": 28,
   "metadata": {
    "collapsed": true
   },
   "outputs": [],
   "source": [
    "def puyo(r, c):\n",
    "    global arr\n",
    "    if arr[r][c] == '.':\n",
    "        return False\n",
    "    x = [0,1,0,-1]\n",
    "    y = [1,0,-1,0]\n",
    "    track = [(r,c)]\n",
    "    st = [(r,c)]\n",
    "    char = arr[r][c]    \n",
    "    while st:\n",
    "        r, c = st.pop()\n",
    "        for i in range(4):\n",
    "            nr = r+y[i]\n",
    "            nc = c+x[i]\n",
    "            if 0<=nr and nr<12 and 0<=nc and nc<6:\n",
    "                if arr[nr][nc] == char and not (nr, nc) in track:                    \n",
    "                    st.append((nr,nc))\n",
    "                    track.append((nr,nc))\n",
    "    if len(track)>=4:\n",
    "        for r,c in track:\n",
    "            arr[r][c] = '.'\n",
    "        return True\n",
    "    return False\n",
    "        "
   ]
  },
  {
   "cell_type": "code",
   "execution_count": 16,
   "metadata": {
    "collapsed": true
   },
   "outputs": [],
   "source": [
    "def fall(arr):\n",
    "    for j in range(6):\n",
    "        while True:\n",
    "            move = 0\n",
    "            for i in range(11):\n",
    "                if arr[10-i][j] != '.' and arr[10-i+1][j] == '.':\n",
    "                    arr[10-i+1][j] = arr[10-i][j]\n",
    "                    arr[10-i][j] = '.'\n",
    "                    move+=1\n",
    "            if not move: break"
   ]
  },
  {
   "cell_type": "code",
   "execution_count": 8,
   "metadata": {
    "collapsed": true
   },
   "outputs": [],
   "source": [
    "import copy\n",
    "arr2=copy.deepcopy(arr)"
   ]
  },
  {
   "cell_type": "code",
   "execution_count": 20,
   "metadata": {
    "collapsed": true
   },
   "outputs": [],
   "source": [
    "arr = copy.deepcopy(arr2)"
   ]
  },
  {
   "cell_type": "code",
   "execution_count": 29,
   "metadata": {
    "collapsed": false
   },
   "outputs": [
    {
     "name": "stdout",
     "output_type": "stream",
     "text": [
      "[['.', '.', '.', '.', '.', '.'],\n",
      " ['.', '.', '.', '.', '.', '.'],\n",
      " ['.', '.', '.', '.', '.', '.'],\n",
      " ['.', '.', '.', '.', '.', '.'],\n",
      " ['.', '.', '.', '.', '.', '.'],\n",
      " ['.', '.', '.', '.', '.', '.'],\n",
      " ['.', '.', '.', '.', '.', '.'],\n",
      " ['.', '.', '.', '.', '.', '.'],\n",
      " ['.', '.', '.', '.', '.', '.'],\n",
      " ['.', '.', '.', '.', '.', '.'],\n",
      " ['.', '.', '.', '.', '.', '.'],\n",
      " ['.', '.', '.', '.', '.', '.']]\n"
     ]
    }
   ],
   "source": [
    "cnt = 0\n",
    "while True:\n",
    "    isPuyo = False\n",
    "    for i in range(12):\n",
    "        for j in range(6):\n",
    "            isPuyo |= puyo(i,j)\n",
    "    if isPuyo:\n",
    "        cnt+=1\n",
    "        fall(arr)\n",
    "    else: break\n",
    "pprint.pprint(arr)"
   ]
  },
  {
   "cell_type": "code",
   "execution_count": 18,
   "metadata": {
    "collapsed": false
   },
   "outputs": [
    {
     "name": "stdout",
     "output_type": "stream",
     "text": [
      "[['.', '.', '.', '.', '.', '.'],\n",
      " ['.', '.', '.', '.', '.', '.'],\n",
      " ['.', '.', '.', '.', '.', '.'],\n",
      " ['.', '.', '.', '.', '.', '.'],\n",
      " ['.', '.', '.', '.', '.', '.'],\n",
      " ['.', '.', '.', '.', '.', '.'],\n",
      " ['.', '.', '.', '.', '.', '.'],\n",
      " ['.', '.', '.', '.', '.', '.'],\n",
      " ['.', '.', '.', '.', '.', '.'],\n",
      " ['.', '.', 'G', '.', '.', '.'],\n",
      " ['.', 'Y', 'Y', 'G', '.', '.'],\n",
      " ['.', 'Y', 'Y', 'G', 'G', '.']]\n"
     ]
    }
   ],
   "source": [
    "fall(arr)\n",
    "pprint.pprint(arr)"
   ]
  },
  {
   "cell_type": "code",
   "execution_count": 26,
   "metadata": {
    "collapsed": false
   },
   "outputs": [
    {
     "name": "stdout",
     "output_type": "stream",
     "text": [
      "[['.', '.', '.', '.', '.', '.'],\n",
      " ['.', '.', '.', '.', '.', '.'],\n",
      " ['.', '.', '.', '.', '.', '.'],\n",
      " ['.', '.', '.', '.', '.', '.'],\n",
      " ['.', '.', '.', '.', '.', '.'],\n",
      " ['.', '.', '.', '.', '.', '.'],\n",
      " ['.', '.', '.', '.', '.', '.'],\n",
      " ['.', '.', '.', '.', '.', '.'],\n",
      " ['.', 'Y', '.', '.', '.', '.'],\n",
      " ['.', 'Y', 'G', '.', '.', '.'],\n",
      " ['R', 'R', 'Y', 'G', '.', '.'],\n",
      " ['R', 'R', 'Y', 'G', 'G', '.']]\n"
     ]
    }
   ],
   "source": [
    "pprint.pprint(arr)"
   ]
  },
  {
   "cell_type": "code",
   "execution_count": 30,
   "metadata": {
    "collapsed": false
   },
   "outputs": [
    {
     "data": {
      "text/plain": [
       "3"
      ]
     },
     "execution_count": 30,
     "metadata": {},
     "output_type": "execute_result"
    }
   ],
   "source": [
    "cnt"
   ]
  },
  {
   "cell_type": "code",
   "execution_count": null,
   "metadata": {
    "collapsed": true
   },
   "outputs": [],
   "source": []
  }
 ],
 "metadata": {
  "kernelspec": {
   "display_name": "Python 3",
   "language": "python",
   "name": "python3"
  },
  "language_info": {
   "codemirror_mode": {
    "name": "ipython",
    "version": 3
   },
   "file_extension": ".py",
   "mimetype": "text/x-python",
   "name": "python",
   "nbconvert_exporter": "python",
   "pygments_lexer": "ipython3",
   "version": "3.6.0"
  }
 },
 "nbformat": 4,
 "nbformat_minor": 2
}
