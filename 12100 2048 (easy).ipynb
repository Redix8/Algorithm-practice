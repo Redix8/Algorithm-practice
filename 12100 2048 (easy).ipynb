{
 "cells": [
  {
   "cell_type": "code",
   "execution_count": 67,
   "metadata": {
    "collapsed": false
   },
   "outputs": [
    {
     "name": "stdout",
     "output_type": "stream",
     "text": [
      "4\n",
      "2 2 2 0\n",
      "0 2 2 2\n",
      "2 2 2 2\n",
      "2 0 0 2\n"
     ]
    },
    {
     "data": {
      "text/plain": [
       "16"
      ]
     },
     "execution_count": 67,
     "metadata": {},
     "output_type": "execute_result"
    }
   ],
   "source": [
    "N = int(input())\n",
    "arr = [list(map(int, input().split())) for _ in range(N)]\n",
    "bfs(arr, 1)"
   ]
  },
  {
   "cell_type": "code",
   "execution_count": 2,
   "metadata": {
    "collapsed": true
   },
   "outputs": [],
   "source": [
    "def move(arr, di):\n",
    "    global N\n",
    "    new = [[0]*N for _ in range(N)]\n",
    "    if di == 'up':\n",
    "        for j in range(N):\n",
    "            tmp = []\n",
    "            for i in range(N):\n",
    "                if arr[i][j]:\n",
    "                    tmp.append(arr[i][j])\n",
    "            for i,x in enumerate(tmp):\n",
    "                new[i][j] = x\n",
    "    elif di == 'down':\n",
    "        for j in range(N):\n",
    "            tmp = []\n",
    "            for i in range(N-1,-1,-1):\n",
    "                if arr[i][j]:\n",
    "                    tmp.append(arr[i][j])\n",
    "            for i,x in enumerate(tmp):\n",
    "                new[N-1-i][j] = x\n",
    "    elif di == 'left':\n",
    "        for i in range(N):\n",
    "            tmp = []\n",
    "            for j in range(N):\n",
    "                if arr[i][j]:\n",
    "                    tmp.append(arr[i][j])\n",
    "            for j,x in enumerate(tmp):\n",
    "                new[i][j] = x\n",
    "    elif di == 'right':\n",
    "        for i in range(N):\n",
    "            tmp = []\n",
    "            for j in range(N-1,-1,-1):\n",
    "                if arr[i][j]:\n",
    "                    tmp.append(arr[i][j])\n",
    "            for j,x in enumerate(tmp):\n",
    "                new[i][N-1-j] = x\n",
    "    return new\n"
   ]
  },
  {
   "cell_type": "code",
   "execution_count": 5,
   "metadata": {
    "collapsed": true
   },
   "outputs": [],
   "source": [
    "def sums(arr, di):\n",
    "    global N    \n",
    "    if di == 'up':\n",
    "        for i in range(N-1):\n",
    "            for j in range(N):\n",
    "                if arr[i][j]:\n",
    "                    if arr[i][j] == arr[i+1][j]:\n",
    "                        arr[i][j] = arr[i][j]+arr[i+1][j]\n",
    "                        arr[i+1][j]=0\n",
    "    elif di =='down':\n",
    "        for i in range(N-1,0,-1):\n",
    "            for j in range(N):\n",
    "                if arr[i][j]:\n",
    "                    if arr[i][j] == arr[i-1][j]:\n",
    "                        arr[i][j] = arr[i][j]+arr[i-1][j]\n",
    "                        arr[i-1][j]=0\n",
    "    elif di =='left':\n",
    "        for j in range(N-1):\n",
    "            for i in range(N):\n",
    "                if arr[i][j]:\n",
    "                    if arr[i][j] == arr[i][j+1]:\n",
    "                        arr[i][j] = arr[i][j]+arr[i][j+1]\n",
    "                        arr[i][j+1] = 0\n",
    "    elif di =='right':\n",
    "        for j in range(N-1,0,-1):\n",
    "            for i in range(N):\n",
    "                if arr[i][j]:\n",
    "                    if arr[i][j] == arr[i][j-1]:\n",
    "                        arr[i][j] = arr[i][j]+arr[i][j-1]\n",
    "                        arr[i][j-1] = 0                \n"
   ]
  },
  {
   "cell_type": "code",
   "execution_count": 6,
   "metadata": {
    "collapsed": false
   },
   "outputs": [
    {
     "name": "stdout",
     "output_type": "stream",
     "text": [
      "[4, 0, 2]\n",
      "[8, 0, 4]\n",
      "[16, 0, 8]\n"
     ]
    }
   ],
   "source": [
    "sums(arr,'left')\n",
    "for x in arr:\n",
    "    print(x)"
   ]
  },
  {
   "cell_type": "code",
   "execution_count": 11,
   "metadata": {
    "collapsed": true
   },
   "outputs": [],
   "source": [
    "def bfs(arr, step):\n",
    "    if step>5:\n",
    "        mx = 0\n",
    "        for x in arr:\n",
    "            mx = max(mx,max(x))\n",
    "        return mx\n",
    "    di = ['up','down','left','right']\n",
    "    ret=0\n",
    "    for i in range(4):\n",
    "        nxt = move(arr,di[i])\n",
    "        sums(nxt,di[i])\n",
    "        nxt = move(nxt,di[i])\n",
    "        ret = max(ret, bfs(nxt, step+1))\n",
    "    return ret"
   ]
  },
  {
   "cell_type": "code",
   "execution_count": 29,
   "metadata": {
    "collapsed": false
   },
   "outputs": [
    {
     "data": {
      "text/plain": [
       "64"
      ]
     },
     "execution_count": 29,
     "metadata": {},
     "output_type": "execute_result"
    }
   ],
   "source": [
    "bfs(arr, 1)"
   ]
  },
  {
   "cell_type": "code",
   "execution_count": 76,
   "metadata": {
    "collapsed": false
   },
   "outputs": [
    {
     "name": "stdout",
     "output_type": "stream",
     "text": [
      "[2, 2, 2, 0]\n",
      "[0, 2, 2, 2]\n",
      "[2, 2, 2, 2]\n",
      "[2, 0, 0, 2]\n",
      "\n",
      "[0, 0, 2, 4]\n",
      "[0, 0, 2, 4]\n",
      "[0, 0, 4, 4]\n",
      "[0, 0, 0, 4]\n",
      "\n",
      "[0, 0, 0, 0]\n",
      "[0, 0, 0, 0]\n",
      "[0, 0, 4, 8]\n",
      "[0, 0, 4, 8]\n"
     ]
    }
   ],
   "source": [
    "for x in arr:\n",
    "    print(x)\n",
    "print()\n",
    "#for x in move(arr, 'right'):\n",
    "#    print(x)\n",
    "#print()\n",
    "di = ['up','down','left','right']\n",
    "i = 3\n",
    "nxt = move(arr,di[i])\n",
    "sums(nxt,di[i])\n",
    "nxt = move(nxt,di[i])\n",
    "\n",
    "for x in move(nxt,di[i]):\n",
    "    print(x)\n",
    "print()\n",
    "i = 1\n",
    "nxt = move(nxt,di[i])\n",
    "sums(nxt,di[i])\n",
    "for x in move(nxt,di[i]):\n",
    "    print(x)    "
   ]
  },
  {
   "cell_type": "code",
   "execution_count": null,
   "metadata": {
    "collapsed": true
   },
   "outputs": [],
   "source": []
  }
 ],
 "metadata": {
  "kernelspec": {
   "display_name": "Python 3",
   "language": "python",
   "name": "python3"
  },
  "language_info": {
   "codemirror_mode": {
    "name": "ipython",
    "version": 3
   },
   "file_extension": ".py",
   "mimetype": "text/x-python",
   "name": "python",
   "nbconvert_exporter": "python",
   "pygments_lexer": "ipython3",
   "version": "3.6.0"
  }
 },
 "nbformat": 4,
 "nbformat_minor": 2
}
