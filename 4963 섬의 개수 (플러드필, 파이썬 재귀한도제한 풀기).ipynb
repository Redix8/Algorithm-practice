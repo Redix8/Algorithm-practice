{
 "cells": [
  {
   "cell_type": "code",
   "execution_count": 38,
   "metadata": {
    "collapsed": false
   },
   "outputs": [
    {
     "name": "stdout",
     "output_type": "stream",
     "text": [
      "5 4\n",
      "1 0 1 0 0\n",
      "1 0 0 0 0 \n",
      "1 0 1 0 1\n",
      "1 0 0 1 0\n"
     ]
    }
   ],
   "source": [
    "w, h = map(int, input().split())\n",
    "Map = [list(map(int, input().split())) for i in range(h)]"
   ]
  },
  {
   "cell_type": "code",
   "execution_count": 31,
   "metadata": {
    "collapsed": true
   },
   "outputs": [],
   "source": [
    "dr = [-1, -1, 0, 1, 1, 1, 0, -1] \n",
    "dc = [0, 1, 1, 1, 0, -1, -1, -1] \n",
    "def search(r, c, c1, c2):\n",
    "    global Map, dr, dc, w, h\n",
    "    if r<0 or c<0 or r>h-1 or c>w-1:\n",
    "        return 0\n",
    "    if Map[r][c] != c1:\n",
    "        return 0\n",
    "    ans = 1\n",
    "    Map[r][c] = c2\n",
    "    for i in range(8):\n",
    "        ans += search(r+dr[i], c+dc[i], c1, c2)\n",
    "    return ans"
   ]
  },
  {
   "cell_type": "code",
   "execution_count": 42,
   "metadata": {
    "collapsed": false
   },
   "outputs": [],
   "source": [
    "size = []\n",
    "for i in range(h):\n",
    "    for j in range(w):\n",
    "        temp = search(i, j, 1, 3)\n",
    "        if temp != 0:\n",
    "            size.append(temp)\n",
    "print(len(size))"
   ]
  },
  {
   "cell_type": "code",
   "execution_count": 41,
   "metadata": {
    "collapsed": false
   },
   "outputs": [
    {
     "name": "stdout",
     "output_type": "stream",
     "text": [
      "[1, 0, 1, 0, 0]\n",
      "[1, 0, 0, 0, 0]\n",
      "[1, 0, 1, 0, 1]\n",
      "[1, 0, 0, 1, 0]\n"
     ]
    }
   ],
   "source": [
    "for i in Map:\n",
    "    print(i)"
   ]
  },
  {
   "cell_type": "code",
   "execution_count": 44,
   "metadata": {
    "collapsed": false
   },
   "outputs": [
    {
     "data": {
      "text/plain": [
       "0"
      ]
     },
     "execution_count": 44,
     "metadata": {},
     "output_type": "execute_result"
    }
   ],
   "source": []
  },
  {
   "cell_type": "code",
   "execution_count": 46,
   "metadata": {
    "collapsed": false
   },
   "outputs": [
    {
     "name": "stdout",
     "output_type": "stream",
     "text": [
      "0 0\n"
     ]
    }
   ],
   "source": [
    "import sys \n",
    "sys.setrecursionlimit(10000)  \n",
    "\n",
    "dr = [-1, -1, 0, 1, 1, 1, 0, -1] \n",
    "dc = [0, 1, 1, 1, 0, -1, -1, -1] \n",
    "def search(r, c, c1, c2):\n",
    "    global Map, dr, dc, w, h\n",
    "    if r<0 or c<0 or r>h-1 or c>w-1:\n",
    "        return 0\n",
    "    if Map[r][c] != c1:\n",
    "        return 0\n",
    "    ans = 1\n",
    "    Map[r][c] = c2\n",
    "    for i in range(8):\n",
    "        ans += search(r+dr[i], c+dc[i], c1, c2)\n",
    "    return ans\n",
    "\n",
    "while True:\n",
    "    w, h = map(int, input().split())\n",
    "    if w == 0 and h == 0:\n",
    "        break\n",
    "    Map = [list(map(int, input().split())) for i in range(h)]\n",
    "    \n",
    "    size = []\n",
    "    for i in range(h):\n",
    "        for j in range(w):\n",
    "            temp = search(i, j, 1, 3)\n",
    "            if temp != 0:\n",
    "                size.append(temp)\n",
    "    print(len(size))"
   ]
  },
  {
   "cell_type": "code",
   "execution_count": 47,
   "metadata": {
    "collapsed": true
   },
   "outputs": [],
   "source": [
    "\n"
   ]
  },
  {
   "cell_type": "code",
   "execution_count": 48,
   "metadata": {
    "collapsed": true
   },
   "outputs": [],
   "source": []
  },
  {
   "cell_type": "code",
   "execution_count": 51,
   "metadata": {
    "collapsed": false
   },
   "outputs": [
    {
     "data": {
      "text/plain": [
       "5"
      ]
     },
     "execution_count": 51,
     "metadata": {},
     "output_type": "execute_result"
    }
   ],
   "source": []
  },
  {
   "cell_type": "code",
   "execution_count": null,
   "metadata": {
    "collapsed": true
   },
   "outputs": [],
   "source": []
  }
 ],
 "metadata": {
  "kernelspec": {
   "display_name": "Python 3",
   "language": "python",
   "name": "python3"
  },
  "language_info": {
   "codemirror_mode": {
    "name": "ipython",
    "version": 3
   },
   "file_extension": ".py",
   "mimetype": "text/x-python",
   "name": "python",
   "nbconvert_exporter": "python",
   "pygments_lexer": "ipython3",
   "version": "3.6.0"
  }
 },
 "nbformat": 4,
 "nbformat_minor": 2
}
