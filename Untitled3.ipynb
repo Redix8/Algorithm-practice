{
 "cells": [
  {
   "cell_type": "code",
   "execution_count": 9,
   "metadata": {
    "collapsed": false
   },
   "outputs": [],
   "source": [
    "pages = [\"<html lang=\\\"ko\\\" xml:lang=\\\"ko\\\" xmlns=\\\"http://www.w3.org/1999/xhtml\\\">\\n<head>\\n  <meta charset=\\\"utf-8\\\">\\n  <meta property=\\\"og:url\\\" content=\\\"https://a.com\\\"/>\\n</head>  \\n<body>\\nBlind Lorem Blind ipsum dolor Blind test sit amet, consectetur adipiscing elit. \\n<a href=\\\"https://b.com\\\"> Link to b </a>\\n</body>\\n</html>\", \"<html lang=\\\"ko\\\" xml:lang=\\\"ko\\\" xmlns=\\\"http://www.w3.org/1999/xhtml\\\">\\n<head>\\n  <meta charset=\\\"utf-8\\\">\\n  <meta property=\\\"og:url\\\" content=\\\"https://b.com\\\"/>\\n</head>  \\n<body>\\nSuspendisse potenti. Vivamus venenatis tellus non turpis bibendum, \\n<a href=\\\"https://a.com\\\"> Link to a </a>\\nblind sed congue urna varius. Suspendisse feugiat nisl ligula, quis malesuada felis hendrerit ut.\\n<a href=\\\"https://c.com\\\"> Link to c </a>\\n</body>\\n</html>\", \"<html lang=\\\"ko\\\" xml:lang=\\\"ko\\\" xmlns=\\\"http://www.w3.org/1999/xhtml\\\">\\n<head>\\n  <meta charset=\\\"utf-8\\\">\\n  <meta property=\\\"og:url\\\" content=\\\"https://c.com\\\"/>\\n</head>  \\n<body>\\nUt condimentum urna at felis sodales rutrum. Sed dapibus cursus diam, non interdum nulla tempor nec. Phasellus rutrum enim at orci consectetu blind\\n<a href=\\\"https://a.com\\\"> Link to a </a>\\n</body>\\n</html>\"]\n",
    "word = \"blind\""
   ]
  },
  {
   "cell_type": "code",
   "execution_count": 124,
   "metadata": {
    "collapsed": true
   },
   "outputs": [],
   "source": [
    "pages = [\"<html lang=\\\"ko\\\" xml:lang=\\\"ko\\\" xmlns=\\\"http://www.w3.org/1999/xhtml\\\">\\n<head>\\n  <meta charset=\\\"utf-8\\\">\\n  <meta property=\\\"og:url\\\" content=\\\"https://careers.kakao.com/interview/list\\\"/>\\n</head>  \\n<body>\\n<a href=\\\"https://programmers.co.kr/learn/courses/4673\\\"></a>#!MuziMuzi!)jayg07con&&\\n\\n</body>\\n</html>\", \"<html lang=\\\"ko\\\" xml:lang=\\\"ko\\\" xmlns=\\\"http://www.w3.org/1999/xhtml\\\">\\n<head>\\n  <meta charset=\\\"utf-8\\\">\\n  <meta property=\\\"og:url\\\" content=\\\"https://www.kakaocorp.com\\\"/>\\n</head>  \\n<body>\\ncon%\\tmuzI92apeach&2<a href=\\\"https://hashcode.co.kr/tos\\\"></a>\\n\\n\\t^\\n</body>\\n</html>\"]\n",
    "word = \"Muzi\""
   ]
  },
  {
   "cell_type": "code",
   "execution_count": 139,
   "metadata": {
    "collapsed": false
   },
   "outputs": [],
   "source": [
    "import re\n",
    "basicPoint = [0]*len(pages)\n",
    "linkPoint = [0.0]*len(pages)\n",
    "totalPoint = [0.0]*len(pages)\n",
    "links = [[] for _ in range(len(pages))]\n",
    "url = [None]*len(pages)"
   ]
  },
  {
   "cell_type": "code",
   "execution_count": 140,
   "metadata": {
    "collapsed": false
   },
   "outputs": [],
   "source": [
    "wordPattern = re.compile(\"[a-zA-Z]+\")\n",
    "metaPattern = re.compile(\"meta .* content=\\\"https://.*\\\"\")\n",
    "urlPattern = re.compile(\"\\\"https://.*\\\"\")\n",
    "outlinkPattern = re.compile(\"<a href=\\\".*\\\"\")\n",
    "for i, page in enumerate(pages):\n",
    "    lines = page.split(\"\\n\")    \n",
    "    for line in lines:        \n",
    "        basicPoint[i]+= wordPattern.findall(line.lower()).count(word.lower())        \n",
    "        meta = metaPattern.search(line)        \n",
    "        outlink = outlinkPattern.search(line)\n",
    "        if meta:\n",
    "            tmpUrl = urlPattern.search(meta.group())\n",
    "            if tmpUrl:\n",
    "                url[i] = tmpUrl.group()[1:-1]\n",
    "        if outlink:\n",
    "            tmpUrl = urlPattern.search(outlink.group())\n",
    "            if tmpUrl:\n",
    "                links[i].append(tmpUrl.group()[1:-1])\n",
    "    linkPoint[i] = basicPoint[i]/len(links[i])"
   ]
  },
  {
   "cell_type": "code",
   "execution_count": 141,
   "metadata": {
    "collapsed": true
   },
   "outputs": [],
   "source": [
    "for i, x in enumerate(links):\n",
    "    for link in x:\n",
    "        if link in url:\n",
    "            totalPoint[url.index(link)] += linkPoint[i]\n",
    "for i in range(len(totalPoint)):\n",
    "    totalPoint[i] += basicPoint[i]\n",
    "maxP = 0\n",
    "for i, x in enumerate(totalPoint):\n",
    "    if x>maxP:\n",
    "        maxP = x\n",
    "        idx = i\n",
    "if maxP ==0:\n",
    "    idx = 0"
   ]
  },
  {
   "cell_type": "code",
   "execution_count": 142,
   "metadata": {
    "collapsed": false
   },
   "outputs": [
    {
     "name": "stdout",
     "output_type": "stream",
     "text": [
      "[0, 1]\n",
      "[['https://programmers.co.kr/learn/courses/4673'], ['https://hashcode.co.kr/tos']]\n",
      "[0.0, 1.0]\n",
      "['https://careers.kakao.com/interview/list', 'https://www.kakaocorp.com']\n",
      "[0.0, 1.0]\n"
     ]
    },
    {
     "data": {
      "text/plain": [
       "1"
      ]
     },
     "execution_count": 142,
     "metadata": {},
     "output_type": "execute_result"
    }
   ],
   "source": [
    "print(basicPoint)\n",
    "print(links)\n",
    "print(linkPoint)\n",
    "print(url)\n",
    "print(totalPoint)\n",
    "idx"
   ]
  },
  {
   "cell_type": "code",
   "execution_count": 145,
   "metadata": {
    "collapsed": false
   },
   "outputs": [
    {
     "name": "stdout",
     "output_type": "stream",
     "text": [
      "['html', 'lang', 'ko', 'xml', 'lang', 'ko', 'xmlns', 'http', 'www', 'w', 'org', 'xhtml']\n",
      "['head']\n",
      "['meta', 'charset', 'utf']\n",
      "['meta', 'property', 'og', 'url', 'content', 'https', 'careers', 'kakao', 'com', 'interview', 'list']\n",
      "['head']\n",
      "['body']\n",
      "['a', 'href', 'https', 'programmers', 'co', 'kr', 'learn', 'courses', 'a', 'muzimuzi', 'jayg', 'con']\n",
      "[]\n",
      "['body']\n",
      "['html']\n",
      "0\n"
     ]
    }
   ],
   "source": [
    "a = pages[0].split(\"\\n\")\n",
    "b = 0\n",
    "for x in a:\n",
    "    p = re.compile(\"[a-zA-Z]+\")    \n",
    "    b += p.findall(x.lower()).count(word)\n",
    "    print(p.findall(x.lower()))\n",
    "    p = re.compile(\"meta .* content=\\\"https://.*\\\"\")\n",
    "    c = p.search(x) \n",
    "               \n",
    "print(b)\n",
    "    "
   ]
  },
  {
   "cell_type": "code",
   "execution_count": 143,
   "metadata": {
    "collapsed": false
   },
   "outputs": [
    {
     "name": "stdout",
     "output_type": "stream",
     "text": [
      "0 []\n",
      "1 [3]\n",
      "2 [4, 5]\n"
     ]
    }
   ],
   "source": [
    "for i,x in enumerate([[],[3],[4,5]]):\n",
    "    print(i, x)"
   ]
  },
  {
   "cell_type": "code",
   "execution_count": null,
   "metadata": {
    "collapsed": true
   },
   "outputs": [],
   "source": []
  }
 ],
 "metadata": {
  "kernelspec": {
   "display_name": "Python 3",
   "language": "python",
   "name": "python3"
  },
  "language_info": {
   "codemirror_mode": {
    "name": "ipython",
    "version": 3
   },
   "file_extension": ".py",
   "mimetype": "text/x-python",
   "name": "python",
   "nbconvert_exporter": "python",
   "pygments_lexer": "ipython3",
   "version": "3.6.0"
  }
 },
 "nbformat": 4,
 "nbformat_minor": 2
}
