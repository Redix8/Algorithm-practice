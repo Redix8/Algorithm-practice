{
 "cells": [
  {
   "cell_type": "code",
   "execution_count": 9,
   "metadata": {
    "collapsed": false
   },
   "outputs": [
    {
     "name": "stdout",
     "output_type": "stream",
     "text": [
      "5\n",
      "3 4\n",
      "1 1\n",
      "1 -1\n",
      "2 2\n",
      "3 3\n",
      "1 -1\n",
      "1 1\n",
      "2 2\n",
      "3 3\n",
      "3 4\n"
     ]
    }
   ],
   "source": [
    "n = int(input())\n",
    "arr=[]\n",
    "for _ in range(n):\n",
    "    arr.append(tuple(map(int,input().split())))\n",
    "arr = sorted(arr, key=lambda a: a[1])\n",
    "arr = sorted(arr, key=lambda a: a[0])\n",
    "for x,y in arr:\n",
    "    print(x,y)"
   ]
  },
  {
   "cell_type": "code",
   "execution_count": 8,
   "metadata": {
    "collapsed": false
   },
   "outputs": [
    {
     "data": {
      "text/plain": [
       "[(1, -1), (1, 1), (2, 2), (3, 3), (3, 4)]"
      ]
     },
     "execution_count": 8,
     "metadata": {},
     "output_type": "execute_result"
    }
   ],
   "source": [
    "arr\n"
   ]
  },
  {
   "cell_type": "code",
   "execution_count": 10,
   "metadata": {
    "collapsed": false
   },
   "outputs": [
    {
     "ename": "SyntaxError",
     "evalue": "keyword argument repeated (<ipython-input-10-0c678e58f186>, line 5)",
     "output_type": "error",
     "traceback": [
      "\u001b[0;36m  File \u001b[0;32m\"<ipython-input-10-0c678e58f186>\"\u001b[0;36m, line \u001b[0;32m5\u001b[0m\n\u001b[0;31m    arr = sorted(arr, key=lambda a: a[1],key=lambda a: a[0])\u001b[0m\n\u001b[0m                                        ^\u001b[0m\n\u001b[0;31mSyntaxError\u001b[0m\u001b[0;31m:\u001b[0m keyword argument repeated\n"
     ]
    }
   ],
   "source": [
    "import sys\n",
    "n = int(input())\n",
    "arr=[]\n",
    "for _ in range(n):\n",
    "    arr.append(tuple(map(int,sys.stdin.readline().split())))\n",
    "arr = sorted(arr, key=lambda a: a[0])\n",
    "arr = sorted(arr, key=lambda a: a[1])\n",
    "for x,y in arr:\n",
    "    print(x,y)"
   ]
  },
  {
   "cell_type": "code",
   "execution_count": 13,
   "metadata": {
    "collapsed": false
   },
   "outputs": [
    {
     "name": "stdout",
     "output_type": "stream",
     "text": [
      "3\n",
      "21 Junk\n",
      "21 Dohy\n",
      "20 Suny\n",
      "20 Suny\n",
      "21 Junk\n",
      "21 Dohy\n"
     ]
    }
   ],
   "source": [
    "n = int(input())\n",
    "arr=[]\n",
    "for _ in range(n):\n",
    "    x = input().split()\n",
    "    arr.append((int(x[0]), x[1]))\n",
    "arr = sorted(arr, key=lambda a: a[0])\n",
    "#arr = sorted(arr, key=lambda a: a[0])\n",
    "for x,y in arr:\n",
    "    print(x,y)"
   ]
  },
  {
   "cell_type": "code",
   "execution_count": null,
   "metadata": {
    "collapsed": true
   },
   "outputs": [],
   "source": []
  }
 ],
 "metadata": {
  "kernelspec": {
   "display_name": "Python 3",
   "language": "python",
   "name": "python3"
  },
  "language_info": {
   "codemirror_mode": {
    "name": "ipython",
    "version": 3
   },
   "file_extension": ".py",
   "mimetype": "text/x-python",
   "name": "python",
   "nbconvert_exporter": "python",
   "pygments_lexer": "ipython3",
   "version": "3.6.0"
  }
 },
 "nbformat": 4,
 "nbformat_minor": 2
}
