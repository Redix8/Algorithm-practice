{
 "cells": [
  {
   "cell_type": "code",
   "execution_count": 26,
   "metadata": {
    "collapsed": false
   },
   "outputs": [],
   "source": [
    "import re\n",
    "\n",
    "\n",
    "def solution(words, queries):\n",
    "    p = re.compile('([\\?]*)([a-z]*)([\\?]*)')\n",
    "    prefix = [0]*10001\n",
    "    sufix = [0]*10001\n",
    "    result = []\n",
    "    for x in queries:\n",
    "        m = p.search(x)\n",
    "        pre, mid, suf =  m.groups()\n",
    "        cnt = 0        \n",
    "        if pre:            \n",
    "            for word in words:\n",
    "                if word[len(pre):] == mid:\n",
    "                    cnt+=1\n",
    "        elif suf:\n",
    "            for word in words:\n",
    "                print(word[:-len(suf)], mid)\n",
    "                if word[:-len(suf)] == mid:\n",
    "                    cnt+=1\n",
    "        result.append(cnt)\n",
    "    return result\n",
    "\n"
   ]
  },
  {
   "cell_type": "code",
   "execution_count": 27,
   "metadata": {
    "collapsed": false
   },
   "outputs": [
    {
     "name": "stdout",
     "output_type": "stream",
     "text": [
      "fro fro\n",
      "fro fro\n",
      "fro fro\n",
      "froz fro\n",
      "fra fro\n",
      "kak fro\n",
      "fr fr\n",
      "fr fr\n",
      "fr fr\n",
      "fro fr\n",
      "fr fr\n",
      "ka fr\n",
      "fr fro\n",
      "fr fro\n",
      "fr fro\n",
      "fro fro\n",
      "fr fro\n",
      "ka fro\n",
      "frod pro\n",
      "fron pro\n",
      "fros pro\n",
      "froze pro\n",
      "fram pro\n",
      "kaka pro\n"
     ]
    },
    {
     "data": {
      "text/plain": [
       "[3, 2, 4, 1, 0]"
      ]
     },
     "execution_count": 27,
     "metadata": {},
     "output_type": "execute_result"
    }
   ],
   "source": [
    "solution([\"frodo\", \"front\", \"frost\", \"frozen\", \"frame\", \"kakao\"],[\"fro??\", \"????o\", \"fr???\", \"fro???\", \"pro?\"])"
   ]
  },
  {
   "cell_type": "code",
   "execution_count": null,
   "metadata": {
    "collapsed": true
   },
   "outputs": [],
   "source": []
  }
 ],
 "metadata": {
  "kernelspec": {
   "display_name": "Python 3",
   "language": "python",
   "name": "python3"
  },
  "language_info": {
   "codemirror_mode": {
    "name": "ipython",
    "version": 3
   },
   "file_extension": ".py",
   "mimetype": "text/x-python",
   "name": "python",
   "nbconvert_exporter": "python",
   "pygments_lexer": "ipython3",
   "version": "3.6.0"
  }
 },
 "nbformat": 4,
 "nbformat_minor": 2
}
