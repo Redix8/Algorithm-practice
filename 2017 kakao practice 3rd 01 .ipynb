{
 "cells": [
  {
   "cell_type": "code",
   "execution_count": 11,
   "metadata": {
    "collapsed": true
   },
   "outputs": [],
   "source": [
    "def solution(n, t, m, p):\n",
    "    s = getNum(n)\n",
    "    answer = ''\n",
    "    idx = p-1\n",
    "    while len(answer)<t:\n",
    "        answer += s[idx]\n",
    "        idx+=m\n",
    "    return answer"
   ]
  },
  {
   "cell_type": "code",
   "execution_count": 8,
   "metadata": {
    "collapsed": true
   },
   "outputs": [],
   "source": [
    "def getNum(n):\n",
    "    d = ['0','1','2','3','4','5','6','7','8','9','A','B','C','D','E','F']\n",
    "    s = '0'\n",
    "    i = 1\n",
    "    while len(s)<=100000:\n",
    "        m = i\n",
    "        tmp = ''\n",
    "        while m:\n",
    "            tmp = d[m%n]+tmp\n",
    "            m = m//n\n",
    "        s+=tmp\n",
    "        i+=1\n",
    "    return s\n",
    "            "
   ]
  },
  {
   "cell_type": "code",
   "execution_count": 13,
   "metadata": {
    "collapsed": false
   },
   "outputs": [
    {
     "data": {
      "text/plain": [
       "'02468ACE11111111'"
      ]
     },
     "execution_count": 13,
     "metadata": {},
     "output_type": "execute_result"
    }
   ],
   "source": [
    "solution(16,16,2,1)"
   ]
  },
  {
   "cell_type": "code",
   "execution_count": null,
   "metadata": {
    "collapsed": true
   },
   "outputs": [],
   "source": []
  }
 ],
 "metadata": {
  "kernelspec": {
   "display_name": "Python 3",
   "language": "python",
   "name": "python3"
  },
  "language_info": {
   "codemirror_mode": {
    "name": "ipython",
    "version": 3
   },
   "file_extension": ".py",
   "mimetype": "text/x-python",
   "name": "python",
   "nbconvert_exporter": "python",
   "pygments_lexer": "ipython3",
   "version": "3.6.0"
  }
 },
 "nbformat": 4,
 "nbformat_minor": 2
}
