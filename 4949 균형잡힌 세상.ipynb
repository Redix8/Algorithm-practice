{
 "cells": [
  {
   "cell_type": "code",
   "execution_count": 6,
   "metadata": {
    "collapsed": false
   },
   "outputs": [
    {
     "name": "stdout",
     "output_type": "stream",
     "text": [
      "So when I die (the [first] I will see in (heaven) is a score list).\n",
      "[ first in ] ( first out ).\n",
      "Half Moon tonight (At least it is better than no Moon at all].\n",
      "A rope may form )( a trail in a maze.\n",
      "Help( I[m being held prisoner in a fortune cookie factory)].\n",
      "([ (([( [ ] ) ( ) (( ))] )) ]).\n",
      " .\n",
      ".\n",
      "yes\n",
      "yes\n",
      "no\n",
      "no\n",
      "no\n",
      "yes\n",
      "yes\n"
     ]
    }
   ],
   "source": [
    "import sys\n",
    "#input=sys.stdin.readline\n",
    "strings=''\n",
    "while True:\n",
    "    s = input()\n",
    "    if s == \".\":\n",
    "        break\n",
    "    strings +=s\n",
    "strings = strings.split('.')\n",
    "for s in strings:\n",
    "    if s == '': continue\n",
    "    st = []\n",
    "    isbal = True\n",
    "    for c in s:\n",
    "        if c=='[' or c=='(':\n",
    "            st.append(c)\n",
    "        elif c==']':\n",
    "            if st and st[-1] == '[':\n",
    "                st.pop()\n",
    "            else:\n",
    "                isbal = False\n",
    "                break\n",
    "        elif c==')':\n",
    "            if st and st[-1] == '(':\n",
    "                st.pop()\n",
    "            else:\n",
    "                isbal = False\n",
    "                break\n",
    "    if isbal: print(\"yes\")\n",
    "    else: print(\"no\")\n",
    "        "
   ]
  },
  {
   "cell_type": "code",
   "execution_count": 9,
   "metadata": {
    "collapsed": false
   },
   "outputs": [
    {
     "name": "stdout",
     "output_type": "stream",
     "text": [
      "So when I die (the [first] I will see in (heaven) is a score list).\n",
      "yes\n",
      "[ first in ] ( first out ).\n",
      "yes\n",
      "Half Moon tonight (At least it is better than no Moon at all].\n",
      "no\n",
      "A rope may form )( a trail in a maze.\n",
      "no\n",
      "Help( I[m being held prisoner in a fortune cookie factory)].\n",
      "no\n",
      "([ (([( [ ] ) ( ) (( ))] )) ]).\n",
      "yes\n",
      " .\n",
      "yes\n",
      "[1255 3236 edfawe 3gt43gv sb4\n",
      "]\n",
      ".\n",
      "yes\n",
      ".\n"
     ]
    }
   ],
   "source": [
    "import sys\n",
    "#input=sys.stdin.readline\n",
    "while True:\n",
    "    s = ''\n",
    "    while not s or s[-1]!='.':\n",
    "        s += input().rstrip()\n",
    "    if s == \".\":\n",
    "        break\n",
    "    \n",
    "    st = []\n",
    "    isbal = True\n",
    "    for c in s:\n",
    "        if c=='[' or c=='(':\n",
    "            st.append(c)\n",
    "        elif c==']':\n",
    "            if st and st[-1] == '[':\n",
    "                st.pop()\n",
    "            else:\n",
    "                isbal = False\n",
    "                break\n",
    "        elif c==')':\n",
    "            if st and st[-1] == '(':\n",
    "                st.pop()\n",
    "            else:\n",
    "                isbal = False\n",
    "                break\n",
    "    if isbal and not st: print(\"yes\")\n",
    "    else: print(\"no\")\n",
    "        "
   ]
  },
  {
   "cell_type": "code",
   "execution_count": 10,
   "metadata": {
    "collapsed": false
   },
   "outputs": [
    {
     "name": "stdout",
     "output_type": "stream",
     "text": [
      "So when I die (the [first] I will see in (heaven) is a score list).\n",
      "[ first in ] ( first out ).\n",
      "Half Moon tonight (At least it is better than no Moon at all].\n",
      "A rope may form )( a trail in a maze.\n",
      "Help( I[m being held prisoner in a fortune cookie factory)].\n",
      "([ (([( [ ] ) ( ) (( ))] )) ]).\n",
      " .\n",
      ".\n",
      "yes\n",
      "yes\n"
     ]
    }
   ],
   "source": [
    "import sys\n",
    "#input=sys.stdin.readline\n",
    "strings=''\n",
    "while True:\n",
    "    s = input()\n",
    "    if s == \".\":\n",
    "        break\n",
    "    strings +=s\n",
    "st=[]\n",
    "isbal = True    \n",
    "for c in strings:\n",
    "    if c=='[' or c=='(':\n",
    "        st.append(c)\n",
    "    elif c==']':\n",
    "        if st and st[-1] == '[':\n",
    "            st.pop()\n",
    "        else:\n",
    "            isbal = False\n",
    "    elif c==')':\n",
    "        if st and st[-1] == '(':\n",
    "            st.pop()\n",
    "        else:\n",
    "            isbal = False\n",
    "    elif c=='.':\n",
    "        if isbal: sys.stdout.write(\"yes\\n\")\n",
    "        else:  sys.stdout.write(\"no\\n\")\n",
    "        st=[]\n",
    "        isbal = True"
   ]
  },
  {
   "cell_type": "code",
   "execution_count": 14,
   "metadata": {
    "collapsed": false
   },
   "outputs": [
    {
     "data": {
      "text/plain": [
       "'So when I die (the [first] I will see in (heaven) is a score list).[ first in ] ( first out ).Half Moon tonight (At least it is better than no Moon at all].A rope may form )( a trail in a maze.Help( I[m being held prisoner in a fortune cookie factory)].([ (([( [ ] ) ( ) (( ))] )) ]). .'"
      ]
     },
     "execution_count": 14,
     "metadata": {},
     "output_type": "execute_result"
    }
   ],
   "source": [
    "strings"
   ]
  },
  {
   "cell_type": "code",
   "execution_count": 20,
   "metadata": {
    "collapsed": false
   },
   "outputs": [
    {
     "name": "stdout",
     "output_type": "stream",
     "text": [
      "yes\n",
      "yes\n",
      "no\n",
      "no\n",
      "no\n",
      "yes\n",
      "yes\n"
     ]
    }
   ],
   "source": [
    "for c in strings:\n",
    "    if c=='[' or c=='(':\n",
    "        st.append(c)\n",
    "    elif c==']':\n",
    "        if st and st[-1] == '[':\n",
    "            st.pop()\n",
    "        else:\n",
    "            isbal = False\n",
    "    elif c==')':\n",
    "        if st and st[-1] == '(':\n",
    "            st.pop()\n",
    "        else:\n",
    "            isbal = False\n",
    "    elif c=='.':\n",
    "        if isbal: sys.stdout.write(\"yes\\n\")\n",
    "        else: sys.stdout.write(\"no\\n\")\n",
    "        st=[]\n",
    "        isbal = True"
   ]
  },
  {
   "cell_type": "code",
   "execution_count": null,
   "metadata": {
    "collapsed": true
   },
   "outputs": [],
   "source": []
  }
 ],
 "metadata": {
  "kernelspec": {
   "display_name": "Python 3",
   "language": "python",
   "name": "python3"
  },
  "language_info": {
   "codemirror_mode": {
    "name": "ipython",
    "version": 3
   },
   "file_extension": ".py",
   "mimetype": "text/x-python",
   "name": "python",
   "nbconvert_exporter": "python",
   "pygments_lexer": "ipython3",
   "version": "3.6.0"
  }
 },
 "nbformat": 4,
 "nbformat_minor": 2
}
