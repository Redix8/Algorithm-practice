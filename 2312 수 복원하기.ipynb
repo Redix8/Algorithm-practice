{
 "cells": [
  {
   "cell_type": "code",
   "execution_count": 2,
   "metadata": {
    "collapsed": true
   },
   "outputs": [],
   "source": [
    "def prime_list(n):\n",
    "    sieve = [True] * n\n",
    "    m = int(n ** 0.5)\n",
    "    for i in range(2, m + 1):\n",
    "        if sieve[i] == True: \n",
    "            for j in range(i+i, n, i): \n",
    "                sieve[j] = False\n",
    "\n",
    "    return [i for i in range(2, n) if sieve[i] == True]"
   ]
  },
  {
   "cell_type": "code",
   "execution_count": 5,
   "metadata": {
    "collapsed": true
   },
   "outputs": [],
   "source": [
    "def get(num):\n",
    "    global prime\n",
    "    cnt = [0]*100001\n",
    "    ret = []\n",
    "    for p in prime:\n",
    "        while num%p==0:\n",
    "            cnt[p]+=1\n",
    "            num = num//p\n",
    "    for p in prime:\n",
    "        if cnt[p]:\n",
    "            ret.append((p, cnt[p]))\n",
    "    return ret\n",
    "        "
   ]
  },
  {
   "cell_type": "code",
   "execution_count": 6,
   "metadata": {
    "collapsed": false
   },
   "outputs": [
    {
     "name": "stdout",
     "output_type": "stream",
     "text": [
      "2\n",
      "6\n",
      "2 1\n",
      "3 1\n",
      "24\n",
      "2 3\n",
      "3 1\n"
     ]
    }
   ],
   "source": [
    "prime = prime_list(100000)\n",
    "n = int(input())\n",
    "for _ in range(n):\n",
    "    x = int(input())\n",
    "    for p,c in get(x):\n",
    "        print(p, c)\n",
    "    "
   ]
  },
  {
   "cell_type": "code",
   "execution_count": null,
   "metadata": {
    "collapsed": true
   },
   "outputs": [],
   "source": []
  }
 ],
 "metadata": {
  "kernelspec": {
   "display_name": "Python 3",
   "language": "python",
   "name": "python3"
  },
  "language_info": {
   "codemirror_mode": {
    "name": "ipython",
    "version": 3
   },
   "file_extension": ".py",
   "mimetype": "text/x-python",
   "name": "python",
   "nbconvert_exporter": "python",
   "pygments_lexer": "ipython3",
   "version": "3.6.0"
  }
 },
 "nbformat": 4,
 "nbformat_minor": 2
}
