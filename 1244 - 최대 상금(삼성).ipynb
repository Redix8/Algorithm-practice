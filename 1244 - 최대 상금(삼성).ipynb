{
 "cells": [
  {
   "cell_type": "code",
   "execution_count": 32,
   "metadata": {
    "collapsed": false
   },
   "outputs": [
    {
     "name": "stdout",
     "output_type": "stream",
     "text": [
      "1\n",
      "77732 1\n",
      "#1 77732\n"
     ]
    }
   ],
   "source": [
    "t = int(input())\n",
    "for i in range(t):\n",
    "    res = ''\n",
    "    n, c = input().split()\n",
    "    c = int(c)\n",
    "    n, move = toMax(list(n), c, 0)\n",
    "    n = str(n)\n",
    "    if c-move>0:\n",
    "        if hasSame(n):\n",
    "            res = n\n",
    "        else:\n",
    "            if (c-move)%2:\n",
    "                res = n[:-2]+n[-1]+n[-2]\n",
    "            else:\n",
    "                res = n\n",
    "    else:\n",
    "        res = n\n",
    "    \n",
    "    print('#%d %s' %(i+1, res))"
   ]
  },
  {
   "cell_type": "code",
   "execution_count": 12,
   "metadata": {
    "collapsed": true
   },
   "outputs": [],
   "source": [
    "def toMax(num, t):\n",
    "    num = list(num)\n",
    "    cnt = 0\n",
    "    if t>len(num)-1:\n",
    "        t = len(num)-1\n",
    "    for i in range(t):\n",
    "        mx = i\n",
    "        for j in range(i,len(num)):\n",
    "            if num[j]>=num[mx]:\n",
    "                mx = j\n",
    "        if mx !=i:\n",
    "            num[i],num[mx] = num[mx], num[i]\n",
    "            cnt +=1\n",
    "    return (''.join(num), cnt)          \n"
   ]
  },
  {
   "cell_type": "code",
   "execution_count": 18,
   "metadata": {
    "collapsed": true
   },
   "outputs": [],
   "source": [
    "def hasSame(num):    \n",
    "    for x in num:\n",
    "        if num.count(x)>1:\n",
    "            return True\n",
    "    return False\n",
    "        "
   ]
  },
  {
   "cell_type": "code",
   "execution_count": null,
   "metadata": {
    "collapsed": false
   },
   "outputs": [],
   "source": [
    "b = '4231'\n",
    "b[:-2]+b[-1]+b[-2]"
   ]
  },
  {
   "cell_type": "code",
   "execution_count": 22,
   "metadata": {
    "collapsed": true
   },
   "outputs": [],
   "source": [
    "def toMax(num, t, cnt):\n",
    "    if t==cnt:\n",
    "        return (int(''.join(num)), cnt)\n",
    "    if t>len(num)-1:\n",
    "        t = len(num)-1\n",
    "    rc  = cnt\n",
    "    ret = int(''.join(num))\n",
    "    for i in range(cnt, t+1):\n",
    "        mx = i\n",
    "        for j in range(i,len(num)):\n",
    "            if num[j]>=num[mx] and j!=i:\n",
    "                mx = j\n",
    "                num[i],num[mx] = num[mx], num[i]\n",
    "                res,c = toMax(num, t, cnt+1)\n",
    "                num[i],num[mx] = num[mx], num[i]\n",
    "                if res>ret:\n",
    "                    ret = res\n",
    "                    rc = c\n",
    "    return (ret, rc)  \n"
   ]
  },
  {
   "cell_type": "code",
   "execution_count": null,
   "metadata": {
    "collapsed": false
   },
   "outputs": [],
   "source": [
    "list(str(1234))"
   ]
  },
  {
   "cell_type": "code",
   "execution_count": 20,
   "metadata": {
    "collapsed": true
   },
   "outputs": [],
   "source": [
    "from collections import deque\n",
    "def toMax(num, t):\n",
    "    if t>len(num)-1:\n",
    "        t = len(num)-1\n",
    "    cnt = 0\n",
    "    visited = [-1]*1000000\n",
    "    q = deque()\n",
    "    q.append(num)\n",
    "    visited[int(num)] = 0\n",
    "    ret = int(num)    \n",
    "    while q:\n",
    "        now = q.popleft() \n",
    "        if visited[int(now)]>t:\n",
    "            break\n",
    "        num = list(now)\n",
    "        mx = cnt\n",
    "        if int(now)>ret:\n",
    "            ret = int(now)        \n",
    "        for i in range(cnt+1, len(num)):\n",
    "            if num[i]>=num[mx]:\n",
    "                mx = i                \n",
    "                num[cnt], num[mx] = num[mx], num[cnt]\n",
    "                nxt = ''.join(num)\n",
    "                if visited[int(nxt)]==-1:\n",
    "                    visited[int(nxt)] = visited[int(now)]+1\n",
    "                    q.append(str(nxt))\n",
    "                num[cnt], num[mx] = num[mx], num[cnt]\n",
    "                print(q)\n",
    "    return (ret, visited[ret])\n"
   ]
  },
  {
   "cell_type": "code",
   "execution_count": 6,
   "metadata": {
    "collapsed": false
   },
   "outputs": [],
   "source": [
    "   "
   ]
  },
  {
   "cell_type": "code",
   "execution_count": null,
   "metadata": {
    "collapsed": true
   },
   "outputs": [],
   "source": []
  }
 ],
 "metadata": {
  "kernelspec": {
   "display_name": "Python 3",
   "language": "python",
   "name": "python3"
  },
  "language_info": {
   "codemirror_mode": {
    "name": "ipython",
    "version": 3
   },
   "file_extension": ".py",
   "mimetype": "text/x-python",
   "name": "python",
   "nbconvert_exporter": "python",
   "pygments_lexer": "ipython3",
   "version": "3.6.0"
  }
 },
 "nbformat": 4,
 "nbformat_minor": 2
}
