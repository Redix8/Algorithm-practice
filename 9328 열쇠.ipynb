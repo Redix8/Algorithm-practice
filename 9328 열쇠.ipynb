{
 "cells": [
  {
   "cell_type": "code",
   "execution_count": 44,
   "metadata": {
    "collapsed": false
   },
   "outputs": [
    {
     "name": "stdout",
     "output_type": "stream",
     "text": [
      "3\n",
      "5 17\n",
      "*****************\n",
      ".............**$*\n",
      "*B*A*P*C**X*Y*.X.\n",
      "*y*x*a*p**$*$**$*\n",
      "*****************\n",
      "cz\n",
      "3\n",
      "5 11\n",
      "*.*********\n",
      "*...*...*x*\n",
      "*X*.*.*.*.*\n",
      "*$*...*...*\n",
      "***********\n",
      "0\n",
      "1\n",
      "7 7\n",
      "*ABCDE*\n",
      "X.....F\n",
      "W.$$$.G\n",
      "V.$$$.H\n",
      "U.$$$.J\n",
      "T.....K\n",
      "*SQPML*\n",
      "irony\n",
      "0\n"
     ]
    }
   ],
   "source": [
    "t = int(input())\n",
    "for o in range(t):\n",
    "    h, w = map(int, input().split())\n",
    "    arr =[]\n",
    "    arr.append(['.']*(w+2))\n",
    "    for _ in range(h):\n",
    "        arr.append(['.'] + list(input()) + ['.'])\n",
    "    arr.append(['.']*(w+2))\n",
    "    keys = list(input())\n",
    "    cnt = 0\n",
    "    while keys:\n",
    "        visited = [[0]*(w+2) for _ in range(h+2)]\n",
    "        opn(arr)\n",
    "        bfs(0,0)        \n",
    "    print(cnt)\n"
   ]
  },
  {
   "cell_type": "code",
   "execution_count": 8,
   "metadata": {
    "collapsed": false
   },
   "outputs": [
    {
     "name": "stdout",
     "output_type": "stream",
     "text": [
      "['.', '.', '.', '.', '.', '.', '.', '.', '.', '.', '.', '.', '.', '.', '.', '.', '.', '.', '.']\n",
      "['.', '*', '*', '*', '*', '*', '*', '*', '*', '*', '*', '*', '*', '*', '*', '*', '*', '*', '.']\n",
      "['.', '.', '.', '.', '.', '.', '.', '.', '.', '.', '.', '.', '.', '.', '*', '*', '$', '*', '.']\n",
      "['.', '*', 'B', '*', 'A', '*', 'P', '*', 'C', '*', '*', 'X', '*', 'Y', '*', '.', 'X', '.', '.']\n",
      "['.', '*', 'y', '*', 'x', '*', 'a', '*', 'p', '*', '*', '$', '*', '$', '*', '*', '$', '*', '.']\n",
      "['.', '*', '*', '*', '*', '*', '*', '*', '*', '*', '*', '*', '*', '*', '*', '*', '*', '*', '.']\n",
      "['.', '.', '.', '.', '.', '.', '.', '.', '.', '.', '.', '.', '.', '.', '.', '.', '.', '.', '.']\n"
     ]
    }
   ],
   "source": [
    "visited = [[0]*(w+2) for _ in range(h+2)]\n"
   ]
  },
  {
   "cell_type": "code",
   "execution_count": 9,
   "metadata": {
    "collapsed": true
   },
   "outputs": [],
   "source": [
    "import string"
   ]
  },
  {
   "cell_type": "code",
   "execution_count": 39,
   "metadata": {
    "collapsed": true
   },
   "outputs": [],
   "source": [
    "def bfs(r, c):\n",
    "    global h,w, keys, visited, cnt\n",
    "    if arr[r][c] in string.ascii_lowercase:\n",
    "        keys.append(arr[r][c])\n",
    "        arr[r][c] = '.'\n",
    "    if arr[r][c] == '$':\n",
    "        cnt+=1\n",
    "        arr[r][c] = '.'\n",
    "    x = [0,0,1,-1]\n",
    "    y = [1,-1,0,0]\n",
    "    for i in range(4):\n",
    "        nr = r+y[i]\n",
    "        nc = c+x[i]\n",
    "        if 0<=nr<(h+2) and 0<=nc<(w+2):            \n",
    "            if not visited[nr][nc] and arr[nr][nc] != '*':\n",
    "                if not arr[nr][nc] in string.ascii_uppercase:\n",
    "                    visited[nr][nc] = 1\n",
    "                    bfs(nr,nc)\n",
    "                    "
   ]
  },
  {
   "cell_type": "code",
   "execution_count": 26,
   "metadata": {
    "collapsed": true
   },
   "outputs": [],
   "source": [
    "def opn(arr):\n",
    "    global h,w, keys\n",
    "    for i in range(h+2):\n",
    "        for j in range(w+2):\n",
    "            if arr[i][j].lower() in keys:\n",
    "                arr[i][j] = '.'\n",
    "    keys = []"
   ]
  },
  {
   "cell_type": "code",
   "execution_count": 11,
   "metadata": {
    "collapsed": false
   },
   "outputs": [
    {
     "data": {
      "text/plain": [
       "'a'"
      ]
     },
     "execution_count": 11,
     "metadata": {},
     "output_type": "execute_result"
    }
   ],
   "source": [
    "'A'.lower()"
   ]
  },
  {
   "cell_type": "code",
   "execution_count": 29,
   "metadata": {
    "collapsed": false
   },
   "outputs": [
    {
     "data": {
      "text/plain": [
       "[]"
      ]
     },
     "execution_count": 29,
     "metadata": {},
     "output_type": "execute_result"
    }
   ],
   "source": [
    "keys"
   ]
  },
  {
   "cell_type": "code",
   "execution_count": 43,
   "metadata": {
    "collapsed": false
   },
   "outputs": [
    {
     "name": "stdout",
     "output_type": "stream",
     "text": [
      "...................\n",
      ".*****************.\n",
      "..............**$*.\n",
      ".*B*A*.*.**X*Y*.X..\n",
      ".*y*x*a*.**$*$**$*.\n",
      ".*****************.\n",
      "...................\n"
     ]
    },
    {
     "data": {
      "text/plain": [
       "[]"
      ]
     },
     "execution_count": 43,
     "metadata": {},
     "output_type": "execute_result"
    }
   ],
   "source": [
    "for x in arr:\n",
    "    print(''.join(x))\n",
    "opn(arr)\n",
    "keys"
   ]
  },
  {
   "cell_type": "code",
   "execution_count": 41,
   "metadata": {
    "collapsed": false
   },
   "outputs": [
    {
     "data": {
      "text/plain": [
       "[[1, 1, 1, 1, 1, 1, 1, 1, 1, 1, 1, 1, 1, 1, 1, 1, 1, 1, 1],\n",
       " [1, 0, 0, 0, 0, 0, 0, 0, 0, 0, 0, 0, 0, 0, 0, 0, 0, 0, 1],\n",
       " [1, 1, 1, 1, 1, 1, 1, 1, 1, 1, 1, 1, 1, 1, 0, 0, 0, 0, 1],\n",
       " [1, 0, 0, 0, 0, 0, 0, 0, 1, 0, 0, 0, 0, 0, 0, 0, 0, 1, 1],\n",
       " [1, 0, 0, 0, 0, 0, 0, 0, 1, 0, 0, 0, 0, 0, 0, 0, 0, 0, 1],\n",
       " [1, 0, 0, 0, 0, 0, 0, 0, 0, 0, 0, 0, 0, 0, 0, 0, 0, 0, 1],\n",
       " [1, 1, 1, 1, 1, 1, 1, 1, 1, 1, 1, 1, 1, 1, 1, 1, 1, 1, 1]]"
      ]
     },
     "execution_count": 41,
     "metadata": {},
     "output_type": "execute_result"
    }
   ],
   "source": [
    "visited"
   ]
  },
  {
   "cell_type": "code",
   "execution_count": 42,
   "metadata": {
    "collapsed": false
   },
   "outputs": [
    {
     "data": {
      "text/plain": [
       "[]"
      ]
     },
     "execution_count": 42,
     "metadata": {},
     "output_type": "execute_result"
    }
   ],
   "source": [
    "keys"
   ]
  },
  {
   "cell_type": "code",
   "execution_count": null,
   "metadata": {
    "collapsed": true
   },
   "outputs": [],
   "source": []
  }
 ],
 "metadata": {
  "kernelspec": {
   "display_name": "Python 3",
   "language": "python",
   "name": "python3"
  },
  "language_info": {
   "codemirror_mode": {
    "name": "ipython",
    "version": 3
   },
   "file_extension": ".py",
   "mimetype": "text/x-python",
   "name": "python",
   "nbconvert_exporter": "python",
   "pygments_lexer": "ipython3",
   "version": "3.6.0"
  }
 },
 "nbformat": 4,
 "nbformat_minor": 2
}
