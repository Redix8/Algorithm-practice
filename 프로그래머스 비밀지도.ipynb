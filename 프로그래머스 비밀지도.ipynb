{
 "cells": [
  {
   "cell_type": "code",
   "execution_count": 17,
   "metadata": {
    "collapsed": true
   },
   "outputs": [],
   "source": [
    "n = 6\n",
    "arr1 = [46, 33, 33 ,22, 31, 50]\n",
    "arr2 =[27 ,56, 19, 14, 14, 10]"
   ]
  },
  {
   "cell_type": "code",
   "execution_count": 18,
   "metadata": {
    "collapsed": false
   },
   "outputs": [],
   "source": [
    "s = list(map(lambda x: bin(x[0]|x[1])[2:], zip(arr1, arr2)))"
   ]
  },
  {
   "cell_type": "code",
   "execution_count": 65,
   "metadata": {
    "collapsed": false
   },
   "outputs": [
    {
     "name": "stdout",
     "output_type": "stream",
     "text": [
      "6 6\n",
      "6 6\n",
      "6 6\n",
      "5 6\n",
      "5 6\n",
      "6 6\n"
     ]
    }
   ],
   "source": [
    "res = []\n",
    "for i in s:\n",
    "    tmp =''\n",
    "    if len(i)<n:\n",
    "        tmp += (n-len(i))*'0'\n",
    "    for x in i:\n",
    "        if x == '1':\n",
    "            tmp+='#'\n",
    "        else: tmp+=' '\n",
    "    res.append(tmp)"
   ]
  },
  {
   "cell_type": "code",
   "execution_count": 5,
   "metadata": {
    "collapsed": false
   },
   "outputs": [
    {
     "name": "stdout",
     "output_type": "stream",
     "text": [
      "['111111', '111001', '110011', '11110', '11111', '111010']\n"
     ]
    }
   ],
   "source": [
    "for x in s:\n",
    "    x.replace(\"1\", \"#\")\n",
    "    x.replace(\"0\", \" \")\n",
    "print(s)"
   ]
  },
  {
   "cell_type": "code",
   "execution_count": 34,
   "metadata": {
    "collapsed": false
   },
   "outputs": [
    {
     "data": {
      "text/plain": [
       "'#0#0#'"
      ]
     },
     "execution_count": 34,
     "metadata": {},
     "output_type": "execute_result"
    }
   ],
   "source": [
    "s[1].replace(\"1\", \"#\")"
   ]
  },
  {
   "cell_type": "code",
   "execution_count": 19,
   "metadata": {
    "collapsed": false
   },
   "outputs": [
    {
     "name": "stdout",
     "output_type": "stream",
     "text": [
      "111111\n",
      "######\n",
      "######\n",
      "\n",
      "111001\n",
      "###00#\n",
      "###  #\n",
      "\n",
      "110011\n",
      "##00##\n",
      "##  ##\n",
      "\n",
      "11110\n",
      "####0\n",
      "#### \n",
      "\n",
      "11111\n",
      "#####\n",
      "#####\n",
      "\n",
      "111010\n",
      "###0#0\n",
      "### # \n",
      "\n",
      "['######', '###  #', '##  ##', '#### ', '#####', '### # ']\n"
     ]
    }
   ],
   "source": [
    "for i in range(n):\n",
    "    print(s[i])\n",
    "    s[i]= s[i].replace(\"1\", \"#\")\n",
    "    print(s[i])    \n",
    "    s[i]= s[i].replace(\"0\", \" \")\n",
    "    print(s[i])\n",
    "    print()\n",
    "print(s)"
   ]
  },
  {
   "cell_type": "code",
   "execution_count": null,
   "metadata": {
    "collapsed": true
   },
   "outputs": [],
   "source": [
    "['######', '###  #', '##  ##', '#### ', '#####', '### # ']\n",
    "['######', '###  #', '##  ##', ' #### ', ' #####', '### # ']"
   ]
  },
  {
   "cell_type": "code",
   "execution_count": null,
   "metadata": {
    "collapsed": true
   },
   "outputs": [],
   "source": []
  }
 ],
 "metadata": {
  "kernelspec": {
   "display_name": "Python 3",
   "language": "python",
   "name": "python3"
  },
  "language_info": {
   "codemirror_mode": {
    "name": "ipython",
    "version": 3
   },
   "file_extension": ".py",
   "mimetype": "text/x-python",
   "name": "python",
   "nbconvert_exporter": "python",
   "pygments_lexer": "ipython3",
   "version": "3.6.0"
  }
 },
 "nbformat": 4,
 "nbformat_minor": 2
}
