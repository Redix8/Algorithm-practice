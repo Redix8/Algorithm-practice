{
 "cells": [
  {
   "cell_type": "code",
   "execution_count": 1,
   "metadata": {
    "collapsed": true
   },
   "outputs": [],
   "source": [
    "relation = [[\"100\", \"ryan\", \"music\", \"2\"], \n",
    "            [\"200\", \"apeach\", \"math\", \"2\"], \n",
    "            [\"300\", \"tube\", \"computer\", \"3\"], \n",
    "            [\"400\", \"con\", \"computer\", \"4\"], \n",
    "            [\"500\", \"muzi\", \"music\", \"3\"], \n",
    "            [\"600\", \"apeach\", \"music\", \"2\"]]"
   ]
  },
  {
   "cell_type": "code",
   "execution_count": null,
   "metadata": {
    "collapsed": true
   },
   "outputs": [],
   "source": [
    "col = len(relation[0])\n",
    "row = len(relation)\n",
    "\n",
    "for i in range(row):\n",
    "    \n",
    "    \n",
    "        "
   ]
  },
  {
   "cell_type": "code",
   "execution_count": null,
   "metadata": {
    "collapsed": true
   },
   "outputs": [],
   "source": [
    "from itertools import combinations\n",
    "\n",
    "def isOverlap(success, case):\n",
    "    for i in range(len(case)):\n",
    "        for c in combinations(case, i+1):\n",
    "            if c in success:\n",
    "                return True\n",
    "    return False\n",
    "\n",
    "def solution(relation):\n",
    "    answer = 0\n",
    "    col = len(relation[0])\n",
    "    row = len(relation)\n",
    "    success = set()\n",
    "    \n",
    "    for r in range(col):\n",
    "        for case in combinations(range(col), r+1):\n",
    "            if isOverlap(success, case):\n",
    "                continue\n",
    "            tmpSet = set()\n",
    "            for r in relation:\n",
    "                tmpStr = \"\"\n",
    "                for c in case:\n",
    "                    if type(c) != int:\n",
    "                        continue\n",
    "                    tmpStr += r[c]\n",
    "                tmpSet.add(tmpStr)\n",
    "            if len(tmpSet) == row:\n",
    "                answer += 1\n",
    "                success.add(case)\n",
    "    return answer"
   ]
  }
 ],
 "metadata": {
  "kernelspec": {
   "display_name": "Python 3",
   "language": "python",
   "name": "python3"
  },
  "language_info": {
   "codemirror_mode": {
    "name": "ipython",
    "version": 3
   },
   "file_extension": ".py",
   "mimetype": "text/x-python",
   "name": "python",
   "nbconvert_exporter": "python",
   "pygments_lexer": "ipython3",
   "version": "3.6.0"
  }
 },
 "nbformat": 4,
 "nbformat_minor": 2
}
