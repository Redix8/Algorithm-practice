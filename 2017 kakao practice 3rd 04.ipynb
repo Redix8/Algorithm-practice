{
 "cells": [
  {
   "cell_type": "code",
   "execution_count": 78,
   "metadata": {
    "collapsed": true
   },
   "outputs": [],
   "source": [
    "import re\n",
    "\n",
    "def getTime(start, end):\n",
    "    s = list(map(int,start.split(':')))\n",
    "    e = list(map(int,end.split(':')))\n",
    "    return (e[0]*60+e[1])-(s[0]*60+s[1])\n",
    "\n",
    "def getMusic(music, time):\n",
    "    n = len(music)\n",
    "    ret = []\n",
    "    while time>0:\n",
    "        ret+=music[:time]\n",
    "        time-=n\n",
    "    return ret\n",
    "\n",
    "def isIn(m,music):\n",
    "    n = len(m)    \n",
    "    for i in range(len(music)-n+1):\n",
    "        if m == music[i:i+n]:\n",
    "            return True\n",
    "    return False\n",
    "\n",
    "def solution(m, musicinfos):    \n",
    "    p = re.compile('[ABCDEFG]#?')\n",
    "    m = p.findall(m)    \n",
    "    musics = []\n",
    "    for info in musicinfos:\n",
    "        info = info.split(',')\n",
    "        time=getTime(info[0],info[1])\n",
    "        title=info[2]\n",
    "        music=getMusic(p.findall(info[3]),time)\n",
    "        if isIn(m, music):\n",
    "            musics.append((time,title))\n",
    "    \n",
    "    musics = sorted(musics, key=lambda x:x[0], reverse=True)        \n",
    "    if musics:\n",
    "        return musics[0][1]\n",
    "    else: return '(None)'\n"
   ]
  },
  {
   "cell_type": "code",
   "execution_count": 5,
   "metadata": {
    "collapsed": false
   },
   "outputs": [
    {
     "data": {
      "text/plain": [
       "'CDEFGABCDEFGAB'"
      ]
     },
     "execution_count": 5,
     "metadata": {},
     "output_type": "execute_result"
    }
   ],
   "source": []
  },
  {
   "cell_type": "code",
   "execution_count": 16,
   "metadata": {
    "collapsed": false
   },
   "outputs": [
    {
     "data": {
      "text/plain": [
       "'HELLO'"
      ]
     },
     "execution_count": 16,
     "metadata": {},
     "output_type": "execute_result"
    }
   ],
   "source": [
    "p = re.compile('[ABCDEFG]#?')\n",
    "p.findall('CC#BCC#BCC#B')\n"
   ]
  },
  {
   "cell_type": "code",
   "execution_count": 79,
   "metadata": {
    "collapsed": false
   },
   "outputs": [
    {
     "data": {
      "text/plain": [
       "'WORLD'"
      ]
     },
     "execution_count": 79,
     "metadata": {},
     "output_type": "execute_result"
    }
   ],
   "source": [
    "solution('ABC', ['12:00,12:14,HELLO,C#DEFGAB', '13:00,13:05,WORLD,ABCDEF'])"
   ]
  },
  {
   "cell_type": "code",
   "execution_count": 80,
   "metadata": {
    "collapsed": false
   },
   "outputs": [
    {
     "data": {
      "text/plain": [
       "'HELLO'"
      ]
     },
     "execution_count": 80,
     "metadata": {},
     "output_type": "execute_result"
    }
   ],
   "source": [
    "solution('ABCDEFG', ['12:00,12:14,HELLO,CDEFGAB', '13:00,13:05,WORLD,ABCDEF'])\n"
   ]
  },
  {
   "cell_type": "code",
   "execution_count": 81,
   "metadata": {
    "collapsed": false
   },
   "outputs": [
    {
     "data": {
      "text/plain": [
       "'FOO'"
      ]
     },
     "execution_count": 81,
     "metadata": {},
     "output_type": "execute_result"
    }
   ],
   "source": [
    "solution('CC#BCC#BCC#BCC#B', ['03:00,03:30,FOO,CC#B', '04:00,04:08,BAR,CC#BCC#BCC#B'])"
   ]
  },
  {
   "cell_type": "code",
   "execution_count": 82,
   "metadata": {
    "collapsed": false
   },
   "outputs": [
    {
     "data": {
      "text/plain": [
       "'WORLD'"
      ]
     },
     "execution_count": 82,
     "metadata": {},
     "output_type": "execute_result"
    }
   ],
   "source": [
    "solution('ABC', ['13:00,13:14,WORLD,ABCDEF','12:00,12:14,HELLO,CDEFGAB'])"
   ]
  },
  {
   "cell_type": "code",
   "execution_count": null,
   "metadata": {
    "collapsed": true
   },
   "outputs": [],
   "source": []
  }
 ],
 "metadata": {
  "kernelspec": {
   "display_name": "Python 3",
   "language": "python",
   "name": "python3"
  },
  "language_info": {
   "codemirror_mode": {
    "name": "ipython",
    "version": 3
   },
   "file_extension": ".py",
   "mimetype": "text/x-python",
   "name": "python",
   "nbconvert_exporter": "python",
   "pygments_lexer": "ipython3",
   "version": "3.6.0"
  }
 },
 "nbformat": 4,
 "nbformat_minor": 2
}
