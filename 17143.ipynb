{
 "cells": [
  {
   "cell_type": "code",
   "execution_count": 3,
   "metadata": {
    "collapsed": false
   },
   "outputs": [
    {
     "name": "stdout",
     "output_type": "stream",
     "text": [
      "4 6 8\n",
      "4 1 3 3 8\n",
      "1 3 5 2 9\n",
      "2 4 8 4 1\n",
      "4 5 0 1 4\n",
      "3 3 1 2 7\n",
      "1 5 8 4 3\n",
      "3 6 2 1 2\n",
      "2 2 2 3 5\n"
     ]
    }
   ],
   "source": [
    "R, C, M = map(int, input().split())\n",
    "shark = []\n",
    "arr = [[0]*C for _ in range(R)]\n",
    "for _ in range(M):\n",
    "    r,c,s,d,z = map(int, input().split())\n",
    "    arr[r-1][c-1] = z\n",
    "    shark.append((r-1,c-1,s,d,z))    "
   ]
  },
  {
   "cell_type": "code",
   "execution_count": 8,
   "metadata": {
    "collapsed": false
   },
   "outputs": [],
   "source": [
    "def getShark(col):\n",
    "    global arr, C, shark\n",
    "    ret = 0\n",
    "    for i in range(R):\n",
    "        if arr[i][col] !=0:\n",
    "            ret=arr[i][col]\n",
    "            arr[i][col] = 0\n",
    "            for j, s in enumerate(shark):\n",
    "                if s[0] == i and s[1] == col:\n",
    "                    shark.pop(j)\n",
    "                    break\n",
    "            break\n",
    "    return ret\n"
   ]
  },
  {
   "cell_type": "code",
   "execution_count": 93,
   "metadata": {
    "collapsed": false
   },
   "outputs": [],
   "source": [
    "def movShark():\n",
    "    global arr, R, C, shark\n",
    "    new = [[0]*C for _ in range(R)]\n",
    "    nshark = []\n",
    "    x = [0,0,0,1,-1]\n",
    "    y = [0,-1,1,0,0]\n",
    "    for r,c,s,d,z in shark:        \n",
    "        nr = r\n",
    "        nc = c\n",
    "        if d == 1 or d==2:\n",
    "            m = s%((R-1)*2)\n",
    "        elif d ==3 or d==4:\n",
    "            m = s%((C-1)*2)\n",
    "        while m:            \n",
    "            m-=1\n",
    "            nr = nr+y[d]\n",
    "            nc = nc+x[d]            \n",
    "            if d==1 and nr<0: \n",
    "                d = 2\n",
    "                nr+=2\n",
    "            elif d==2 and R<=nr: \n",
    "                d = 1\n",
    "                nr-=2\n",
    "            elif d==3 and C<=nc:\n",
    "                d = 4\n",
    "                nc-=2\n",
    "            elif d==4 and nc<0:\n",
    "                d = 3\n",
    "                nc+=2\n",
    "            \n",
    "        if new[nr][nc]<z:\n",
    "            if new[nr][nc]!=0:\n",
    "                for j, a in enumerate(nshark):\n",
    "                    if a[0] == nr and a[1] == nc:\n",
    "                        nshark.pop(j)\n",
    "                        break\n",
    "            new[nr][nc]=z\n",
    "            nshark.append((nr,nc,s,d,z))        \n",
    "    arr = new\n",
    "    shark = nshark "
   ]
  },
  {
   "cell_type": "code",
   "execution_count": 4,
   "metadata": {
    "collapsed": false
   },
   "outputs": [],
   "source": [
    "import copy\n",
    "arr2 = copy.deepcopy(arr)\n",
    "s2 = copy.deepcopy(shark)"
   ]
  },
  {
   "cell_type": "code",
   "execution_count": 94,
   "metadata": {
    "collapsed": true
   },
   "outputs": [],
   "source": [
    "arr = copy.deepcopy(arr2)\n",
    "shark = copy.deepcopy(s2)"
   ]
  },
  {
   "cell_type": "code",
   "execution_count": 95,
   "metadata": {
    "collapsed": false
   },
   "outputs": [
    {
     "name": "stdout",
     "output_type": "stream",
     "text": [
      "22\n"
     ]
    }
   ],
   "source": [
    "cnt = 0\n",
    "for i in range(C):\n",
    "    cnt+= getShark(i)\n",
    "    movShark()\n",
    "print(cnt)\n",
    "    "
   ]
  },
  {
   "cell_type": "code",
   "execution_count": 38,
   "metadata": {
    "collapsed": false
   },
   "outputs": [
    {
     "data": {
      "text/plain": [
       "[[0, 0, 9, 0, 3, 0],\n",
       " [0, 5, 0, 1, 0, 0],\n",
       " [0, 0, 7, 0, 0, 2],\n",
       " [0, 0, 0, 0, 4, 0]]"
      ]
     },
     "execution_count": 38,
     "metadata": {},
     "output_type": "execute_result"
    }
   ],
   "source": [
    "arr"
   ]
  },
  {
   "cell_type": "code",
   "execution_count": 85,
   "metadata": {
    "collapsed": false
   },
   "outputs": [
    {
     "data": {
      "text/plain": [
       "[(3, 0, 3, 3, 8),\n",
       " (0, 2, 5, 2, 9),\n",
       " (1, 3, 8, 4, 1),\n",
       " (3, 4, 0, 1, 4),\n",
       " (2, 2, 1, 2, 7),\n",
       " (0, 4, 8, 4, 3),\n",
       " (2, 5, 2, 1, 2),\n",
       " (1, 1, 2, 3, 5)]"
      ]
     },
     "execution_count": 85,
     "metadata": {},
     "output_type": "execute_result"
    }
   ],
   "source": [
    "shark"
   ]
  },
  {
   "cell_type": "code",
   "execution_count": 7,
   "metadata": {
    "collapsed": false
   },
   "outputs": [
    {
     "data": {
      "text/plain": [
       "0"
      ]
     },
     "execution_count": 7,
     "metadata": {},
     "output_type": "execute_result"
    }
   ],
   "source": [
    "getShark(0)"
   ]
  },
  {
   "cell_type": "code",
   "execution_count": 33,
   "metadata": {
    "collapsed": false
   },
   "outputs": [
    {
     "name": "stdout",
     "output_type": "stream",
     "text": [
      "3 3 8\n",
      "-5 2 9\n",
      "1 -5 1\n",
      "3 4 4\n",
      "1 2 7\n",
      "0 -4 3\n",
      "4 5 2\n",
      "1 3 5\n"
     ]
    },
    {
     "data": {
      "text/plain": [
       "[[0, 0, 0, 0, 3, 2],\n",
       " [0, 0, 9, 5, 0, 1],\n",
       " [0, 0, 0, 0, 0, 0],\n",
       " [0, 0, 0, 8, 4, 0]]"
      ]
     },
     "execution_count": 33,
     "metadata": {},
     "output_type": "execute_result"
    }
   ],
   "source": [
    "movShark()\n",
    "arr"
   ]
  },
  {
   "cell_type": "code",
   "execution_count": 68,
   "metadata": {
    "collapsed": false
   },
   "outputs": [
    {
     "data": {
      "text/plain": [
       "13"
      ]
     },
     "execution_count": 68,
     "metadata": {},
     "output_type": "execute_result"
    }
   ],
   "source": [
    "cnt"
   ]
  },
  {
   "cell_type": "code",
   "execution_count": null,
   "metadata": {
    "collapsed": true
   },
   "outputs": [],
   "source": []
  }
 ],
 "metadata": {
  "kernelspec": {
   "display_name": "Python 3",
   "language": "python",
   "name": "python3"
  },
  "language_info": {
   "codemirror_mode": {
    "name": "ipython",
    "version": 3
   },
   "file_extension": ".py",
   "mimetype": "text/x-python",
   "name": "python",
   "nbconvert_exporter": "python",
   "pygments_lexer": "ipython3",
   "version": "3.6.0"
  }
 },
 "nbformat": 4,
 "nbformat_minor": 2
}
