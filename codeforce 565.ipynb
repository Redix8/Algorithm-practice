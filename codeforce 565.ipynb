{
 "cells": [
  {
   "cell_type": "code",
   "execution_count": null,
   "metadata": {
    "collapsed": false
   },
   "outputs": [],
   "source": [
    "import sys\n",
    "q=int(sys.stdin.readline())\n",
    "for _ in range(q):    \n",
    "    n= int(sys.stdin.readline())\n",
    "    count =0\n",
    "    while n>1:\n",
    "        if n%2==0:\n",
    "            n//=2\n",
    "            count+=1\n",
    "        elif n%3==0:\n",
    "            n//=3\n",
    "            n*=2\n",
    "            count+=1\n",
    "        elif n%5==0:\n",
    "            n//=5\n",
    "            n*=4\n",
    "            count+=1\n",
    "        else:\n",
    "            count=-1\n",
    "            break\n",
    "    print(count)  "
   ]
  },
  {
   "cell_type": "code",
   "execution_count": null,
   "metadata": {
    "collapsed": true
   },
   "outputs": [],
   "source": [
    "import sys\n"
   ]
  },
  {
   "cell_type": "code",
   "execution_count": null,
   "metadata": {
    "collapsed": false
   },
   "outputs": [],
   "source": [
    "t = int(input())\n",
    "\n",
    "for _ in range(t):\n",
    "    one = 0\n",
    "    two = 0\n",
    "    count = 0\n",
    "    n = int(input())\n",
    "    arr = list(map(int, input().split()))\n",
    "    for i in range(len(arr)):\n",
    "        if arr[i]%3 == 0:\n",
    "            count+=1\n",
    "        elif arr[i]%3 == 1:\n",
    "            one+=1\n",
    "        elif arr[i]%3 == 2:\n",
    "            two+=1\n",
    "    if one>two:\n",
    "        count+=two\n",
    "        one-=two\n",
    "        two = 0\n",
    "    else:\n",
    "        count+=one\n",
    "        two-=one\n",
    "        one = 0\n",
    "    count+=(one//3)\n",
    "    count+=(two//3)\n",
    "    print(count)       \n",
    "        "
   ]
  },
  {
   "cell_type": "code",
   "execution_count": null,
   "metadata": {
    "collapsed": true
   },
   "outputs": [],
   "source": [
    "3 6 9\n",
    "2 4\n",
    "5 7\n",
    "8 10\n"
   ]
  },
  {
   "cell_type": "code",
   "execution_count": null,
   "metadata": {
    "collapsed": false
   },
   "outputs": [],
   "source": [
    "import sys\n",
    "t = int(sys.stdin.readline())\n",
    "\n",
    "for _ in range(t):\n",
    "    one = 0\n",
    "    two = 0\n",
    "    count = 0\n",
    "    n = int(sys.stdin.readline())\n",
    "    arr = list(map(int, sys.stdin.readline().split()))\n",
    "    for i in range(len(arr)):\n",
    "        if arr[i]%3 == 0:\n",
    "            count+=1\n",
    "        elif arr[i]%3 == 1:\n",
    "            one+=1\n",
    "        elif arr[i]%3 == 2:\n",
    "            two+=1\n",
    "    if one>two:\n",
    "        count+=two\n",
    "        one-=two\n",
    "        two = 0\n",
    "    else:\n",
    "        count+=one\n",
    "        two-=one\n",
    "        one = 0\n",
    "    count+=(one//3)\n",
    "    count+=(two//3)\n",
    "    print(count) "
   ]
  },
  {
   "cell_type": "code",
   "execution_count": 13,
   "metadata": {
    "collapsed": false
   },
   "outputs": [
    {
     "name": "stdout",
     "output_type": "stream",
     "text": [
      "15\n",
      "4 8 4 8 15 16 8 16 23 15 16 4 42 23 42\n",
      "3\n"
     ]
    }
   ],
   "source": [
    "numOfEl = int(input())\n",
    "arr = list(map(int, input().split()))\n",
    "form = [4, 8, 15, 16, 23, 42]\n",
    "i = 0\n",
    "j = 0\n",
    "good = 0\n",
    "last = -1\n",
    "while j<numOfEl:\n",
    "    if form[i] == arr[j]:\n",
    "        arr[j] = 0\n",
    "        i+=1\n",
    "        j+=1        \n",
    "    else:\n",
    "        if last==-1:last=j\n",
    "        j+=1\n",
    "    if i>=6: #good over\n",
    "        i=0\n",
    "        j=last\n",
    "        last=-1\n",
    "        good+=1\n",
    "if good == 0:\n",
    "    print(numOfEl)\n",
    "else:\n",
    "    print(numOfEl-good*6)\n",
    "        \n",
    "    "
   ]
  },
  {
   "cell_type": "code",
   "execution_count": 17,
   "metadata": {
    "collapsed": false
   },
   "outputs": [
    {
     "name": "stdout",
     "output_type": "stream",
     "text": [
      "15\n",
      "4 8 4 8 15 16 8 16 23 15 16 4 42 23 42\n",
      "3\n"
     ]
    }
   ],
   "source": [
    "from collections import deque\n",
    "numOfEl = int(input())\n",
    "arr = list(map(int, input().split()))\n",
    "form = [4, 8, 15, 16, 23, 42]\n",
    "i = 0\n",
    "j = 0\n",
    "good = 0\n",
    "last = -1\n",
    "while j<numOfEl:\n",
    "    if arr[j] == 4 and last==-1:\n",
    "        last = j\n",
    "    if form[i] == arr[j]:\n",
    "        arr[j] = 0\n",
    "        i+=1\n",
    "        j+=1        \n",
    "    else:    \n",
    "        j+=1\n",
    "    if i>=6: #good over\n",
    "        i=0\n",
    "        j=last\n",
    "        last=-1\n",
    "        good+=1\n",
    "if good == 0:\n",
    "    print(numOfEl)\n",
    "else:\n",
    "    print(numOfEl-good*6)"
   ]
  },
  {
   "cell_type": "code",
   "execution_count": 23,
   "metadata": {
    "collapsed": false
   },
   "outputs": [
    {
     "name": "stdout",
     "output_type": "stream",
     "text": [
      "15\n",
      "4 8 4 8 15 16 8 16 23 15 16 4 42 23 42\n",
      "3\n"
     ]
    }
   ],
   "source": [
    "numOfEl = int(input())\n",
    "arr = list(map(int, input().split()))\n",
    "form = [0]*45\n",
    "for x in arr:\n",
    "    if x == 4:\n",
    "        form[4]+=1\n",
    "    elif x == 8:\n",
    "        if form[4]>form[8]:\n",
    "            form[8]+=1        \n",
    "    elif x == 15:\n",
    "        if form[8]>form[15]:\n",
    "            form[15]+=1\n",
    "    elif x == 16:\n",
    "        if form[15]>form[16]:\n",
    "            form[16]+=1\n",
    "    elif x == 23:\n",
    "        if form[16]>form[23]:\n",
    "            form[23]+=1\n",
    "    elif x == 42:\n",
    "        if form[23]>form[42]:\n",
    "            form[42]+=1\n",
    "good = min(form[4],form[8],form[15],form[16],form[23],form[42])\n",
    "if good == 0:\n",
    "    print(numOfEl)\n",
    "else:print(numOfEl-good*6)"
   ]
  },
  {
   "cell_type": "code",
   "execution_count": 18,
   "metadata": {
    "collapsed": false
   },
   "outputs": [],
   "source": []
  },
  {
   "cell_type": "code",
   "execution_count": 20,
   "metadata": {
    "collapsed": false
   },
   "outputs": [
    {
     "ename": "AttributeError",
     "evalue": "'int' object has no attribute 'items'",
     "output_type": "error",
     "traceback": [
      "\u001b[0;31m---------------------------------------------------------------------------\u001b[0m",
      "\u001b[0;31mAttributeError\u001b[0m                            Traceback (most recent call last)",
      "\u001b[0;32m<ipython-input-20-c6206338f404>\u001b[0m in \u001b[0;36m<module>\u001b[0;34m()\u001b[0m\n\u001b[0;32m----> 1\u001b[0;31m \u001b[0mcnt\u001b[0m\u001b[1;33m+=\u001b[0m\u001b[1;36m1\u001b[0m\u001b[1;33m\u001b[0m\u001b[0m\n\u001b[0m",
      "\u001b[0;32mC:\\Users\\J\\Anaconda3\\lib\\collections\\__init__.py\u001b[0m in \u001b[0;36m__iadd__\u001b[0;34m(self, other)\u001b[0m\n\u001b[1;32m    798\u001b[0m \u001b[1;33m\u001b[0m\u001b[0m\n\u001b[1;32m    799\u001b[0m         '''\n\u001b[0;32m--> 800\u001b[0;31m         \u001b[1;32mfor\u001b[0m \u001b[0melem\u001b[0m\u001b[1;33m,\u001b[0m \u001b[0mcount\u001b[0m \u001b[1;32min\u001b[0m \u001b[0mother\u001b[0m\u001b[1;33m.\u001b[0m\u001b[0mitems\u001b[0m\u001b[1;33m(\u001b[0m\u001b[1;33m)\u001b[0m\u001b[1;33m:\u001b[0m\u001b[1;33m\u001b[0m\u001b[0m\n\u001b[0m\u001b[1;32m    801\u001b[0m             \u001b[0mself\u001b[0m\u001b[1;33m[\u001b[0m\u001b[0melem\u001b[0m\u001b[1;33m]\u001b[0m \u001b[1;33m+=\u001b[0m \u001b[0mcount\u001b[0m\u001b[1;33m\u001b[0m\u001b[0m\n\u001b[1;32m    802\u001b[0m         \u001b[1;32mreturn\u001b[0m \u001b[0mself\u001b[0m\u001b[1;33m.\u001b[0m\u001b[0m_keep_positive\u001b[0m\u001b[1;33m(\u001b[0m\u001b[1;33m)\u001b[0m\u001b[1;33m\u001b[0m\u001b[0m\n",
      "\u001b[0;31mAttributeError\u001b[0m: 'int' object has no attribute 'items'"
     ]
    }
   ],
   "source": []
  },
  {
   "cell_type": "code",
   "execution_count": null,
   "metadata": {
    "collapsed": true
   },
   "outputs": [],
   "source": []
  }
 ],
 "metadata": {
  "kernelspec": {
   "display_name": "Python 3",
   "language": "python",
   "name": "python3"
  },
  "language_info": {
   "codemirror_mode": {
    "name": "ipython",
    "version": 3
   },
   "file_extension": ".py",
   "mimetype": "text/x-python",
   "name": "python",
   "nbconvert_exporter": "python",
   "pygments_lexer": "ipython3",
   "version": "3.6.0"
  }
 },
 "nbformat": 4,
 "nbformat_minor": 2
}
