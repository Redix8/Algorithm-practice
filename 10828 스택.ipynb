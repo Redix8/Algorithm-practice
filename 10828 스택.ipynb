{
 "cells": [
  {
   "cell_type": "code",
   "execution_count": 8,
   "metadata": {
    "collapsed": false
   },
   "outputs": [
    {
     "name": "stdout",
     "output_type": "stream",
     "text": [
      "3\n",
      "push 3\n",
      "pop\n",
      "3\n",
      "top\n",
      "-1\n"
     ]
    }
   ],
   "source": [
    "N = int(input())\n",
    "st = []\n",
    "for _ in range(N):\n",
    "    cmd = input().split()\n",
    "    if cmd[0] == 'push':\n",
    "        st.append(cmd[1])\n",
    "    elif cmd[0] == 'pop':\n",
    "        try: print(st.pop())\n",
    "        except: print(-1)\n",
    "    elif cmd[0] == 'size':\n",
    "        print(len(st))\n",
    "    elif cmd[0] == 'empty':\n",
    "        if len(st) == 0: print(1)\n",
    "        else: print(0)\n",
    "    elif cmd[0] == 'top':\n",
    "        try: print(st[-1])\n",
    "        except:print(-1)            "
   ]
  },
  {
   "cell_type": "code",
   "execution_count": 1,
   "metadata": {
    "collapsed": false
   },
   "outputs": [
    {
     "name": "stdout",
     "output_type": "stream",
     "text": [
      "push 1\n"
     ]
    },
    {
     "data": {
      "text/plain": [
       "['push', '1']"
      ]
     },
     "execution_count": 1,
     "metadata": {},
     "output_type": "execute_result"
    }
   ],
   "source": [
    "input().split()"
   ]
  },
  {
   "cell_type": "code",
   "execution_count": 2,
   "metadata": {
    "collapsed": false
   },
   "outputs": [
    {
     "name": "stdout",
     "output_type": "stream",
     "text": [
      "5\n"
     ]
    }
   ],
   "source": [
    "print(\"5\")"
   ]
  },
  {
   "cell_type": "code",
   "execution_count": 4,
   "metadata": {
    "collapsed": false
   },
   "outputs": [
    {
     "name": "stdout",
     "output_type": "stream",
     "text": [
      "-1\n"
     ]
    }
   ],
   "source": [
    "try:\n",
    "    [].pop()\n",
    "except:\n",
    "    print(-1)"
   ]
  },
  {
   "cell_type": "code",
   "execution_count": null,
   "metadata": {
    "collapsed": true
   },
   "outputs": [],
   "source": []
  }
 ],
 "metadata": {
  "kernelspec": {
   "display_name": "Python 3",
   "language": "python",
   "name": "python3"
  },
  "language_info": {
   "codemirror_mode": {
    "name": "ipython",
    "version": 3
   },
   "file_extension": ".py",
   "mimetype": "text/x-python",
   "name": "python",
   "nbconvert_exporter": "python",
   "pygments_lexer": "ipython3",
   "version": "3.6.0"
  }
 },
 "nbformat": 4,
 "nbformat_minor": 2
}
