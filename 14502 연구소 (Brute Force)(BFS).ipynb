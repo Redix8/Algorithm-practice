{
 "cells": [
  {
   "cell_type": "code",
   "execution_count": 94,
   "metadata": {
    "collapsed": false
   },
   "outputs": [
    {
     "name": "stdout",
     "output_type": "stream",
     "text": [
      "4 6\n"
     ]
    }
   ],
   "source": [
    "N, M = map(int, input().split())"
   ]
  },
  {
   "cell_type": "code",
   "execution_count": 95,
   "metadata": {
    "collapsed": false
   },
   "outputs": [
    {
     "name": "stdout",
     "output_type": "stream",
     "text": [
      "0 0 0 0 0 0\n",
      "1 0 0 0 0 2\n",
      "1 1 1 0 0 2\n",
      "0 0 0 0 0 2\n"
     ]
    }
   ],
   "source": [
    "m = [list(map(int, input().split())) for i in range(N)]"
   ]
  },
  {
   "cell_type": "code",
   "execution_count": 100,
   "metadata": {
    "collapsed": false
   },
   "outputs": [
    {
     "name": "stdout",
     "output_type": "stream",
     "text": [
      "[0, 0, 0, 0, 0, 0]\n",
      "[1, 0, 0, 0, 0, 2]\n",
      "[1, 1, 1, 0, 0, 2]\n",
      "[0, 0, 0, 0, 0, 2]\n"
     ]
    }
   ],
   "source": [
    "for x in m:\n",
    "    print(x)"
   ]
  },
  {
   "cell_type": "code",
   "execution_count": 101,
   "metadata": {
    "collapsed": true
   },
   "outputs": [],
   "source": [
    "m = [[0, 0, 0, 0, 0, 0],\n",
    " [1, 0, 0, 0, 0, 2],\n",
    " [1, 1, 1, 0, 0, 2],\n",
    " [0, 0, 0, 0, 0, 2]]\n",
    "zeros = []\n",
    "virus = []\n",
    "for i in range(N):\n",
    "    for j in range(M):\n",
    "        if m[i][j] == 0:\n",
    "            zeros.append((i,j))\n",
    "        elif m[i][j] == 2:\n",
    "            virus.append((i,j))"
   ]
  },
  {
   "cell_type": "code",
   "execution_count": 85,
   "metadata": {
    "collapsed": false
   },
   "outputs": [],
   "source": [
    "from itertools import combinations\n",
    "from copy import deepcopy"
   ]
  },
  {
   "cell_type": "code",
   "execution_count": 102,
   "metadata": {
    "collapsed": true
   },
   "outputs": [],
   "source": [
    "walls = combinations(zeros, 3)"
   ]
  },
  {
   "cell_type": "code",
   "execution_count": 103,
   "metadata": {
    "collapsed": false
   },
   "outputs": [],
   "source": [
    "dr = [-1, 0, 1, 0]\n",
    "dc = [0, 1, 0, -1]\n",
    "\n",
    "def dfs(r, c) :\n",
    "    global t, dr, dc, N, M\n",
    "    if r<0 or r>=N or c<0 or c>=M:\n",
    "        return\n",
    "    if t[r][c] != 0:\n",
    "        return\n",
    "    t[r][c] = 2\n",
    "    for i in range(4):\n",
    "        dfs(r+dr[i], c+dc[i])\n",
    "\n",
    "result = 0\n",
    "for x in walls:\n",
    "    t = deepcopy(m)\n",
    "    temp = 0\n",
    "    for r,c in x:\n",
    "        t[r][c] = 1\n",
    "    \n",
    "    for vr, vc in virus:\n",
    "        for i in range(4):\n",
    "            dfs(vr+dr[i], vc+dc[i])\n",
    "        \n",
    "    for i in t:\n",
    "        temp += i.count(0)\n",
    "        \n",
    "    result = max(result, temp)\n"
   ]
  },
  {
   "cell_type": "code",
   "execution_count": 98,
   "metadata": {
    "collapsed": false
   },
   "outputs": [
    {
     "data": {
      "text/plain": [
       "[[0, 0, 0, 0, 0, 0],\n",
       " [1, 0, 0, 0, 0, 2],\n",
       " [1, 1, 1, 0, 0, 2],\n",
       " [0, 0, 0, 0, 0, 2]]"
      ]
     },
     "execution_count": 98,
     "metadata": {},
     "output_type": "execute_result"
    }
   ],
   "source": [
    "m"
   ]
  },
  {
   "cell_type": "code",
   "execution_count": 99,
   "metadata": {
    "collapsed": false
   },
   "outputs": [
    {
     "data": {
      "text/plain": [
       "[[0, 1, 1, 0, 0, 0],\n",
       " [1, 0, 0, 0, 0, 2],\n",
       " [1, 1, 1, 0, 0, 2],\n",
       " [0, 0, 0, 0, 0, 2]]"
      ]
     },
     "execution_count": 99,
     "metadata": {},
     "output_type": "execute_result"
    }
   ],
   "source": [
    "t"
   ]
  },
  {
   "cell_type": "code",
   "execution_count": 50,
   "metadata": {
    "collapsed": false
   },
   "outputs": [
    {
     "name": "stdout",
     "output_type": "stream",
     "text": [
      "12\n"
     ]
    }
   ],
   "source": [
    "a = 0\n",
    "for i in m:\n",
    "    a += i.count(1)\n",
    "print(a)"
   ]
  },
  {
   "cell_type": "code",
   "execution_count": 51,
   "metadata": {
    "collapsed": false
   },
   "outputs": [
    {
     "name": "stdout",
     "output_type": "stream",
     "text": [
      "15\n"
     ]
    }
   ],
   "source": [
    "a = 0\n",
    "for i in t:\n",
    "    a += i.count(1)\n",
    "print(a)"
   ]
  },
  {
   "cell_type": "code",
   "execution_count": 104,
   "metadata": {
    "collapsed": false
   },
   "outputs": [
    {
     "data": {
      "text/plain": [
       "9"
      ]
     },
     "execution_count": 104,
     "metadata": {},
     "output_type": "execute_result"
    }
   ],
   "source": [
    "result"
   ]
  },
  {
   "cell_type": "code",
   "execution_count": null,
   "metadata": {
    "collapsed": true
   },
   "outputs": [],
   "source": []
  }
 ],
 "metadata": {
  "kernelspec": {
   "display_name": "Python 3",
   "language": "python",
   "name": "python3"
  },
  "language_info": {
   "codemirror_mode": {
    "name": "ipython",
    "version": 3
   },
   "file_extension": ".py",
   "mimetype": "text/x-python",
   "name": "python",
   "nbconvert_exporter": "python",
   "pygments_lexer": "ipython3",
   "version": "3.6.0"
  }
 },
 "nbformat": 4,
 "nbformat_minor": 2
}
