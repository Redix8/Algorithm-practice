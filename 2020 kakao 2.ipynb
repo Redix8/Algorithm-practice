{
 "cells": [
  {
   "cell_type": "code",
   "execution_count": 41,
   "metadata": {
    "collapsed": false
   },
   "outputs": [],
   "source": [
    "def solution(p):\n",
    "    if not p: return ''\n",
    "    ul = 0\n",
    "    ur = 0\n",
    "    u = ''\n",
    "    v = ''\n",
    "    for i,x in enumerate(p):\n",
    "        if x == '(': ul+=1\n",
    "        elif x == ')':ur+=1\n",
    "        u+=x\n",
    "        if ul==ur:            \n",
    "            break\n",
    "    v = p[i+1:]\n",
    "    res = solution(v)\n",
    "    if isRight(u):\n",
    "        ret = u+res\n",
    "    else:\n",
    "        ret = '(' + res + ')'\n",
    "        for x in u[1:-1]:\n",
    "            if x == '(' : ret+=')'\n",
    "            elif x == ')': ret+='('\n",
    "        \n",
    "    return ret"
   ]
  },
  {
   "cell_type": "code",
   "execution_count": 42,
   "metadata": {
    "collapsed": false
   },
   "outputs": [
    {
     "data": {
      "text/plain": [
       "'()(())()'"
      ]
     },
     "execution_count": 42,
     "metadata": {},
     "output_type": "execute_result"
    }
   ],
   "source": [
    "solution(\"()))((()\")"
   ]
  },
  {
   "cell_type": "code",
   "execution_count": 21,
   "metadata": {
    "collapsed": true
   },
   "outputs": [],
   "source": [
    "def isRight(u):\n",
    "    st = []\n",
    "    for x in u:\n",
    "        if x==')':\n",
    "            if st and st[-1]=='(':\n",
    "                st.pop()\n",
    "            else:return False\n",
    "        else:st.append(x)\n",
    "    if st: return False\n",
    "    return True               "
   ]
  },
  {
   "cell_type": "code",
   "execution_count": 28,
   "metadata": {
    "collapsed": false
   },
   "outputs": [
    {
     "data": {
      "text/plain": [
       "True"
      ]
     },
     "execution_count": 28,
     "metadata": {},
     "output_type": "execute_result"
    }
   ],
   "source": []
  },
  {
   "cell_type": "code",
   "execution_count": null,
   "metadata": {
    "collapsed": true
   },
   "outputs": [],
   "source": []
  }
 ],
 "metadata": {
  "kernelspec": {
   "display_name": "Python 3",
   "language": "python",
   "name": "python3"
  },
  "language_info": {
   "codemirror_mode": {
    "name": "ipython",
    "version": 3
   },
   "file_extension": ".py",
   "mimetype": "text/x-python",
   "name": "python",
   "nbconvert_exporter": "python",
   "pygments_lexer": "ipython3",
   "version": "3.6.0"
  }
 },
 "nbformat": 4,
 "nbformat_minor": 2
}
