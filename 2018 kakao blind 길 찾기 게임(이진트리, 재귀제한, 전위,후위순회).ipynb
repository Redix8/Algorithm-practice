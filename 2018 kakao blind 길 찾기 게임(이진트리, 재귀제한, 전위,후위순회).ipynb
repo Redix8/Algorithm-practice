{
 "cells": [
  {
   "cell_type": "code",
   "execution_count": 5,
   "metadata": {
    "collapsed": true
   },
   "outputs": [],
   "source": [
    "from itertools import combinations, permutations\n",
    "\n"
   ]
  },
  {
   "cell_type": "code",
   "execution_count": 56,
   "metadata": {
    "collapsed": false
   },
   "outputs": [
    {
     "data": {
      "text/plain": [
       "{'a', 'b', 'c'}"
      ]
     },
     "execution_count": 56,
     "metadata": {},
     "output_type": "execute_result"
    }
   ],
   "source": [
    "set('abc')"
   ]
  },
  {
   "cell_type": "code",
   "execution_count": 13,
   "metadata": {
    "collapsed": true
   },
   "outputs": [],
   "source": [
    "class Node:\n",
    "    def __init__(self,info):\n",
    "        self.num, self.x, self.y=info\n",
    "        self.left=None\n",
    "        self.right=None"
   ]
  },
  {
   "cell_type": "code",
   "execution_count": 23,
   "metadata": {
    "collapsed": true
   },
   "outputs": [],
   "source": [
    "import sys\n",
    "sys.setrecursionlimit(10**4)\n",
    "answer = [[],[]]\n",
    "class Node:\n",
    "    def __init__(self,info):\n",
    "        self.num, self.x, self.y=info\n",
    "        self.left=None\n",
    "        self.right=None\n",
    "\n",
    "def solution(nodeinfo):\n",
    "    global answer\n",
    "    nodes = [(i+1,*x) for i,x in enumerate(nodeinfo)]\n",
    "    nodes = sorted(nodes, key=lambda x :x[2], reverse=True)\n",
    "    root = Node(nodes[0])\n",
    "    for i in range(1,len(nodes)):\n",
    "        search(root, Node(nodes[i]))        \n",
    "    preorder(root)\n",
    "    postorder(root)\n",
    "    \n",
    "    return answer\n",
    "\n",
    "def search(p, node):\n",
    "    if p.x<node.x:\n",
    "        if p.right:\n",
    "            search(p.right, node)\n",
    "        else:p.right = node\n",
    "    elif p.x>node.x:\n",
    "        if p.left:\n",
    "            search(p.left, node)\n",
    "        else:p.left = node\n",
    "            \n",
    "def preorder(node):\n",
    "    global answer\n",
    "    if node == None: return\n",
    "    answer[0].append(node.num)\n",
    "    preorder(node.left)\n",
    "    preorder(node.right)        \n",
    "    \n",
    "def postorder(node):\n",
    "    global answer\n",
    "    if node == None: return\n",
    "    postorder(node.left)\n",
    "    postorder(node.right)\n",
    "    answer[1].append(node.num)"
   ]
  },
  {
   "cell_type": "code",
   "execution_count": 24,
   "metadata": {
    "collapsed": false
   },
   "outputs": [
    {
     "data": {
      "text/plain": [
       "[[7, 4, 6, 9, 1, 8, 5, 2, 3], [9, 6, 5, 8, 1, 4, 3, 2, 7]]"
      ]
     },
     "execution_count": 24,
     "metadata": {},
     "output_type": "execute_result"
    }
   ],
   "source": [
    "solution([[5,3],[11,5],[13,3],[3,5],[6,1],[1,3],[8,6],[7,2],[2,2]])"
   ]
  },
  {
   "cell_type": "code",
   "execution_count": 15,
   "metadata": {
    "collapsed": false
   },
   "outputs": [
    {
     "ename": "NameError",
     "evalue": "name 'root' is not defined",
     "output_type": "error",
     "traceback": [
      "\u001b[0;31m---------------------------------------------------------------------------\u001b[0m",
      "\u001b[0;31mNameError\u001b[0m                                 Traceback (most recent call last)",
      "\u001b[0;32m<ipython-input-15-74cc1c60799e>\u001b[0m in \u001b[0;36m<module>\u001b[0;34m()\u001b[0m\n\u001b[0;32m----> 1\u001b[0;31m \u001b[0mroot\u001b[0m\u001b[1;33m\u001b[0m\u001b[0m\n\u001b[0m",
      "\u001b[0;31mNameError\u001b[0m: name 'root' is not defined"
     ]
    }
   ],
   "source": [
    "def preorder(node):\n",
    "    if node == None: return\n",
    "    print(node.num) #루트 출력\n",
    "    preorder(node.left)           #왼쪽 방문\n",
    "    preorder(node.right)           #오른쪽 방문"
   ]
  },
  {
   "cell_type": "code",
   "execution_count": null,
   "metadata": {
    "collapsed": true
   },
   "outputs": [],
   "source": []
  }
 ],
 "metadata": {
  "kernelspec": {
   "display_name": "Python 3",
   "language": "python",
   "name": "python3"
  },
  "language_info": {
   "codemirror_mode": {
    "name": "ipython",
    "version": 3
   },
   "file_extension": ".py",
   "mimetype": "text/x-python",
   "name": "python",
   "nbconvert_exporter": "python",
   "pygments_lexer": "ipython3",
   "version": "3.6.0"
  }
 },
 "nbformat": 4,
 "nbformat_minor": 2
}
