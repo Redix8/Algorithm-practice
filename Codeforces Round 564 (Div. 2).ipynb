{
 "cells": [
  {
   "cell_type": "code",
   "execution_count": null,
   "metadata": {
    "collapsed": false
   },
   "outputs": [],
   "source": [
    "x,y,z = map(int, input().split())\n",
    "if x-y<0:\n",
    "    if x-y+z<0:\n",
    "        print('-')\n",
    "    else: print('?')\n",
    "elif x-y>0:\n",
    "    if x-y-z>0:\n",
    "        print('+')\n",
    "    else: print('?')\n",
    "else:\n",
    "    if z==0:\n",
    "        print('0')\n",
    "    else:\n",
    "        print('?')\n",
    "        "
   ]
  },
  {
   "cell_type": "code",
   "execution_count": 11,
   "metadata": {
    "collapsed": false
   },
   "outputs": [
    {
     "name": "stdout",
     "output_type": "stream",
     "text": [
      "4\n",
      "3\n",
      "1 1\n",
      "1 2\n",
      "1 3\n",
      "2 3\n"
     ]
    }
   ],
   "source": [
    "n = int(input())\n",
    "m = n//2+1\n",
    "pan = [[j for j in range(i, m+i)]for i in range(1,m+1)]   \n",
    "print(m)\n",
    "x = 1\n",
    "for i in range(m):\n",
    "    for j in range(m):\n",
    "        if pan[i][j] == x and x<=n:\n",
    "            print(i+1, j+1)\n",
    "            x+=1"
   ]
  },
  {
   "cell_type": "code",
   "execution_count": 8,
   "metadata": {
    "collapsed": false
   },
   "outputs": [
    {
     "data": {
      "text/plain": [
       "[[1, 2, 3, 4, 5],\n",
       " [2, 3, 4, 5, 6],\n",
       " [3, 4, 5, 6, 7],\n",
       " [4, 5, 6, 7, 8],\n",
       " [5, 6, 7, 8, 9]]"
      ]
     },
     "execution_count": 8,
     "metadata": {},
     "output_type": "execute_result"
    }
   ],
   "source": [
    "pan"
   ]
  },
  {
   "cell_type": "code",
   "execution_count": null,
   "metadata": {
    "collapsed": true
   },
   "outputs": [],
   "source": []
  }
 ],
 "metadata": {
  "kernelspec": {
   "display_name": "Python 3",
   "language": "python",
   "name": "python3"
  },
  "language_info": {
   "codemirror_mode": {
    "name": "ipython",
    "version": 3
   },
   "file_extension": ".py",
   "mimetype": "text/x-python",
   "name": "python",
   "nbconvert_exporter": "python",
   "pygments_lexer": "ipython3",
   "version": "3.6.0"
  }
 },
 "nbformat": 4,
 "nbformat_minor": 2
}
