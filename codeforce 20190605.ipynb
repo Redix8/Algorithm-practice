{
 "cells": [
  {
   "cell_type": "code",
   "execution_count": 3,
   "metadata": {
    "collapsed": false
   },
   "outputs": [
    {
     "name": "stdout",
     "output_type": "stream",
     "text": [
      "1\n",
      "59 3\n",
      "8\n"
     ]
    }
   ],
   "source": [
    "\n",
    "t = int(input())\n",
    "for _ in range(t):\n",
    "    n, k = map(int, input().split())\n",
    "    count = 0\n",
    "    while n>0:        \n",
    "        if n%k == 0:\n",
    "            n = n//k\n",
    "            count+=1\n",
    "        else:\n",
    "            count+=n%k\n",
    "            n-=n%k        \n",
    "    print(count)"
   ]
  },
  {
   "cell_type": "code",
   "execution_count": 4,
   "metadata": {
    "collapsed": false
   },
   "outputs": [
    {
     "name": "stdout",
     "output_type": "stream",
     "text": [
      "9\n"
     ]
    }
   ],
   "source": [
    "l = int(input())"
   ]
  },
  {
   "cell_type": "code",
   "execution_count": 11,
   "metadata": {
    "collapsed": false
   },
   "outputs": [
    {
     "name": "stdout",
     "output_type": "stream",
     "text": [
      "add\n",
      "[['add']]\n",
      "for 43\n",
      "[['add'], ['for', '43']]\n",
      "end\n",
      "[['add']]\n",
      "for 10\n",
      "[['add'], ['for', '10']]\n",
      "for 15\n",
      "[['add'], ['for', '10'], ['for', '15']]\n",
      "add\n",
      "[['add'], ['for', '10'], ['for', '15'], ['add']]\n",
      "end\n",
      "[['add'], ['for', '10']]\n",
      "add\n",
      "[['add'], ['for', '10'], ['add']]\n",
      "end\n",
      "[['add']]\n",
      "161\n"
     ]
    }
   ],
   "source": [
    "l = int(input())\n",
    "x = 0\n",
    "f = 0\n",
    "st = []\n",
    "addx = 0\n",
    "for _ in range(l):\n",
    "    cmd = input().split()    \n",
    "    if cmd[0] == 'end':        \n",
    "        while True:\n",
    "            s = st.pop()\n",
    "            if s[0] == 'for':\n",
    "                addx = addx*int(s[1])\n",
    "                f -=1\n",
    "                break\n",
    "            else:\n",
    "                addx+=1\n",
    "    \n",
    "    elif cmd[0] == 'add':\n",
    "        st.append(cmd)\n",
    "    elif cmd[0] == 'for':\n",
    "        st.append(cmd)\n",
    "        f+=1\n",
    "    if f == 0:\n",
    "        x+=addx\n",
    "        addx = 0\n",
    "while st:\n",
    "    s = st.pop()\n",
    "    if s[0] =='add':\n",
    "        x+=1\n",
    "if x>pow(2,32)-1:\n",
    "    print('OVERFLOW!!!')\n",
    "else:\n",
    "    print(x)"
   ]
  },
  {
   "cell_type": "code",
   "execution_count": 5,
   "metadata": {
    "collapsed": false
   },
   "outputs": [
    {
     "name": "stdout",
     "output_type": "stream",
     "text": [
      "s\n"
     ]
    },
    {
     "data": {
      "text/plain": [
       "['s']"
      ]
     },
     "execution_count": 5,
     "metadata": {},
     "output_type": "execute_result"
    }
   ],
   "source": [
    "input().split()"
   ]
  },
  {
   "cell_type": "code",
   "execution_count": 15,
   "metadata": {
    "collapsed": false
   },
   "outputs": [
    {
     "name": "stdout",
     "output_type": "stream",
     "text": [
      "4294967296\n"
     ]
    },
    {
     "data": {
      "text/plain": [
       "10000000000"
      ]
     },
     "execution_count": 15,
     "metadata": {},
     "output_type": "execute_result"
    }
   ],
   "source": [
    "print(pow(2,32))\n",
    "pow(100,5)"
   ]
  },
  {
   "cell_type": "code",
   "execution_count": null,
   "metadata": {
    "collapsed": true
   },
   "outputs": [],
   "source": []
  }
 ],
 "metadata": {
  "kernelspec": {
   "display_name": "Python 3",
   "language": "python",
   "name": "python3"
  },
  "language_info": {
   "codemirror_mode": {
    "name": "ipython",
    "version": 3
   },
   "file_extension": ".py",
   "mimetype": "text/x-python",
   "name": "python",
   "nbconvert_exporter": "python",
   "pygments_lexer": "ipython3",
   "version": "3.6.0"
  }
 },
 "nbformat": 4,
 "nbformat_minor": 2
}
