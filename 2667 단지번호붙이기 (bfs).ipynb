{
 "cells": [
  {
   "cell_type": "code",
   "execution_count": 16,
   "metadata": {
    "collapsed": true
   },
   "outputs": [],
   "source": [
    "def search(x,y):\n",
    "    global arr, n\n",
    "    if x<0 or n-1<x or y<0 or n-1<y:\n",
    "        return 0\n",
    "    if arr[y][x] == '1':\n",
    "        arr[y][x] = '0'\n",
    "        return search(x-1,y)+search(x+1,y)+search(x, y-1)+search(x, y+1)+1\n",
    "    else: return 0"
   ]
  },
  {
   "cell_type": "code",
   "execution_count": 24,
   "metadata": {
    "collapsed": false
   },
   "outputs": [
    {
     "name": "stdout",
     "output_type": "stream",
     "text": [
      "7\n",
      "0110100\n",
      "0110101\n",
      "1110101\n",
      "0000111\n",
      "0100000\n",
      "0111110\n",
      "0111000\n",
      "[7, 8, 9]\n"
     ]
    }
   ],
   "source": [
    "n = int(input())\n",
    "arr=[]\n",
    "for _ in range(n):\n",
    "    arr.append(list(input()))\n",
    "\n",
    "res=[]\n",
    "for y in range(n):\n",
    "    for x in range(n):\n",
    "        size = search(x,y)\n",
    "        if size: res.append(size)\n",
    "res.sort()\n",
    "print(len(res))\n",
    "for x in res:\n",
    "    print(x)"
   ]
  },
  {
   "cell_type": "code",
   "execution_count": 20,
   "metadata": {
    "collapsed": false
   },
   "outputs": [
    {
     "data": {
      "text/plain": [
       "7"
      ]
     },
     "execution_count": 20,
     "metadata": {},
     "output_type": "execute_result"
    }
   ],
   "source": [
    "search(1,0)"
   ]
  },
  {
   "cell_type": "code",
   "execution_count": 10,
   "metadata": {
    "collapsed": false
   },
   "outputs": [
    {
     "data": {
      "text/plain": [
       "'1'"
      ]
     },
     "execution_count": 10,
     "metadata": {},
     "output_type": "execute_result"
    }
   ],
   "source": [
    "arr[0][1]"
   ]
  },
  {
   "cell_type": "code",
   "execution_count": 23,
   "metadata": {
    "collapsed": false
   },
   "outputs": [
    {
     "data": {
      "text/plain": [
       "[['0', '0', '0', '0', '0', '0', '0'],\n",
       " ['0', '0', '0', '0', '0', '0', '0'],\n",
       " ['0', '0', '0', '0', '0', '0', '0'],\n",
       " ['0', '0', '0', '0', '0', '0', '0'],\n",
       " ['0', '0', '0', '0', '0', '0', '0'],\n",
       " ['0', '0', '0', '0', '0', '0', '0'],\n",
       " ['0', '0', '0', '0', '0', '0', '0']]"
      ]
     },
     "execution_count": 23,
     "metadata": {},
     "output_type": "execute_result"
    }
   ],
   "source": [
    "arr"
   ]
  },
  {
   "cell_type": "code",
   "execution_count": null,
   "metadata": {
    "collapsed": true
   },
   "outputs": [],
   "source": []
  }
 ],
 "metadata": {
  "kernelspec": {
   "display_name": "Python 3",
   "language": "python",
   "name": "python3"
  },
  "language_info": {
   "codemirror_mode": {
    "name": "ipython",
    "version": 3
   },
   "file_extension": ".py",
   "mimetype": "text/x-python",
   "name": "python",
   "nbconvert_exporter": "python",
   "pygments_lexer": "ipython3",
   "version": "3.6.0"
  }
 },
 "nbformat": 4,
 "nbformat_minor": 2
}
