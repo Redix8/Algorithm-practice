{
 "cells": [
  {
   "cell_type": "code",
   "execution_count": 66,
   "metadata": {
    "collapsed": false
   },
   "outputs": [
    {
     "name": "stdout",
     "output_type": "stream",
     "text": [
      "2 3 1\n"
     ]
    }
   ],
   "source": [
    "N, r, c = map(int, input().split())"
   ]
  },
  {
   "cell_type": "code",
   "execution_count": 51,
   "metadata": {
    "collapsed": true
   },
   "outputs": [],
   "source": [
    "b = [[0]*(2**N) for _ in range(2**N)]"
   ]
  },
  {
   "cell_type": "code",
   "execution_count": 64,
   "metadata": {
    "collapsed": false
   },
   "outputs": [],
   "source": [
    "count = 0\n",
    "def countBox(sx,sy,ex,ey):\n",
    "    global count,r,c\n",
    "    print(sx, sy, ex, ey, count)\n",
    "    size = ex-sx \n",
    "    if size == 1:\n",
    "        for i in range(sy, ey+1):\n",
    "            for j in range(sx, ex+1):\n",
    "                if r==i and j==c: print(count)\n",
    "                count+=1\n",
    "        return\n",
    "    if sx<=c and c<= (sx+ex)//2  and sy<=r and r<= (sy+ey)//2 :\n",
    "        countBox(sx,sy,(sx+ex)//2,(sy+ey)//2)\n",
    "    else: count+= (size//2+1)*(size//2+1)\n",
    "    if (sx+ex)//2+1 <=c and c <=ex and sy <= r and r<=(sy+ey)//2:\n",
    "        countBox((sx+ex)//2+1,sy,ex,(sy+ey)//2)\n",
    "    else: count+= (size//2+1)*(size//2+1)\n",
    "    if sx<= c and c <= (sx+ex)//2 and (sy+ey)//2+1 <=r and r<= ey:\n",
    "        countBox(sx,(sy+ey)//2+1,(sx+ex)//2,ey)\n",
    "    else: count+= (size//2+1)*(size//2+1)\n",
    "    if (sx+ex)//2+1<= c and c<= ex and (sy+ey)//2+1 <= r and r<= ey:\n",
    "        countBox((sx+ex)//2+1,(sy+ey)//2+1,ex,ey)\n",
    "    else: count+= (size//2+1)*(size//2+1)"
   ]
  },
  {
   "cell_type": "code",
   "execution_count": 68,
   "metadata": {
    "collapsed": false
   },
   "outputs": [
    {
     "name": "stdout",
     "output_type": "stream",
     "text": [
      "0 0 3 3 0\n",
      "0 2 1 3 8\n",
      "11\n"
     ]
    }
   ],
   "source": [
    "count = 0\n",
    "countBox(0,0,2**N-1,2**N-1)"
   ]
  },
  {
   "cell_type": "code",
   "execution_count": 54,
   "metadata": {
    "collapsed": false
   },
   "outputs": [
    {
     "data": {
      "text/plain": [
       "[[0, 1, 4, 5, 16, 17, 20, 21],\n",
       " [2, 3, 6, 7, 18, 19, 22, 23],\n",
       " [8, 9, 12, 13, 24, 25, 28, 29],\n",
       " [10, 11, 14, 15, 26, 27, 30, 31],\n",
       " [32, 33, 36, 37, 48, 49, 52, 53],\n",
       " [34, 35, 38, 39, 50, 51, 54, 55],\n",
       " [40, 41, 44, 45, 56, 57, 60, 61],\n",
       " [42, 43, 46, 47, 58, 59, 62, 63]]"
      ]
     },
     "execution_count": 54,
     "metadata": {},
     "output_type": "execute_result"
    }
   ],
   "source": [
    "b"
   ]
  },
  {
   "cell_type": "code",
   "execution_count": 55,
   "metadata": {
    "collapsed": false
   },
   "outputs": [
    {
     "data": {
      "text/plain": [
       "63"
      ]
     },
     "execution_count": 55,
     "metadata": {},
     "output_type": "execute_result"
    }
   ],
   "source": [
    "b[7][7]"
   ]
  },
  {
   "cell_type": "code",
   "execution_count": 23,
   "metadata": {
    "collapsed": false
   },
   "outputs": [
    {
     "data": {
      "text/plain": [
       "9"
      ]
     },
     "execution_count": 23,
     "metadata": {},
     "output_type": "execute_result"
    }
   ],
   "source": [
    "3**2"
   ]
  },
  {
   "cell_type": "code",
   "execution_count": 72,
   "metadata": {
    "collapsed": false
   },
   "outputs": [
    {
     "name": "stdout",
     "output_type": "stream",
     "text": [
      "2 3 0\n",
      "2 8 2 0\n",
      "1 2 2 0\n",
      "10\n"
     ]
    }
   ],
   "source": [
    "def f(n,x,y):\n",
    "    if n==0:return 0\n",
    "    d=pow(2,n-1)    \n",
    "    s= d*d*((x//d)*2+y//d)\n",
    "    print(d, s, (x//d)*2, y//d)\n",
    "    return s+f(n-1,x%d,y%d)\n",
    "n,x,y=map(int,input().split())\n",
    "print(f(n,x,y))"
   ]
  },
  {
   "cell_type": "code",
   "execution_count": null,
   "metadata": {
    "collapsed": true
   },
   "outputs": [],
   "source": []
  }
 ],
 "metadata": {
  "kernelspec": {
   "display_name": "Python 3",
   "language": "python",
   "name": "python3"
  },
  "language_info": {
   "codemirror_mode": {
    "name": "ipython",
    "version": 3
   },
   "file_extension": ".py",
   "mimetype": "text/x-python",
   "name": "python",
   "nbconvert_exporter": "python",
   "pygments_lexer": "ipython3",
   "version": "3.6.0"
  }
 },
 "nbformat": 4,
 "nbformat_minor": 2
}
