{
 "cells": [
  {
   "cell_type": "code",
   "execution_count": 2,
   "metadata": {
    "collapsed": false
   },
   "outputs": [
    {
     "name": "stdout",
     "output_type": "stream",
     "text": [
      "7 2 1 4 5 1 3 3\n",
      "0\n"
     ]
    }
   ],
   "source": [
    "while True:\n",
    "    T = list(map(int, input().split()))\n",
    "    n = T[0]\n",
    "    h = T[1:]\n",
    "    if n == 0: break"
   ]
  },
  {
   "cell_type": "code",
   "execution_count": 16,
   "metadata": {
    "collapsed": false
   },
   "outputs": [
    {
     "name": "stdout",
     "output_type": "stream",
     "text": [
      "4 1000 1000 1000 1000\n"
     ]
    }
   ],
   "source": [
    "T = list(map(int, input().split()))\n",
    "n = T[0]\n",
    "h = T[1:]"
   ]
  },
  {
   "cell_type": "code",
   "execution_count": 17,
   "metadata": {
    "collapsed": false
   },
   "outputs": [
    {
     "name": "stdout",
     "output_type": "stream",
     "text": [
      "4000\n"
     ]
    }
   ],
   "source": [
    "h.append(0)\n",
    "st = []\n",
    "maxSq = 0\n",
    "for i in range(n+1):\n",
    "    while st and h[st[-1]] >= h[i]:\n",
    "        x = st.pop()\n",
    "        width = 0\n",
    "        if not st: width = i\n",
    "        else: width = i-st[-1]-1\n",
    "        sq = h[x]*width\n",
    "        maxSq = max(maxSq, sq)\n",
    "    st.append(i)\n",
    "\n",
    "print(maxSq)"
   ]
  },
  {
   "cell_type": "code",
   "execution_count": 13,
   "metadata": {
    "collapsed": false
   },
   "outputs": [
    {
     "data": {
      "text/plain": [
       "[2, 1, 4, 5, 1, 3, 3, 0]"
      ]
     },
     "execution_count": 13,
     "metadata": {},
     "output_type": "execute_result"
    }
   ],
   "source": [
    "h"
   ]
  },
  {
   "cell_type": "code",
   "execution_count": 14,
   "metadata": {
    "collapsed": false
   },
   "outputs": [
    {
     "data": {
      "text/plain": [
       "[7]"
      ]
     },
     "execution_count": 14,
     "metadata": {},
     "output_type": "execute_result"
    }
   ],
   "source": [
    "st"
   ]
  },
  {
   "cell_type": "code",
   "execution_count": 18,
   "metadata": {
    "collapsed": false
   },
   "outputs": [
    {
     "name": "stdout",
     "output_type": "stream",
     "text": [
      "7 2 1 4 5 1 3 3\n",
      "8\n",
      "4 1000 1000 1000 1000\n",
      "4000\n",
      "0\n"
     ]
    }
   ],
   "source": [
    "while True:\n",
    "    T = list(map(int, input().split()))\n",
    "    n = T[0]\n",
    "    h = T[1:]\n",
    "    if n == 0: break\n",
    "    h.append(0)\n",
    "    st = []\n",
    "    maxSq = 0\n",
    "    for i in range(n+1):\n",
    "        while st and h[st[-1]] >= h[i]:\n",
    "            x = st.pop()\n",
    "            width = 0\n",
    "            if not st: width = i\n",
    "            else: width = i-st[-1]-1\n",
    "            sq = h[x]*width\n",
    "            maxSq = max(maxSq, sq)\n",
    "        st.append(i)\n",
    "    \n",
    "    print(maxSq)"
   ]
  },
  {
   "cell_type": "code",
   "execution_count": null,
   "metadata": {
    "collapsed": true
   },
   "outputs": [],
   "source": []
  }
 ],
 "metadata": {
  "kernelspec": {
   "display_name": "Python 3",
   "language": "python",
   "name": "python3"
  },
  "language_info": {
   "codemirror_mode": {
    "name": "ipython",
    "version": 3
   },
   "file_extension": ".py",
   "mimetype": "text/x-python",
   "name": "python",
   "nbconvert_exporter": "python",
   "pygments_lexer": "ipython3",
   "version": "3.6.0"
  }
 },
 "nbformat": 4,
 "nbformat_minor": 2
}
