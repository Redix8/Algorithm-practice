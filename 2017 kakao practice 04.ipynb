{
 "cells": [
  {
   "cell_type": "code",
   "execution_count": 10,
   "metadata": {
    "collapsed": true
   },
   "outputs": [],
   "source": [
    "def tc(time):\n",
    "    a = time.split(\":\")\n",
    "    return int(a[0])*60+int(a[1])\n",
    "\n",
    "def solution(n, t, m, timetable):\n",
    "    tt = list(map(tc, timetable))\n",
    "    tt = sorted(tt, reverse=True)\n",
    "    inbus = []\n",
    "    start = tc(\"09:00\")-t\n",
    "    for i in range(n):\n",
    "        bus = m\n",
    "        start += t\n",
    "        while bus and tt:\n",
    "            crew = tt.pop()\n",
    "            if crew<=start:\n",
    "                inbus.append(crew)\n",
    "                bus-=1\n",
    "            else:\n",
    "                tt.append(crew)\n",
    "                break\n",
    "\n",
    "    if bus:\n",
    "        return \"%02d:%02d\" %(start//60, start%60)\n",
    "    else:\n",
    "        return \"%02d:%02d\" %((inbus[-1]-1)//60, (inbus[-1]-1)%60)\n",
    "        #또는\n",
    "        #return \"%02d:%02d\" %((crew-1)//60, (crew-1)%60)"
   ]
  },
  {
   "cell_type": "code",
   "execution_count": 2,
   "metadata": {
    "collapsed": false
   },
   "outputs": [
    {
     "data": {
      "text/plain": [
       "'09:00'"
      ]
     },
     "execution_count": 2,
     "metadata": {},
     "output_type": "execute_result"
    }
   ],
   "source": [
    "solution(1,1,5,['08:00', '08:01', '08:02', '08:03'])"
   ]
  },
  {
   "cell_type": "code",
   "execution_count": 11,
   "metadata": {
    "collapsed": false
   },
   "outputs": [
    {
     "data": {
      "text/plain": [
       "'00:00'"
      ]
     },
     "execution_count": 11,
     "metadata": {},
     "output_type": "execute_result"
    }
   ],
   "source": [
    "solution(1,1,5,['00:01', '00:01', '00:01', '00:01', '00:01'])"
   ]
  },
  {
   "cell_type": "code",
   "execution_count": null,
   "metadata": {
    "collapsed": true
   },
   "outputs": [],
   "source": []
  }
 ],
 "metadata": {
  "kernelspec": {
   "display_name": "Python 3",
   "language": "python",
   "name": "python3"
  },
  "language_info": {
   "codemirror_mode": {
    "name": "ipython",
    "version": 3
   },
   "file_extension": ".py",
   "mimetype": "text/x-python",
   "name": "python",
   "nbconvert_exporter": "python",
   "pygments_lexer": "ipython3",
   "version": "3.6.0"
  }
 },
 "nbformat": 4,
 "nbformat_minor": 2
}
