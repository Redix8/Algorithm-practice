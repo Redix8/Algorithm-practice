{
 "cells": [
  {
   "cell_type": "code",
   "execution_count": 53,
   "metadata": {
    "collapsed": true
   },
   "outputs": [],
   "source": [
    "from itertools import combinations\n",
    "from collections import deque\n",
    "import copy"
   ]
  },
  {
   "cell_type": "code",
   "execution_count": 74,
   "metadata": {
    "collapsed": false
   },
   "outputs": [
    {
     "name": "stdout",
     "output_type": "stream",
     "text": [
      "5 1\n",
      "2 2 2 1 1\n",
      "2 1 1 1 1\n",
      "2 1 1 1 1\n",
      "2 1 1 1 1\n",
      "2 2 2 1 1\n"
     ]
    }
   ],
   "source": [
    "N, M = map(int, input().split())\n",
    "arr = [list(map(int,input().split())) for _ in range(N)]\n"
   ]
  },
  {
   "cell_type": "code",
   "execution_count": 75,
   "metadata": {
    "collapsed": false
   },
   "outputs": [
    {
     "name": "stdout",
     "output_type": "stream",
     "text": [
      "0\n"
     ]
    }
   ],
   "source": [
    "virus = []\n",
    "for i in range(N):\n",
    "    for j in range(N):\n",
    "        if arr[i][j] == 2:\n",
    "            virus.append((i,j))\n",
    "            arr[i][j] = -2\n",
    "        if arr[i][j] == 1:\n",
    "            arr[i][j] = -1\n",
    "\n",
    "comb = list(combinations(virus, M))\n",
    "mi = 987654\n",
    "for v in comb:\n",
    "    mi = min(mi, spread(arr,v))\n",
    "if mi!=987654: print(mi)\n",
    "else:print(-1)"
   ]
  },
  {
   "cell_type": "code",
   "execution_count": 73,
   "metadata": {
    "collapsed": false
   },
   "outputs": [],
   "source": [
    "def spread(arr, vir):\n",
    "    global N\n",
    "    q=deque(vir)\n",
    "    lab = copy.deepcopy(arr)\n",
    "    for i,j in vir:\n",
    "        lab[i][j] = -3\n",
    "    x=[0,0,1,-1]\n",
    "    y=[1,-1,0,0]\n",
    "    tmp=deque()\n",
    "    cnt = 1\n",
    "    while q:\n",
    "        r,c = q.popleft()\n",
    "        for i in range(4):\n",
    "            nr = r+y[i]\n",
    "            nc = c+x[i]\n",
    "            if 0<=nr<N and 0<=nc<N:\n",
    "                if lab[nr][nc] == 0: \n",
    "                    tmp.append((nr,nc))\n",
    "                    lab[nr][nc] = cnt\n",
    "                elif lab[nr][nc] == -2:\n",
    "                    tmp.append((nr,nc))\n",
    "                    lab[nr][nc] = -3\n",
    "        \n",
    "        if not q and tmp:\n",
    "            q = tmp\n",
    "            tmp = deque()\n",
    "            cnt+=1\n",
    "    mx = 0\n",
    "    for i in range(N):\n",
    "        for j in range(N):\n",
    "            if lab[i][j] == 0:\n",
    "                return 987654\n",
    "            else:\n",
    "                if lab[i][j]>mx: mx=lab[i][j]\n",
    "    return mx"
   ]
  },
  {
   "cell_type": "code",
   "execution_count": 72,
   "metadata": {
    "collapsed": false
   },
   "outputs": [
    {
     "name": "stdout",
     "output_type": "stream",
     "text": [
      "[-2, -2, -2, -1, -1]\n",
      "[-2, -1, -1, -1, -1]\n",
      "[-2, -1, -1, -1, -1]\n",
      "[-2, -1, -1, -1, -1]\n",
      "[-2, -2, -2, -1, -1]\n"
     ]
    }
   ],
   "source": [
    "for x in arr:\n",
    "    print(x)"
   ]
  },
  {
   "cell_type": "code",
   "execution_count": 27,
   "metadata": {
    "collapsed": false
   },
   "outputs": [
    {
     "data": {
      "text/plain": [
       "([['V', '1', '2', '3', 'B', 'B', '2'],\n",
       "  ['1', '2', 'B', '3', 'B', 'V', '1'],\n",
       "  ['2', 'B', 'B', '2', 'B', '1', '2'],\n",
       "  ['3', 'B', '2', '1', '2', '2', '3'],\n",
       "  ['3', '2', '1', 'V', '1', 'B', 'B'],\n",
       "  ['4', 'B', '2', '1', '2', '3', '4'],\n",
       "  ['V', 'B', '3', '2', '3', '4', 'V']],\n",
       " 4)"
      ]
     },
     "execution_count": 27,
     "metadata": {},
     "output_type": "execute_result"
    }
   ],
   "source": [
    "spread(arr, c[0])\n"
   ]
  },
  {
   "cell_type": "code",
   "execution_count": 25,
   "metadata": {
    "collapsed": true
   },
   "outputs": [],
   "source": [
    "a = deque()\n",
    "if a :\n",
    "    print('true')"
   ]
  },
  {
   "cell_type": "code",
   "execution_count": null,
   "metadata": {
    "collapsed": true
   },
   "outputs": [],
   "source": []
  }
 ],
 "metadata": {
  "kernelspec": {
   "display_name": "Python 3",
   "language": "python",
   "name": "python3"
  },
  "language_info": {
   "codemirror_mode": {
    "name": "ipython",
    "version": 3
   },
   "file_extension": ".py",
   "mimetype": "text/x-python",
   "name": "python",
   "nbconvert_exporter": "python",
   "pygments_lexer": "ipython3",
   "version": "3.6.0"
  }
 },
 "nbformat": 4,
 "nbformat_minor": 2
}
