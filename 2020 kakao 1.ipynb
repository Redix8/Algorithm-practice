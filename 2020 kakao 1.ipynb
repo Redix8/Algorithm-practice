{
 "cells": [
  {
   "cell_type": "code",
   "execution_count": 55,
   "metadata": {
    "collapsed": false
   },
   "outputs": [],
   "source": [
    "from collections import defaultdict\n",
    "def solution(s):\n",
    "    answer = 0  \n",
    "    ret = []\n",
    "    for i in range(1, len(s)//2+1):\n",
    "        arr = []\n",
    "        res = ''\n",
    "        for j in range(0,len(s),i):\n",
    "            arr.append(s[j:j+i])\n",
    "        num = 1\n",
    "        print(arr)\n",
    "        for k in range(len(arr)-1):\n",
    "            if arr[k] == arr[k+1]:\n",
    "                num+=1\n",
    "            else:\n",
    "                if num>1:\n",
    "                    res+=str(num)+arr[k]                    \n",
    "                else:res+=arr[k]\n",
    "                num =1\n",
    "        if num>1:\n",
    "            res+=str(num)+arr[-1]                    \n",
    "        else:res+=arr[-1]    \n",
    "        ret.append(res)\n",
    "    mi = 987654321\n",
    "    for x in ret:\n",
    "        mi = min(mi, len(x))\n",
    "    if mi>len(s): mi =len(s)\n",
    "    return mi\n"
   ]
  },
  {
   "cell_type": "code",
   "execution_count": 56,
   "metadata": {
    "collapsed": false
   },
   "outputs": [
    {
     "name": "stdout",
     "output_type": "stream",
     "text": [
      "['a', 'a', 'b', 'b', 'a', 'c', 'c', 'c']\n",
      "['aa', 'bb', 'ac', 'cc']\n",
      "['aab', 'bac', 'cc']\n",
      "['aabb', 'accc']\n"
     ]
    },
    {
     "data": {
      "text/plain": [
       "7"
      ]
     },
     "execution_count": 56,
     "metadata": {},
     "output_type": "execute_result"
    }
   ],
   "source": [
    "solution(\"aabbaccc\")"
   ]
  },
  {
   "cell_type": "code",
   "execution_count": 26,
   "metadata": {
    "collapsed": false
   },
   "outputs": [
    {
     "data": {
      "text/plain": [
       "8"
      ]
     },
     "execution_count": 26,
     "metadata": {},
     "output_type": "execute_result"
    }
   ],
   "source": [
    "len(\"ababcdcdababcdcd\")//2"
   ]
  },
  {
   "cell_type": "code",
   "execution_count": null,
   "metadata": {
    "collapsed": true
   },
   "outputs": [],
   "source": []
  }
 ],
 "metadata": {
  "kernelspec": {
   "display_name": "Python 3",
   "language": "python",
   "name": "python3"
  },
  "language_info": {
   "codemirror_mode": {
    "name": "ipython",
    "version": 3
   },
   "file_extension": ".py",
   "mimetype": "text/x-python",
   "name": "python",
   "nbconvert_exporter": "python",
   "pygments_lexer": "ipython3",
   "version": "3.6.0"
  }
 },
 "nbformat": 4,
 "nbformat_minor": 2
}
