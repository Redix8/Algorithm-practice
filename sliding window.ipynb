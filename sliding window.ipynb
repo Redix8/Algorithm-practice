{
 "cells": [
  {
   "cell_type": "code",
   "execution_count": 2,
   "metadata": {
    "collapsed": false
   },
   "outputs": [
    {
     "name": "stdout",
     "output_type": "stream",
     "text": [
      "Wall time: 11.4 ms\n"
     ]
    }
   ],
   "source": [
    "%%time\n",
    "a= 0\n",
    "for i in range(100000):\n",
    "    a+=1"
   ]
  },
  {
   "cell_type": "code",
   "execution_count": 3,
   "metadata": {
    "collapsed": false
   },
   "outputs": [
    {
     "name": "stdout",
     "output_type": "stream",
     "text": [
      "78 90 90 90 89\n"
     ]
    }
   ],
   "source": [
    "from collections import deque\n",
    "\n",
    "def printMax(arr, n, k):\n",
    "\n",
    "    Qi = deque()\n",
    "     \n",
    "    # Process first k (or first window) \n",
    "    # elements of array\n",
    "    for i in range(k):\n",
    "       \n",
    "        # For every element, the previous \n",
    "        # smaller elements are useless\n",
    "        # so remove them from Qi\n",
    "        while Qi and arr[i] >= arr[Qi[-1]] :\n",
    "            Qi.pop()\n",
    "         \n",
    "        # Add new element at rear of queue\n",
    "        Qi.append(i);\n",
    "         \n",
    "    # Process rest of the elements, i.e. \n",
    "    # from arr[k] to arr[n-1]\n",
    "    for i in range(k, n):\n",
    "         \n",
    "        # The element at the front of the\n",
    "        # queue is the largest element of\n",
    "        # previous window, so print it\n",
    "        print(str(arr[Qi[0]]) + \" \", end = \"\")\n",
    "         \n",
    "        # Remove the elements which are \n",
    "        # out of this window\n",
    "        while Qi and Qi[0] <= i-k:\n",
    "             \n",
    "            # remove from front of deque\n",
    "            Qi.popleft() \n",
    "         \n",
    "        # Remove all elements smaller than\n",
    "        # the currently being added element \n",
    "        # (Remove useless elements)\n",
    "        while Qi and arr[i] >= arr[Qi[-1]] :\n",
    "            Qi.pop()\n",
    "         \n",
    "        # Add current element at the rear of Qi\n",
    "        Qi.append(i)\n",
    "     \n",
    "    # Print the maximum element of last window\n",
    "    print(str(arr[Qi[0]]))\n",
    "    \n",
    "arr = [12, 1, 78, 90, 57, 89, 56]\n",
    "k = 3\n",
    "printMax(arr, len(arr), k)"
   ]
  },
  {
   "cell_type": "code",
   "execution_count": null,
   "metadata": {
    "collapsed": true
   },
   "outputs": [],
   "source": []
  }
 ],
 "metadata": {
  "kernelspec": {
   "display_name": "Python 3",
   "language": "python",
   "name": "python3"
  },
  "language_info": {
   "codemirror_mode": {
    "name": "ipython",
    "version": 3
   },
   "file_extension": ".py",
   "mimetype": "text/x-python",
   "name": "python",
   "nbconvert_exporter": "python",
   "pygments_lexer": "ipython3",
   "version": "3.6.0"
  }
 },
 "nbformat": 4,
 "nbformat_minor": 2
}
