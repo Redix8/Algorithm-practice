{
 "cells": [
  {
   "cell_type": "code",
   "execution_count": 2,
   "metadata": {
    "collapsed": false
   },
   "outputs": [
    {
     "name": "stdout",
     "output_type": "stream",
     "text": [
      "10 3\n",
      "1 4 1 5 9 2 6 5 3 5\n"
     ]
    }
   ],
   "source": [
    "import math\n",
    "N, K = map(int,input().split())\n",
    "s = list(map(int, input().split()))"
   ]
  },
  {
   "cell_type": "code",
   "execution_count": 3,
   "metadata": {
    "collapsed": false
   },
   "outputs": [
    {
     "name": "stdout",
     "output_type": "stream",
     "text": [
      "0 2.0 1 1 2.0\n",
      "1 3.3333333333333335 4 5 2.8888888888888893\n",
      "2 5.0 1 9 10.666666666666666\n",
      "3 5.333333333333333 5 2 8.222222222222221\n",
      "4 5.666666666666667 9 6 8.222222222222223\n",
      "5 4.333333333333333 2 5 2.888888888888889\n",
      "6 4.666666666666667 6 3 1.5555555555555554\n",
      "7 4.333333333333333 5 5 0.888888888888889\n",
      "0 2.75 1 5 3.1875\n",
      "1 4.75 4 9 8.1875\n",
      "2 4.25 1 2 9.6875\n",
      "3 5.5 5 6 6.25\n",
      "4 5.5 9 5 6.25\n",
      "5 4.0 2 3 2.5\n",
      "6 4.75 6 5 1.1875\n",
      "0 4.0 1 9 8.8\n",
      "1 4.2 4 2 7.760000000000001\n",
      "2 4.6 1 6 8.24\n",
      "3 5.4 5 5 5.04\n",
      "4 5.0 9 3 6.0\n",
      "5 4.2 2 5 2.16\n",
      "0 3.6666666666666665 1 2 7.888888888888889\n",
      "1 4.5 4 6 6.916666666666667\n",
      "2 4.666666666666667 1 5 6.888888888888889\n",
      "3 5.0 5 3 5.0\n",
      "4 5.0 9 5 5.0\n",
      "0 4.0 1 6 7.428571428571429\n",
      "1 4.571428571428571 4 5 5.959183673469387\n",
      "2 4.428571428571429 1 3 6.244897959183674\n",
      "3 5.0 5 5 4.285714285714286\n",
      "0 4.125 1 5 6.609375\n",
      "1 4.375 4 3 5.484375\n",
      "2 4.5 1 5 5.5\n",
      "0 4.0 1 3 6.0\n",
      "1 4.444444444444445 4 5 4.913580246913579\n",
      "0 4.1 1 5 5.49\n",
      "0.9428090415820634\n"
     ]
    }
   ],
   "source": [
    "K =3\n",
    "ret = 9876543210\n",
    "summ = [0]*(len(s)+1)\n",
    "summ[0] = 0\n",
    "for i in range(1,N+1):\n",
    "    summ[i] = summ[i-1]+s[i-1]\n",
    "while K<=N:\n",
    "    if K == 1:\n",
    "        ret = 0\n",
    "        break\n",
    "    for i in range(N-K+1):\n",
    "        m = (summ[i+K]-summ[i])/K\n",
    "        v = 0\n",
    "        for j in range(i, i+K):        \n",
    "            v += (s[j]-m)**2\n",
    "        v = v/K\n",
    "        ret = min(ret, v)\n",
    "        print(i, m, s[i], s[i+K-1], v)\n",
    "    if math.isclose(0, ret): break\n",
    "    K+=1\n",
    "print(math.sqrt(ret))"
   ]
  },
  {
   "cell_type": "code",
   "execution_count": 149,
   "metadata": {
    "collapsed": false
   },
   "outputs": [
    {
     "data": {
      "text/plain": [
       "[0, 1, 3, 6, 7, 9]"
      ]
     },
     "execution_count": 149,
     "metadata": {},
     "output_type": "execute_result"
    }
   ],
   "source": [
    "summ"
   ]
  },
  {
   "cell_type": "code",
   "execution_count": 191,
   "metadata": {
    "collapsed": false
   },
   "outputs": [
    {
     "name": "stdout",
     "output_type": "stream",
     "text": [
      "0.9428090415820634\n"
     ]
    }
   ],
   "source": [
    "K= 3\n",
    "ret = 9876543210\n",
    "summ = [0]*(len(s)+1)\n",
    "summ[0] = 0\n",
    "for i in range(1,N+1):\n",
    "    summ[i] = summ[i-1]+s[i-1]\n",
    "while K<=N:\n",
    "    if K == 1:\n",
    "        ret = 0\n",
    "        break\n",
    "    v = 0\n",
    "    m = (summ[3]-summ[0])/K\n",
    "    for j in range(0, K):        \n",
    "        v += (s[j]-m)**2\n",
    "    ret = min(ret, v)\n",
    "    for i in range(N-K):\n",
    "        v = 0\n",
    "        m = (summ[i+K]-summ[i])/K\n",
    "        v1 = (s[i]-m)**2\n",
    "        m2 = (summ[i+K+1]-summ[i+1])/K\n",
    "        v2 = (s[i+K]-m2)**2\n",
    "        if v1<v2:\n",
    "            continue\n",
    "        for j in range(i+1, i+K+1):        \n",
    "            v += (s[j]-m2)**2\n",
    "        v = v/K\n",
    "        ret = min(ret, v)\n",
    "    if math.isclose(0, ret): break\n",
    "    K+=1\n",
    "print(math.sqrt(ret))"
   ]
  },
  {
   "cell_type": "code",
   "execution_count": null,
   "metadata": {
    "collapsed": true
   },
   "outputs": [],
   "source": []
  }
 ],
 "metadata": {
  "kernelspec": {
   "display_name": "Python 3",
   "language": "python",
   "name": "python3"
  },
  "language_info": {
   "codemirror_mode": {
    "name": "ipython",
    "version": 3
   },
   "file_extension": ".py",
   "mimetype": "text/x-python",
   "name": "python",
   "nbconvert_exporter": "python",
   "pygments_lexer": "ipython3",
   "version": "3.6.0"
  }
 },
 "nbformat": 4,
 "nbformat_minor": 2
}
