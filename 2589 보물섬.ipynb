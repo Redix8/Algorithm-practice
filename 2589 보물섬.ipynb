{
 "cells": [
  {
   "cell_type": "code",
   "execution_count": 2,
   "metadata": {
    "collapsed": false
   },
   "outputs": [
    {
     "name": "stdout",
     "output_type": "stream",
     "text": [
      "5 7\n",
      "WLLWWWL\n",
      "LLLWLLL\n",
      "LWLWLWW\n",
      "LWLWLLL\n",
      "WLLWLWW\n"
     ]
    }
   ],
   "source": [
    "R,C = map(int,input().split())\n",
    "arr = [input() for i in range(R)]"
   ]
  },
  {
   "cell_type": "code",
   "execution_count": 5,
   "metadata": {
    "collapsed": true
   },
   "outputs": [],
   "source": [
    "from collections import deque\n",
    "def search(r,c):\n",
    "    global arr,R,C\n",
    "    visited = set()\n",
    "    x=[0,0,1,-1]\n",
    "    y=[1,-1,0,0]\n",
    "    q = deque()\n",
    "    visited.add((r,c))\n",
    "    q.append((r,c,0))\n",
    "    mx = 0\n",
    "    while q:\n",
    "        r,c,cnt = q.popleft()\n",
    "        if mx<cnt:mx=cnt\n",
    "        for i in range(4):\n",
    "            nr = r+y[i]\n",
    "            nc = c+x[i]\n",
    "            if 0<=nr<R and 0<=nc<C and arr[nr][nc]=='L':\n",
    "                if (nr,nc) not in visited:\n",
    "                    visited.add((nr,nc))\n",
    "                    q.append((nr,nc,cnt+1))\n",
    "    return mx\n",
    "                "
   ]
  },
  {
   "cell_type": "code",
   "execution_count": 7,
   "metadata": {
    "collapsed": false
   },
   "outputs": [
    {
     "data": {
      "text/plain": [
       "[[0, 6, 5, 0, 0, 0, 7],\n",
       " [6, 5, 4, 0, 4, 5, 6],\n",
       " [7, 0, 5, 0, 4, 0, 0],\n",
       " [8, 0, 6, 0, 5, 6, 7],\n",
       " [0, 8, 7, 0, 6, 0, 0]]"
      ]
     },
     "execution_count": 7,
     "metadata": {},
     "output_type": "execute_result"
    }
   ],
   "source": [
    "mx = 0\n",
    "for i in range(R):\n",
    "    for j in range(C):\n",
    "        if arr[i][j]=='L':\n",
    "            mx = max(mx,search(i,j))\n",
    "print(mx)"
   ]
  },
  {
   "cell_type": "code",
   "execution_count": 6,
   "metadata": {
    "collapsed": false
   },
   "outputs": [
    {
     "data": {
      "text/plain": [
       "['WLLWWWL', 'LLLWLLL', 'LWLWLWW', 'LWLWLLL', 'WLLWLWW']"
      ]
     },
     "execution_count": 6,
     "metadata": {},
     "output_type": "execute_result"
    }
   ],
   "source": [
    "arr"
   ]
  },
  {
   "cell_type": "code",
   "execution_count": null,
   "metadata": {
    "collapsed": true
   },
   "outputs": [],
   "source": []
  }
 ],
 "metadata": {
  "kernelspec": {
   "display_name": "Python 3",
   "language": "python",
   "name": "python3"
  },
  "language_info": {
   "codemirror_mode": {
    "name": "ipython",
    "version": 3
   },
   "file_extension": ".py",
   "mimetype": "text/x-python",
   "name": "python",
   "nbconvert_exporter": "python",
   "pygments_lexer": "ipython3",
   "version": "3.6.0"
  }
 },
 "nbformat": 4,
 "nbformat_minor": 2
}
