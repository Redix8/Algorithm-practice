{
 "cells": [
  {
   "cell_type": "code",
   "execution_count": 1,
   "metadata": {
    "collapsed": true
   },
   "outputs": [],
   "source": [
    "def toMinute(time):\n",
    "    h, m = map(int, time.split(\":\"))\n",
    "    return h*60 + m"
   ]
  },
  {
   "cell_type": "code",
   "execution_count": 2,
   "metadata": {
    "collapsed": false
   },
   "outputs": [],
   "source": [
    "def to24(time):\n",
    "    h = time//60\n",
    "    m = time%60\n",
    "    return f'{h:02d}:{m:02d}'"
   ]
  },
  {
   "cell_type": "code",
   "execution_count": 114,
   "metadata": {
    "collapsed": false
   },
   "outputs": [],
   "source": [
    "n, t, m = 1, 1, 5\n",
    "timetable = [\"08:00\", \"08:01\", \"08:02\", \"08:03\"]\n",
    "n, t, m = 10, 60, 45\n",
    "timetable = [\"23:59\",\"23:59\",\"23:59\",\"23:59\",\"23:59\",\n",
    "            \"23:59\",\"23:59\",\"23:59\",\"23:59\",\"23:59\",\n",
    "            \"23:59\",\"23:59\",\"23:59\",\"23:59\",\"23:59\",\n",
    "            \"23:59\"]\n",
    "\n",
    "#n, t, m = 2, 10, 2\n",
    "#timetable = [\"09:10\", \"09:09\", \"08:00\"]\n",
    "n, t, m = 1, 1, 5\n",
    "timetable = [\"00:01\", \"00:01\", \"00:01\", \"00:01\", \"00:01\"]\n",
    "n, t, m = 1, 1, 1\n",
    "timetable = [\"23:59\"]\n",
    "\n",
    "timetable = list(map(toMinute, timetable))\n",
    "timetable.sort(reverse = True)"
   ]
  },
  {
   "cell_type": "code",
   "execution_count": 115,
   "metadata": {
    "collapsed": false
   },
   "outputs": [
    {
     "name": "stdout",
     "output_type": "stream",
     "text": [
      "['09:00']\n"
     ]
    }
   ],
   "source": [
    "bustable = []\n",
    "time = toMinute(\"09:00\")\n",
    "for i in range(n):    \n",
    "    bustable.append(time)\n",
    "    time += t\n",
    "bustable.sort(reverse = True)\n",
    "print(list(map(to24, bustable)))"
   ]
  },
  {
   "cell_type": "code",
   "execution_count": 116,
   "metadata": {
    "collapsed": false
   },
   "outputs": [
    {
     "name": "stdout",
     "output_type": "stream",
     "text": [
      "09:00\n"
     ]
    }
   ],
   "source": [
    "bustime = bustable.pop()\n",
    "count = m\n",
    "while True:    \n",
    "    if (count<=0 or timetable[-1]>bustime) and bustable:        \n",
    "        bustime = bustable.pop()\n",
    "        count = m\n",
    "    while timetable and timetable[-1] <= bustime:\n",
    "        lastcrew = timetable.pop()        \n",
    "        count -=1\n",
    "        if count<=0:\n",
    "            break\n",
    "    if not bustable or not timetable:\n",
    "        break\n",
    "\n",
    "if timetable:\n",
    "    res = to24(bustime)\n",
    "elif count>0:\n",
    "    res = to24(bustime)\n",
    "else:\n",
    "    res = to24(lastcrew-1)\n",
    "print(res)"
   ]
  },
  {
   "cell_type": "code",
   "execution_count": 98,
   "metadata": {
    "collapsed": false
   },
   "outputs": [
    {
     "data": {
      "text/plain": [
       "[]"
      ]
     },
     "execution_count": 98,
     "metadata": {},
     "output_type": "execute_result"
    }
   ],
   "source": [
    "bustable"
   ]
  },
  {
   "cell_type": "code",
   "execution_count": 20,
   "metadata": {
    "collapsed": false
   },
   "outputs": [
    {
     "data": {
      "text/plain": [
       "'09:20'"
      ]
     },
     "execution_count": 20,
     "metadata": {},
     "output_type": "execute_result"
    }
   ],
   "source": [
    "to24(560)"
   ]
  },
  {
   "cell_type": "code",
   "execution_count": 99,
   "metadata": {
    "collapsed": false
   },
   "outputs": [
    {
     "data": {
      "text/plain": [
       "[1, 1, 1, 1, 1]"
      ]
     },
     "execution_count": 99,
     "metadata": {},
     "output_type": "execute_result"
    }
   ],
   "source": [
    "timetable"
   ]
  },
  {
   "cell_type": "code",
   "execution_count": null,
   "metadata": {
    "collapsed": true
   },
   "outputs": [],
   "source": []
  }
 ],
 "metadata": {
  "kernelspec": {
   "display_name": "Python 3",
   "language": "python",
   "name": "python3"
  },
  "language_info": {
   "codemirror_mode": {
    "name": "ipython",
    "version": 3
   },
   "file_extension": ".py",
   "mimetype": "text/x-python",
   "name": "python",
   "nbconvert_exporter": "python",
   "pygments_lexer": "ipython3",
   "version": "3.6.0"
  }
 },
 "nbformat": 4,
 "nbformat_minor": 2
}
