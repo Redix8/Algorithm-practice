{
 "cells": [
  {
   "cell_type": "code",
   "execution_count": 3,
   "metadata": {
    "collapsed": false
   },
   "outputs": [
    {
     "name": "stdout",
     "output_type": "stream",
     "text": [
      "ACAYKP\n",
      "CAPCAK\n",
      "4\n"
     ]
    }
   ],
   "source": [
    "s1 = input() \n",
    "s2 = input()\n",
    "LCS = [[0]*(len(s2)+1) for i in range(len(s1)+1)]\n",
    "for i, X in enumerate(s1,1):\n",
    "    for j, Y in enumerate(s2,1):\n",
    "        if X == Y :\n",
    "            LCS[i][j] = LCS[i-1][j-1] +1\n",
    "        else:\n",
    "            LCS[i][j] = max(LCS[i-1][j], LCS[i][j-1])\n",
    "print(LCS[len(s1)][len(s2)])"
   ]
  },
  {
   "cell_type": "code",
   "execution_count": 7,
   "metadata": {
    "collapsed": false
   },
   "outputs": [],
   "source": [
    "def backtrack(i, j):\n",
    "    global s1, s2, LCS\n",
    "    if i == 0 or j == 0:\n",
    "        return \"\"\n",
    "    elif s1[i-1] == s2[j-1]:\n",
    "        return backtrack(i-1, j-1) + s1[i-1]\n",
    "    else:\n",
    "        if LCS[i][j-1] > LCS[i-1][j]:\n",
    "            return backtrack(i, j-1)\n",
    "        else:\n",
    "            return backtrack(i-1, j)"
   ]
  },
  {
   "cell_type": "code",
   "execution_count": 8,
   "metadata": {
    "collapsed": false
   },
   "outputs": [
    {
     "data": {
      "text/plain": [
       "'ACAK'"
      ]
     },
     "execution_count": 8,
     "metadata": {},
     "output_type": "execute_result"
    }
   ],
   "source": [
    "backtrack(6,6)"
   ]
  },
  {
   "cell_type": "code",
   "execution_count": null,
   "metadata": {
    "collapsed": true
   },
   "outputs": [],
   "source": []
  }
 ],
 "metadata": {
  "kernelspec": {
   "display_name": "Python 3",
   "language": "python",
   "name": "python3"
  },
  "language_info": {
   "codemirror_mode": {
    "name": "ipython",
    "version": 3
   },
   "file_extension": ".py",
   "mimetype": "text/x-python",
   "name": "python",
   "nbconvert_exporter": "python",
   "pygments_lexer": "ipython3",
   "version": "3.6.0"
  }
 },
 "nbformat": 4,
 "nbformat_minor": 2
}
