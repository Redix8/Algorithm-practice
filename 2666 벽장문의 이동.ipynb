{
 "cells": [
  {
   "cell_type": "code",
   "execution_count": 6,
   "metadata": {
    "collapsed": true
   },
   "outputs": [],
   "source": [
    "d = [[[-1]*21 for _ in range(21)] for m in range(21)]\n",
    "\n",
    "def search(tar, op1,op2):\n",
    "    global s, t\n",
    "    if tar>t : return 0\n",
    "    if d[tar][op1][op2] != -1: return d[tar][op1][op2]\n",
    "    d[tar][op1][op2] = min(abs(op1-s[tar])+search(tar+1, s[tar], op2), \n",
    "                           abs(op2-s[tar])+search(tar+1, op1, s[tar]))\n",
    "    return d[tar][op1][op2]"
   ]
  },
  {
   "cell_type": "code",
   "execution_count": 7,
   "metadata": {
    "collapsed": false
   },
   "outputs": [
    {
     "name": "stdout",
     "output_type": "stream",
     "text": [
      "7\n",
      "2 5\n",
      "4\n",
      "3\n",
      "1\n",
      "6\n",
      "5\n",
      "5\n"
     ]
    }
   ],
   "source": [
    "n = int(input())\n",
    "op1, op2 = map(int, input().split())\n",
    "t = int(input())\n",
    "s = [0]+ [int(input()) for _ in range(t)]\n",
    "print(search(1,op1,op2))"
   ]
  },
  {
   "cell_type": "code",
   "execution_count": null,
   "metadata": {
    "collapsed": true
   },
   "outputs": [],
   "source": []
  }
 ],
 "metadata": {
  "kernelspec": {
   "display_name": "Python 3",
   "language": "python",
   "name": "python3"
  },
  "language_info": {
   "codemirror_mode": {
    "name": "ipython",
    "version": 3
   },
   "file_extension": ".py",
   "mimetype": "text/x-python",
   "name": "python",
   "nbconvert_exporter": "python",
   "pygments_lexer": "ipython3",
   "version": "3.6.0"
  }
 },
 "nbformat": 4,
 "nbformat_minor": 2
}
