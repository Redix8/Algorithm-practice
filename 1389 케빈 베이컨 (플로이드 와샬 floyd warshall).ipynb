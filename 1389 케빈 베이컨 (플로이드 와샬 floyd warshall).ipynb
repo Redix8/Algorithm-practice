{
 "cells": [
  {
   "cell_type": "code",
   "execution_count": null,
   "metadata": {
    "collapsed": true
   },
   "outputs": [],
   "source": [
    "import sys\n",
    "#input = sys.stdin.readline\n",
    "n, m = map(int, input().split())\n",
    "arr = [[9876543210]*n for _ in range(n)]\n",
    "for _ in range(m):\n",
    "    i, j = map(int, input().split())\n",
    "    arr[i][j] = 1\n",
    "    arr[j][i] = 1\n",
    "for i in range(n):\n",
    "    arr[i][i] = 0\n",
    "for k in range(n):\n",
    "    for i in range(n):\n",
    "        for j in range(n):\n",
    "            arr[i][j] = min(arr[i][j], arr[i][k] + arr[k][j])\n",
    "            "
   ]
  },
  {
   "cell_type": "code",
   "execution_count": 9,
   "metadata": {
    "collapsed": false
   },
   "outputs": [
    {
     "name": "stdout",
     "output_type": "stream",
     "text": [
      "5 5\n",
      "1 3\n",
      "1 4\n",
      "4 5\n",
      "4 3\n",
      "3 2\n",
      "5\n"
     ]
    }
   ],
   "source": [
    "import sys\n",
    "#input = sys.stdin.readline\n",
    "n, m = map(int, input().split())\n",
    "arr = [[9876543210]*(n) for _ in range(n)]\n",
    "for _ in range(m):\n",
    "    i, j = map(int, input().split())\n",
    "    arr[i-1][j-1] = 1\n",
    "    arr[j-1][i-1] = 1\n",
    "for i in range(n):\n",
    "    arr[i][i] = 0\n",
    "for k in range(n):\n",
    "    for i in range(n):\n",
    "        for j in range(n):\n",
    "            arr[i][j] = min(arr[i][j], arr[i][k] + arr[k][j])\n",
    "kebin = 9876543210\n",
    "who = 0\n",
    "for i in range(n):\n",
    "    s = sum(map(lambda x: x if x<=n else 0, arr[i]))\n",
    "    if s<kebin:\n",
    "        kebin = s\n",
    "        who = i\n",
    "print(who+1)\n",
    "    "
   ]
  },
  {
   "cell_type": "code",
   "execution_count": 10,
   "metadata": {
    "collapsed": false
   },
   "outputs": [
    {
     "data": {
      "text/plain": [
       "[[0, 2, 1, 1, 2],\n",
       " [2, 0, 1, 2, 3],\n",
       " [1, 1, 0, 1, 2],\n",
       " [1, 2, 1, 0, 1],\n",
       " [2, 3, 2, 1, 0]]"
      ]
     },
     "execution_count": 10,
     "metadata": {},
     "output_type": "execute_result"
    }
   ],
   "source": [
    "arr\n",
    "    "
   ]
  },
  {
   "cell_type": "code",
   "execution_count": 11,
   "metadata": {
    "collapsed": false
   },
   "outputs": [
    {
     "data": {
      "text/plain": [
       "2"
      ]
     },
     "execution_count": 11,
     "metadata": {},
     "output_type": "execute_result"
    }
   ],
   "source": [
    "who"
   ]
  },
  {
   "cell_type": "code",
   "execution_count": null,
   "metadata": {
    "collapsed": true
   },
   "outputs": [],
   "source": []
  }
 ],
 "metadata": {
  "kernelspec": {
   "display_name": "Python 3",
   "language": "python",
   "name": "python3"
  },
  "language_info": {
   "codemirror_mode": {
    "name": "ipython",
    "version": 3
   },
   "file_extension": ".py",
   "mimetype": "text/x-python",
   "name": "python",
   "nbconvert_exporter": "python",
   "pygments_lexer": "ipython3",
   "version": "3.6.0"
  }
 },
 "nbformat": 4,
 "nbformat_minor": 2
}
