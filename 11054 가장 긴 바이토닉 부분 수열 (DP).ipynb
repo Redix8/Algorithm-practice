{
 "cells": [
  {
   "cell_type": "code",
   "execution_count": 2,
   "metadata": {
    "collapsed": false
   },
   "outputs": [
    {
     "name": "stdout",
     "output_type": "stream",
     "text": [
      "10\n",
      "1 5 2 1 4 3 4 5 2 1\n"
     ]
    }
   ],
   "source": [
    "N = int(input())\n",
    "A = list(map(int, input().split()))"
   ]
  },
  {
   "cell_type": "code",
   "execution_count": 16,
   "metadata": {
    "collapsed": false
   },
   "outputs": [],
   "source": [
    "dp = [0]*(N+1)\n",
    "for i in range(N):\n",
    "    dp[i] = 1      #자기 자신의 길이\n",
    "    for j in range(i):\n",
    "        if (A[j]<A[i] and dp[i] < dp[j]+1):\n",
    "            dp[i] = dp[j]+1"
   ]
  },
  {
   "cell_type": "code",
   "execution_count": 17,
   "metadata": {
    "collapsed": false
   },
   "outputs": [],
   "source": [
    "dp2 = [0]*(N+1)\n",
    "for i in range(N-1, -1, -1):\n",
    "    dp2[i] = 1\n",
    "    for j in range(N-1, i-1, -1):\n",
    "        if(A[j]<A[i] and dp2[i]<dp2[j]+1):\n",
    "            dp2[i] = dp2[j]+1"
   ]
  },
  {
   "cell_type": "code",
   "execution_count": 19,
   "metadata": {
    "collapsed": false
   },
   "outputs": [
    {
     "name": "stdout",
     "output_type": "stream",
     "text": [
      "7\n"
     ]
    }
   ],
   "source": [
    "ret = 0\n",
    "for i in range(N):\n",
    "    if ret < dp[i] + dp2[i]-1:\n",
    "        ret = dp[i] + dp2[i]-1\n",
    "print(ret)"
   ]
  },
  {
   "cell_type": "code",
   "execution_count": null,
   "metadata": {
    "collapsed": true
   },
   "outputs": [],
   "source": []
  }
 ],
 "metadata": {
  "kernelspec": {
   "display_name": "Python 3",
   "language": "python",
   "name": "python3"
  },
  "language_info": {
   "codemirror_mode": {
    "name": "ipython",
    "version": 3
   },
   "file_extension": ".py",
   "mimetype": "text/x-python",
   "name": "python",
   "nbconvert_exporter": "python",
   "pygments_lexer": "ipython3",
   "version": "3.6.0"
  }
 },
 "nbformat": 4,
 "nbformat_minor": 2
}
