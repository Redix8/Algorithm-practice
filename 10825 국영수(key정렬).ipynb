{
 "cells": [
  {
   "cell_type": "code",
   "execution_count": 17,
   "metadata": {
    "collapsed": false
   },
   "outputs": [
    {
     "name": "stdout",
     "output_type": "stream",
     "text": [
      "12\n",
      "Junkyu 50 60 100\n",
      "Sangkeun 80 60 50\n",
      "Sunyoung 80 70 100\n",
      "Soong 50 60 90\n",
      "Haebin 50 60 100\n",
      "Kangsoo 60 80 100\n",
      "Donghyuk 80 60 100\n",
      "Sei 70 70 70\n",
      "Wonseob 70 70 90\n",
      "Sanghyun 70 70 80\n",
      "nsj 80 80 80\n",
      "Taewhan 50 60 90\n",
      "Donghyuk\n",
      "Sangkeun\n",
      "Sunyoung\n",
      "nsj\n",
      "Wonseob\n",
      "Sanghyun\n",
      "Sei\n",
      "Kangsoo\n",
      "Haebin\n",
      "Junkyu\n",
      "Soong\n",
      "Taewhan\n"
     ]
    }
   ],
   "source": [
    "n= int(input())\n",
    "arr =[]\n",
    "for _ in range(n):\n",
    "    name, kor, eng, math = input().split()\n",
    "    arr.append((name, int(kor), int(eng), int(math)))\n",
    "arr = sorted(arr, key = lambda x:x[0])\n",
    "arr = sorted(arr, key = lambda x:x[3], reverse=True)\n",
    "arr = sorted(arr, key = lambda x:x[2])\n",
    "arr = sorted(arr, key = lambda x:x[1], reverse=True)\n",
    "for x in arr:\n",
    "    print(x[0])\n"
   ]
  },
  {
   "cell_type": "code",
   "execution_count": 5,
   "metadata": {
    "collapsed": false
   },
   "outputs": [
    {
     "data": {
      "text/plain": [
       "[('Sangkeun', '80', '60', '50'),\n",
       " ('Donghyuk', '80', '60', '100'),\n",
       " ('Sunyoung', '80', '70', '100'),\n",
       " ('nsj', '80', '80', '80'),\n",
       " ('Wonseob', '70', '70', '90'),\n",
       " ('Sanghyun', '70', '70', '80'),\n",
       " ('Sei', '70', '70', '70'),\n",
       " ('Kangsoo', '60', '80', '100'),\n",
       " ('Soong', '50', '60', '90'),\n",
       " ('Taewhan', '50', '60', '90'),\n",
       " ('Haebin', '50', '60', '100'),\n",
       " ('Junkyu', '50', '60', '100')]"
      ]
     },
     "execution_count": 5,
     "metadata": {},
     "output_type": "execute_result"
    }
   ],
   "source": [
    "import sys\n",
    "n= int(input())\n",
    "arr =[]\n",
    "for _ in range(n):\n",
    "    name, kor, eng, math = sys.stdin.readline().split()\n",
    "    arr.append((name, int(kor), int(eng), int(math)))\n",
    "arr = sorted(arr, key = lambda x:x[0])\n",
    "arr = sorted(arr, key = lambda x:x[3], reverse=True)\n",
    "arr = sorted(arr, key = lambda x:x[2])\n",
    "arr = sorted(arr, key = lambda x:x[1], reverse=True)\n",
    "for x in arr:\n",
    "    sys.stdout.write(x[0]+\"\\n\")\n"
   ]
  },
  {
   "cell_type": "code",
   "execution_count": 14,
   "metadata": {
    "collapsed": true
   },
   "outputs": [],
   "source": []
  },
  {
   "cell_type": "code",
   "execution_count": 15,
   "metadata": {
    "collapsed": false
   },
   "outputs": [
    {
     "data": {
      "text/plain": [
       "[('Soong', '50', '60', '90'),\n",
       " ('Taewhan', '50', '60', '90'),\n",
       " ('Wonseob', '70', '70', '90'),\n",
       " ('Sanghyun', '70', '70', '80'),\n",
       " ('nsj', '80', '80', '80'),\n",
       " ('Sei', '70', '70', '70'),\n",
       " ('Sangkeun', '80', '60', '50'),\n",
       " ('Donghyuk', '80', '60', '100'),\n",
       " ('Haebin', '50', '60', '100'),\n",
       " ('Junkyu', '50', '60', '100'),\n",
       " ('Kangsoo', '60', '80', '100'),\n",
       " ('Sunyoung', '80', '70', '100')]"
      ]
     },
     "execution_count": 15,
     "metadata": {},
     "output_type": "execute_result"
    }
   ],
   "source": [
    "arr"
   ]
  },
  {
   "cell_type": "code",
   "execution_count": null,
   "metadata": {
    "collapsed": true
   },
   "outputs": [],
   "source": []
  }
 ],
 "metadata": {
  "kernelspec": {
   "display_name": "Python 3",
   "language": "python",
   "name": "python3"
  },
  "language_info": {
   "codemirror_mode": {
    "name": "ipython",
    "version": 3
   },
   "file_extension": ".py",
   "mimetype": "text/x-python",
   "name": "python",
   "nbconvert_exporter": "python",
   "pygments_lexer": "ipython3",
   "version": "3.6.0"
  }
 },
 "nbformat": 4,
 "nbformat_minor": 2
}
