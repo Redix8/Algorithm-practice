{
 "cells": [
  {
   "cell_type": "markdown",
   "metadata": {},
   "source": [
    "- 두니발 박사는 검문을 피해 산길로만 이동한다\n",
    "- 두니발 박사는 교도소를 탈출한 당일,   \n",
    "  교도소와 인접한 마을 하나로 도망쳐 은신한다\n",
    "- 두니발 박사는 수색을 피하기 위해 매일 인접한 마을로 움직여 은신한다.\n",
    "\n",
    "d일 후에 두니발 박사가 각 마을에 있을 확률"
   ]
  },
  {
   "cell_type": "markdown",
   "metadata": {},
   "source": [
    "예제 입력  \n",
    "2  \n",
    "5 2 0  \n",
    "0 1 1 1 0  \n",
    "1 0 0 0 1  \n",
    "1 0 0 0 0  \n",
    "1 0 0 0 0  \n",
    "0 1 0 0 0  \n",
    "3  \n",
    "0 2 4  \n",
    "8 2 3  \n",
    "0 1 1 1 0 0 0 0  \n",
    "1 0 0 1 0 0 0 0  \n",
    "1 0 0 1 0 0 0 0  \n",
    "1 1 1 0 1 1 0 0  \n",
    "0 0 0 1 0 0 1 1  \n",
    "0 0 0 1 0 0 0 1  \n",
    "0 0 0 0 1 0 0 0  \n",
    "0 0 0 0 1 1 0 0  \n",
    "4  \n",
    "3 1 2 6  "
   ]
  },
  {
   "cell_type": "code",
   "execution_count": null,
   "metadata": {
    "collapsed": true
   },
   "outputs": [],
   "source": []
  },
  {
   "cell_type": "code",
   "execution_count": 51,
   "metadata": {
    "collapsed": false
   },
   "outputs": [
    {
     "name": "stdout",
     "output_type": "stream",
     "text": [
      "2 5 2 0 0 1 1 1 0 1 0 0 0 1 1 0 0 0 0 1 0 0 0 0 0 1 0 0 0 3 0 2 4 8 2 3 0 1 1 1 0 0 0 0 1 0 0 1 0 0 0 0 1 0 0 1 0 0 0 0 1 1 1 0 1 1 0 0 0 0 0 1 0 0 1 1 0 0 0 1 0 0 0 1 0 0 0 0 1 0 0 0 0 0 0 0 1 1 0 0 4 3 1 2 6 \n"
     ]
    }
   ],
   "source": [
    "s = list(map(int, input().split()))\n",
    "i = 0\n",
    "C = s[0]\n",
    "A,N,D,P,T,Q = [],[],[],[],[],[]\n",
    "i+=1 \n",
    "for k in range(C):\n",
    "    N.append(s[i]); i+=1\n",
    "    D.append(s[i]); i+=1\n",
    "    P.append(s[i]); i+=1\n",
    "    temp = []\n",
    "    for _ in range(N[k]):\n",
    "        temp.append(s[i:i+N[k]])\n",
    "        i+=N[k]\n",
    "    A.append(temp)\n",
    "    T.append(s[i]); i+=1\n",
    "    Q.append(s[i:i+T[k]]); i+=T[k]"
   ]
  },
  {
   "cell_type": "code",
   "execution_count": 52,
   "metadata": {
    "collapsed": false
   },
   "outputs": [
    {
     "data": {
      "text/plain": [
       "[[0, 2, 4], [3, 1, 2, 6]]"
      ]
     },
     "execution_count": 52,
     "metadata": {},
     "output_type": "execute_result"
    }
   ],
   "source": [
    "Q"
   ]
  },
  {
   "cell_type": "code",
   "execution_count": 5,
   "metadata": {
    "collapsed": false
   },
   "outputs": [
    {
     "ename": "SyntaxError",
     "evalue": "invalid syntax (<ipython-input-5-dca84b3a9784>, line 2)",
     "output_type": "error",
     "traceback": [
      "\u001b[0;36m  File \u001b[0;32m\"<ipython-input-5-dca84b3a9784>\"\u001b[0;36m, line \u001b[0;32m2\u001b[0m\n\u001b[0;31m    print(s[i+=1])\u001b[0m\n\u001b[0m              ^\u001b[0m\n\u001b[0;31mSyntaxError\u001b[0m\u001b[0;31m:\u001b[0m invalid syntax\n"
     ]
    }
   ],
   "source": []
  },
  {
   "cell_type": "code",
   "execution_count": null,
   "metadata": {
    "collapsed": true
   },
   "outputs": [],
   "source": []
  }
 ],
 "metadata": {
  "kernelspec": {
   "display_name": "Python 3",
   "language": "python",
   "name": "python3"
  },
  "language_info": {
   "codemirror_mode": {
    "name": "ipython",
    "version": 3
   },
   "file_extension": ".py",
   "mimetype": "text/x-python",
   "name": "python",
   "nbconvert_exporter": "python",
   "pygments_lexer": "ipython3",
   "version": "3.6.0"
  }
 },
 "nbformat": 4,
 "nbformat_minor": 2
}
