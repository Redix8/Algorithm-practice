{
 "cells": [
  {
   "cell_type": "markdown",
   "metadata": {},
   "source": [
    "아이들을 최소한으로 옮기는 법은\n",
    "\n",
    "가장 많이 아이들이 정렬된 부분(LIS)를 내버려 두고<br>\n",
    "나머지를 순서대로 정렬하는것."
   ]
  },
  {
   "cell_type": "code",
   "execution_count": 1,
   "metadata": {
    "collapsed": false
   },
   "outputs": [
    {
     "name": "stdout",
     "output_type": "stream",
     "text": [
      "7\n",
      "3\n",
      "7\n",
      "5\n",
      "2\n",
      "6\n",
      "1\n",
      "4\n",
      "4\n"
     ]
    }
   ],
   "source": [
    "N = int(input())\n",
    "A = [int(input()) for i in range(N)]\n",
    "dp = [0]*(N+1)\n",
    "for i in range(N):\n",
    "    dp[i] = 1      #자기 자신의 길이\n",
    "    for j in range(i):\n",
    "        if (A[j]<A[i] and dp[i] < dp[j]+1):\n",
    "            dp[i] = dp[j]+1\n",
    "print(N-max(dp))            "
   ]
  },
  {
   "cell_type": "code",
   "execution_count": null,
   "metadata": {
    "collapsed": true
   },
   "outputs": [],
   "source": []
  }
 ],
 "metadata": {
  "kernelspec": {
   "display_name": "Python 3",
   "language": "python",
   "name": "python3"
  },
  "language_info": {
   "codemirror_mode": {
    "name": "ipython",
    "version": 3
   },
   "file_extension": ".py",
   "mimetype": "text/x-python",
   "name": "python",
   "nbconvert_exporter": "python",
   "pygments_lexer": "ipython3",
   "version": "3.6.0"
  }
 },
 "nbformat": 4,
 "nbformat_minor": 2
}
