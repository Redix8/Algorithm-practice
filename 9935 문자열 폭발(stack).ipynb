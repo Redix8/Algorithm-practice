{
 "cells": [
  {
   "cell_type": "code",
   "execution_count": 24,
   "metadata": {
    "collapsed": false
   },
   "outputs": [
    {
     "name": "stdout",
     "output_type": "stream",
     "text": [
      "testdataisteteststttestesttest\n",
      "test\n"
     ]
    }
   ],
   "source": [
    "s = input()\n",
    "bomb = input()"
   ]
  },
  {
   "cell_type": "code",
   "execution_count": 25,
   "metadata": {
    "collapsed": false
   },
   "outputs": [
    {
     "name": "stdout",
     "output_type": "stream",
     "text": [
      "dataisttes\n"
     ]
    }
   ],
   "source": [
    "left = list(s)\n",
    "right = list()\n",
    "bomb = list(bomb)\n",
    "bomb2 = list(bomb)\n",
    "bomb2.reverse()\n",
    "explode = False\n",
    "dr = 0\n",
    "while True:\n",
    "    if dr == 0:\n",
    "        try: x = left.pop()\n",
    "        except IndexError:\n",
    "            dr = 1\n",
    "            if not explode : break\n",
    "            else:\n",
    "                explode = False\n",
    "                continue\n",
    "        right.append(x)\n",
    "        if len(right)>=len(bomb2) and right[-len(bomb2):] == bomb2:\n",
    "            for i in range(len(bomb2)):\n",
    "                right.pop()\n",
    "            explode = True\n",
    "    else:\n",
    "        try: x = right.pop()\n",
    "        except IndexError:\n",
    "            dr = 0\n",
    "            if not explode : break\n",
    "            else:\n",
    "                explode = False\n",
    "                continue\n",
    "        left.append(x)\n",
    "        if len(left)>=len(bomb) and left[-len(bomb):] == bomb:\n",
    "            for i in range(len(bomb)):\n",
    "                left.pop()\n",
    "            explode = True\n",
    "right.reverse()\n",
    "if left == []: left = list('FRULA')\n",
    "if right == []: right = list('FRULA')\n",
    "print(\"\".join(left)) if dr == 0 else print(\"\".join(right))"
   ]
  },
  {
   "cell_type": "code",
   "execution_count": 5,
   "metadata": {
    "collapsed": false
   },
   "outputs": [
    {
     "data": {
      "text/plain": [
       "'C44'"
      ]
     },
     "execution_count": 5,
     "metadata": {},
     "output_type": "execute_result"
    }
   ],
   "source": [
    "s[-3:]"
   ]
  },
  {
   "cell_type": "code",
   "execution_count": 14,
   "metadata": {
    "collapsed": false
   },
   "outputs": [
    {
     "data": {
      "text/plain": [
       "['m', 'i', 'r', 'k', 'o', 'v', 'n', 'i', 'z']"
      ]
     },
     "execution_count": 14,
     "metadata": {},
     "output_type": "execute_result"
    }
   ],
   "source": [
    "left"
   ]
  },
  {
   "cell_type": "code",
   "execution_count": 21,
   "metadata": {
    "collapsed": false
   },
   "outputs": [
    {
     "data": {
      "text/plain": [
       "['F', 'R', 'U', 'L', 'A']"
      ]
     },
     "execution_count": 21,
     "metadata": {},
     "output_type": "execute_result"
    }
   ],
   "source": [
    "right"
   ]
  },
  {
   "cell_type": "code",
   "execution_count": 16,
   "metadata": {
    "collapsed": false
   },
   "outputs": [
    {
     "data": {
      "text/plain": [
       "0"
      ]
     },
     "execution_count": 16,
     "metadata": {},
     "output_type": "execute_result"
    }
   ],
   "source": [
    "dr"
   ]
  },
  {
   "cell_type": "code",
   "execution_count": null,
   "metadata": {
    "collapsed": true
   },
   "outputs": [],
   "source": []
  }
 ],
 "metadata": {
  "kernelspec": {
   "display_name": "Python 3",
   "language": "python",
   "name": "python3"
  },
  "language_info": {
   "codemirror_mode": {
    "name": "ipython",
    "version": 3
   },
   "file_extension": ".py",
   "mimetype": "text/x-python",
   "name": "python",
   "nbconvert_exporter": "python",
   "pygments_lexer": "ipython3",
   "version": "3.6.0"
  }
 },
 "nbformat": 4,
 "nbformat_minor": 2
}
