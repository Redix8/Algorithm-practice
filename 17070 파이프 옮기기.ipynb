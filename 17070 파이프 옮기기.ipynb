{
 "cells": [
  {
   "cell_type": "code",
   "execution_count": null,
   "metadata": {
    "collapsed": true
   },
   "outputs": [],
   "source": [
    "from collections import deque"
   ]
  },
  {
   "cell_type": "code",
   "execution_count": null,
   "metadata": {
    "collapsed": false
   },
   "outputs": [],
   "source": [
    "N = int(input())\n",
    "arr = [list(map(int,input().split())) for _ in range(N)]\n",
    "q = deque()\n",
    "q.append((0,1,0))\n",
    "cnt = 0\n",
    "x = [1,0,1]\n",
    "y = [0,1,1]\n",
    "d = [(0,2),(1,2),(0,1,2)]\n",
    "while q:\n",
    "    r,c,s = q.popleft()    \n",
    "    if r==N-1 and c==N-1:\n",
    "        cnt+=1\n",
    "        continue\n",
    "    for i in d[s]:\n",
    "        nr = r+y[i]\n",
    "        nc = c+x[i]\n",
    "        if 0<=nr<N and 0<=nc<N:\n",
    "            if (i<2 and not arr[nr][nc]):\n",
    "                q.append((nr,nc,i))\n",
    "            elif (i==2 and not arr[r][c+1] \n",
    "                and not arr[r+1][c] \n",
    "                and not arr[r+1][c+1]):\n",
    "                q.append((nr,nc,i))\n",
    "print(cnt)\n",
    "        "
   ]
  },
  {
   "cell_type": "code",
   "execution_count": null,
   "metadata": {
    "collapsed": false
   },
   "outputs": [],
   "source": [
    "visited"
   ]
  },
  {
   "cell_type": "code",
   "execution_count": 19,
   "metadata": {
    "collapsed": false
   },
   "outputs": [
    {
     "name": "stdout",
     "output_type": "stream",
     "text": [
      "4\n",
      "0 0 0 0\n",
      "0 0 0 0\n",
      "0 0 0 0\n",
      "0 0 0 0\n",
      "3\n"
     ]
    }
   ],
   "source": [
    "N = int(input())\n",
    "arr = [list(map(int,input().split())) for _ in range(N)]\n",
    "d = [[[0]*3 for _ in range(N)] for l in range(N)]\n",
    "d[0][1][0] = 1\n",
    "for i in range(N):\n",
    "    for j in range(1,N):\n",
    "        if j+1<N and not arr[i][j+1]:\n",
    "            d[i][j+1][0] += d[i][j][0]+d[i][j][2]\n",
    "        if i+1<N and not arr[i+1][j]:\n",
    "            d[i+1][j][1] += d[i][j][1]+d[i][j][2]\n",
    "        if i+1<N and j+1<N and not arr[i+1][j] and not arr[i][j+1] and not arr[i+1][j+1]:\n",
    "            d[i+1][j+1][2] += sum(d[i][j])\n",
    "print(sum(d[N-1][N-1]))"
   ]
  },
  {
   "cell_type": "code",
   "execution_count": 17,
   "metadata": {
    "collapsed": false
   },
   "outputs": [
    {
     "data": {
      "text/plain": [
       "[[[0, 0, 0], [1, 0, 0], [1, 0, 0], [1, 0, 0]],\n",
       " [[0, 0, 0], [0, 0, 0], [0, 0, 1], [1, 0, 1]],\n",
       " [[0, 0, 0], [0, 0, 0], [0, 1, 0], [0, 0, 1]],\n",
       " [[0, 0, 0], [0, 0, 0], [0, 1, 0], [0, 0, 1]]]"
      ]
     },
     "execution_count": 17,
     "metadata": {},
     "output_type": "execute_result"
    }
   ],
   "source": [
    "d"
   ]
  },
  {
   "cell_type": "code",
   "execution_count": null,
   "metadata": {
    "collapsed": true
   },
   "outputs": [],
   "source": []
  }
 ],
 "metadata": {
  "kernelspec": {
   "display_name": "Python 3",
   "language": "python",
   "name": "python3"
  },
  "language_info": {
   "codemirror_mode": {
    "name": "ipython",
    "version": 3
   },
   "file_extension": ".py",
   "mimetype": "text/x-python",
   "name": "python",
   "nbconvert_exporter": "python",
   "pygments_lexer": "ipython3",
   "version": "3.6.0"
  }
 },
 "nbformat": 4,
 "nbformat_minor": 2
}
