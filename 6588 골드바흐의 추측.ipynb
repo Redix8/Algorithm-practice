{
 "cells": [
  {
   "cell_type": "code",
   "execution_count": 9,
   "metadata": {
    "collapsed": false
   },
   "outputs": [
    {
     "name": "stdout",
     "output_type": "stream",
     "text": [
      "[False, True, True] [True, True, False] [True, False, True] [False, True, False]\n",
      "[0, 2, 4, 8]\n",
      "0\n"
     ]
    }
   ],
   "source": [
    "\n",
    "prime = [True]*1000000\n",
    "prime[0] = False\n",
    "prime[1] = False\n",
    "for i in range(2,int(1000000**0.5)+1):\n",
    "    if prime[i]:\n",
    "        for j in range(i*2,1000000,i):\n",
    "            prime[j]=False\n",
    "prime[2] = False\n",
    "arrP = [i for i,x in enumerate(prime) if x]\n",
    "\n",
    "while True:\n",
    "    n = int(input())\n",
    "    a=0\n",
    "    b=0\n",
    "    if n==0:\n",
    "        break    \n",
    "    else:\n",
    "        for x in arrP:\n",
    "            if x<n:\n",
    "                if prime[n-x]:\n",
    "                    a=x\n",
    "                    b=n-x\n",
    "                    break\n",
    "            else:\n",
    "                break\n",
    "        if a and b:\n",
    "            print(n,\"=\",a,\"+\",b)\n",
    "        else:\n",
    "            print(\"Goldbach's conjecture is wrong.\")           \n"
   ]
  },
  {
   "cell_type": "code",
   "execution_count": null,
   "metadata": {
    "collapsed": true
   },
   "outputs": [],
   "source": [
    "import sys\n",
    "prime = [True]*1000000\n",
    "prime[0] = False\n",
    "prime[1] = False\n",
    "for i in range(2,int(1000000**0.5)+1):\n",
    "    if prime[i]:\n",
    "        for j in range(i*2,1000000,i):\n",
    "            prime[j]=False\n",
    "prime[2] = False\n",
    "arrP = [i for i,x in enumerate(prime) if x]\n",
    "\n",
    "while True:\n",
    "    n = int(sys.stdin.readline())\n",
    "    a=0\n",
    "    b=0\n",
    "    if n==0:\n",
    "        break    \n",
    "    else:\n",
    "        for x in arrP:\n",
    "            if x<n:\n",
    "                if prime[n-x]:\n",
    "                    a=x\n",
    "                    b=n-x\n",
    "                    break\n",
    "            else:\n",
    "                break\n",
    "        if a and b:\n",
    "            print(n,\"=\",a,\"+\",b)\n",
    "        else:\n",
    "            print(\"Goldbach's conjecture is wrong.\")           \n"
   ]
  }
 ],
 "metadata": {
  "kernelspec": {
   "display_name": "Python 3",
   "language": "python",
   "name": "python3"
  },
  "language_info": {
   "codemirror_mode": {
    "name": "ipython",
    "version": 3
   },
   "file_extension": ".py",
   "mimetype": "text/x-python",
   "name": "python",
   "nbconvert_exporter": "python",
   "pygments_lexer": "ipython3",
   "version": "3.6.0"
  }
 },
 "nbformat": 4,
 "nbformat_minor": 2
}
