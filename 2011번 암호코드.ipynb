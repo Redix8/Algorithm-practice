{
 "cells": [
  {
   "cell_type": "code",
   "execution_count": null,
   "metadata": {
    "collapsed": false
   },
   "outputs": [],
   "source": [
    "s = input()\n",
    "dp = [0]*len(s)\n",
    "\n",
    "def isCode(s):    \n",
    "    if 1<=int(s) and int(s)<=9:\n",
    "        return 1\n",
    "    elif 10<=int(s) and int(s)<=26:\n",
    "        return 2\n",
    "    elif int(s)==0 or int(s)%10 == 0:\n",
    "        return -1\n",
    "    else: return 0\n",
    "\n",
    "wrong = False\n",
    "if s[0]!='0': dp[0] = 1\n",
    "else: wrong = True\n",
    "\n",
    "if isCode(s[:2])==2:\n",
    "    if s[1]=='0': dp[1] = 1\n",
    "    else: dp[1] = dp[0]+1\n",
    "elif isCode(s[:2])==0:\n",
    "    dp[1] = 1\n",
    "    \n",
    "for i in range(2, len(s)):    \n",
    "    if isCode(s[i]) == 1:\n",
    "        dp[i]+=dp[i-1]\n",
    "    if isCode(s[i-1:i+1])==2:\n",
    "        dp[i]+=dp[i-2]\n",
    "    if isCode(s[i-1:i+1])==-1:\n",
    "        wrong=True\n",
    "    if wrong: break\n",
    "if wrong:\n",
    "    print(0)\n",
    "else:\n",
    "    print(dp[-1]%1000000)"
   ]
  },
  {
   "cell_type": "code",
   "execution_count": null,
   "metadata": {
    "collapsed": false
   },
   "outputs": [],
   "source": [
    "def isCode(s):    \n",
    "    if 1<=int(s) and int(s)<=9:\n",
    "        return 1\n",
    "    elif 10<=int(s) and int(s)<=26:\n",
    "        return 2\n",
    "    elif int(s)==0 or int(s)%10 == 0:\n",
    "        return -1\n",
    "    else: return 0\n",
    "    \n",
    "def test(s):\n",
    "    dp = [0]*len(s)\n",
    "    wrong = False\n",
    "    if s[0]!='0': dp[0] = 1\n",
    "    else: wrong = True\n",
    "    if isCode(s[:2])==2:\n",
    "        if s[1]=='0': dp[1] = 1\n",
    "        else: dp[1] = dp[0]+1\n",
    "    elif isCode(s[:2])==0:\n",
    "        dp[1] = 1\n",
    "        \n",
    "    for i in range(2, len(s)):    \n",
    "        if isCode(s[i]) == 1:\n",
    "            dp[i]+=dp[i-1]\n",
    "        if isCode(s[i-1:i+1])==2:\n",
    "            dp[i]+=dp[i-2]\n",
    "        if isCode(s[i-1:i+1])==-1:\n",
    "            wrong=True\n",
    "        if wrong: break\n",
    "    if wrong:\n",
    "        return 0\n",
    "    else:\n",
    "        return dp[-1]%1000000\n"
   ]
  },
  {
   "cell_type": "code",
   "execution_count": null,
   "metadata": {
    "collapsed": false
   },
   "outputs": [],
   "source": [
    "q = open('C:/Users/J/Documents/A.dat')\n",
    "qes = q.read().splitlines()\n",
    "a = open('C:/Users/J/Documents/A.diff')\n",
    "ans = a.read().splitlines()\n",
    "for i in range(len(qes)):\n",
    "    try:\n",
    "        if test(qes[i]) != int(ans[i]):\n",
    "            print(qes[i], ans[i], test(qes[i]))\n",
    "    except:\n",
    "        print('exception :' ,qes[i])\n",
    "        break"
   ]
  },
  {
   "cell_type": "code",
   "execution_count": null,
   "metadata": {
    "collapsed": false
   },
   "outputs": [],
   "source": [
    "q.close()\n",
    "a.close()"
   ]
  },
  {
   "cell_type": "code",
   "execution_count": null,
   "metadata": {
    "collapsed": false
   },
   "outputs": [],
   "source": [
    "test('0')"
   ]
  },
  {
   "cell_type": "code",
   "execution_count": null,
   "metadata": {
    "collapsed": true
   },
   "outputs": [],
   "source": []
  }
 ],
 "metadata": {
  "kernelspec": {
   "display_name": "Python 3",
   "language": "python",
   "name": "python3"
  },
  "language_info": {
   "codemirror_mode": {
    "name": "ipython",
    "version": 3
   },
   "file_extension": ".py",
   "mimetype": "text/x-python",
   "name": "python",
   "nbconvert_exporter": "python",
   "pygments_lexer": "ipython3",
   "version": "3.6.0"
  }
 },
 "nbformat": 4,
 "nbformat_minor": 2
}
