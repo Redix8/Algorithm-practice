{
 "cells": [
  {
   "cell_type": "code",
   "execution_count": 16,
   "metadata": {
    "collapsed": false
   },
   "outputs": [
    {
     "name": "stdout",
     "output_type": "stream",
     "text": [
      "15 28 19\n",
      "0\n"
     ]
    }
   ],
   "source": [
    "E, S, M = map(int, input().split())\n",
    "n = [15*28, 15*19, 28*19]\n",
    "#2s1 = 1(mod 19)   m\n",
    "#5s2 = 1(mod 28)   s\n",
    "#7s3 = 1(mod 15)   e\n",
    "s=[0,0,0]\n",
    "x = 1\n",
    "while True:\n",
    "    if (19*x+1)%2 == 0 and not s[0]: s[0] = (19*x+1)//2\n",
    "    if (28*x+1)%5 == 0 and not s[1]: s[1] = (28*x+1)//5\n",
    "    if (15*x+1)%7 == 0 and not s[2]: s[2] = (15*x+1)//7\n",
    "    if s[0] and s[1] and s[2]: break\n",
    "    x+=1\n",
    "#print(s)\n",
    "result = (n[0]*s[0]*M +n[1]*s[1]*S +n[2]*s[2]*E)%(15*19*28)\n",
    "if result == 0: result = 15*19*28\n",
    "print(result)"
   ]
  },
  {
   "cell_type": "markdown",
   "metadata": {},
   "source": []
  }
 ],
 "metadata": {
  "kernelspec": {
   "display_name": "Python 3",
   "language": "python",
   "name": "python3"
  },
  "language_info": {
   "codemirror_mode": {
    "name": "ipython",
    "version": 3
   },
   "file_extension": ".py",
   "mimetype": "text/x-python",
   "name": "python",
   "nbconvert_exporter": "python",
   "pygments_lexer": "ipython3",
   "version": "3.6.0"
  }
 },
 "nbformat": 4,
 "nbformat_minor": 2
}
