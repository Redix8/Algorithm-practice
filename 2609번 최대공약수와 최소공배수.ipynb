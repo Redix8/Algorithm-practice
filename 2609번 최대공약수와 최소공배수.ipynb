{
 "cells": [
  {
   "cell_type": "code",
   "execution_count": 5,
   "metadata": {
    "collapsed": false
   },
   "outputs": [
    {
     "name": "stdout",
     "output_type": "stream",
     "text": [
      "10 3\n",
      "1\n",
      "30\n"
     ]
    }
   ],
   "source": [
    "n, m = map(int, input().split())\n",
    "def gcd(m, n):\n",
    "    if m%n == 0:\n",
    "        return n\n",
    "    else:\n",
    "        return gcd(n, m%n)\n",
    "print(gcd(n, m))\n",
    "print(m*n//gcd(n,m))"
   ]
  },
  {
   "cell_type": "markdown",
   "metadata": {},
   "source": [
    "https://opentutorials.org/course/1685/9533"
   ]
  }
 ],
 "metadata": {
  "kernelspec": {
   "display_name": "Python 3",
   "language": "python",
   "name": "python3"
  },
  "language_info": {
   "codemirror_mode": {
    "name": "ipython",
    "version": 3
   },
   "file_extension": ".py",
   "mimetype": "text/x-python",
   "name": "python",
   "nbconvert_exporter": "python",
   "pygments_lexer": "ipython3",
   "version": "3.6.0"
  }
 },
 "nbformat": 4,
 "nbformat_minor": 2
}
