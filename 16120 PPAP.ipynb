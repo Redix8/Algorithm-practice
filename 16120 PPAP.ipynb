{
 "cells": [
  {
   "cell_type": "code",
   "execution_count": 10,
   "metadata": {
    "collapsed": false
   },
   "outputs": [
    {
     "name": "stdout",
     "output_type": "stream",
     "text": [
      "PPPAP\n",
      "NP\n"
     ]
    }
   ],
   "source": [
    "from collections import deque\n",
    "s = deque(input())\n",
    "st = []\n",
    "p = 'PPAP'\n",
    "for j in range(len(s)):\n",
    "    x = s.popleft()\n",
    "    st.append(x)\n",
    "    if len(st)>=4:\n",
    "        count = 0\n",
    "        for i in range(1,5):\n",
    "            if st[-i] != p[-i]:\n",
    "                break\n",
    "            else: count+=1\n",
    "        if count == 4 and s:\n",
    "            for i in range(3):\n",
    "                st.pop()\n",
    "result = \"\".join(st)\n",
    "if result == \"PPAP\":\n",
    "    print(result)\n",
    "else:print(\"NP\")"
   ]
  },
  {
   "cell_type": "code",
   "execution_count": 4,
   "metadata": {
    "collapsed": false
   },
   "outputs": [
    {
     "data": {
      "text/plain": [
       "'P'"
      ]
     },
     "execution_count": 4,
     "metadata": {},
     "output_type": "execute_result"
    }
   ],
   "source": [
    "result"
   ]
  },
  {
   "cell_type": "code",
   "execution_count": 17,
   "metadata": {
    "collapsed": false
   },
   "outputs": [
    {
     "ename": "IndentationError",
     "evalue": "unexpected indent (<ipython-input-17-8fb97ac87749>, line 4)",
     "output_type": "error",
     "traceback": [
      "\u001b[0;36m  File \u001b[0;32m\"<ipython-input-17-8fb97ac87749>\"\u001b[0;36m, line \u001b[0;32m4\u001b[0m\n\u001b[0;31m    for x in s:\u001b[0m\n\u001b[0m    ^\u001b[0m\n\u001b[0;31mIndentationError\u001b[0m\u001b[0;31m:\u001b[0m unexpected indent\n"
     ]
    }
   ],
   "source": [
    "s = input()\n",
    "p = list(\"PPAP\")\n",
    "res = []\n",
    "for x in s:\n",
    "    res.append(x)\n",
    "    if res[-4:] == p:\n",
    "        res[-4:] = [\"P\"]\n",
    "print(\"PPAP\" if res == [\"P\"] else \"NP\")"
   ]
  },
  {
   "cell_type": "code",
   "execution_count": null,
   "metadata": {
    "collapsed": true
   },
   "outputs": [],
   "source": []
  }
 ],
 "metadata": {
  "kernelspec": {
   "display_name": "Python 3",
   "language": "python",
   "name": "python3"
  },
  "language_info": {
   "codemirror_mode": {
    "name": "ipython",
    "version": 3
   },
   "file_extension": ".py",
   "mimetype": "text/x-python",
   "name": "python",
   "nbconvert_exporter": "python",
   "pygments_lexer": "ipython3",
   "version": "3.6.0"
  }
 },
 "nbformat": 4,
 "nbformat_minor": 2
}
