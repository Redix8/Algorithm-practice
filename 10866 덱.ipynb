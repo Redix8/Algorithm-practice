{
 "cells": [
  {
   "cell_type": "code",
   "execution_count": 3,
   "metadata": {
    "collapsed": false
   },
   "outputs": [
    {
     "name": "stdout",
     "output_type": "stream",
     "text": [
      "1\n",
      "empty\n",
      "1\n"
     ]
    }
   ],
   "source": [
    "from collections import deque\n",
    "n = int(input())\n",
    "dq = deque()\n",
    "for _ in range(n):\n",
    "    cmd = input().split()\n",
    "    if cmd[0] == \"push_front\":\n",
    "        dq.appendleft(cmd[1])\n",
    "    elif cmd[0] == \"push_back\":\n",
    "        dq.append(cmd[1])\n",
    "    elif cmd[0] == \"pop_front\":\n",
    "        try: print(dq.popleft())\n",
    "        except:print(-1)\n",
    "    elif cmd[0] == \"pop_back\":\n",
    "        try: print(dq.pop())\n",
    "        except:print(-1)\n",
    "    elif cmd[0] == \"size\":\n",
    "        print(len(dq))\n",
    "    elif cmd[0] == \"empty\":\n",
    "        if dq: print(0)\n",
    "        else : print(1)\n",
    "    elif cmd[0] == \"front\":\n",
    "        try:print(dq[0])\n",
    "        except:print(-1)\n",
    "    elif cmd[0] == \"back\":\n",
    "        try:print(dq[-1])\n",
    "        except:print(-1)"
   ]
  },
  {
   "cell_type": "code",
   "execution_count": 4,
   "metadata": {
    "collapsed": false
   },
   "outputs": [
    {
     "data": {
      "text/plain": [
       "deque([])"
      ]
     },
     "execution_count": 4,
     "metadata": {},
     "output_type": "execute_result"
    }
   ],
   "source": [
    "dq"
   ]
  },
  {
   "cell_type": "code",
   "execution_count": null,
   "metadata": {
    "collapsed": true
   },
   "outputs": [],
   "source": []
  }
 ],
 "metadata": {
  "kernelspec": {
   "display_name": "Python 3",
   "language": "python",
   "name": "python3"
  },
  "language_info": {
   "codemirror_mode": {
    "name": "ipython",
    "version": 3
   },
   "file_extension": ".py",
   "mimetype": "text/x-python",
   "name": "python",
   "nbconvert_exporter": "python",
   "pygments_lexer": "ipython3",
   "version": "3.6.0"
  }
 },
 "nbformat": 4,
 "nbformat_minor": 2
}
