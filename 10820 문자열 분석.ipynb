{
 "cells": [
  {
   "cell_type": "code",
   "execution_count": 1,
   "metadata": {
    "collapsed": true
   },
   "outputs": [],
   "source": [
    "import sys"
   ]
  },
  {
   "cell_type": "code",
   "execution_count": null,
   "metadata": {
    "collapsed": true
   },
   "outputs": [],
   "source": [
    "for x in sys.stdin:\n",
    "    res = [0,0,0,0]\n",
    "    for c in x:\n",
    "        if 'a'<=c and c<='z':\n",
    "            res[0]+=1\n",
    "        elif 'A'<=c and c<='Z':\n",
    "            res[1]+=1\n",
    "        elif '0'<=c and c<='9':\n",
    "            res[2]+=1\n",
    "        elif c == ' ':\n",
    "            res[3]+=1\n",
    "    print(*res)"
   ]
  },
  {
   "cell_type": "code",
   "execution_count": 13,
   "metadata": {
    "collapsed": false
   },
   "outputs": [
    {
     "name": "stdout",
     "output_type": "stream",
     "text": [
      "0 8 9 0\n"
     ]
    }
   ],
   "source": [
    "a = ['0L1A2S3T4L5I6N7E8']\n",
    "for x in a:\n",
    "    res = [0,0,0,0]\n",
    "    for c in x:\n",
    "        if 'a'<=c and c<='z':\n",
    "            res[0]+=1\n",
    "        elif 'A'<=c and c<='Z':\n",
    "            res[1]+=1\n",
    "        elif '0'<=c and c<='9':\n",
    "            res[2]+=1\n",
    "        elif c == ' ':\n",
    "            res[3]+=1\n",
    "    print(*res)"
   ]
  },
  {
   "cell_type": "code",
   "execution_count": null,
   "metadata": {
    "collapsed": true
   },
   "outputs": [],
   "source": []
  }
 ],
 "metadata": {
  "kernelspec": {
   "display_name": "Python 3",
   "language": "python",
   "name": "python3"
  },
  "language_info": {
   "codemirror_mode": {
    "name": "ipython",
    "version": 3
   },
   "file_extension": ".py",
   "mimetype": "text/x-python",
   "name": "python",
   "nbconvert_exporter": "python",
   "pygments_lexer": "ipython3",
   "version": "3.6.0"
  }
 },
 "nbformat": 4,
 "nbformat_minor": 2
}
