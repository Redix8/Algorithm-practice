{
 "cells": [
  {
   "cell_type": "code",
   "execution_count": 57,
   "metadata": {
    "collapsed": false
   },
   "outputs": [],
   "source": [
    "d = [[[0]*3 for o in range(2)] for _ in range(1002)]"
   ]
  },
  {
   "cell_type": "code",
   "execution_count": 58,
   "metadata": {
    "collapsed": false
   },
   "outputs": [],
   "source": [
    "d[1][0][0] = 1\n",
    "d[1][1][0] = 1\n",
    "d[1][0][1] = 1\n",
    "d[1][0][2] = 0\n",
    "\n",
    "for i in range(2,1002):\n",
    "    d[i][0][0] = sum(d[i-1][0])\n",
    "    d[i][0][1] = d[i-1][0][0]\n",
    "    d[i][0][2] = d[i-1][0][1]\n",
    "    d[i][1][0] = sum(d[i-1][1]) + sum(d[i-1][0])\n",
    "    d[i][1][1] = d[i-1][1][0]\n",
    "    d[i][1][2] = d[i-1][1][1]\n",
    "    "
   ]
  },
  {
   "cell_type": "code",
   "execution_count": 59,
   "metadata": {
    "collapsed": false
   },
   "outputs": [
    {
     "name": "stdout",
     "output_type": "stream",
     "text": [
      "0\n",
      "3\n",
      "8\n",
      "19\n",
      "43\n"
     ]
    }
   ],
   "source": [
    "for i in range(5):\n",
    "    print(sum(d[i][0])+sum(d[i][1]))"
   ]
  },
  {
   "cell_type": "code",
   "execution_count": 24,
   "metadata": {
    "collapsed": false
   },
   "outputs": [
    {
     "data": {
      "text/plain": [
       "[1, 1, 0]"
      ]
     },
     "execution_count": 24,
     "metadata": {},
     "output_type": "execute_result"
    }
   ],
   "source": [
    "d[1][1]"
   ]
  },
  {
   "cell_type": "code",
   "execution_count": 27,
   "metadata": {
    "collapsed": false
   },
   "outputs": [
    {
     "data": {
      "text/plain": [
       "[[1, 0, 0], [1, 0, 0]]"
      ]
     },
     "execution_count": 27,
     "metadata": {},
     "output_type": "execute_result"
    }
   ],
   "source": [
    "d[1]"
   ]
  },
  {
   "cell_type": "code",
   "execution_count": 64,
   "metadata": {
    "collapsed": false
   },
   "outputs": [
    {
     "name": "stdout",
     "output_type": "stream",
     "text": [
      "4\n",
      "43\n"
     ]
    }
   ],
   "source": [
    "n = int(input())\n",
    "d = [[[0]*3 for o in range(2)] for _ in range(1002)]\n",
    "d[1][0][0] = 1\n",
    "d[1][1][0] = 1\n",
    "d[1][0][1] = 1\n",
    "for i in range(2,n+1):\n",
    "    d[i][0][0] = sum(d[i-1][0])\n",
    "    d[i][0][1] = d[i-1][0][0]\n",
    "    d[i][0][2] = d[i-1][0][1]\n",
    "    d[i][1][0] = sum(d[i-1][1]) + sum(d[i-1][0])\n",
    "    d[i][1][1] = d[i-1][1][0]\n",
    "    d[i][1][2] = d[i-1][1][1]\n",
    "print((sum(d[n][0])+sum(d[n][1]))%1000000)"
   ]
  },
  {
   "cell_type": "code",
   "execution_count": null,
   "metadata": {
    "collapsed": true
   },
   "outputs": [],
   "source": []
  }
 ],
 "metadata": {
  "kernelspec": {
   "display_name": "Python 3",
   "language": "python",
   "name": "python3"
  },
  "language_info": {
   "codemirror_mode": {
    "name": "ipython",
    "version": 3
   },
   "file_extension": ".py",
   "mimetype": "text/x-python",
   "name": "python",
   "nbconvert_exporter": "python",
   "pygments_lexer": "ipython3",
   "version": "3.6.0"
  }
 },
 "nbformat": 4,
 "nbformat_minor": 2
}
