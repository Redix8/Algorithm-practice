{
 "cells": [
  {
   "cell_type": "code",
   "execution_count": 12,
   "metadata": {
    "collapsed": false
   },
   "outputs": [
    {
     "name": "stdout",
     "output_type": "stream",
     "text": [
      "8 9\n",
      "0 0 0 0 0 0 0 0 0 \n",
      "0 0 0 0 0 0 0 0 0\n",
      "0 1 1 0 0 0 1 1 0\n",
      "0 1 0 1 1 1 0 1 0\n",
      "0 1 0 0 1 0 0 1 0\n",
      "0 1 0 1 1 1 0 1 0\n",
      "0 1 1 0 0 0 1 1 0\n",
      "0 0 0 0 0 0 0 0 0\n"
     ]
    }
   ],
   "source": [
    "R, C = map(int,input().split())\n",
    "arr = [list(map(int,input().split())) for _ in range(R)]"
   ]
  },
  {
   "cell_type": "code",
   "execution_count": 17,
   "metadata": {
    "collapsed": true
   },
   "outputs": [],
   "source": [
    "from collections import deque\n",
    "\n",
    "def check(r,c):\n",
    "    global arr, R, C\n",
    "    visited=[[0]*C for _ in range(R)]\n",
    "    x=[0,0,1,-1]\n",
    "    y=[1,-1,0,0]\n",
    "    q = deque()\n",
    "    q.append((r,c))\n",
    "    visited[r][c] = 1\n",
    "    while q:\n",
    "        r,c = q.popleft()\n",
    "        for i in range(4):\n",
    "            nr=r+y[i]\n",
    "            nc=c+x[i]\n",
    "            if 0<=nr<R and 0<=nc<C:\n",
    "                if arr[nr][nc] ==0 and not visited[nr][nc]:\n",
    "                    q.append((nr,nc))\n",
    "                    visited[nr][nc]=1\n",
    "                elif arr[nr][nc]==1:\n",
    "                    visited[nr][nc]+=1\n",
    "    cheese = False\n",
    "    for i in range(R):\n",
    "        for j in range(C):\n",
    "            if visited[i][j]>1:\n",
    "                arr[i][j] = 0\n",
    "                cheese = True\n",
    "    return cheese  "
   ]
  },
  {
   "cell_type": "code",
   "execution_count": 19,
   "metadata": {
    "collapsed": false
   },
   "outputs": [
    {
     "name": "stdout",
     "output_type": "stream",
     "text": [
      "1\n"
     ]
    }
   ],
   "source": [
    "cnt = 0\n",
    "while True:\n",
    "    if not check(0,0):\n",
    "        break\n",
    "    cnt+=1\n",
    "print(cnt)"
   ]
  },
  {
   "cell_type": "code",
   "execution_count": 16,
   "metadata": {
    "collapsed": false
   },
   "outputs": [
    {
     "data": {
      "text/plain": [
       "[[0, 0, 0, 0, 0, 0, 0, 0, 0],\n",
       " [0, 0, 0, 0, 0, 0, 0, 0, 0],\n",
       " [0, 0, 0, 0, 0, 0, 0, 0, 0],\n",
       " [0, 0, 0, 0, 1, 0, 0, 0, 0],\n",
       " [0, 0, 0, 0, 0, 0, 0, 0, 0],\n",
       " [0, 0, 0, 0, 1, 0, 0, 0, 0],\n",
       " [0, 0, 0, 0, 0, 0, 0, 0, 0],\n",
       " [0, 0, 0, 0, 0, 0, 0, 0, 0]]"
      ]
     },
     "execution_count": 16,
     "metadata": {},
     "output_type": "execute_result"
    }
   ],
   "source": [
    "check(0,0)\n",
    "arr"
   ]
  },
  {
   "cell_type": "code",
   "execution_count": 18,
   "metadata": {
    "collapsed": false
   },
   "outputs": [
    {
     "data": {
      "text/plain": [
       "[[0, 0, 0, 0, 0, 0, 0, 0, 0],\n",
       " [0, 0, 0, 0, 0, 0, 0, 0, 0],\n",
       " [0, 0, 0, 0, 0, 0, 0, 0, 0],\n",
       " [0, 0, 0, 0, 1, 0, 0, 0, 0],\n",
       " [0, 0, 0, 0, 0, 0, 0, 0, 0],\n",
       " [0, 0, 0, 0, 1, 0, 0, 0, 0],\n",
       " [0, 0, 0, 0, 0, 0, 0, 0, 0],\n",
       " [0, 0, 0, 0, 0, 0, 0, 0, 0]]"
      ]
     },
     "execution_count": 18,
     "metadata": {},
     "output_type": "execute_result"
    }
   ],
   "source": [
    "arr"
   ]
  },
  {
   "cell_type": "code",
   "execution_count": null,
   "metadata": {
    "collapsed": true
   },
   "outputs": [],
   "source": []
  }
 ],
 "metadata": {
  "kernelspec": {
   "display_name": "Python 3",
   "language": "python",
   "name": "python3"
  },
  "language_info": {
   "codemirror_mode": {
    "name": "ipython",
    "version": 3
   },
   "file_extension": ".py",
   "mimetype": "text/x-python",
   "name": "python",
   "nbconvert_exporter": "python",
   "pygments_lexer": "ipython3",
   "version": "3.6.0"
  }
 },
 "nbformat": 4,
 "nbformat_minor": 2
}
