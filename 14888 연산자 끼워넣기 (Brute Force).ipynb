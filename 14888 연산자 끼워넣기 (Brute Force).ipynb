{
 "cells": [
  {
   "cell_type": "code",
   "execution_count": 17,
   "metadata": {
    "collapsed": false,
    "scrolled": false
   },
   "outputs": [
    {
     "name": "stdout",
     "output_type": "stream",
     "text": [
      "6\n",
      "1 2 3 4 5 6\n",
      "2 1 1 1\n"
     ]
    }
   ],
   "source": [
    "N = int(input())\n",
    "A = list(map(int, input().split()))\n",
    "p, mi, mu, d = map(int, input().split())"
   ]
  },
  {
   "cell_type": "code",
   "execution_count": 51,
   "metadata": {
    "collapsed": false
   },
   "outputs": [],
   "source": [
    "with open(\"test.txt\", \"r\") as f:\n",
    "    N = int(f.readline())\n",
    "    A = list(map(int,f.readline().split()))\n",
    "    p, mi, mu, d = map(int, f.readline().split())"
   ]
  },
  {
   "cell_type": "code",
   "execution_count": 52,
   "metadata": {
    "collapsed": false
   },
   "outputs": [
    {
     "name": "stdout",
     "output_type": "stream",
     "text": [
      "6\n",
      "[1, 2, 3, 4, 5, 6]\n",
      "2 1 1 1\n"
     ]
    }
   ],
   "source": [
    "print(N)\n",
    "print(A)\n",
    "print(p, mi, mu, d)"
   ]
  },
  {
   "cell_type": "code",
   "execution_count": 18,
   "metadata": {
    "collapsed": true
   },
   "outputs": [],
   "source": [
    "s =['+']*p + ['-']*mi + ['*']*mu + ['d']*d "
   ]
  },
  {
   "cell_type": "code",
   "execution_count": 40,
   "metadata": {
    "collapsed": false
   },
   "outputs": [],
   "source": [
    "from itertools import permutations\n",
    "from copy import copy"
   ]
  },
  {
   "cell_type": "code",
   "execution_count": 45,
   "metadata": {
    "collapsed": false
   },
   "outputs": [
    {
     "name": "stdout",
     "output_type": "stream",
     "text": [
      "54\n",
      "-24\n"
     ]
    }
   ],
   "source": [
    "maxr = -9876543210\n",
    "minr = 9876543210\n",
    "temp = []\n",
    "perm = list(set(permutations(s)))\n",
    "for L in perm:\n",
    "    B = copy(A)\n",
    "    for i, x in enumerate(L):\n",
    "        if x == '+':\n",
    "            B[i+1] = B[i] + B[i+1]\n",
    "        elif x == '-':\n",
    "            B[i+1] = B[i] - B[i+1]\n",
    "        elif x == '*':\n",
    "            B[i+1] = B[i] * B[i+1]\n",
    "        elif x == 'd':            \n",
    "            if B[i]<0:\n",
    "                B[i+1] = -(-B[i]//B[i+1])\n",
    "            elif B[i] == 0:\n",
    "                B[i+1] = 0\n",
    "            else: B[i+1] = B[i]//B[i+1]\n",
    "    maxr = max(maxr, B[-1])\n",
    "    minr = min(minr, B[-1])\n",
    "print(maxr)\n",
    "print(minr)"
   ]
  },
  {
   "cell_type": "code",
   "execution_count": 31,
   "metadata": {
    "collapsed": false
   },
   "outputs": [],
   "source": [
    "C = [1,2,3,4]"
   ]
  },
  {
   "cell_type": "code",
   "execution_count": 49,
   "metadata": {
    "collapsed": false
   },
   "outputs": [
    {
     "data": {
      "text/plain": [
       "-2"
      ]
     },
     "execution_count": 49,
     "metadata": {},
     "output_type": "execute_result"
    }
   ],
   "source": []
  },
  {
   "cell_type": "code",
   "execution_count": 33,
   "metadata": {
    "collapsed": true
   },
   "outputs": [],
   "source": []
  },
  {
   "cell_type": "code",
   "execution_count": 39,
   "metadata": {
    "collapsed": false
   },
   "outputs": [
    {
     "data": {
      "text/plain": [
       "[('+', '+', '+'),\n",
       " ('+', '+', '+'),\n",
       " ('+', '+', '+'),\n",
       " ('+', '+', '+'),\n",
       " ('+', '+', '+'),\n",
       " ('+', '+', '+')]"
      ]
     },
     "execution_count": 39,
     "metadata": {},
     "output_type": "execute_result"
    }
   ],
   "source": []
  },
  {
   "cell_type": "code",
   "execution_count": null,
   "metadata": {
    "collapsed": true
   },
   "outputs": [],
   "source": []
  }
 ],
 "metadata": {
  "kernelspec": {
   "display_name": "Python 3",
   "language": "python",
   "name": "python3"
  },
  "language_info": {
   "codemirror_mode": {
    "name": "ipython",
    "version": 3
   },
   "file_extension": ".py",
   "mimetype": "text/x-python",
   "name": "python",
   "nbconvert_exporter": "python",
   "pygments_lexer": "ipython3",
   "version": "3.6.0"
  }
 },
 "nbformat": 4,
 "nbformat_minor": 2
}
