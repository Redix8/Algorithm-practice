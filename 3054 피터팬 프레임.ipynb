{
 "cells": [
  {
   "cell_type": "markdown",
   "metadata": {},
   "source": [
    "3번째마다 반복되는것을 기준으로 짜면 더 간단해짐."
   ]
  },
  {
   "cell_type": "code",
   "execution_count": 47,
   "metadata": {
    "collapsed": false
   },
   "outputs": [
    {
     "name": "stdout",
     "output_type": "stream",
     "text": [
      "ABCDEF\n"
     ]
    }
   ],
   "source": [
    "word = input()"
   ]
  },
  {
   "cell_type": "code",
   "execution_count": 48,
   "metadata": {
    "collapsed": false
   },
   "outputs": [],
   "source": [
    "frame = [['.' for i in range(5*15-14)] for i in range(5)]"
   ]
  },
  {
   "cell_type": "code",
   "execution_count": 49,
   "metadata": {
    "collapsed": false
   },
   "outputs": [],
   "source": [
    "for i in range(1, 5*15-14, 2):\n",
    "    if (i+1)%12 == 0 or (i+3)%12 == 0:\n",
    "        frame[1][i] = '*'\n",
    "        frame[3][i] = '*'\n",
    "    else:\n",
    "        frame[1][i] = '#'\n",
    "        frame[3][i] = '#'\n",
    "for i in range(0, 5*15-14, 2):\n",
    "    if (i+4)%12 == 0 or (i+2)%12 == 0 or i%12 == 0 and not i == 0:\n",
    "        frame[2][i] = '*'\n",
    "    else:\n",
    "        frame[2][i] = '#'\n",
    "    if (len(word)-2)%3 == 0:\n",
    "        frame[2][len(word)*4] = '#'\n",
    "for i in range(2, 5*15-14, 4):\n",
    "    if (i+2)%12 ==0:\n",
    "        frame[0][i] = '*'\n",
    "        frame[4][i] = '*'\n",
    "    else:\n",
    "        frame[0][i] = '#'\n",
    "        frame[4][i] = '#'\n",
    "    if i-2<len(word)*4:\n",
    "        frame[2][i] = word[(i-2)//4]"
   ]
  },
  {
   "cell_type": "code",
   "execution_count": 50,
   "metadata": {
    "collapsed": false
   },
   "outputs": [
    {
     "name": "stdout",
     "output_type": "stream",
     "text": [
      "..#...#...*...#...#...*..\n",
      ".#.#.#.#.*.*.#.#.#.#.*.*.\n",
      "#.A.#.B.*.C.*.D.#.E.*.F.*\n",
      ".#.#.#.#.*.*.#.#.#.#.*.*.\n",
      "..#...#...*...#...#...*..\n"
     ]
    }
   ],
   "source": [
    "for i in range(5):\n",
    "    s=''\n",
    "    for j in range(len(word)*4+1):\n",
    "        s+=frame[i][j]\n",
    "    print(s)"
   ]
  },
  {
   "cell_type": "code",
   "execution_count": null,
   "metadata": {
    "collapsed": false
   },
   "outputs": [],
   "source": [
    "word = input()"
   ]
  },
  {
   "cell_type": "code",
   "execution_count": null,
   "metadata": {
    "collapsed": false
   },
   "outputs": [],
   "source": []
  },
  {
   "cell_type": "code",
   "execution_count": null,
   "metadata": {
    "collapsed": true
   },
   "outputs": [],
   "source": []
  }
 ],
 "metadata": {
  "kernelspec": {
   "display_name": "Python 3",
   "language": "python",
   "name": "python3"
  },
  "language_info": {
   "codemirror_mode": {
    "name": "ipython",
    "version": 3
   },
   "file_extension": ".py",
   "mimetype": "text/x-python",
   "name": "python",
   "nbconvert_exporter": "python",
   "pygments_lexer": "ipython3",
   "version": "3.6.0"
  }
 },
 "nbformat": 4,
 "nbformat_minor": 2
}
