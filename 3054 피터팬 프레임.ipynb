{
 "cells": [
  {
   "cell_type": "markdown",
   "metadata": {},
   "source": [
    "3번째마다 반복되는것을 기준으로 짜면 더 간단해짐."
   ]
  },
  {
   "cell_type": "code",
   "execution_count": 47,
   "metadata": {
    "collapsed": false
   },
   "outputs": [
    {
     "name": "stdout",
     "output_type": "stream",
     "text": [
      "ABCDEF\n"
     ]
    }
   ],
   "source": [
    "word = input()"
   ]
  },
  {
   "cell_type": "code",
   "execution_count": 63,
   "metadata": {
    "collapsed": false
   },
   "outputs": [],
   "source": [
    "frame = [['.' for i in range(5*15-14)] for i in range(5)]"
   ]
  },
  {
   "cell_type": "code",
   "execution_count": 61,
   "metadata": {
    "collapsed": false
   },
   "outputs": [
    {
     "ename": "IndentationError",
     "evalue": "unexpected indent (<ipython-input-61-0e29362dc6e8>, line 2)",
     "output_type": "error",
     "traceback": [
      "\u001b[0;36m  File \u001b[0;32m\"<ipython-input-61-0e29362dc6e8>\"\u001b[0;36m, line \u001b[0;32m2\u001b[0m\n\u001b[0;31m    if (i+1)%12 == 0 or (i+3)%12 == 0:\u001b[0m\n\u001b[0m    ^\u001b[0m\n\u001b[0;31mIndentationError\u001b[0m\u001b[0;31m:\u001b[0m unexpected indent\n"
     ]
    }
   ],
   "source": [
    "for i in range(1, 5*15-14, 2):\n",
    "    if (i+1)%12 == 0 or (i+3)%12 == 0:\n",
    "        frame[1][i] = '*'\n",
    "        frame[3][i] = '*'\n",
    "    else:\n",
    "        frame[1][i] = '#'\n",
    "        frame[3][i] = '#'\n",
    "for i in range(0, 5*15-14, 2):\n",
    "    if (i+4)%12 == 0 or (i+2)%12 == 0 or i%12 == 0 and not i == 0:\n",
    "        frame[2][i] = '*'\n",
    "    else:\n",
    "        frame[2][i] = '#'\n",
    "    if (len(word)-2)%3 == 0:\n",
    "        frame[2][len(word)*4] = '#'\n",
    "for i in range(2, 5*15-14, 4):\n",
    "    if (i+2)%12 ==0:\n",
    "        frame[0][i] = '*'\n",
    "        frame[4][i] = '*'\n",
    "    else:\n",
    "        frame[0][i] = '#'\n",
    "        frame[4][i] = '#'\n",
    "    if i-2<len(word)*4:\n",
    "        frame[2][i] = word[(i-2)//4]"
   ]
  },
  {
   "cell_type": "code",
   "execution_count": 54,
   "metadata": {
    "collapsed": false
   },
   "outputs": [
    {
     "name": "stdout",
     "output_type": "stream",
     "text": [
      "..#...#...*...#...#...*..\n",
      ".#.#.#.#.*.*.#.#.#.#.*.*.\n",
      "#.A.#.B.*.C.*.D.#.E.*.F.*\n",
      ".#.#.#.#.*.*.#.#.#.#.*.*.\n",
      "..#...#...*...#...#...*..\n",
      "Wall time: 0 ns\n"
     ]
    }
   ],
   "source": [
    "for i in range(5):\n",
    "    s=''\n",
    "    for j in range(len(word)*4+1):\n",
    "        s+=frame[i][j]\n",
    "    print(s)"
   ]
  },
  {
   "cell_type": "code",
   "execution_count": null,
   "metadata": {
    "collapsed": false
   },
   "outputs": [],
   "source": [
    "word = input()"
   ]
  },
  {
   "cell_type": "code",
   "execution_count": null,
   "metadata": {
    "collapsed": false
   },
   "outputs": [],
   "source": []
  },
  {
   "cell_type": "code",
   "execution_count": null,
   "metadata": {
    "collapsed": true
   },
   "outputs": [],
   "source": []
  }
 ],
 "metadata": {
  "kernelspec": {
   "display_name": "Python 3",
   "language": "python",
   "name": "python3"
  },
  "language_info": {
   "codemirror_mode": {
    "name": "ipython",
    "version": 3
   },
   "file_extension": ".py",
   "mimetype": "text/x-python",
   "name": "python",
   "nbconvert_exporter": "python",
   "pygments_lexer": "ipython3",
   "version": "3.6.0"
  }
 },
 "nbformat": 4,
 "nbformat_minor": 2
}
