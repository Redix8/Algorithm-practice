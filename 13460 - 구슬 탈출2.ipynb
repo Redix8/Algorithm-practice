{
 "cells": [
  {
   "cell_type": "code",
   "execution_count": 44,
   "metadata": {
    "collapsed": false
   },
   "outputs": [
    {
     "name": "stdout",
     "output_type": "stream",
     "text": [
      "7 7\n",
      "#######\n",
      "#...RB#\n",
      "#.#####\n",
      "#.....#\n",
      "#####.#\n",
      "#O....#\n",
      "#######\n"
     ]
    }
   ],
   "source": [
    "import sys\n",
    "from collections import deque\n",
    "#input = sys.stdin.readline\n",
    "N,M = map(int,input().split())\n",
    "arr = [list(input()) for _ in range(N)]\n",
    "\n",
    "def get(arr):\n",
    "    global N, M\n",
    "    r,b = ((), ())\n",
    "    for i in range(1,N-1):\n",
    "        for j in range(1,M-1):\n",
    "            if arr[i][j] == 'R':\n",
    "                r = (i, j)\n",
    "            elif arr[i][j] =='B':\n",
    "                b = (i, j)\n",
    "            if r and b:\n",
    "                return (r, b)"
   ]
  },
  {
   "cell_type": "code",
   "execution_count": 49,
   "metadata": {
    "collapsed": false
   },
   "outputs": [
    {
     "name": "stdout",
     "output_type": "stream",
     "text": [
      "5\n"
     ]
    }
   ],
   "source": [
    "visited = {}\n",
    "x = [0,1,0,-1]\n",
    "y = [1,0,-1,0]\n",
    "pos = get(arr)\n",
    "\n",
    "q = deque()\n",
    "q.append(pos)\n",
    "visited[pos] = 0\n",
    "ret = -1\n",
    "while q:\n",
    "    pos = q.popleft()\n",
    "    pR, pB = pos\n",
    "    rR, cR = pR\n",
    "    rB, cB = pB\n",
    "    if arr[rR][cR] == 'O':\n",
    "        ret = visited[pos]\n",
    "        break\n",
    "    for i in range(4):\n",
    "        npos = []\n",
    "        for r,c in pos:\n",
    "            nr, nc = r, c\n",
    "            while arr[nr+y[i]][nc+x[i]]!='#' and arr[nr][nc]!='O':\n",
    "                nc += x[i]\n",
    "                nr += y[i]\n",
    "            npos.append((nr,nc))\n",
    "        nR, nB = npos\n",
    "        nrR,ncR = nR\n",
    "        nrB,ncB = nB\n",
    "        if arr[nrB][ncB] == 'O':\n",
    "            continue\n",
    "        if nrR==nrB and ncR == ncB:\n",
    "            if arr[nrR][ncR] == 'O': #둘다 빠짐\n",
    "                continue        \n",
    "            if abs(rR-nrR)+abs(cR-ncR)>abs(rB-nrB)+abs(cB-ncB): #R이 더 많이 움직임\n",
    "                ncR -= x[i]\n",
    "                nrR -= y[i]        \n",
    "            else:#B가 더 많이 움직임\n",
    "                ncB -= x[i]\n",
    "                nrB -= y[i]\n",
    "        if ((nrR,ncR), (nrB,ncB)) not in visited:\n",
    "            if visited[pos]<10:\n",
    "                q.append(((nrR,ncR), (nrB,ncB)))\n",
    "                visited[((nrR,ncR), (nrB,ncB))] = visited[pos]+1\n",
    "print(ret)"
   ]
  },
  {
   "cell_type": "code",
   "execution_count": 12,
   "metadata": {
    "collapsed": false
   },
   "outputs": [
    {
     "data": {
      "text/plain": [
       "((3, 1), (1, 3))"
      ]
     },
     "execution_count": 12,
     "metadata": {},
     "output_type": "execute_result"
    }
   ],
   "source": [
    "get(arr)"
   ]
  },
  {
   "cell_type": "code",
   "execution_count": 50,
   "metadata": {
    "collapsed": false
   },
   "outputs": [
    {
     "data": {
      "text/plain": [
       "{((1, 1), (1, 2)): 1,\n",
       " ((1, 4), (1, 5)): 0,\n",
       " ((2, 1), (1, 1)): 4,\n",
       " ((2, 1), (1, 5)): 5,\n",
       " ((3, 1), (1, 1)): 3,\n",
       " ((3, 1), (1, 2)): 2,\n",
       " ((3, 1), (2, 1)): 4,\n",
       " ((3, 5), (1, 5)): 3,\n",
       " ((3, 5), (2, 1)): 5,\n",
       " ((5, 1), (1, 1)): 5,\n",
       " ((5, 5), (1, 5)): 4}"
      ]
     },
     "execution_count": 50,
     "metadata": {},
     "output_type": "execute_result"
    }
   ],
   "source": [
    "visited"
   ]
  },
  {
   "cell_type": "code",
   "execution_count": 48,
   "metadata": {
    "collapsed": false
   },
   "outputs": [
    {
     "data": {
      "text/plain": [
       "deque([])"
      ]
     },
     "execution_count": 48,
     "metadata": {},
     "output_type": "execute_result"
    }
   ],
   "source": [
    "q"
   ]
  },
  {
   "cell_type": "code",
   "execution_count": 13,
   "metadata": {
    "collapsed": true
   },
   "outputs": [],
   "source": [
    "from collections import deque\n"
   ]
  },
  {
   "cell_type": "code",
   "execution_count": 17,
   "metadata": {
    "collapsed": true
   },
   "outputs": [],
   "source": [
    "visited = {}\n",
    "visited[((1,2),(3,4))] = 1"
   ]
  },
  {
   "cell_type": "code",
   "execution_count": 20,
   "metadata": {
    "collapsed": false
   },
   "outputs": [],
   "source": [
    "if ((1,2),(3,5)) in visited:\n",
    "    print('a')"
   ]
  },
  {
   "cell_type": "code",
   "execution_count": 36,
   "metadata": {
    "collapsed": false
   },
   "outputs": [
    {
     "data": {
      "text/plain": [
       "[['#', '#', '#', '#', '#'],\n",
       " ['#', '.', '.', 'B', '#'],\n",
       " ['#', '.', '#', '.', '#'],\n",
       " ['#', 'R', 'O', '.', '#'],\n",
       " ['#', '#', '#', '#', '#']]"
      ]
     },
     "execution_count": 36,
     "metadata": {},
     "output_type": "execute_result"
    }
   ],
   "source": [
    "arr"
   ]
  },
  {
   "cell_type": "code",
   "execution_count": null,
   "metadata": {
    "collapsed": true
   },
   "outputs": [],
   "source": []
  }
 ],
 "metadata": {
  "kernelspec": {
   "display_name": "Python 3",
   "language": "python",
   "name": "python3"
  },
  "language_info": {
   "codemirror_mode": {
    "name": "ipython",
    "version": 3
   },
   "file_extension": ".py",
   "mimetype": "text/x-python",
   "name": "python",
   "nbconvert_exporter": "python",
   "pygments_lexer": "ipython3",
   "version": "3.6.0"
  }
 },
 "nbformat": 4,
 "nbformat_minor": 2
}
