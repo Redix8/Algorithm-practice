{
 "cells": [
  {
   "cell_type": "code",
   "execution_count": 7,
   "metadata": {
    "collapsed": false
   },
   "outputs": [
    {
     "name": "stdout",
     "output_type": "stream",
     "text": [
      "7\n",
      "1 2 1 3 2 4 "
     ]
    }
   ],
   "source": [
    "n = int(input())\n",
    "c = 0\n",
    "ans = [0 for x in range(10)]\n",
    "for i in range(2,n+1):\n",
    "    if not ans[i]:\n",
    "        c+=1\n",
    "        ans[i]=c\n",
    "        for j in range(i, n+1, i):\n",
    "            ans[j] = ans[i]\n",
    "    print(ans[i], end=\" \")"
   ]
  },
  {
   "cell_type": "code",
   "execution_count": null,
   "metadata": {
    "collapsed": true
   },
   "outputs": [],
   "source": []
  }
 ],
 "metadata": {
  "kernelspec": {
   "display_name": "Python 3",
   "language": "python",
   "name": "python3"
  },
  "language_info": {
   "codemirror_mode": {
    "name": "ipython",
    "version": 3
   },
   "file_extension": ".py",
   "mimetype": "text/x-python",
   "name": "python",
   "nbconvert_exporter": "python",
   "pygments_lexer": "ipython3",
   "version": "3.6.0"
  }
 },
 "nbformat": 4,
 "nbformat_minor": 2
}
