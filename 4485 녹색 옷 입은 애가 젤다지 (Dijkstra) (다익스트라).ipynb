{
 "cells": [
  {
   "cell_type": "code",
   "execution_count": 3,
   "metadata": {
    "collapsed": false
   },
   "outputs": [
    {
     "name": "stdout",
     "output_type": "stream",
     "text": [
      "3\n",
      "5 5 4\n",
      "3 9 1\n",
      "3 2 7\n",
      "Problem 1: 20\n",
      "5\n",
      "3 7 2 0 1\n",
      "2 8 0 9 1\n",
      "1 2 1 8 1 \n",
      "9 8 9 2 0\n",
      "3 6 5 1 5\n",
      "Problem 2: 19\n",
      "0\n"
     ]
    }
   ],
   "source": [
    "import sys\n",
    "#input=sys.stdin.readline\n",
    "from heapq import *\n",
    "x = [0,1,0,-1]\n",
    "y = [-1,0,1,0]\n",
    "t = 1\n",
    "while True:\n",
    "    n = int(input())\n",
    "    if n == 0:\n",
    "        break\n",
    "    arr=[]\n",
    "    for _ in range(n):\n",
    "        arr.append(list(map(int,input().split())))\n",
    "    \n",
    "    d = [[9876543210]*n for _ in range(n)]\n",
    "    d[0][0] = arr[0][0]\n",
    "    heap = [(d[0][0],0,0)]\n",
    "    while heap:\n",
    "        cost, r, c = heappop(heap)\n",
    "        if cost>d[r][c]:continue        \n",
    "        for i in range(4):\n",
    "            nr = r+y[i]\n",
    "            nc = c+x[i]\n",
    "            if 0<=nr<n and 0<=nc<n:\n",
    "                if d[nr][nc]>d[r][c]+arr[nr][nc]:\n",
    "                    d[nr][nc] = d[r][c]+arr[nr][nc]\n",
    "                    heappush(heap, (d[nr][nc],nr,nc))\n",
    "    print(\"Problem %d: %d\" %(t, d[n-1][n-1]))\n",
    "    t+=1"
   ]
  },
  {
   "cell_type": "code",
   "execution_count": null,
   "metadata": {
    "collapsed": false
   },
   "outputs": [],
   "source": [
    "heap"
   ]
  },
  {
   "cell_type": "code",
   "execution_count": null,
   "metadata": {
    "collapsed": false
   },
   "outputs": [],
   "source": [
    "x = 3\n",
    "heappush(heap,-x)\n",
    "print(heap)"
   ]
  },
  {
   "cell_type": "code",
   "execution_count": null,
   "metadata": {
    "collapsed": true
   },
   "outputs": [],
   "source": []
  }
 ],
 "metadata": {
  "kernelspec": {
   "display_name": "Python 3",
   "language": "python",
   "name": "python3"
  },
  "language_info": {
   "codemirror_mode": {
    "name": "ipython",
    "version": 3
   },
   "file_extension": ".py",
   "mimetype": "text/x-python",
   "name": "python",
   "nbconvert_exporter": "python",
   "pygments_lexer": "ipython3",
   "version": "3.6.0"
  }
 },
 "nbformat": 4,
 "nbformat_minor": 2
}
