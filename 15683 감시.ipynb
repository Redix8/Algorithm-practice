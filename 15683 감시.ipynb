{
 "cells": [
  {
   "cell_type": "code",
   "execution_count": 52,
   "metadata": {
    "collapsed": false
   },
   "outputs": [
    {
     "name": "stdout",
     "output_type": "stream",
     "text": [
      "1 7\n",
      "0 1 2 3 4 5 6\n"
     ]
    }
   ],
   "source": [
    "import copy\n",
    "N, M = map(int, input().split())\n",
    "arr = [list(map(int,input().split())) for _ in range(N)]\n"
   ]
  },
  {
   "cell_type": "code",
   "execution_count": 17,
   "metadata": {
    "collapsed": true
   },
   "outputs": [],
   "source": [
    "def camera(arr, nx,ny, angle):\n",
    "    global N, M\n",
    "    dx = [0,0,1,-1] #up, down, right,left\n",
    "    dy = [1,-1,0,0]\n",
    "    while True:\n",
    "        nx = nx + dx[angle]\n",
    "        ny = ny + dy[angle]\n",
    "        if 0<=nx and nx< M and 0<=ny and ny<N:\n",
    "            if arr[ny][nx] == 6:\n",
    "                break\n",
    "            elif arr[ny][nx] == 0:\n",
    "                arr[ny][nx] = '#'\n",
    "        else:break"
   ]
  },
  {
   "cell_type": "code",
   "execution_count": 21,
   "metadata": {
    "collapsed": true
   },
   "outputs": [],
   "source": [
    "def count(arr):\n",
    "    global N, M\n",
    "    cnt = 0\n",
    "    for i in range(N):\n",
    "        for j in range(M):\n",
    "            if arr[i][j] == 0:\n",
    "                cnt+=1\n",
    "    return cnt"
   ]
  },
  {
   "cell_type": "code",
   "execution_count": 53,
   "metadata": {
    "collapsed": false
   },
   "outputs": [
    {
     "name": "stdout",
     "output_type": "stream",
     "text": [
      "0\n"
     ]
    }
   ],
   "source": [
    "from collections import deque\n",
    "q = deque()\n",
    "cam = deque()\n",
    "for i in range(N):\n",
    "    for j in range(M):\n",
    "        if 0<arr[i][j] and arr[i][j]<6:\n",
    "            cam.append((i,j))\n",
    "q.append(arr)\n",
    "while cam:\n",
    "    r,c = cam.popleft()\n",
    "    tmp = deque()\n",
    "    while q:\n",
    "        a = q.popleft()\n",
    "        typ = a[r][c]\n",
    "        if typ == 1:\n",
    "            for i in range(4):\n",
    "                nxt = copy.deepcopy(a)\n",
    "                camera(nxt, c,r,i)\n",
    "                tmp.append(nxt)\n",
    "        elif typ == 2:\n",
    "            for i in range(0,4,2):\n",
    "                nxt= copy.deepcopy(a)\n",
    "                camera(nxt, c,r, i)\n",
    "                camera(nxt, c,r, i+1)\n",
    "                tmp.append(nxt)\n",
    "        elif typ == 3:\n",
    "            for i in range(2):                \n",
    "                for j in range(2):\n",
    "                    nxt= copy.deepcopy(a)\n",
    "                    camera(nxt, c,r, i)\n",
    "                    camera(nxt, c,r, j+2)\n",
    "                    tmp.append(nxt)\n",
    "        elif typ == 4:\n",
    "            for i in range(4):\n",
    "                nxt = copy.deepcopy(a)\n",
    "                camera(nxt, c,r,i)\n",
    "                camera(nxt, c,r,(i+1)%4)\n",
    "                camera(nxt, c,r,(i+2)%4)\n",
    "                tmp.append(nxt)            \n",
    "        elif typ == 5:\n",
    "            nxt = copy.deepcopy(a)\n",
    "            for i in range(4):\n",
    "                camera(nxt, c,r,i)\n",
    "            tmp.append(nxt)\n",
    "    q = tmp\n",
    "    #pprint.pprint(q)\n",
    "\n",
    "mi = 9876\n",
    "for a in q:\n",
    "    tmp = count(a)\n",
    "    if tmp<mi:\n",
    "        mi = tmp\n",
    "print(mi)   "
   ]
  },
  {
   "cell_type": "code",
   "execution_count": 9,
   "metadata": {
    "collapsed": false
   },
   "outputs": [],
   "source": [
    "arr[3][2] = 0"
   ]
  },
  {
   "cell_type": "code",
   "execution_count": 16,
   "metadata": {
    "collapsed": false
   },
   "outputs": [
    {
     "name": "stdout",
     "output_type": "stream",
     "text": [
      "0\n",
      "2\n"
     ]
    }
   ],
   "source": [
    "for i in range(0,4,2):\n",
    "    print(i)\n"
   ]
  },
  {
   "cell_type": "code",
   "execution_count": 14,
   "metadata": {
    "collapsed": false
   },
   "outputs": [
    {
     "data": {
      "text/plain": [
       "[[0, 0, 0, 0, 0, 0],\n",
       " [0, 0, 0, 0, 0, 0],\n",
       " [0, 0, 1, '#', 6, 0],\n",
       " [0, 0, 0, 0, 0, 0]]"
      ]
     },
     "execution_count": 14,
     "metadata": {},
     "output_type": "execute_result"
    }
   ],
   "source": [
    "camera(arr, 2,2,2)"
   ]
  },
  {
   "cell_type": "code",
   "execution_count": 45,
   "metadata": {
    "collapsed": false
   },
   "outputs": [
    {
     "data": {
      "text/plain": [
       "[[0, 0, 0, 0, 0, 0],\n",
       " [0, 2, 0, 0, 0, 0],\n",
       " [0, 0, 0, 0, 6, 0],\n",
       " [0, 6, 0, 0, 2, 0],\n",
       " [0, 0, 0, 0, 0, 0],\n",
       " [0, 0, 0, 0, 0, 5]]"
      ]
     },
     "execution_count": 45,
     "metadata": {},
     "output_type": "execute_result"
    }
   ],
   "source": [
    "arr"
   ]
  },
  {
   "cell_type": "code",
   "execution_count": 49,
   "metadata": {
    "collapsed": false
   },
   "outputs": [
    {
     "name": "stdout",
     "output_type": "stream",
     "text": [
      "15\n",
      "15\n",
      "14\n",
      "13\n"
     ]
    }
   ],
   "source": [
    "def change(arr):\n",
    "    for i in range(N):\n",
    "        for j in range(M):\n",
    "            if arr[i][j] == '#':\n",
    "                arr[i][j] = 9\n",
    "\n",
    "for a in q:\n",
    "    change(a)\n",
    "    print(count(a))"
   ]
  },
  {
   "cell_type": "code",
   "execution_count": 44,
   "metadata": {
    "collapsed": false
   },
   "outputs": [
    {
     "data": {
      "text/plain": [
       "6"
      ]
     },
     "execution_count": 44,
     "metadata": {},
     "output_type": "execute_result"
    }
   ],
   "source": [
    "M"
   ]
  },
  {
   "cell_type": "code",
   "execution_count": 37,
   "metadata": {
    "collapsed": true
   },
   "outputs": [],
   "source": [
    "import pprint"
   ]
  },
  {
   "cell_type": "code",
   "execution_count": null,
   "metadata": {
    "collapsed": true
   },
   "outputs": [],
   "source": []
  }
 ],
 "metadata": {
  "kernelspec": {
   "display_name": "Python 3",
   "language": "python",
   "name": "python3"
  },
  "language_info": {
   "codemirror_mode": {
    "name": "ipython",
    "version": 3
   },
   "file_extension": ".py",
   "mimetype": "text/x-python",
   "name": "python",
   "nbconvert_exporter": "python",
   "pygments_lexer": "ipython3",
   "version": "3.6.0"
  }
 },
 "nbformat": 4,
 "nbformat_minor": 2
}
