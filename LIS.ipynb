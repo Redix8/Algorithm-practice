{
 "cells": [
  {
   "cell_type": "code",
   "execution_count": 2,
   "metadata": {
    "collapsed": false
   },
   "outputs": [
    {
     "name": "stdout",
     "output_type": "stream",
     "text": [
      "8\n",
      "10 20 10 30 20 50 10 60\n"
     ]
    }
   ],
   "source": [
    "N = int(input())\n",
    "A = list(map(int,input().split()))"
   ]
  },
  {
   "cell_type": "code",
   "execution_count": 2,
   "metadata": {
    "collapsed": false
   },
   "outputs": [],
   "source": [
    "cache = [0]*N\n",
    "def lis(start):\n",
    "    global A, N, cache\n",
    "    if(cache[start]!=0): return cache[start]\n",
    "    ret = 1\n",
    "    for i in range(start+1, N):\n",
    "        if(A[start] < A[i]):\n",
    "            ret = max(ret, lis(i)+1)\n",
    "            cache[start] = ret\n",
    "    return ret"
   ]
  },
  {
   "cell_type": "code",
   "execution_count": 3,
   "metadata": {
    "collapsed": false
   },
   "outputs": [
    {
     "name": "stdout",
     "output_type": "stream",
     "text": [
      "5\n"
     ]
    }
   ],
   "source": [
    "maxLen = 0\n",
    "for i in range(N):\n",
    "    maxLen = max(maxLen, lis(i))\n",
    "print(maxLen)"
   ]
  },
  {
   "cell_type": "code",
   "execution_count": 4,
   "metadata": {
    "collapsed": false
   },
   "outputs": [
    {
     "data": {
      "text/plain": [
       "[5, 4, 4, 3, 3, 2, 2, 0]"
      ]
     },
     "execution_count": 4,
     "metadata": {},
     "output_type": "execute_result"
    }
   ],
   "source": [
    "cache"
   ]
  },
  {
   "cell_type": "markdown",
   "metadata": {},
   "source": [
    "### dp의 갱신 원리 \n",
    "<br>\n",
    "**A[j] < A[i] : **\n",
    "\n",
    "A[i]의 숫자가 0~(i-1)중 j번째 위치의 숫자보다 크다. <br>\n",
    "즉, [..., A[j], A[i]] 의 수열이다. \n",
    "\n",
    "\n",
    "**dp[i] < dp[j] + 1 : **\n",
    "\n",
    "현재까지 구한 A[i] 의 LIS길이보다<br>\n",
    "A[j]까지의 배열에 A[i]가 더해진 새 수열의 길이가 더 긴 수열이라면 갱신한다.\n",
    "\n"
   ]
  },
  {
   "cell_type": "code",
   "execution_count": 17,
   "metadata": {
    "collapsed": false
   },
   "outputs": [],
   "source": [
    "dp = [0]*(N+1)\n",
    "for i in range(N):\n",
    "    dp[i] = 1      #자기 자신의 길이\n",
    "    for j in range(i):\n",
    "        if (A[j]<A[i] and dp[i] < dp[j]+1):\n",
    "            dp[i] = dp[j]+1"
   ]
  },
  {
   "cell_type": "code",
   "execution_count": 18,
   "metadata": {
    "collapsed": false
   },
   "outputs": [
    {
     "data": {
      "text/plain": [
       "[1, 2, 1, 3, 2, 4, 1, 5, 0]"
      ]
     },
     "execution_count": 18,
     "metadata": {},
     "output_type": "execute_result"
    }
   ],
   "source": [
    "dp"
   ]
  },
  {
   "cell_type": "code",
   "execution_count": 5,
   "metadata": {
    "collapsed": false
   },
   "outputs": [
    {
     "data": {
      "text/plain": [
       "[10, 20, 10, 30, 20, 50, 10, 60]"
      ]
     },
     "execution_count": 5,
     "metadata": {},
     "output_type": "execute_result"
    }
   ],
   "source": []
  },
  {
   "cell_type": "code",
   "execution_count": null,
   "metadata": {
    "collapsed": true
   },
   "outputs": [],
   "source": []
  }
 ],
 "metadata": {
  "kernelspec": {
   "display_name": "Python 3",
   "language": "python",
   "name": "python3"
  },
  "language_info": {
   "codemirror_mode": {
    "name": "ipython",
    "version": 3
   },
   "file_extension": ".py",
   "mimetype": "text/x-python",
   "name": "python",
   "nbconvert_exporter": "python",
   "pygments_lexer": "ipython3",
   "version": "3.6.0"
  }
 },
 "nbformat": 4,
 "nbformat_minor": 2
}
