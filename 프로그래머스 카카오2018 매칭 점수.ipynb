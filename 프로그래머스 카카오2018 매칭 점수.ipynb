{
 "cells": [
  {
   "cell_type": "code",
   "execution_count": 70,
   "metadata": {
    "collapsed": true
   },
   "outputs": [],
   "source": [
    "h = [\"<html lang=\\\"ko\\\" xml:lang=\\\"ko\\\" xmlns=\\\"http://www.w3.org/1999/xhtml\\\">\\n<head>\\n  <meta charset=\\\"utf-8\\\">\\n  <meta property=\\\"og:url\\\" content=\\\"https://a.com\\\"/>\\n</head>  \\n<body>\\nBlind Lorem Blind ipsum dolor Blind test sit amet, consectetur adipiscing elit. \\n<a href=\\\"https://b.com\\\"> Link to b </a>\\n</body>\\n</html>\", \"<html lang=\\\"ko\\\" xml:lang=\\\"ko\\\" xmlns=\\\"http://www.w3.org/1999/xhtml\\\">\\n<head>\\n  <meta charset=\\\"utf-8\\\">\\n  <meta property=\\\"og:url\\\" content=\\\"https://b.com\\\"/>\\n</head>  \\n<body>\\nSuspendisse potenti. Vivamus venenatis tellus non turpis bibendum, \\n<a href=\\\"https://a.com\\\"> Link to a </a>\\nblind sed congue urna varius. Suspendisse feugiat nisl ligula, quis malesuada felis hendrerit ut.\\n<a href=\\\"https://c.com\\\"> Link to c </a>\\n</body>\\n</html>\", \"<html lang=\\\"ko\\\" xml:lang=\\\"ko\\\" xmlns=\\\"http://www.w3.org/1999/xhtml\\\">\\n<head>\\n  <meta charset=\\\"utf-8\\\">\\n  <meta property=\\\"og:url\\\" content=\\\"https://c.com\\\"/>\\n</head>  \\n<body>\\nUt condimentum urna at felis sodales rutrum. Sed dapibus cursus diam, non interdum nulla tempor nec. Phasellus rutrum enim at orci consectetu blind\\n<a href=\\\"https://a.com\\\"> Link to a </a>\\n</body>\\n</html>\"]\n"
   ]
  },
  {
   "cell_type": "code",
   "execution_count": 5,
   "metadata": {
    "collapsed": false
   },
   "outputs": [
    {
     "name": "stdout",
     "output_type": "stream",
     "text": [
      "<html lang=\"ko\" xml:lang=\"ko\" xmlns=\"http://www.w3.org/1999/xhtml\">\n",
      "<head>\n",
      "  <meta charset=\"utf-8\">\n",
      "  <meta property=\"og:url\" content=\"https://a.com\"/>\n",
      "</head>  \n",
      "<body>\n",
      "Blind Lorem Blind ipsum dolor Blind test sit amet, consectetur adipiscing elit. \n",
      "<a href=\"https://b.com\"> Link to b </a>\n",
      "</body>\n",
      "</html>\n",
      "<html lang=\"ko\" xml:lang=\"ko\" xmlns=\"http://www.w3.org/1999/xhtml\">\n",
      "<head>\n",
      "  <meta charset=\"utf-8\">\n",
      "  <meta property=\"og:url\" content=\"https://b.com\"/>\n",
      "</head>  \n",
      "<body>\n",
      "Suspendisse potenti. Vivamus venenatis tellus non turpis bibendum, \n",
      "<a href=\"https://a.com\"> Link to a </a>\n",
      "blind sed congue urna varius. Suspendisse feugiat nisl ligula, quis malesuada felis hendrerit ut.\n",
      "<a href=\"https://c.com\"> Link to c </a>\n",
      "</body>\n",
      "</html>\n",
      "<html lang=\"ko\" xml:lang=\"ko\" xmlns=\"http://www.w3.org/1999/xhtml\">\n",
      "<head>\n",
      "  <meta charset=\"utf-8\">\n",
      "  <meta property=\"og:url\" content=\"https://c.com\"/>\n",
      "</head>  \n",
      "<body>\n",
      "Ut condimentum urna at felis sodales rutrum. Sed dapibus cursus diam, non interdum nulla tempor nec. Phasellus rutrum enim at orci consectetu blind\n",
      "<a href=\"https://a.com\"> Link to a </a>\n",
      "</body>\n",
      "</html>\n"
     ]
    }
   ],
   "source": [
    "for i in h:\n",
    "    print(i)\n",
    "    print"
   ]
  },
  {
   "cell_type": "code",
   "execution_count": 10,
   "metadata": {
    "collapsed": false
   },
   "outputs": [
    {
     "data": {
      "text/plain": [
       "<RegexFlag.DOTALL: 16>"
      ]
     },
     "execution_count": 10,
     "metadata": {},
     "output_type": "execute_result"
    }
   ],
   "source": [
    "import re\n"
   ]
  },
  {
   "cell_type": "code",
   "execution_count": 79,
   "metadata": {
    "collapsed": false
   },
   "outputs": [],
   "source": [
    "def getURL(html):        \n",
    "    t=re.compile('<meta.*content=.*/>', re.DOTALL)\n",
    "    pickURL=re.compile('(http(s)?:\\/\\/)([a-z0-9\\w]+\\.*)+[a-z0-9]{2,4}')    \n",
    "    res = t.search(html)    \n",
    "    ret = pickURL.search(res.group())\n",
    "    return ret.group()\n",
    "\n",
    "def getLinks(html):\n",
    "    t=re.compile('<a href.*\\\">')\n",
    "    pickURL=re.compile('(http(s)?:\\/\\/)([a-z0-9\\w]+\\.*)+[a-z0-9]{2,4}')    \n",
    "    result = t.findall(html)\n",
    "    ret = []\n",
    "    for h in result:\n",
    "        ret.append(pickURL.search(h).group())\n",
    "    return ret\n",
    "\n",
    "def getScore(word, html):\n",
    "    restr = '[^a-zA-Z]{}[^a-zA-Z]'.format(word)\n",
    "    t=re.compile(restr)\n",
    "    result = t.findall(html)\n",
    "    return len(result)"
   ]
  },
  {
   "cell_type": "code",
   "execution_count": 80,
   "metadata": {
    "collapsed": false
   },
   "outputs": [
    {
     "data": {
      "text/plain": [
       "'https://a.com'"
      ]
     },
     "execution_count": 80,
     "metadata": {},
     "output_type": "execute_result"
    }
   ],
   "source": [
    "getLinks(h[0])\n",
    "getScore('blind'.lower(),h[0].lower())\n",
    "getURL(h[0])"
   ]
  },
  {
   "cell_type": "code",
   "execution_count": 111,
   "metadata": {
    "collapsed": false
   },
   "outputs": [
    {
     "name": "stdout",
     "output_type": "stream",
     "text": [
      "https://careers.kakao.com/interview/list\"\n",
      "https://www.kakaocorp.com\"\n"
     ]
    },
    {
     "data": {
      "text/plain": [
       "1"
      ]
     },
     "execution_count": 111,
     "metadata": {},
     "output_type": "execute_result"
    }
   ],
   "source": [
    "from collections import defaultdict\n",
    "import re\n",
    "\n",
    "def getURL(html):        \n",
    "    t=re.compile('<meta.*content=.*/>', re.DOTALL)\n",
    "    pickURL=re.compile('https:.*\\\"')    \n",
    "    res = t.search(html)    \n",
    "    ret = pickURL.search(res.group())\n",
    "    return ret.group()\n",
    "\n",
    "def getLinks(html):\n",
    "    t=re.compile('<a href.*\\\">')\n",
    "    pickURL=re.compile('https:.*\\\"')    \n",
    "    result = t.findall(html)\n",
    "    ret = []\n",
    "    for h in result:\n",
    "        ret.append(pickURL.search(h).group())\n",
    "    return ret\n",
    "\n",
    "def getScore(word, html):\n",
    "    restr = '[^a-zA-Z]{}[^a-zA-Z]'.format(word)    \n",
    "    s = re.compile('>[^<]*<',re.DOTALL)\n",
    "    t = re.compile(restr)\n",
    "    result =[]\n",
    "    for txt in s.findall(html):\n",
    "        result += t.findall(txt)\n",
    "    #print(txt)\n",
    "    return len(result)\n",
    "\n",
    "def solution(word, pages):\n",
    "    d = defaultdict(int)\n",
    "    idx = {}\n",
    "    for i, html in enumerate(pages):\n",
    "        url = getURL(html)\n",
    "        print(url)\n",
    "        links = getLinks(html)\n",
    "        score = getScore(word.lower(), html.lower())\n",
    "        d[url]+=score\n",
    "        idx[url]= i\n",
    "        for link in links:\n",
    "            d[link]+=score/len(links)\n",
    "    ret =[]\n",
    "    for key in idx.keys():\n",
    "        ret.append((d[key], idx[key]))\n",
    "    ret = sorted(ret, key=lambda x:x[1])\n",
    "    ret = sorted(ret, key=lambda x:x[0], reverse=True)\n",
    "        \n",
    "    answer = ret[0][1]\n",
    "    return answer\n",
    "\n",
    "h = [\"<html lang=\\\"ko\\\" xml:lang=\\\"ko\\\" xmlns=\\\"http://www.w3.org/1999/xhtml\\\">\\n<head>\\n  <meta charset=\\\"utf-8\\\">\\n  <meta property=\\\"og:url\\\" content=\\\"https://careers.kakao.com/interview/list\\\"/>\\n</head>  \\n<body>\\n<a href=\\\"https://programmers.co.kr/learn/courses/4673\\\"></a>#!MuziMuzi!)jayg07con&&\\n\\n</body>\\n</html>\", \"<html lang=\\\"ko\\\" xml:lang=\\\"ko\\\" xmlns=\\\"http://www.w3.org/1999/xhtml\\\">\\n<head>\\n  <meta charset=\\\"utf-8\\\">\\n  <meta property=\\\"og:url\\\" content=\\\"https://www.kakaocorp.com\\\"/>\\n</head>  \\n<body>\\ncon%\\tmuzI92apeach&2<a href=\\\"https://hashcode.co.kr/tos\\\"></a>\\n\\n\\t^\\n</body>\\n</html>\"]\n",
    "\n",
    "solution('Muzi', h)"
   ]
  },
  {
   "cell_type": "code",
   "execution_count": 118,
   "metadata": {
    "collapsed": false
   },
   "outputs": [
    {
     "name": "stdout",
     "output_type": "stream",
     "text": [
      "https://careers.kakao.com/interview/list\n",
      "https://www.kakaocorp.com\n"
     ]
    },
    {
     "data": {
      "text/plain": [
       "1"
      ]
     },
     "execution_count": 118,
     "metadata": {},
     "output_type": "execute_result"
    }
   ],
   "source": [
    "from collections import defaultdict\n",
    "import re\n",
    "\n",
    "def getURL(html):        \n",
    "    t=re.compile('<meta.*?>', re.DOTALL)\n",
    "    pickURL=re.compile('https:.*?\\\"')    \n",
    "    res = t.findall(html)\n",
    "    ret = None\n",
    "    for x in res:\n",
    "        ret = pickURL.search(x)\n",
    "        if ret:break    \n",
    "    return ret.group()\n",
    "\n",
    "def getLinks(html):\n",
    "    t=re.compile('<a href.*?>')\n",
    "    pickURL=re.compile('https:.*?\\\"')    \n",
    "    result = t.findall(html)\n",
    "    ret = []\n",
    "    for h in result:\n",
    "        ret.append(pickURL.search(h).group())\n",
    "    return ret\n",
    "\n",
    "def getScore(word, html):    \n",
    "    s = re.compile('[^a-zA-Z]+')\n",
    "    arr = s.sub('.', html).split('.')\n",
    "    ret = 0\n",
    "    for x in arr:\n",
    "        if x == word:\n",
    "            ret+=1            \n",
    "    return ret\n",
    "\n",
    "def solution(word, pages):\n",
    "    d = defaultdict(int)\n",
    "    idx = {}\n",
    "    for i, html in enumerate(pages):\n",
    "        url = getURL(html)\n",
    "        links = getLinks(html)\n",
    "        score = getScore(word.lower(), html.lower())\n",
    "        d[url]+=score\n",
    "        idx[url]= i\n",
    "        for link in links:\n",
    "            d[link]+=score/len(links)\n",
    "    ret =[]\n",
    "    for key in idx.keys():\n",
    "        ret.append((d[key], idx[key]))\n",
    "    ret = sorted(ret, key=lambda x:x[1])\n",
    "    ret = sorted(ret, key=lambda x:x[0], reverse=True)\n",
    "        \n",
    "    answer = ret[0][1]\n",
    "    return answer\n",
    "\n",
    "h = [\"<html lang=\\\"ko\\\" xml:lang=\\\"ko\\\" xmlns=\\\"http://www.w3.org/1999/xhtml\\\">\\n<head>\\n  <meta charset=\\\"utf-8\\\">\\n  <meta property=\\\"og:url\\\" content=\\\"https://careers.kakao.com/interview/list\\\"/>\\n</head>  \\n<body>\\n<a href=\\\"https://programmers.co.kr/learn/courses/4673\\\"></a>#!MuziMuzi!)jayg07con&&\\n\\n</body>\\n</html>\", \"<html lang=\\\"ko\\\" xml:lang=\\\"ko\\\" xmlns=\\\"http://www.w3.org/1999/xhtml\\\">\\n<head>\\n  <meta charset=\\\"utf-8\\\">\\n  <meta property=\\\"og:url\\\" content=\\\"https://www.kakaocorp.com\\\"/>\\n</head>  \\n<body>\\ncon%\\tmuzI92apeach&2<a href=\\\"https://hashcode.co.kr/tos\\\"></a>\\n\\n\\t^\\n</body>\\n</html>\"]\n",
    "\n",
    "solution('Muzi', h)"
   ]
  },
  {
   "cell_type": "code",
   "execution_count": 69,
   "metadata": {
    "collapsed": false
   },
   "outputs": [
    {
     "name": "stdout",
     "output_type": "stream",
     "text": [
      "{('shit', 1): 1}\n"
     ]
    }
   ],
   "source": [
    "f = {}\n",
    "f[('shit',1)] = 1\n",
    "print(f)"
   ]
  },
  {
   "cell_type": "code",
   "execution_count": 23,
   "metadata": {
    "collapsed": true
   },
   "outputs": [],
   "source": [
    "from html.parser import HTMLParser\n"
   ]
  },
  {
   "cell_type": "code",
   "execution_count": 41,
   "metadata": {
    "collapsed": false
   },
   "outputs": [],
   "source": [
    "pageURL = ''\n",
    "outLink = []\n",
    "class MyParser(HTMLParser):\n",
    "    global pageURL,\n",
    "    def handle_starttag(self, tag, attrs):\n",
    "        if tag == 'meta':\n",
    "            "
   ]
  },
  {
   "cell_type": "code",
   "execution_count": 43,
   "metadata": {
    "collapsed": false
   },
   "outputs": [
    {
     "name": "stdout",
     "output_type": "stream",
     "text": [
      "None\n"
     ]
    }
   ],
   "source": [
    "parser = MyParser()\n",
    "parser.feed(h[0])\n",
    "parser.close()"
   ]
  },
  {
   "cell_type": "code",
   "execution_count": 103,
   "metadata": {
    "collapsed": false
   },
   "outputs": [
    {
     "name": "stdout",
     "output_type": "stream",
     "text": [
      "[]\n"
     ]
    },
    {
     "data": {
      "text/plain": [
       "0"
      ]
     },
     "execution_count": 103,
     "metadata": {},
     "output_type": "execute_result"
    }
   ],
   "source": [
    "getScore('dream', '<g> \\n dafawgwegfwefa<gg4e>')\n"
   ]
  },
  {
   "cell_type": "code",
   "execution_count": 112,
   "metadata": {
    "collapsed": false
   },
   "outputs": [
    {
     "ename": "TypeError",
     "evalue": "unhashable type: 'list'",
     "output_type": "error",
     "traceback": [
      "\u001b[0;31m---------------------------------------------------------------------------\u001b[0m",
      "\u001b[0;31mTypeError\u001b[0m                                 Traceback (most recent call last)",
      "\u001b[0;32m<ipython-input-112-53ece373f682>\u001b[0m in \u001b[0;36m<module>\u001b[0;34m()\u001b[0m\n\u001b[1;32m      1\u001b[0m \u001b[0mb\u001b[0m \u001b[1;33m=\u001b[0m \u001b[1;33m[\u001b[0m\u001b[1;33m]\u001b[0m\u001b[1;33m\u001b[0m\u001b[0m\n\u001b[1;32m      2\u001b[0m \u001b[0ma\u001b[0m \u001b[1;33m=\u001b[0m \u001b[1;33m{\u001b[0m\u001b[1;33m}\u001b[0m\u001b[1;33m\u001b[0m\u001b[0m\n\u001b[0;32m----> 3\u001b[0;31m \u001b[0ma\u001b[0m\u001b[1;33m[\u001b[0m\u001b[0mb\u001b[0m\u001b[1;33m]\u001b[0m \u001b[1;33m=\u001b[0m \u001b[1;36m0\u001b[0m\u001b[1;33m\u001b[0m\u001b[0m\n\u001b[0m",
      "\u001b[0;31mTypeError\u001b[0m: unhashable type: 'list'"
     ]
    }
   ],
   "source": []
  },
  {
   "cell_type": "code",
   "execution_count": null,
   "metadata": {
    "collapsed": true
   },
   "outputs": [],
   "source": []
  }
 ],
 "metadata": {
  "kernelspec": {
   "display_name": "Python 3",
   "language": "python",
   "name": "python3"
  },
  "language_info": {
   "codemirror_mode": {
    "name": "ipython",
    "version": 3
   },
   "file_extension": ".py",
   "mimetype": "text/x-python",
   "name": "python",
   "nbconvert_exporter": "python",
   "pygments_lexer": "ipython3",
   "version": "3.6.0"
  }
 },
 "nbformat": 4,
 "nbformat_minor": 2
}
