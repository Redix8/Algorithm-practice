{
 "cells": [
  {
   "cell_type": "code",
   "execution_count": 4,
   "metadata": {
    "collapsed": false
   },
   "outputs": [
    {
     "name": "stdout",
     "output_type": "stream",
     "text": [
      "5\n",
      "6\n",
      "70 T\n",
      "50 P\n",
      "30 N\n",
      "50 T\n",
      "30 P\n",
      "80 T\n",
      "7\n"
     ]
    }
   ],
   "source": [
    "k = int(input())\n",
    "n = int(input())\n",
    "q = [input().split() for _ in range(n)]\n",
    "limit = 60*3+30\n",
    "k-=1\n",
    "for time, an in q:\n",
    "    t = int(time)\n",
    "    limit -= t\n",
    "    if limit <=0:\n",
    "        break\n",
    "    if an == 'T':\n",
    "        k=(k+1)%8\n",
    "print(k+1)"
   ]
  },
  {
   "cell_type": "code",
   "execution_count": null,
   "metadata": {
    "collapsed": true
   },
   "outputs": [],
   "source": []
  }
 ],
 "metadata": {
  "kernelspec": {
   "display_name": "Python 3",
   "language": "python",
   "name": "python3"
  },
  "language_info": {
   "codemirror_mode": {
    "name": "ipython",
    "version": 3
   },
   "file_extension": ".py",
   "mimetype": "text/x-python",
   "name": "python",
   "nbconvert_exporter": "python",
   "pygments_lexer": "ipython3",
   "version": "3.6.0"
  }
 },
 "nbformat": 4,
 "nbformat_minor": 2
}
