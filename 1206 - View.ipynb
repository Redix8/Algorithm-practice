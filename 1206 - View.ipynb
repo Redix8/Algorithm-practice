{
 "cells": [
  {
   "cell_type": "code",
   "execution_count": 5,
   "metadata": {
    "collapsed": false
   },
   "outputs": [
    {
     "name": "stdout",
     "output_type": "stream",
     "text": [
      "691\n",
      "9092\n",
      "8998\n",
      "9597\n",
      "8757\n",
      "10008\n",
      "10194\n",
      "10188\n",
      "9940\n",
      "8684\n"
     ]
    }
   ],
   "source": [
    "import sys\n",
    "#input = sys.stdin.readline\n",
    "t = 10\n",
    "arr =[]\n",
    "with open(\"input.txt\", 'r') as f:\n",
    "    for i in range(t):\n",
    "        n = int(f.readline())\n",
    "        arr = list(map(int, f.readline().split()))\n",
    "        res = 0\n",
    "        for i in range(2, n-2):\n",
    "            v = check(i)\n",
    "            if arr[i]-v>0:\n",
    "                res+=arr[i]-v\n",
    "        print(res)\n",
    "        \n",
    "\n",
    "\n",
    "\n"
   ]
  },
  {
   "cell_type": "code",
   "execution_count": null,
   "metadata": {
    "collapsed": true
   },
   "outputs": [],
   "source": [
    "for i in range(t):\n",
    "    n = int(f.readline())\n",
    "    arr = list(map(int, f.readline().split()))\n",
    "    res = 0\n",
    "    for i in range(2, n-2):\n",
    "        v = check(i)\n",
    "        if arr[i]-v>0:\n",
    "            res+=arr[i]-v\n",
    "    print(res)\n",
    "    "
   ]
  },
  {
   "cell_type": "code",
   "execution_count": null,
   "metadata": {
    "collapsed": true
   },
   "outputs": [],
   "source": [
    "n = int(input())\n",
    "arr = list(map(int, input().split()))\n",
    "res = 0\n",
    "for i in range(2, n-2):\n",
    "    v = check(i)\n",
    "    if arr[i]-v>0:\n",
    "        res+=arr[i]-v\n",
    "print(res)"
   ]
  },
  {
   "cell_type": "code",
   "execution_count": 4,
   "metadata": {
    "collapsed": true
   },
   "outputs": [],
   "source": [
    "      "
   ]
  },
  {
   "cell_type": "code",
   "execution_count": null,
   "metadata": {
    "collapsed": true
   },
   "outputs": [],
   "source": [
    "import sys\n",
    "#input = sys.stdin.readline\n",
    "\n",
    "def check(i):\n",
    "    global arr\n",
    "    mx = 0\n",
    "    for j in range(i-2, i+3):\n",
    "        if j!=i and arr[j]>mx:\n",
    "            mx = arr[j]\n",
    "    return mx \n",
    "\n",
    "arr =[]\n",
    "t = 10\n",
    "for i in range(t):\n",
    "    n = int(input())\n",
    "    arr = list(map(int, input().split()))\n",
    "    res = 0\n",
    "    for i in range(2, n-2):\n",
    "        v = check(i)\n",
    "        if arr[i]-v>0:\n",
    "            res+=arr[i]-v\n",
    "    print('#%d %d' %(i+1, res))\n",
    "\n"
   ]
  }
 ],
 "metadata": {
  "kernelspec": {
   "display_name": "Python 3",
   "language": "python",
   "name": "python3"
  },
  "language_info": {
   "codemirror_mode": {
    "name": "ipython",
    "version": 3
   },
   "file_extension": ".py",
   "mimetype": "text/x-python",
   "name": "python",
   "nbconvert_exporter": "python",
   "pygments_lexer": "ipython3",
   "version": "3.6.0"
  }
 },
 "nbformat": 4,
 "nbformat_minor": 2
}
