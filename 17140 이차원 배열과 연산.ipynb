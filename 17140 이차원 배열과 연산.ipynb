{
 "cells": [
  {
   "cell_type": "code",
   "execution_count": 160,
   "metadata": {
    "collapsed": false
   },
   "outputs": [
    {
     "name": "stdout",
     "output_type": "stream",
     "text": [
      "1 2 5\n",
      "1 2 1\n",
      "2 1 3\n",
      "3 3 3\n",
      "-1\n"
     ]
    }
   ],
   "source": [
    "r,c,k = map(int, input().split())\n",
    "#arr = [list(map(int,input().split())) for _ in range(3)]\n",
    "arr = [[0]*100 for _ in range(100)]\n",
    "for i in range(3):\n",
    "    arr[i][0], arr[i][1], arr[i][2] = map(int, input().split())\n",
    "\n",
    "R, C = [3, 3]\n",
    "cnt = 0\n",
    "while arr[r-1][c-1]!=k and cnt<=100:\n",
    "    if R>=C:\n",
    "        doR(arr)\n",
    "    else:\n",
    "        doC(arr)\n",
    "    cnt+=1\n",
    "if cnt<=100: print(cnt)\n",
    "else: print(-1)"
   ]
  },
  {
   "cell_type": "code",
   "execution_count": 139,
   "metadata": {
    "collapsed": true
   },
   "outputs": [],
   "source": [
    "def doR(arr):\n",
    "    global R, C\n",
    "    mx = 0\n",
    "    for i in range(R):\n",
    "        cnt = [0]*101\n",
    "        new = []\n",
    "        for j in range(C):\n",
    "            if arr[i][j]!=0: \n",
    "                cnt[arr[i][j]]+=1\n",
    "                arr[i][j] = 0\n",
    "        for k,x in enumerate(cnt):\n",
    "            if x != 0: new.append([x,k])\n",
    "        new.sort()\n",
    "        if mx<len(new)*2:\n",
    "            mx = len(new)*2\n",
    "        for k,x in enumerate(new):\n",
    "            arr[i][k*2+1], arr[i][k*2] = x\n",
    "    C = mx"
   ]
  },
  {
   "cell_type": "code",
   "execution_count": 151,
   "metadata": {
    "collapsed": true
   },
   "outputs": [],
   "source": [
    "def doC(arr):\n",
    "    global R, C\n",
    "    mx = 0\n",
    "    for j in range(C):\n",
    "        cnt = [0]*101\n",
    "        new = []\n",
    "        for i in range(R):\n",
    "            if arr[i][j]!=0: \n",
    "                cnt[arr[i][j]]+=1\n",
    "                arr[i][j] = 0\n",
    "        for k,x in enumerate(cnt):\n",
    "            if x != 0: new.append([x,k])\n",
    "        new.sort()\n",
    "        if mx<len(new)*2:\n",
    "            mx = len(new)*2\n",
    "        for k,x in enumerate(new):\n",
    "            arr[k*2+1][j], arr[k*2][j] = x\n",
    "    R = mx"
   ]
  },
  {
   "cell_type": "code",
   "execution_count": 152,
   "metadata": {
    "collapsed": false
   },
   "outputs": [
    {
     "name": "stdout",
     "output_type": "stream",
     "text": [
      "[1, 2, 1, 0, 0, 0, 0, 0, 0, 0]\n",
      "[1, 1, 1, 0, 0, 0, 0, 0, 0, 0]\n",
      "[2, 3, 3, 0, 0, 0, 0, 0, 0, 0]\n",
      "[1, 1, 2, 0, 0, 0, 0, 0, 0, 0]\n",
      "[3, 0, 0, 0, 0, 0, 0, 0, 0, 0]\n",
      "[1, 0, 0, 0, 0, 0, 0, 0, 0, 0]\n",
      "[0, 0, 0, 0, 0, 0, 0, 0, 0, 0]\n",
      "[0, 0, 0, 0, 0, 0, 0, 0, 0, 0]\n",
      "[0, 0, 0, 0, 0, 0, 0, 0, 0, 0]\n",
      "[0, 0, 0, 0, 0, 0, 0, 0, 0, 0]\n"
     ]
    }
   ],
   "source": [
    "R,C = [3,3]\n",
    "arr = [[0]*100 for _ in range(100)]\n",
    "arr[0][0], arr[0][1], arr[0][2] = 1, 2 ,1 \n",
    "arr[1][0], arr[1][1], arr[1][2] = 2, 1, 3\n",
    "arr[2][0], arr[1][1], arr[2][2] = 3, 3, 3\n",
    "doC(arr)\n",
    "for x in arr[:10]:\n",
    "    print(x[:10])\n",
    "    "
   ]
  },
  {
   "cell_type": "code",
   "execution_count": 112,
   "metadata": {
    "collapsed": false
   },
   "outputs": [],
   "source": [
    "def doR(arr):\n",
    "    global R, C\n",
    "    mc = 0\n",
    "    new = []\n",
    "    for i in range(R):\n",
    "        d = Counter()\n",
    "        for j in range(C):\n",
    "            if arr[i][j]!=0: d[arr[i][j]]+=1\n",
    "        temp = list(d.items())\n",
    "        temp.sort()\n",
    "        temp = sorted(temp, key = lambda x:x[1])[:50]\n",
    "        temp = list(reduce(lambda x, y : x + y, temp))\n",
    "        new.append(temp)\n",
    "        if len(temp)>mc: mc = len(temp)\n",
    "    for i in range(R):\n",
    "        if len(new[i])<mc:\n",
    "            new[i] += [0]*(mc-len(new[i]))\n",
    "    C = mc\n",
    "    return new    "
   ]
  },
  {
   "cell_type": "code",
   "execution_count": 113,
   "metadata": {
    "collapsed": false
   },
   "outputs": [],
   "source": [
    "def doC(arr):\n",
    "    global R, C    \n",
    "    mc = 0\n",
    "    new = []\n",
    "    for j in range(C):\n",
    "        d = Counter()\n",
    "        for i in range(R):\n",
    "            if arr[i][j]!=0: d[arr[i][j]]+=1\n",
    "        temp = list(d.items())\n",
    "        temp.sort()\n",
    "        temp = sorted(temp, key = lambda x:x[1])[:50]\n",
    "        temp = list(reduce(lambda x, y : x + y, temp))\n",
    "        new.append(temp)\n",
    "        if len(temp)>mc: mc = len(temp)\n",
    "    for i in range(C):\n",
    "        if len(new[i])<mc:\n",
    "            new[i] += [0]*(mc-len(new[i]))\n",
    "    new = list(map(list, zip(*new)))\n",
    "    R = mc\n",
    "    return new    "
   ]
  },
  {
   "cell_type": "code",
   "execution_count": 71,
   "metadata": {
    "collapsed": false
   },
   "outputs": [],
   "source": [
    "from collections import Counter\n",
    "from functools import reduce"
   ]
  },
  {
   "cell_type": "code",
   "execution_count": 144,
   "metadata": {
    "collapsed": false
   },
   "outputs": [
    {
     "name": "stdout",
     "output_type": "stream",
     "text": [
      "[4, 1, 1, 2, 3, 2, 2, 3, 0, 0]\n",
      "[4, 1, 1, 2, 3, 2, 2, 3, 0, 0]\n",
      "[4, 1, 5, 1, 2, 2, 1, 3, 3, 3]\n",
      "[4, 1, 1, 2, 3, 2, 2, 3, 0, 0]\n",
      "[4, 1, 6, 1, 2, 2, 1, 3, 3, 3]\n",
      "[4, 1, 1, 2, 3, 2, 2, 3, 0, 0]\n",
      "[4, 1, 1, 2, 3, 2, 2, 3, 0, 0]\n",
      "[4, 1, 1, 2, 3, 2, 2, 3, 0, 0]\n",
      "[4, 1, 1, 2, 3, 2, 2, 3, 0, 0]\n",
      "[4, 1, 1, 2, 3, 2, 2, 3, 0, 0]\n"
     ]
    }
   ],
   "source": [
    "for x in arr[:10]:\n",
    "    print(x[:10])"
   ]
  },
  {
   "cell_type": "code",
   "execution_count": 52,
   "metadata": {
    "collapsed": false
   },
   "outputs": [
    {
     "name": "stdout",
     "output_type": "stream",
     "text": [
      "[2, 1, 1, 2]\n"
     ]
    },
    {
     "data": {
      "text/plain": [
       "[[2, 3, 2], [1, 1, 2], [1, 2, 1], [2, 2, 3], [0, 1, 3], [0, 3, 4]]"
      ]
     },
     "execution_count": 52,
     "metadata": {},
     "output_type": "execute_result"
    }
   ],
   "source": [
    "doC(arr)"
   ]
  },
  {
   "cell_type": "code",
   "execution_count": 69,
   "metadata": {
    "collapsed": false
   },
   "outputs": [
    {
     "data": {
      "text/plain": [
       "(3, 6)"
      ]
     },
     "execution_count": 69,
     "metadata": {},
     "output_type": "execute_result"
    }
   ],
   "source": [
    "R,C"
   ]
  },
  {
   "cell_type": "code",
   "execution_count": 158,
   "metadata": {
    "collapsed": false
   },
   "outputs": [
    {
     "name": "stdout",
     "output_type": "stream",
     "text": [
      "1 2 5\n",
      "1 2 1\n",
      "2 1 3\n",
      "3 3 3\n",
      "-1\n"
     ]
    }
   ],
   "source": [
    "r, c, k = map(int, input().split())\n",
    "a = [[0]*101 for _ in range(101)]\n",
    "n, m = 3, 3\n",
    "\n",
    "def solve():\n",
    "    global n, m\n",
    "    for t in range(101):\n",
    "        if a[r][c] == k:\n",
    "            print(t)\n",
    "            return\n",
    "        if n >= m:\n",
    "            for i in range(1, n+1):\n",
    "                cnt = [0]*101\n",
    "                for j in range(1, m+1):\n",
    "                    if a[i][j]:\n",
    "                        cnt[a[i][j]] += 1\n",
    "                        a[i][j] = 0\n",
    "                b = []\n",
    "                for j in range(1, 101):\n",
    "                    if cnt[j]:\n",
    "                        b.append((cnt[j], j))\n",
    "                b.sort()\n",
    "                m = max(m, len(b)*2)\n",
    "                j = 1\n",
    "                for x in b:\n",
    "                    a[i][j+1], a[i][j] = x\n",
    "                    j += 2\n",
    "        else:\n",
    "            for i in range(1, m+1):\n",
    "                cnt = [0]*101\n",
    "                for j in range(1, n+1):\n",
    "                    if a[j][i]:\n",
    "                        cnt[a[j][i]] += 1\n",
    "                        a[j][i] = 0\n",
    "                b = []\n",
    "                for j in range(1, 101):\n",
    "                    if cnt[j]:\n",
    "                        b.append((cnt[j], j))\n",
    "                b.sort()\n",
    "                n = max(n, len(b)*2)\n",
    "                j = 1\n",
    "                for x in b:\n",
    "                    a[j+1][i], a[j][i] = x\n",
    "                    j += 2\n",
    "    print(-1)\n",
    "\n",
    "for i in range(1, 4):\n",
    "    a[i][1], a[i][2], a[i][3] = map(int, input().split())\n",
    "solve()\n"
   ]
  },
  {
   "cell_type": "code",
   "execution_count": null,
   "metadata": {
    "collapsed": true
   },
   "outputs": [],
   "source": []
  }
 ],
 "metadata": {
  "kernelspec": {
   "display_name": "Python 3",
   "language": "python",
   "name": "python3"
  },
  "language_info": {
   "codemirror_mode": {
    "name": "ipython",
    "version": 3
   },
   "file_extension": ".py",
   "mimetype": "text/x-python",
   "name": "python",
   "nbconvert_exporter": "python",
   "pygments_lexer": "ipython3",
   "version": "3.6.0"
  }
 },
 "nbformat": 4,
 "nbformat_minor": 2
}
