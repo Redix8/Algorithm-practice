{
 "cells": [
  {
   "cell_type": "code",
   "execution_count": 54,
   "metadata": {
    "collapsed": true
   },
   "outputs": [],
   "source": [
    "from collections import deque\n",
    "\n",
    "def solution(bridge_length, weight, truck_weights):\n",
    "    bridge = deque()\n",
    "    bw = 0\n",
    "    crossed = []\n",
    "    trucks = deque(truck_weights)\n",
    "    answer =0\n",
    "    \n",
    "    while bridge or trucks:\n",
    "        answer+=1\n",
    "\n",
    "        if bridge:\n",
    "            time, tr = bridge[0]\n",
    "            if answer-time == bridge_length:\n",
    "                crossed.append(bridge.popleft())\n",
    "                bw-= tr\n",
    "                \n",
    "        if trucks:\n",
    "            if len(bridge)<bridge_length and bw+trucks[0]<=weight:\n",
    "                tr = trucks.popleft()\n",
    "                bridge.append((answer, tr))\n",
    "                bw+= tr\n",
    "    \n",
    "    return answer"
   ]
  },
  {
   "cell_type": "code",
   "execution_count": 55,
   "metadata": {
    "collapsed": true
   },
   "outputs": [],
   "source": [
    "#bridge_length = 2\n",
    "#weight        = 10\n",
    "#truck_weights = [7,4,5,6]\n",
    "\n",
    "#bridge_length = 100\n",
    "#weight        = 100\n",
    "#truck_weights = [10]\n",
    "#\n",
    "bridge_length = 100\n",
    "weight        = 100\n",
    "truck_weights = [10,10,10,10,10,10,10,10,10,10]\n",
    "\n",
    "#bridge_length = 5\n",
    "#weight        = 5\n",
    "#truck_weights = [1,1,1,1,2,1,1]"
   ]
  },
  {
   "cell_type": "code",
   "execution_count": 10,
   "metadata": {
    "collapsed": true
   },
   "outputs": [],
   "source": [
    "from collections import deque"
   ]
  },
  {
   "cell_type": "code",
   "execution_count": 70,
   "metadata": {
    "collapsed": false
   },
   "outputs": [],
   "source": [
    "bridge = deque()\n",
    "bw = 0\n",
    "crossed = []\n",
    "trucks = deque(truck_weights)\n",
    "answer =0"
   ]
  },
  {
   "cell_type": "code",
   "execution_count": 80,
   "metadata": {
    "collapsed": false
   },
   "outputs": [
    {
     "name": "stdout",
     "output_type": "stream",
     "text": [
      "[] deque([(1, 10), (2, 10), (3, 10), (4, 10), (5, 10), (6, 10), (7, 10), (8, 10), (9, 10), (10, 10)]) deque([]) 100 10\n"
     ]
    }
   ],
   "source": [
    "answer+=1\n",
    "\n",
    "if bridge:\n",
    "    time, tr = bridge[0]\n",
    "    if answer-time == bridge_length:\n",
    "        crossed.append(bridge.popleft())\n",
    "        bw-= tr\n",
    "        \n",
    "if trucks:\n",
    "    if len(bridge)<bridge_length and bw+trucks[0]<=weight:\n",
    "        tr = trucks.popleft()\n",
    "        bridge.append((answer, tr))\n",
    "        bw+= tr\n",
    "        \n",
    "print(crossed, bridge, trucks, bw, answer)"
   ]
  },
  {
   "cell_type": "code",
   "execution_count": 81,
   "metadata": {
    "collapsed": true
   },
   "outputs": [],
   "source": [
    "test = deque([0 for i in range(10)], maxlen=10)"
   ]
  },
  {
   "cell_type": "code",
   "execution_count": 87,
   "metadata": {
    "collapsed": false
   },
   "outputs": [
    {
     "data": {
      "text/plain": [
       "False"
      ]
     },
     "execution_count": 87,
     "metadata": {},
     "output_type": "execute_result"
    }
   ],
   "source": [
    "test == False"
   ]
  },
  {
   "cell_type": "code",
   "execution_count": null,
   "metadata": {
    "collapsed": true
   },
   "outputs": [],
   "source": []
  }
 ],
 "metadata": {
  "kernelspec": {
   "display_name": "Python 3",
   "language": "python",
   "name": "python3"
  },
  "language_info": {
   "codemirror_mode": {
    "name": "ipython",
    "version": 3
   },
   "file_extension": ".py",
   "mimetype": "text/x-python",
   "name": "python",
   "nbconvert_exporter": "python",
   "pygments_lexer": "ipython3",
   "version": "3.6.0"
  }
 },
 "nbformat": 4,
 "nbformat_minor": 2
}
