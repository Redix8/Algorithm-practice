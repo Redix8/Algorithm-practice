{
 "cells": [
  {
   "cell_type": "code",
   "execution_count": 2,
   "metadata": {
    "collapsed": false
   },
   "outputs": [
    {
     "name": "stdout",
     "output_type": "stream",
     "text": [
      "6 4\n",
      "0100\n",
      "1110\n",
      "1000\n",
      "0000\n",
      "0111\n",
      "0000\n"
     ]
    }
   ],
   "source": [
    "N, M = map(int, input().split())\n",
    "arr = [list(input()) for _ in range(N)]"
   ]
  },
  {
   "cell_type": "code",
   "execution_count": 30,
   "metadata": {
    "collapsed": false
   },
   "outputs": [
    {
     "name": "stdout",
     "output_type": "stream",
     "text": [
      "-1\n"
     ]
    }
   ],
   "source": [
    "from collections import deque\n",
    "x = [0,0,1,-1]\n",
    "y = [1,-1,0,0]\n",
    "q = deque()\n",
    "tmp = deque()\n",
    "visited=set()\n",
    "cnt = 1\n",
    "q.append((0,0,(0,0)))\n",
    "visited.add((0,0,(0,0)))\n",
    "while q:\n",
    "    r,c,w = q.popleft()\n",
    "    if (r, c) == (N-1, M-1):\n",
    "        break\n",
    "    for i in range(4):\n",
    "        nr = r+y[i]\n",
    "        nc = c+x[i]\n",
    "        if 0<=nr<N and 0<=nc<M:\n",
    "            t = arr[w[0]][w[1]]\n",
    "            arr[w[0]][w[1]] = '0'\n",
    "            if arr[nr][nc] == '1':\n",
    "                if w == (0,0) and (nr,nc,(nr,nc)) not in visited:\n",
    "                    tmp.append((nr,nc,(nr,nc)))\n",
    "                    visited.add((nr,nc,(nr,nc)))\n",
    "            else:\n",
    "                if not (nr,nc,w) in visited:\n",
    "                    tmp.append((nr,nc,w))\n",
    "                    visited.add((nr,nc,w))\n",
    "            arr[w[0]][w[1]] = t\n",
    "    if not q:\n",
    "        q = tmp\n",
    "        tmp=deque()\n",
    "        cnt+=1\n",
    "if (r,c) == (N-1,M-1):\n",
    "    print(cnt)\n",
    "else:print(-1)\n"
   ]
  },
  {
   "cell_type": "code",
   "execution_count": 21,
   "metadata": {
    "collapsed": false
   },
   "outputs": [
    {
     "name": "stdout",
     "output_type": "stream",
     "text": [
      "15\n"
     ]
    }
   ],
   "source": [
    "from collections import deque\n",
    "x = [0,0,1,-1]\n",
    "y = [1,-1,0,0]\n",
    "q = deque()\n",
    "visited = [[[0,0] for l in range(M)] for _ in range(N)]\n",
    "q.append((0,0,0))\n",
    "visited[0][0][0] = 1\n",
    "while q:\n",
    "    r,c,w = q.popleft()\n",
    "    if (r, c) == (N-1, M-1):\n",
    "        break\n",
    "    for i in range(4):\n",
    "        nr = r+y[i]\n",
    "        nc = c+x[i]\n",
    "        if 0<=nr<N and 0<=nc<M:\n",
    "            if arr[nr][nc] == '1':\n",
    "                if w == 0:\n",
    "                    visited[nr][nc][1] = visited[r][c][0]+1\n",
    "                    q.append((nr,nc,1))\n",
    "            else:\n",
    "                if not visited[nr][nc][w]:\n",
    "                    visited[nr][nc][w] = visited[r][c][w]+1\n",
    "                    q.append((nr,nc,w))             \n",
    "            \n",
    "if (r,c) == (N-1,M-1):\n",
    "    print(visited[r][c][w])\n",
    "else:print(-1)\n"
   ]
  },
  {
   "cell_type": "code",
   "execution_count": 23,
   "metadata": {
    "collapsed": false
   },
   "outputs": [
    {
     "data": {
      "text/plain": [
       "[['0', '1', '0', '0'],\n",
       " ['1', '1', '1', '0'],\n",
       " ['1', '0', '0', '0'],\n",
       " ['0', '0', '0', '0'],\n",
       " ['0', '1', '1', '1'],\n",
       " ['0', '0', '0', '0']]"
      ]
     },
     "execution_count": 23,
     "metadata": {},
     "output_type": "execute_result"
    }
   ],
   "source": [
    "arr"
   ]
  },
  {
   "cell_type": "code",
   "execution_count": 19,
   "metadata": {
    "collapsed": false
   },
   "outputs": [],
   "source": [
    "visited = [[[0,0] for l in range(M)] for _ in range(N)]"
   ]
  },
  {
   "cell_type": "code",
   "execution_count": 20,
   "metadata": {
    "collapsed": false
   },
   "outputs": [
    {
     "data": {
      "text/plain": [
       "[0, 0]"
      ]
     },
     "execution_count": 20,
     "metadata": {},
     "output_type": "execute_result"
    }
   ],
   "source": [
    "visited[0][0]"
   ]
  },
  {
   "cell_type": "code",
   "execution_count": null,
   "metadata": {
    "collapsed": true
   },
   "outputs": [],
   "source": []
  }
 ],
 "metadata": {
  "kernelspec": {
   "display_name": "Python 3",
   "language": "python",
   "name": "python3"
  },
  "language_info": {
   "codemirror_mode": {
    "name": "ipython",
    "version": 3
   },
   "file_extension": ".py",
   "mimetype": "text/x-python",
   "name": "python",
   "nbconvert_exporter": "python",
   "pygments_lexer": "ipython3",
   "version": "3.6.0"
  }
 },
 "nbformat": 4,
 "nbformat_minor": 2
}
