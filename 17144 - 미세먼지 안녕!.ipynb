{
 "cells": [
  {
   "cell_type": "code",
   "execution_count": null,
   "metadata": {
    "collapsed": false,
    "scrolled": false
   },
   "outputs": [],
   "source": [
    "R,C,T = map(int, input().split())\n",
    "arr =[list(map(int, input().split())) for i in range(R)]\n",
    "for i in range(T):\n",
    "    arr = spread(arr)\n",
    "    arr = airclean(arr)\n",
    "print(summ(arr))"
   ]
  },
  {
   "cell_type": "code",
   "execution_count": null,
   "metadata": {
    "collapsed": false
   },
   "outputs": [],
   "source": [
    "def spread(arr):\n",
    "    global R, C\n",
    "    x = [1,0,-1,0]\n",
    "    y = [0,1,0,-1]\n",
    "    new = [[0]*C for _ in range(R)]\n",
    "    for i in range(R):\n",
    "        for j in range(C):\n",
    "            if arr[i][j]>=5:\n",
    "                cnt = 0\n",
    "                for m in range(4):\n",
    "                    if 0<= i+y[m] and i+y[m]<R and 0<= j+x[m] and j+x[m]<C:\n",
    "                        if arr[i+y[m]][j+x[m]] != -1:\n",
    "                            new[i+y[m]][j+x[m]] += arr[i][j]//5\n",
    "                            cnt+= arr[i][j]//5\n",
    "                new[i][j] += arr[i][j]-cnt\n",
    "            else:                \n",
    "                new[i][j] += arr[i][j]\n",
    "                \n",
    "    arr=new"
   ]
  },
  {
   "cell_type": "code",
   "execution_count": null,
   "metadata": {
    "collapsed": false,
    "scrolled": true
   },
   "outputs": [],
   "source": [
    "spread(arr)"
   ]
  },
  {
   "cell_type": "code",
   "execution_count": null,
   "metadata": {
    "collapsed": false
   },
   "outputs": [],
   "source": [
    "cleaner = []\n",
    "for i in range(R):\n",
    "    if arr[i][0] == -1:\n",
    "        cleaner.append(i)\n",
    "def airclean(arr):\n",
    "    global R, C, cleaner\n",
    "    for i in range(cleaner[0]-1,0,-1):\n",
    "        arr[i][0] = arr[i-1][0]\n",
    "    for i in range(C-1):\n",
    "        arr[0][i] = arr[0][i+1]\n",
    "    for i in range(0, cleaner[0]):\n",
    "        arr[i][C-1] = arr[i+1][C-1]\n",
    "    for i in range(c-1,1,-1):\n",
    "        arr[cleaner[0]][i] = arr[cleaner[0]][i-1]\n",
    "    arr[cleaner[0]][1] = 0\n",
    "    for i in range(cleaner[1]+1,R-1):\n",
    "        arr[i][0] = arr[i+1][0]\n",
    "    for i in range(C-1):\n",
    "        arr[R-1][i] = arr[R-1][i+1]\n",
    "    for i in range(R-1,cleaner[1],-1):\n",
    "        arr[i][C-1] = arr[i-1][C-1]\n",
    "    for i in range(C-1, 1, -1):\n",
    "        arr[cleaner[1]][i] = arr[cleaner[1]][i-1]\n",
    "    arr[cleaner[1]][1] = 0\n",
    "    \n",
    "    return arr"
   ]
  },
  {
   "cell_type": "code",
   "execution_count": null,
   "metadata": {
    "collapsed": false
   },
   "outputs": [],
   "source": [
    "airclean(arr)"
   ]
  },
  {
   "cell_type": "code",
   "execution_count": null,
   "metadata": {
    "collapsed": false
   },
   "outputs": [],
   "source": [
    "def summ(arr):\n",
    "    global R, C\n",
    "    ret =0\n",
    "    for i in range(R):\n",
    "        for j in range(C):\n",
    "            if arr[i][j]>0:\n",
    "                ret +=arr[i][j]\n",
    "    return ret"
   ]
  },
  {
   "cell_type": "code",
   "execution_count": null,
   "metadata": {
    "collapsed": false
   },
   "outputs": [],
   "source": [
    "def spread(arr):\n",
    "    global R, C\n",
    "    x = [1,0,-1,0]\n",
    "    y = [0,1,0,-1]\n",
    "    st = []\n",
    "    for i in range(R):\n",
    "        for j in range(C):\n",
    "            if arr[i][j]>=5:\n",
    "                st.append((i,j, arr[i][j]))\n",
    "    while st:\n",
    "        i, j, val = st.pop()\n",
    "        cnt = 0        \n",
    "        for m in range(4):\n",
    "            if 0<= i+y[m] and i+y[m]<R and 0<= j+x[m] and j+x[m]<C:\n",
    "                if arr[i+y[m]][j+x[m]] != -1:\n",
    "                    arr[i+y[m]][j+x[m]] += val//5\n",
    "                    cnt+= val//5\n",
    "        arr[i][j]-=cnt    \n",
    "        \n",
    "    return arr"
   ]
  },
  {
   "cell_type": "code",
   "execution_count": 1,
   "metadata": {
    "collapsed": false
   },
   "outputs": [
    {
     "name": "stdout",
     "output_type": "stream",
     "text": [
      "7 8 1\n",
      "0 0 0 0 0 0 0 9\n",
      "0 0 0 0 3 0 0 8\n",
      "-1 0 5 0 0 0 22 0\n",
      "-1 8 0 0 0 0 0 0\n",
      "0 0 0 0 0 10 43 0\n",
      "0 0 5 0 15 0 0 0\n",
      "0 0 40 0 0 0 20 0\n"
     ]
    },
    {
     "ename": "NameError",
     "evalue": "name 'c' is not defined",
     "output_type": "error",
     "traceback": [
      "\u001b[0;31m---------------------------------------------------------------------------\u001b[0m",
      "\u001b[0;31mNameError\u001b[0m                                 Traceback (most recent call last)",
      "\u001b[0;32m<ipython-input-1-605def7338c8>\u001b[0m in \u001b[0;36m<module>\u001b[0;34m()\u001b[0m\n\u001b[1;32m     64\u001b[0m \u001b[1;32mfor\u001b[0m \u001b[0mi\u001b[0m \u001b[1;32min\u001b[0m \u001b[0mrange\u001b[0m\u001b[1;33m(\u001b[0m\u001b[0mT\u001b[0m\u001b[1;33m)\u001b[0m\u001b[1;33m:\u001b[0m\u001b[1;33m\u001b[0m\u001b[0m\n\u001b[1;32m     65\u001b[0m     \u001b[0marr\u001b[0m \u001b[1;33m=\u001b[0m \u001b[0mspread\u001b[0m\u001b[1;33m(\u001b[0m\u001b[0marr\u001b[0m\u001b[1;33m)\u001b[0m\u001b[1;33m\u001b[0m\u001b[0m\n\u001b[0;32m---> 66\u001b[0;31m     \u001b[0marr\u001b[0m \u001b[1;33m=\u001b[0m \u001b[0mairclean\u001b[0m\u001b[1;33m(\u001b[0m\u001b[0marr\u001b[0m\u001b[1;33m)\u001b[0m\u001b[1;33m\u001b[0m\u001b[0m\n\u001b[0m\u001b[1;32m     67\u001b[0m \u001b[0mprint\u001b[0m\u001b[1;33m(\u001b[0m\u001b[0msumm\u001b[0m\u001b[1;33m(\u001b[0m\u001b[0marr\u001b[0m\u001b[1;33m)\u001b[0m\u001b[1;33m)\u001b[0m\u001b[1;33m\u001b[0m\u001b[0m\n",
      "\u001b[0;32m<ipython-input-1-605def7338c8>\u001b[0m in \u001b[0;36mairclean\u001b[0;34m(arr)\u001b[0m\n\u001b[1;32m     38\u001b[0m     \u001b[1;32mfor\u001b[0m \u001b[0mi\u001b[0m \u001b[1;32min\u001b[0m \u001b[0mrange\u001b[0m\u001b[1;33m(\u001b[0m\u001b[1;36m0\u001b[0m\u001b[1;33m,\u001b[0m \u001b[0mcleaner\u001b[0m\u001b[1;33m[\u001b[0m\u001b[1;36m0\u001b[0m\u001b[1;33m]\u001b[0m\u001b[1;33m)\u001b[0m\u001b[1;33m:\u001b[0m\u001b[1;33m\u001b[0m\u001b[0m\n\u001b[1;32m     39\u001b[0m         \u001b[0marr\u001b[0m\u001b[1;33m[\u001b[0m\u001b[0mi\u001b[0m\u001b[1;33m]\u001b[0m\u001b[1;33m[\u001b[0m\u001b[0mC\u001b[0m\u001b[1;33m-\u001b[0m\u001b[1;36m1\u001b[0m\u001b[1;33m]\u001b[0m \u001b[1;33m=\u001b[0m \u001b[0marr\u001b[0m\u001b[1;33m[\u001b[0m\u001b[0mi\u001b[0m\u001b[1;33m+\u001b[0m\u001b[1;36m1\u001b[0m\u001b[1;33m]\u001b[0m\u001b[1;33m[\u001b[0m\u001b[0mC\u001b[0m\u001b[1;33m-\u001b[0m\u001b[1;36m1\u001b[0m\u001b[1;33m]\u001b[0m\u001b[1;33m\u001b[0m\u001b[0m\n\u001b[0;32m---> 40\u001b[0;31m     \u001b[1;32mfor\u001b[0m \u001b[0mi\u001b[0m \u001b[1;32min\u001b[0m \u001b[0mrange\u001b[0m\u001b[1;33m(\u001b[0m\u001b[0mc\u001b[0m\u001b[1;33m-\u001b[0m\u001b[1;36m1\u001b[0m\u001b[1;33m,\u001b[0m\u001b[1;36m1\u001b[0m\u001b[1;33m,\u001b[0m\u001b[1;33m-\u001b[0m\u001b[1;36m1\u001b[0m\u001b[1;33m)\u001b[0m\u001b[1;33m:\u001b[0m\u001b[1;33m\u001b[0m\u001b[0m\n\u001b[0m\u001b[1;32m     41\u001b[0m         \u001b[0marr\u001b[0m\u001b[1;33m[\u001b[0m\u001b[0mcleaner\u001b[0m\u001b[1;33m[\u001b[0m\u001b[1;36m0\u001b[0m\u001b[1;33m]\u001b[0m\u001b[1;33m]\u001b[0m\u001b[1;33m[\u001b[0m\u001b[0mi\u001b[0m\u001b[1;33m]\u001b[0m \u001b[1;33m=\u001b[0m \u001b[0marr\u001b[0m\u001b[1;33m[\u001b[0m\u001b[0mcleaner\u001b[0m\u001b[1;33m[\u001b[0m\u001b[1;36m0\u001b[0m\u001b[1;33m]\u001b[0m\u001b[1;33m]\u001b[0m\u001b[1;33m[\u001b[0m\u001b[0mi\u001b[0m\u001b[1;33m-\u001b[0m\u001b[1;36m1\u001b[0m\u001b[1;33m]\u001b[0m\u001b[1;33m\u001b[0m\u001b[0m\n\u001b[1;32m     42\u001b[0m     \u001b[0marr\u001b[0m\u001b[1;33m[\u001b[0m\u001b[0mcleaner\u001b[0m\u001b[1;33m[\u001b[0m\u001b[1;36m0\u001b[0m\u001b[1;33m]\u001b[0m\u001b[1;33m]\u001b[0m\u001b[1;33m[\u001b[0m\u001b[1;36m1\u001b[0m\u001b[1;33m]\u001b[0m \u001b[1;33m=\u001b[0m \u001b[1;36m0\u001b[0m\u001b[1;33m\u001b[0m\u001b[0m\n",
      "\u001b[0;31mNameError\u001b[0m: name 'c' is not defined"
     ]
    }
   ],
   "source": [
    "import sys\n",
    "#input = sys.stdin.readline\n",
    "R,C,T = map(int, input().split())\n",
    "arr =[list(map(int, input().split())) for i in range(R)]\n",
    "cleaner = []\n",
    "for i in range(R):\n",
    "    if arr[i][0] == -1:\n",
    "        cleaner.append(i)\n",
    "\n",
    "def spread(arr):\n",
    "    global R, C\n",
    "    x = [1,0,-1,0]\n",
    "    y = [0,1,0,-1]\n",
    "    st = []\n",
    "    for i in range(R):\n",
    "        for j in range(C):\n",
    "            if arr[i][j]>=5:\n",
    "                st.append((i,j, arr[i][j]))\n",
    "    while st:\n",
    "        i, j, val = st.pop()\n",
    "        cnt = 0        \n",
    "        for m in range(4):\n",
    "            if 0<= i+y[m] and i+y[m]<R and 0<= j+x[m] and j+x[m]<C:\n",
    "                if arr[i+y[m]][j+x[m]] != -1:\n",
    "                    arr[i+y[m]][j+x[m]] += val//5\n",
    "                    cnt+= val//5\n",
    "        arr[i][j]-=cnt    \n",
    "        \n",
    "    return arr\n",
    "\n",
    "\n",
    "def airclean(arr):\n",
    "    global R, C, cleaner\n",
    "    for i in range(cleaner[0]-1,0,-1):\n",
    "        arr[i][0] = arr[i-1][0]\n",
    "    for i in range(C-1):\n",
    "        arr[0][i] = arr[0][i+1]\n",
    "    for i in range(0, cleaner[0]):\n",
    "        arr[i][C-1] = arr[i+1][C-1]\n",
    "    for i in range(C-1,1,-1):\n",
    "        arr[cleaner[0]][i] = arr[cleaner[0]][i-1]\n",
    "    arr[cleaner[0]][1] = 0\n",
    "    for i in range(cleaner[1]+1,R-1):\n",
    "        arr[i][0] = arr[i+1][0]\n",
    "    for i in range(C-1):\n",
    "        arr[R-1][i] = arr[R-1][i+1]\n",
    "    for i in range(R-1,cleaner[1],-1):\n",
    "        arr[i][C-1] = arr[i-1][C-1]\n",
    "    for i in range(C-1, 1, -1):\n",
    "        arr[cleaner[1]][i] = arr[cleaner[1]][i-1]\n",
    "    arr[cleaner[1]][1] = 0\n",
    "    \n",
    "    return arr\n",
    "\n",
    "def summ(arr):\n",
    "    global R, C\n",
    "    ret =0\n",
    "    for i in range(R):\n",
    "        for j in range(C):\n",
    "            if arr[i][j]>0:\n",
    "                ret +=arr[i][j]\n",
    "    return ret\n",
    "\n",
    "for i in range(T):\n",
    "    arr = spread(arr)\n",
    "    arr = airclean(arr)\n",
    "print(summ(arr))"
   ]
  },
  {
   "cell_type": "code",
   "execution_count": null,
   "metadata": {
    "collapsed": true
   },
   "outputs": [],
   "source": []
  }
 ],
 "metadata": {
  "kernelspec": {
   "display_name": "Python 3",
   "language": "python",
   "name": "python3"
  },
  "language_info": {
   "codemirror_mode": {
    "name": "ipython",
    "version": 3
   },
   "file_extension": ".py",
   "mimetype": "text/x-python",
   "name": "python",
   "nbconvert_exporter": "python",
   "pygments_lexer": "ipython3",
   "version": "3.6.0"
  }
 },
 "nbformat": 4,
 "nbformat_minor": 2
}
