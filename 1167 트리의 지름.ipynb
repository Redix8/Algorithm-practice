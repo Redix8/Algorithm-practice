{
 "cells": [
  {
   "cell_type": "code",
   "execution_count": 7,
   "metadata": {
    "collapsed": false
   },
   "outputs": [
    {
     "name": "stdout",
     "output_type": "stream",
     "text": [
      "5\n",
      "1 3 2 -1\n",
      "2 4 4 -1\n",
      "3 1 2 4 3 -1\n",
      "4 2 4 3 3 5 6 -1\n",
      "5 4 6 -1\n",
      "11\n"
     ]
    }
   ],
   "source": [
    "n = int(input())\n",
    "tree = {x:[] for x in range(1,n+1)}\n",
    "for _ in range(n):\n",
    "    arr = list(map(int, input().split()))\n",
    "    key = arr[0]\n",
    "    for i in range(1, len(arr)-1,2):\n",
    "        tree[key].append((arr[i],arr[i+1]))\n",
    "\n",
    "subm = 0\n",
    "def subtree(node, parent):\n",
    "    global tree, subm\n",
    "    ret=0\n",
    "    ret2=0\n",
    "    for sub, val in tree[node]:\n",
    "        if sub != parent:\n",
    "            ret2= max(ret2, val+subtree(sub, node))\n",
    "        if ret<ret2: ret,ret2=ret2,ret\n",
    "    subm = max(subm, ret+ret2)\n",
    "    return ret\n",
    "\n",
    "subtree(1,0)\n",
    "print(subm)"
   ]
  },
  {
   "cell_type": "code",
   "execution_count": 5,
   "metadata": {
    "collapsed": false
   },
   "outputs": [
    {
     "data": {
      "text/plain": [
       "{1: [(3, 2)],\n",
       " 2: [(4, 4)],\n",
       " 3: [(1, 2), (4, 3)],\n",
       " 4: [(2, 4), (3, 3), (5, 6)],\n",
       " 5: [(4, 6)]}"
      ]
     },
     "execution_count": 5,
     "metadata": {},
     "output_type": "execute_result"
    }
   ],
   "source": [
    "tree"
   ]
  },
  {
   "cell_type": "code",
   "execution_count": null,
   "metadata": {
    "collapsed": true
   },
   "outputs": [],
   "source": []
  }
 ],
 "metadata": {
  "kernelspec": {
   "display_name": "Python 3",
   "language": "python",
   "name": "python3"
  },
  "language_info": {
   "codemirror_mode": {
    "name": "ipython",
    "version": 3
   },
   "file_extension": ".py",
   "mimetype": "text/x-python",
   "name": "python",
   "nbconvert_exporter": "python",
   "pygments_lexer": "ipython3",
   "version": "3.6.0"
  }
 },
 "nbformat": 4,
 "nbformat_minor": 2
}
