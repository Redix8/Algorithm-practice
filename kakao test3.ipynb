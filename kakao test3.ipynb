{
 "cells": [
  {
   "cell_type": "code",
   "execution_count": 50,
   "metadata": {},
   "outputs": [
    {
     "name": "stdout",
     "output_type": "stream",
     "text": [
      "0\n",
      "[“Jeju”, “Pangyo”, “Seoul”, “NewYork”, “LA”]\n"
     ]
    }
   ],
   "source": [
    "import re\n",
    "r = re.compile('[a-zA-Z]+')\n",
    "cacheSize = int(input())\n",
    "cities = r.findall(input().lower())\n",
    "from collections import deque\n",
    "cache = deque(maxlen = cacheSize)"
   ]
  },
  {
   "cell_type": "code",
   "execution_count": 51,
   "metadata": {},
   "outputs": [
    {
     "name": "stdout",
     "output_type": "stream",
     "text": [
      "25\n"
     ]
    }
   ],
   "source": [
    "time = 0;\n",
    "for city in cities:\n",
    "    if city in cache:\n",
    "        cache.remove(city)\n",
    "        cache.append(city)\n",
    "        time +=1\n",
    "    else:\n",
    "        cache.append(city)\n",
    "        time +=5\n",
    "print(time)"
   ]
  },
  {
   "cell_type": "code",
   "execution_count": 35,
   "metadata": {},
   "outputs": [
    {
     "data": {
      "text/plain": [
       "deque(['Jeju', 'Pangyo', 'Seoul'])"
      ]
     },
     "execution_count": 35,
     "metadata": {},
     "output_type": "execute_result"
    }
   ],
   "source": [
    "cache"
   ]
  },
  {
   "cell_type": "code",
   "execution_count": null,
   "metadata": {},
   "outputs": [],
   "source": []
  }
 ],
 "metadata": {
  "kernelspec": {
   "display_name": "Python 3",
   "language": "python",
   "name": "python3"
  },
  "language_info": {
   "codemirror_mode": {
    "name": "ipython",
    "version": 3
   },
   "file_extension": ".py",
   "mimetype": "text/x-python",
   "name": "python",
   "nbconvert_exporter": "python",
   "pygments_lexer": "ipython3",
   "version": "3.6.4"
  }
 },
 "nbformat": 4,
 "nbformat_minor": 2
}
