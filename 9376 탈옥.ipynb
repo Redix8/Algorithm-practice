{
 "cells": [
  {
   "cell_type": "code",
   "execution_count": null,
   "metadata": {
    "collapsed": true
   },
   "outputs": [],
   "source": []
  },
  {
   "cell_type": "code",
   "execution_count": 6,
   "metadata": {
    "collapsed": false
   },
   "outputs": [
    {
     "name": "stdout",
     "output_type": "stream",
     "text": [
      "1\n",
      "3 6\n",
      "**#***\n",
      "#$##$#\n",
      "******\n",
      "2\n"
     ]
    }
   ],
   "source": [
    "from collections import deque\n",
    "import sys\n",
    "#input = sys.stdin.readline\n",
    "t = int(input())\n",
    "for l in range(t):    \n",
    "    R,C = map(int, input().split())\n",
    "    arr =[['.']*(C+2)]\n",
    "    for i in range(R):\n",
    "        arr.append(['.']+list(input())+['.'])\n",
    "    arr.append(['.']*(C+2))\n",
    "    prisoner = []\n",
    "    for i in range(R+2):\n",
    "        for j in range(C+2):\n",
    "            if arr[i][j] == '$':\n",
    "                prisoner.append((i,j))\n",
    "    a = find(*prisoner[0])\n",
    "    b = find(*prisoner[1])\n",
    "    c = find(0,0)\n",
    "    mi = 98765\n",
    "    for i in range(R+2):\n",
    "        for j in range(C+2):\n",
    "            if arr[i][j] == '.':\n",
    "                mi = min(mi, a[i][j]+b[i][j]+c[i][j])\n",
    "            elif arr[i][j] == '#':\n",
    "                mi = min(mi, a[i][j]+b[i][j]+c[i][j]-2)\n",
    "    print(mi)"
   ]
  },
  {
   "cell_type": "code",
   "execution_count": 1,
   "metadata": {
    "collapsed": true
   },
   "outputs": [],
   "source": [
    "def find(r,c):\n",
    "    global arr, R, C\n",
    "    visited = [[-1]*(C+2) for _ in range(R+2)]\n",
    "    x = [0,0,1,-1]\n",
    "    y = [1,-1,0,0]\n",
    "    q = deque()\n",
    "    q.append((r,c))\n",
    "    visited[r][c] = 0    \n",
    "    while q:\n",
    "        r,c = q.popleft()\n",
    "        for i in range(4):\n",
    "            nr = r+y[i]\n",
    "            nc = c+x[i]\n",
    "            if 0<=nr<R+2 and 0<=nc<C+2:\n",
    "                if visited[nr][nc] == -1:\n",
    "                    if arr[nr][nc] == '#':\n",
    "                        visited[nr][nc] =visited[r][c]+1\n",
    "                        q.append((nr,nc))\n",
    "                    elif arr[nr][nc] != '*':\n",
    "                        visited[nr][nc] = visited[r][c]\n",
    "                        q.append((nr,nc))\n",
    "                    \n",
    "    return visited"
   ]
  },
  {
   "cell_type": "code",
   "execution_count": null,
   "metadata": {
    "collapsed": false
   },
   "outputs": [],
   "source": [
    "for x in arr:\n",
    "    print(x)"
   ]
  },
  {
   "cell_type": "code",
   "execution_count": null,
   "metadata": {
    "collapsed": false
   },
   "outputs": [],
   "source": [
    "prisoner"
   ]
  },
  {
   "cell_type": "code",
   "execution_count": null,
   "metadata": {
    "collapsed": false
   },
   "outputs": [],
   "source": [
    "a = find(*prisoner[0])\n",
    "b = find(*prisoner[1])\n",
    "c = find(0,0)"
   ]
  },
  {
   "cell_type": "code",
   "execution_count": null,
   "metadata": {
    "collapsed": false
   },
   "outputs": [],
   "source": [
    "a"
   ]
  },
  {
   "cell_type": "code",
   "execution_count": null,
   "metadata": {
    "collapsed": false
   },
   "outputs": [],
   "source": [
    "b"
   ]
  },
  {
   "cell_type": "code",
   "execution_count": null,
   "metadata": {
    "collapsed": false
   },
   "outputs": [],
   "source": [
    "c"
   ]
  },
  {
   "cell_type": "code",
   "execution_count": 5,
   "metadata": {
    "collapsed": false
   },
   "outputs": [
    {
     "data": {
      "text/plain": [
       "[['.', '.', '.', '.', '.', '.', '.', '.', '.', '.', '.', '.', '.'],\n",
       " ['.', '*', '#', '*', '*', '*', '*', '*', '*', '*', '*', '*', '.'],\n",
       " ['.', '*', '$', '*', '.', '.', '.', '*', '.', '.', '.', '*', '.'],\n",
       " ['.', '*', '$', '*', '.', '*', '.', '*', '.', '*', '.', '*', '.'],\n",
       " ['.', '*', '.', '.', '.', '*', '.', '.', '.', '*', '.', '*', '.'],\n",
       " ['.', '*', '*', '*', '*', '*', '*', '*', '*', '*', '.', '*', '.'],\n",
       " ['.', '.', '.', '.', '.', '.', '.', '.', '.', '.', '.', '.', '.']]"
      ]
     },
     "execution_count": 5,
     "metadata": {},
     "output_type": "execute_result"
    }
   ],
   "source": [
    "arr"
   ]
  },
  {
   "cell_type": "code",
   "execution_count": 4,
   "metadata": {
    "collapsed": false
   },
   "outputs": [
    {
     "name": "stdout",
     "output_type": "stream",
     "text": [
      "afad\n"
     ]
    },
    {
     "data": {
      "text/plain": [
       "'afad'"
      ]
     },
     "execution_count": 4,
     "metadata": {},
     "output_type": "execute_result"
    }
   ],
   "source": [
    "input().strip()"
   ]
  },
  {
   "cell_type": "code",
   "execution_count": null,
   "metadata": {
    "collapsed": true
   },
   "outputs": [],
   "source": [
    "from collections import deque\n",
    "import sys\n",
    "#input = sys.stdin.readline\n",
    "t = int(input())\n",
    "for l in range(t):    \n",
    "    R,C = map(int, input().split())\n",
    "    arr =[['.']*(C+2)]\n",
    "    for i in range(R):\n",
    "        arr.append(['.']+list(input())+['.'])\n",
    "    arr.append(['.']*(C+2))\n",
    "    prisoner = []\n",
    "    for i in range(R+2):\n",
    "        for j in range(C+2):\n",
    "            if arr[i][j] == '$':\n",
    "                prisoner.append((i,j))\n",
    "    a = find(*prisoner[0])\n",
    "    b = find(*prisoner[1])\n",
    "    c = find(0,0)\n",
    "    mi = 9876543\n",
    "    for i in range(R+2):\n",
    "        for j in range(C+2):\n",
    "            if arr[i][j] == '*': continue\n",
    "            k = a[i][j]+b[i][j]+c[i][j]\n",
    "            if arr[i][j] == '#':\n",
    "                k-=2\n",
    "            mi = min(mi, k)\n",
    "    print(mi)"
   ]
  }
 ],
 "metadata": {
  "kernelspec": {
   "display_name": "Python 3",
   "language": "python",
   "name": "python3"
  },
  "language_info": {
   "codemirror_mode": {
    "name": "ipython",
    "version": 3
   },
   "file_extension": ".py",
   "mimetype": "text/x-python",
   "name": "python",
   "nbconvert_exporter": "python",
   "pygments_lexer": "ipython3",
   "version": "3.6.0"
  }
 },
 "nbformat": 4,
 "nbformat_minor": 2
}
