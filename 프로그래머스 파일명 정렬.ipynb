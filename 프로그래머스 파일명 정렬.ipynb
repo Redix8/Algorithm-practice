{
 "cells": [
  {
   "cell_type": "code",
   "execution_count": 12,
   "metadata": {
    "collapsed": false
   },
   "outputs": [],
   "source": [
    "def sep(s):\n",
    "    head = ''\n",
    "    number = ''\n",
    "    tail = ''\n",
    "    pos = 0\n",
    "    num_cnt = 0\n",
    "    for x in s:\n",
    "        if pos == 0:\n",
    "            if x.isnumeric():\n",
    "                pos +=1\n",
    "            else: head += x\n",
    "        if pos == 1:\n",
    "            if not x.isnumeric():\n",
    "                pos+=1\n",
    "            else: \n",
    "                number += x\n",
    "            num_cnt+=1\n",
    "            if num_cnt>=5:\n",
    "                pos+1\n",
    "        if pos == 2:\n",
    "            tail += x\n",
    "    return head, number, tail    "
   ]
  },
  {
   "cell_type": "code",
   "execution_count": 34,
   "metadata": {
    "collapsed": false
   },
   "outputs": [
    {
     "data": {
      "text/plain": [
       "['A-10 Thunderbolt II',\n",
       " 'B-50 Superfortress',\n",
       " 'F-5 Freedom Fighter',\n",
       " 'F-14 Tomcat']"
      ]
     },
     "execution_count": 34,
     "metadata": {},
     "output_type": "execute_result"
    }
   ],
   "source": [
    "new = []\n",
    "for file in files:    \n",
    "    new.append(sep(file))\n",
    "new = sorted(new, key = lambda data: int(data[1]))\n",
    "new = sorted(new, key = lambda data: data[0].lower())\n",
    "list(map(lambda data: \"\".join(data), new))"
   ]
  },
  {
   "cell_type": "code",
   "execution_count": 18,
   "metadata": {
    "collapsed": true
   },
   "outputs": [],
   "source": [
    "files = [\"img12.png\", \"img10.png\", \"img02.png\", \"img1.png\", \"IMG01.GIF\", \"img2.JPG\"]\n",
    "files = [\"F-5 Freedom Fighter\", \"B-50 Superfortress\", \"A-10 Thunderbolt II\", \"F-14 Tomcat\"]"
   ]
  },
  {
   "cell_type": "code",
   "execution_count": 33,
   "metadata": {
    "collapsed": false
   },
   "outputs": [
    {
     "data": {
      "text/plain": [
       "[('F-', '5', ' Freedom Fighter'),\n",
       " ('B-', '50', ' Superfortress'),\n",
       " ('A-', '10', ' Thunderbolt II'),\n",
       " ('F-', '14', ' Tomcat')]"
      ]
     },
     "execution_count": 33,
     "metadata": {},
     "output_type": "execute_result"
    }
   ],
   "source": [
    "new"
   ]
  },
  {
   "cell_type": "code",
   "execution_count": null,
   "metadata": {
    "collapsed": true
   },
   "outputs": [],
   "source": []
  }
 ],
 "metadata": {
  "kernelspec": {
   "display_name": "Python 3",
   "language": "python",
   "name": "python3"
  },
  "language_info": {
   "codemirror_mode": {
    "name": "ipython",
    "version": 3
   },
   "file_extension": ".py",
   "mimetype": "text/x-python",
   "name": "python",
   "nbconvert_exporter": "python",
   "pygments_lexer": "ipython3",
   "version": "3.6.0"
  }
 },
 "nbformat": 4,
 "nbformat_minor": 2
}
