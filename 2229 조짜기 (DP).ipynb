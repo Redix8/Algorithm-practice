{
 "cells": [
  {
   "cell_type": "code",
   "execution_count": 1,
   "metadata": {
    "collapsed": false
   },
   "outputs": [
    {
     "name": "stdout",
     "output_type": "stream",
     "text": [
      "10\n",
      "2 5 7 1 3 4 8 6 9 3\n"
     ]
    }
   ],
   "source": [
    "N = int(input())\n",
    "L = list(map(int, input().split()))"
   ]
  },
  {
   "cell_type": "code",
   "execution_count": 12,
   "metadata": {
    "collapsed": true
   },
   "outputs": [],
   "source": [
    "cache = [-1]*1005\n",
    "def group(idx):\n",
    "    global N, L, cache\n",
    "    if cache[idx] !=-1: return cache[idx]\n",
    "    high = 0\n",
    "    low  = 987654321\n",
    "    ret = 0\n",
    "    for i in range(idx, N):\n",
    "        high = max(high, L[i])\n",
    "        low = min(low, L[i])\n",
    "        ret = max(ret, high - low + group(i+1))\n",
    "        cache[idx] = ret\n",
    "    return ret"
   ]
  },
  {
   "cell_type": "code",
   "execution_count": 13,
   "metadata": {
    "collapsed": false
   },
   "outputs": [
    {
     "name": "stdout",
     "output_type": "stream",
     "text": [
      "20\n"
     ]
    }
   ],
   "source": [
    "print(group(0))"
   ]
  },
  {
   "cell_type": "code",
   "execution_count": 10,
   "metadata": {
    "collapsed": false
   },
   "outputs": [],
   "source": [
    "cache = [0]*1005\n",
    "def group(idx):\n",
    "    global N, L, cache\n",
    "    if cache[idx] !=0 : return cache[idx]\n",
    "    high = 0\n",
    "    low  = 987654321\n",
    "    ret = 0\n",
    "    for i in range(idx, N):\n",
    "        if high < L[i] : high = L[i]\n",
    "        if low > L[i] : low = L[i]\n",
    "        temp = high - low + group(i+1)\n",
    "        if temp > ret : ret = temp\n",
    "        \n",
    "        cache[idx] = ret\n",
    "    return ret"
   ]
  },
  {
   "cell_type": "markdown",
   "metadata": {},
   "source": [
    "n번째 사람까지의 조를 짜는 방법은 <br>\n",
    "n번째까지의 사람까지 조를 짰을때의 최대값 <br>\n",
    "n-1번째까지의 사람까지 조를 짰을때의 최대값 <br>\n",
    "n-2번째까지의 사람까지 + n-1과 n으로 조를짰을때의 최대값. <br>"
   ]
  },
  {
   "cell_type": "code",
   "execution_count": null,
   "metadata": {
    "collapsed": true
   },
   "outputs": [],
   "source": [
    "dp = [0]*1005\n",
    "dp[0] = 0\n",
    "dp[1] = abs(L[0] - L[1])\n",
    "dp[2] = max(dp[1], abs(L[1] - L[2]), abs(L[2]-L[0]))\n"
   ]
  }
 ],
 "metadata": {
  "kernelspec": {
   "display_name": "Python 3",
   "language": "python",
   "name": "python3"
  },
  "language_info": {
   "codemirror_mode": {
    "name": "ipython",
    "version": 3
   },
   "file_extension": ".py",
   "mimetype": "text/x-python",
   "name": "python",
   "nbconvert_exporter": "python",
   "pygments_lexer": "ipython3",
   "version": "3.6.0"
  }
 },
 "nbformat": 4,
 "nbformat_minor": 2
}
