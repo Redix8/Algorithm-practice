{
 "cells": [
  {
   "cell_type": "code",
   "execution_count": 38,
   "metadata": {
    "collapsed": false
   },
   "outputs": [
    {
     "name": "stdout",
     "output_type": "stream",
     "text": [
      "10\n",
      "5\n",
      "1 5\n",
      "1 3\n",
      "1 2\n",
      "1 6\n",
      "1 7\n",
      "4\n",
      "8 D\n",
      "10 D\n",
      "11 D\n",
      "13 L\n"
     ]
    }
   ],
   "source": [
    "n = int(input())\n",
    "Map = [[0]*(n+1) for i in range(n+1)]\n",
    "k = int(input())\n",
    "for i in range(k):\n",
    "    row, col = map(int, input().split())\n",
    "    Map[row][col] = 2\n",
    "L = int(input())\n",
    "d = [0]*10005\n",
    "for i in range(L):\n",
    "    x, c = input().split()\n",
    "    d[int(x)] = c"
   ]
  },
  {
   "cell_type": "code",
   "execution_count": 39,
   "metadata": {
    "collapsed": false
   },
   "outputs": [
    {
     "name": "stdout",
     "output_type": "stream",
     "text": [
      "13\n"
     ]
    }
   ],
   "source": [
    "from collections import deque\n",
    "time = 0\n",
    "dx = [1, 0, -1, 0]\n",
    "dy = [0, 1, 0, -1]\n",
    "pos = 0\n",
    "snake = deque()\n",
    "snake.append([1,1])\n",
    "Map[1][1] = 1\n",
    "while True:\n",
    "    #print()\n",
    "    #pprint.pprint(Map)\n",
    "    time += 1\n",
    "    ny = snake[0][0] +dy[pos]\n",
    "    nx = snake[0][1] +dx[pos]\n",
    "    if nx<1 or ny<1 or nx>n or ny>n : break\n",
    "    if Map[ny][nx] == 2:         #사과\n",
    "        Map[ny][nx] = 1\n",
    "        snake.appendleft([ny,nx])\n",
    "    elif Map[ny][nx] == 0:       #빈칸\n",
    "        Map[ny][nx] = 1\n",
    "        snake.appendleft([ny,nx])\n",
    "        oy, ox = snake.pop()\n",
    "        Map[oy][ox] = 0\n",
    "    elif Map[ny][nx] == 1:       #몸통\n",
    "        break\n",
    "    if d[time] == 'L':\n",
    "        pos = (pos-1)%4\n",
    "    elif d[time] == 'D':\n",
    "        pos = (pos+1)%4\n",
    "print(time)"
   ]
  },
  {
   "cell_type": "code",
   "execution_count": 23,
   "metadata": {
    "collapsed": false
   },
   "outputs": [
    {
     "data": {
      "text/plain": [
       "[[1, 0, 0, 0, 0, 0, 0, 0, 0, 0],\n",
       " [0, 0, 0, 0, 0, 0, 0, 0, 0, 0],\n",
       " [0, 0, 0, 0, 0, 0, 0, 0, 0, 0],\n",
       " [0, 0, 0, 0, 0, 0, 0, 0, 0, 0],\n",
       " [0, 0, 0, 0, 0, 0, 0, 0, 0, 0],\n",
       " [0, 0, 0, 0, 0, 0, 0, 0, 0, 0],\n",
       " [0, 0, 0, 0, 0, 0, 0, 0, 0, 0],\n",
       " [0, 0, 0, 0, 0, 0, 0, 0, 0, 0],\n",
       " [0, 0, 0, 0, 0, 0, 0, 0, 0, 0],\n",
       " [0, 0, 0, 0, 0, 0, 0, 0, 0, 0]]"
      ]
     },
     "execution_count": 23,
     "metadata": {},
     "output_type": "execute_result"
    }
   ],
   "source": [
    "Map"
   ]
  },
  {
   "cell_type": "code",
   "execution_count": 9,
   "metadata": {
    "collapsed": false
   },
   "outputs": [
    {
     "data": {
      "text/plain": [
       "3"
      ]
     },
     "execution_count": 9,
     "metadata": {},
     "output_type": "execute_result"
    }
   ],
   "source": [
    "-1%4"
   ]
  },
  {
   "cell_type": "code",
   "execution_count": 26,
   "metadata": {
    "collapsed": true
   },
   "outputs": [],
   "source": [
    "import pprint"
   ]
  },
  {
   "cell_type": "code",
   "execution_count": null,
   "metadata": {
    "collapsed": true
   },
   "outputs": [],
   "source": []
  }
 ],
 "metadata": {
  "kernelspec": {
   "display_name": "Python 3",
   "language": "python",
   "name": "python3"
  },
  "language_info": {
   "codemirror_mode": {
    "name": "ipython",
    "version": 3
   },
   "file_extension": ".py",
   "mimetype": "text/x-python",
   "name": "python",
   "nbconvert_exporter": "python",
   "pygments_lexer": "ipython3",
   "version": "3.6.0"
  }
 },
 "nbformat": 4,
 "nbformat_minor": 2
}
