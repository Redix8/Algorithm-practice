{
 "cells": [
  {
   "cell_type": "code",
   "execution_count": 4,
   "metadata": {
    "collapsed": false
   },
   "outputs": [
    {
     "name": "stdout",
     "output_type": "stream",
     "text": [
      "3\n",
      "2 4\n",
      "1 4\n",
      "3 4\n",
      "1\n"
     ]
    }
   ],
   "source": [
    "import sys\n",
    "n = int(input())\n",
    "arr =[]\n",
    "for _ in range(n):\n",
    "    arr.append(tuple(map(int, input().split())))\n",
    "arr.sort()\n",
    "arr = sorted(arr, key=lambda x:x[1])\n",
    "pos = 0\n",
    "count =0\n",
    "for i in range(n):\n",
    "     if pos<=arr[i][0]:\n",
    "            pos = arr[i][1]\n",
    "            count+=1\n",
    "print(count)"
   ]
  },
  {
   "cell_type": "code",
   "execution_count": 5,
   "metadata": {
    "collapsed": false
   },
   "outputs": [
    {
     "name": "stdout",
     "output_type": "stream",
     "text": [
      "[(2, 4), (1, 4), (3, 4)]\n"
     ]
    }
   ],
   "source": [
    "print(arr)"
   ]
  },
  {
   "cell_type": "code",
   "execution_count": null,
   "metadata": {
    "collapsed": true
   },
   "outputs": [],
   "source": [
    "import sys\n",
    "n = int(input())\n",
    "arr =[]\n",
    "for _ in range(n):\n",
    "    arr.append(tuple(map(int, sys.stdin.readline().split())))\n",
    "arr.sort()\n",
    "arr = sorted(arr, key=lambda x:x[1])\n",
    "pos = 0\n",
    "count =0\n",
    "for i in range(n):\n",
    "     if pos<=arr[i][0]:\n",
    "            pos = arr[i][1]\n",
    "            count+=1\n",
    "print(count)"
   ]
  }
 ],
 "metadata": {
  "kernelspec": {
   "display_name": "Python 3",
   "language": "python",
   "name": "python3"
  },
  "language_info": {
   "codemirror_mode": {
    "name": "ipython",
    "version": 3
   },
   "file_extension": ".py",
   "mimetype": "text/x-python",
   "name": "python",
   "nbconvert_exporter": "python",
   "pygments_lexer": "ipython3",
   "version": "3.6.0"
  }
 },
 "nbformat": 4,
 "nbformat_minor": 2
}
