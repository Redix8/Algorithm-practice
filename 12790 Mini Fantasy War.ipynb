{
 "cells": [
  {
   "cell_type": "code",
   "execution_count": 1,
   "metadata": {
    "collapsed": false
   },
   "outputs": [
    {
     "name": "stdout",
     "output_type": "stream",
     "text": [
      "3\n",
      "100 100 100 100 0 0 0 0\n",
      "1000\n",
      "10 20 30 40 40 30 20 10\n",
      "500\n",
      "100 100 100 100 -200 0 400 400\n",
      "2501\n"
     ]
    }
   ],
   "source": [
    "T = int(input())\n",
    "for i in range(T):\n",
    "    hp, mp, att, dfn, hpu, mpu, attu, dfnu = map(int, input().split())\n",
    "    hp += hpu\n",
    "    mp += mpu\n",
    "    att += attu\n",
    "    dfn += dfnu\n",
    "    if hp <1 : hp = 1\n",
    "    if mp <1 : mp = 1\n",
    "    if att <0 : att = 0\n",
    "    force = 1*hp + 5*mp + 2*att + 2*dfn\n",
    "    print(force)        "
   ]
  },
  {
   "cell_type": "code",
   "execution_count": null,
   "metadata": {
    "collapsed": true
   },
   "outputs": [],
   "source": []
  }
 ],
 "metadata": {
  "kernelspec": {
   "display_name": "Python 3",
   "language": "python",
   "name": "python3"
  },
  "language_info": {
   "codemirror_mode": {
    "name": "ipython",
    "version": 3
   },
   "file_extension": ".py",
   "mimetype": "text/x-python",
   "name": "python",
   "nbconvert_exporter": "python",
   "pygments_lexer": "ipython3",
   "version": "3.6.0"
  }
 },
 "nbformat": 4,
 "nbformat_minor": 2
}
