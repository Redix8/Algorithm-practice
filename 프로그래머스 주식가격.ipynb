{
 "cells": [
  {
   "cell_type": "code",
   "execution_count": 1,
   "metadata": {
    "collapsed": true
   },
   "outputs": [],
   "source": [
    "def solution(prices):\n",
    "    answer = []\n",
    "    for i in range(len(prices)):        \n",
    "        for j in range(i+1, len(prices)):\n",
    "            if prices[i]>prices[j]:\n",
    "                break\n",
    "                \n",
    "        answer.append(j-i)\n",
    "    \n",
    "    return answer"
   ]
  },
  {
   "cell_type": "code",
   "execution_count": 39,
   "metadata": {
    "collapsed": true
   },
   "outputs": [],
   "source": [
    "def solution2(prices):\n",
    "    n = len(prices)\n",
    "    answer = [0]*n\n",
    "    st = []\n",
    "    for i,x in enumerate(prices):\n",
    "        while st:\n",
    "            bx, bi = st[-1]\n",
    "            if bx>x:\n",
    "                bx, bi = st.pop()\n",
    "                answer[bi] = i - bi\n",
    "            else:\n",
    "                break\n",
    "        st.append((x,i))\n",
    "\n",
    "    while st:\n",
    "        bx,bi = st.pop()\n",
    "        answer[bi] = n-1-bi\n",
    "    \n",
    "    return answer\n",
    "                "
   ]
  },
  {
   "cell_type": "code",
   "execution_count": 42,
   "metadata": {
    "collapsed": false
   },
   "outputs": [
    {
     "data": {
      "text/plain": [
       "[2, 1, 1, 7, 6, 3, 2, 1, 2, 1, 0]"
      ]
     },
     "execution_count": 42,
     "metadata": {},
     "output_type": "execute_result"
    }
   ],
   "source": [
    "solution([3,3,2,1,1,2,2,3,1,2,3])"
   ]
  },
  {
   "cell_type": "code",
   "execution_count": 43,
   "metadata": {
    "collapsed": false
   },
   "outputs": [
    {
     "name": "stdout",
     "output_type": "stream",
     "text": [
      "[(3, 0)]\n",
      "[(3, 0), (3, 1)]\n",
      "[(3, 0)]\n",
      "[]\n",
      "[(2, 2)]\n",
      "[]\n",
      "[(1, 3)]\n",
      "[(1, 3), (1, 4)]\n",
      "[(1, 3), (1, 4), (2, 5)]\n",
      "[(1, 3), (1, 4), (2, 5), (2, 6)]\n",
      "[(1, 3), (1, 4), (2, 5), (2, 6), (3, 7)]\n",
      "[(1, 3), (1, 4), (2, 5), (2, 6)]\n",
      "[(1, 3), (1, 4), (2, 5)]\n",
      "[(1, 3), (1, 4)]\n",
      "[(1, 3), (1, 4), (1, 8)]\n",
      "[(1, 3), (1, 4), (1, 8), (2, 9)]\n",
      "[(1, 3), (1, 4), (1, 8), (2, 9), (3, 10)]\n"
     ]
    },
    {
     "data": {
      "text/plain": [
       "[2, 1, 1, 7, 6, 3, 2, 1, 2, 1, 0]"
      ]
     },
     "execution_count": 43,
     "metadata": {},
     "output_type": "execute_result"
    }
   ],
   "source": [
    "solution2([3,3,2,1,1,2,2,3,1,2,3])"
   ]
  },
  {
   "cell_type": "code",
   "execution_count": null,
   "metadata": {
    "collapsed": true
   },
   "outputs": [],
   "source": []
  }
 ],
 "metadata": {
  "kernelspec": {
   "display_name": "Python 3",
   "language": "python",
   "name": "python3"
  },
  "language_info": {
   "codemirror_mode": {
    "name": "ipython",
    "version": 3
   },
   "file_extension": ".py",
   "mimetype": "text/x-python",
   "name": "python",
   "nbconvert_exporter": "python",
   "pygments_lexer": "ipython3",
   "version": "3.6.0"
  }
 },
 "nbformat": 4,
 "nbformat_minor": 2
}
