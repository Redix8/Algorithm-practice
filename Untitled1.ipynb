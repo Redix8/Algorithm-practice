{
 "cells": [
  {
   "cell_type": "code",
   "execution_count": 14,
   "metadata": {
    "collapsed": false
   },
   "outputs": [
    {
     "name": "stdout",
     "output_type": "stream",
     "text": [
      "ThIsIsS3Cr3t\n"
     ]
    }
   ],
   "source": [
    "s = input()\n"
   ]
  },
  {
   "cell_type": "code",
   "execution_count": 16,
   "metadata": {
    "collapsed": false
   },
   "outputs": [
    {
     "name": "stdout",
     "output_type": "stream",
     "text": [
      "ThIsIsS3Cr3t\n"
     ]
    }
   ],
   "source": [
    "from collections import deque\n",
    "left = deque()\n",
    "right = deque()\n",
    "for x in s:\n",
    "    if x == '<':\n",
    "        if left:\n",
    "            tmp = left.pop()\n",
    "            right.appendleft(tmp)\n",
    "    elif x == '>':\n",
    "        if right:\n",
    "            tmp = right.popleft()\n",
    "            left.append(tmp)\n",
    "    elif x == '-':\n",
    "        if left:\n",
    "            left.pop()\n",
    "    else:\n",
    "        left.append(x)\n",
    "        \n",
    "print(\"\".join(left + right))"
   ]
  },
  {
   "cell_type": "code",
   "execution_count": 3,
   "metadata": {
    "collapsed": false
   },
   "outputs": [],
   "source": [
    "from collections import deque\n",
    "left = deque()\n",
    "right = deque()"
   ]
  },
  {
   "cell_type": "code",
   "execution_count": 17,
   "metadata": {
    "collapsed": false
   },
   "outputs": [
    {
     "name": "stdout",
     "output_type": "stream",
     "text": [
      "2\n",
      "<<BP<A>>Cd-\n",
      "BAPC\n",
      "ThIsIsS3Cr3t\n",
      "ThIsIsS3Cr3t\n"
     ]
    }
   ],
   "source": [
    "from collections import deque\n",
    "n = int(input())\n",
    "for i in range(n):\n",
    "    s = input()\n",
    "    left = deque()\n",
    "    right = deque()\n",
    "    for x in s:\n",
    "        if x == '<':\n",
    "            if left:\n",
    "                tmp = left.pop()\n",
    "                right.appendleft(tmp)\n",
    "        elif x == '>':\n",
    "            if right:\n",
    "                tmp = right.popleft()\n",
    "                left.append(tmp)\n",
    "        elif x == '-':\n",
    "            if left:\n",
    "                left.pop()\n",
    "        else:\n",
    "            left.append(x)\n",
    "            \n",
    "    print(\"\".join(left + right))"
   ]
  },
  {
   "cell_type": "code",
   "execution_count": null,
   "metadata": {
    "collapsed": true
   },
   "outputs": [],
   "source": []
  }
 ],
 "metadata": {
  "kernelspec": {
   "display_name": "Python 3",
   "language": "python",
   "name": "python3"
  },
  "language_info": {
   "codemirror_mode": {
    "name": "ipython",
    "version": 3
   },
   "file_extension": ".py",
   "mimetype": "text/x-python",
   "name": "python",
   "nbconvert_exporter": "python",
   "pygments_lexer": "ipython3",
   "version": "3.6.0"
  }
 },
 "nbformat": 4,
 "nbformat_minor": 2
}
