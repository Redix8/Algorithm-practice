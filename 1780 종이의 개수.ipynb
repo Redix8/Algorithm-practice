{
 "cells": [
  {
   "cell_type": "code",
   "execution_count": 14,
   "metadata": {
    "collapsed": false
   },
   "outputs": [],
   "source": [
    "s = ('0 0 0 1 1 1 -1 -1 -1,'+\n",
    "'0 0 0 1 1 1 -1 -1 -1,'+\n",
    "'0 0 0 1 1 1 -1 -1 -1,'+\n",
    "'1 1 1 0 0 0 0 0 0,'+\n",
    "'1 1 1 0 0 0 0 0 0,'+\n",
    "'1 1 1 0 0 0 0 0 0,'+\n",
    "'0 1 -1 0 1 -1 0 1 -1,'+\n",
    "'0 -1 1 0 1 -1 0 1 -1,'+\n",
    "'0 1 -1 1 0 -1 0 1 -1')"
   ]
  },
  {
   "cell_type": "code",
   "execution_count": 15,
   "metadata": {
    "collapsed": false
   },
   "outputs": [],
   "source": [
    "arr =[]\n",
    "for m in s.split(','):\n",
    "    arr.append(m.split())"
   ]
  },
  {
   "cell_type": "code",
   "execution_count": 16,
   "metadata": {
    "collapsed": false
   },
   "outputs": [
    {
     "data": {
      "text/plain": [
       "[['0', '0', '0', '1', '1', '1', '-1', '-1', '-1'],\n",
       " ['0', '0', '0', '1', '1', '1', '-1', '-1', '-1'],\n",
       " ['0', '0', '0', '1', '1', '1', '-1', '-1', '-1'],\n",
       " ['1', '1', '1', '0', '0', '0', '0', '0', '0'],\n",
       " ['1', '1', '1', '0', '0', '0', '0', '0', '0'],\n",
       " ['1', '1', '1', '0', '0', '0', '0', '0', '0'],\n",
       " ['0', '1', '-1', '0', '1', '-1', '0', '1', '-1'],\n",
       " ['0', '-1', '1', '0', '1', '-1', '0', '1', '-1'],\n",
       " ['0', '1', '-1', '1', '0', '-1', '0', '1', '-1']]"
      ]
     },
     "execution_count": 16,
     "metadata": {},
     "output_type": "execute_result"
    }
   ],
   "source": [
    "arr"
   ]
  },
  {
   "cell_type": "code",
   "execution_count": 28,
   "metadata": {
    "collapsed": false
   },
   "outputs": [],
   "source": [
    "from collections import Counter\n",
    "def search(x, y, n):\n",
    "    global arr\n",
    "    k = arr[y][x]\n",
    "    size = n//3\n",
    "    same = True\n",
    "    for i in range(n):\n",
    "        for j in range(n):\n",
    "            if k!=arr[y+i][x+j]:\n",
    "                same = False\n",
    "    \n",
    "    count = Counter()    \n",
    "    if same:\n",
    "        count[k]+=1    \n",
    "    \n",
    "    else:\n",
    "        for r in range(3):\n",
    "            for c in range(3):\n",
    "                count+=search(x+c*size, y+r*size, size)\n",
    "    return count\n"
   ]
  },
  {
   "cell_type": "code",
   "execution_count": 17,
   "metadata": {
    "collapsed": false
   },
   "outputs": [],
   "source": [
    "from collections import Counter"
   ]
  },
  {
   "cell_type": "code",
   "execution_count": 18,
   "metadata": {
    "collapsed": true
   },
   "outputs": [],
   "source": [
    "c = Counter()"
   ]
  },
  {
   "cell_type": "code",
   "execution_count": 36,
   "metadata": {
    "collapsed": false
   },
   "outputs": [
    {
     "name": "stdout",
     "output_type": "stream",
     "text": [
      "9\n",
      "0 0 0 1 1 1 -1 -1 -1\n",
      "0 0 0 1 1 1 -1 -1 -1\n",
      "0 0 0 1 1 1 -1 -1 -1\n",
      "1 1 1 0 0 0 0 0 0\n",
      "1 1 1 0 0 0 0 0 0\n",
      "1 1 1 0 0 0 0 0 0\n",
      "0 1 -1 0 1 -1 0 1 -1\n",
      "0 -1 1 0 1 -1 0 1 -1\n",
      "0 1 -1 1 0 -1 0 1 -1\n",
      "10\n",
      "12\n",
      "11\n"
     ]
    }
   ],
   "source": [
    "from collections import Counter\n",
    "\n",
    "def search(x, y, n):\n",
    "    global arr\n",
    "    k = arr[y][x]\n",
    "    size = n//3\n",
    "    same = True    \n",
    "    for i in range(n):\n",
    "        for j in range(n):\n",
    "            if k!=arr[y+i][x+j]:\n",
    "                same = False\n",
    "    \n",
    "    count = Counter()    \n",
    "    if same:\n",
    "        count[k]+=1    \n",
    "    \n",
    "    else:\n",
    "        for r in range(3):\n",
    "            for c in range(3):\n",
    "                count+=search(x+c*size, y+r*size, size)\n",
    "    return count\n",
    "\n",
    "n = int(input())\n",
    "arr = []\n",
    "for _ in range(n):\n",
    "    arr.append(input().split())\n",
    "c = Counter()\n",
    "c = search(0,0,n)\n",
    "print(c['-1'])\n",
    "print(c['0'])\n",
    "print(c['1'])"
   ]
  },
  {
   "cell_type": "code",
   "execution_count": 34,
   "metadata": {
    "collapsed": false
   },
   "outputs": [
    {
     "data": {
      "text/plain": [
       "Counter({'-1': 10, '0': 12, '1': 11})"
      ]
     },
     "execution_count": 34,
     "metadata": {},
     "output_type": "execute_result"
    }
   ],
   "source": [
    "search(0,0,9)"
   ]
  },
  {
   "cell_type": "code",
   "execution_count": 39,
   "metadata": {
    "collapsed": false
   },
   "outputs": [
    {
     "name": "stdout",
     "output_type": "stream",
     "text": [
      "1\n",
      "1\n",
      "0\n",
      "0\n",
      "1\n"
     ]
    }
   ],
   "source": [
    "count = [0]*3\n",
    "def search(x, y, n):\n",
    "    global arr, count\n",
    "    k = arr[y][x]    \n",
    "    size = n//3\n",
    "    same = True    \n",
    "    for i in range(n):\n",
    "        for j in range(n):\n",
    "            if k!=arr[y+i][x+j]:\n",
    "                same = False\n",
    "                break\n",
    "        if not same:\n",
    "            break\n",
    "    if same:\n",
    "        count[int(k)+1]+=1\n",
    "        return    \n",
    "    else:\n",
    "        for r in range(3):\n",
    "            for c in range(3):\n",
    "                search(x+c*size, y+r*size, size)\n",
    "    return\n",
    "\n",
    "n = int(input())\n",
    "arr = []\n",
    "for _ in range(n):\n",
    "    arr.append(input().split())\n",
    "search(0,0,n)\n",
    "print(count[0])\n",
    "print(count[1])\n",
    "print(count[2])"
   ]
  },
  {
   "cell_type": "code",
   "execution_count": 38,
   "metadata": {
    "collapsed": false
   },
   "outputs": [
    {
     "data": {
      "text/plain": [
       "[10, 12, 11]"
      ]
     },
     "execution_count": 38,
     "metadata": {},
     "output_type": "execute_result"
    }
   ],
   "source": [
    "count"
   ]
  },
  {
   "cell_type": "code",
   "execution_count": null,
   "metadata": {
    "collapsed": true
   },
   "outputs": [],
   "source": []
  }
 ],
 "metadata": {
  "kernelspec": {
   "display_name": "Python 3",
   "language": "python",
   "name": "python3"
  },
  "language_info": {
   "codemirror_mode": {
    "name": "ipython",
    "version": 3
   },
   "file_extension": ".py",
   "mimetype": "text/x-python",
   "name": "python",
   "nbconvert_exporter": "python",
   "pygments_lexer": "ipython3",
   "version": "3.6.0"
  }
 },
 "nbformat": 4,
 "nbformat_minor": 2
}
