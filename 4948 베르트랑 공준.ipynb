{
 "cells": [
  {
   "cell_type": "code",
   "execution_count": null,
   "metadata": {
    "collapsed": false
   },
   "outputs": [],
   "source": [
    "import math\n",
    "def prime_second(M,N):\n",
    "    primes = [True]*(N+1)\n",
    "    primes[0] = False\n",
    "    primes[1] = False\n",
    "    for i in range(2, int(math.sqrt(N))+1):\n",
    "        if primes[i]:\n",
    "            k = i*2\n",
    "            while k<=N:\n",
    "                primes[k]=False\n",
    "                k+=i\n",
    "    count = 0\n",
    "    for i in range(M+1, N+1):\n",
    "        if primes[i]:\n",
    "            count+=1\n",
    "    print(count)\n",
    "N = int(input())        \n",
    "while(N!=0):\n",
    "    prime_second(N,N*2)\n",
    "    N = int(input())"
   ]
  },
  {
   "cell_type": "code",
   "execution_count": 8,
   "metadata": {
    "collapsed": false
   },
   "outputs": [
    {
     "name": "stdout",
     "output_type": "stream",
     "text": [
      "10\n",
      "4\n",
      "0\n"
     ]
    }
   ],
   "source": [
    "import math\n",
    "from bisect import bisect\n",
    "def prime_second(N, N2):\n",
    "    primes = list(range(N2+1))\n",
    "    primes[1] = 0\n",
    "    for i in range(2, int(math.sqrt(N2))+1):\n",
    "        if primes[i]:\n",
    "            for j in range(i*i, N2+1, i):\n",
    "                primes[j] = 0\n",
    "                \n",
    "    primes = list(filter(None, primes))\n",
    "    print(bisect(primes, N2) - bisect(primes, N))\n",
    "N = int(input())        \n",
    "while(N!=0):\n",
    "    prime_second(N,N*2)\n",
    "    N = int(input())"
   ]
  },
  {
   "cell_type": "code",
   "execution_count": 11,
   "metadata": {
    "collapsed": false
   },
   "outputs": [
    {
     "name": "stdout",
     "output_type": "stream",
     "text": [
      "100000\n",
      "8392\n",
      "0\n"
     ]
    }
   ],
   "source": [
    "import math\n",
    "from bisect import bisect\n",
    "\n",
    "primes = list(range(123456*2+1))\n",
    "primes[1] = 0\n",
    "for i in range(2, int(math.sqrt(123456*2))+1):\n",
    "    if primes[i]:\n",
    "        for j in range(i*i, 123456*2+1, i):\n",
    "            primes[j] = 0\n",
    "            \n",
    "primes = list(filter(None, primes))\n",
    "\n",
    "N = int(input())        \n",
    "while(N!=0):\n",
    "    print(bisect(primes, N*2) - bisect(primes, N))\n",
    "    N = int(input())"
   ]
  },
  {
   "cell_type": "code",
   "execution_count": null,
   "metadata": {
    "collapsed": true
   },
   "outputs": [],
   "source": []
  }
 ],
 "metadata": {
  "kernelspec": {
   "display_name": "Python 3",
   "language": "python",
   "name": "python3"
  },
  "language_info": {
   "codemirror_mode": {
    "name": "ipython",
    "version": 3
   },
   "file_extension": ".py",
   "mimetype": "text/x-python",
   "name": "python",
   "nbconvert_exporter": "python",
   "pygments_lexer": "ipython3",
   "version": "3.6.0"
  }
 },
 "nbformat": 4,
 "nbformat_minor": 2
}
