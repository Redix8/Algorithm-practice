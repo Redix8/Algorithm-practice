{
 "cells": [
  {
   "cell_type": "code",
   "execution_count": 19,
   "metadata": {
    "collapsed": false
   },
   "outputs": [
    {
     "name": "stdout",
     "output_type": "stream",
     "text": [
      "5\n",
      "YCPZY\n",
      "CYZZP\n",
      "CCPPP\n",
      "YCYZC\n",
      "CPPZZ\n"
     ]
    }
   ],
   "source": [
    "n = int(input())\n",
    "arr = [list(input()) for _ in range(n)]\n",
    "x = [0, 0, 1, -1]\n",
    "y = [1, -1, 0, 0]"
   ]
  },
  {
   "cell_type": "code",
   "execution_count": 24,
   "metadata": {
    "collapsed": true
   },
   "outputs": [],
   "source": [
    "def eat(r,c):\n",
    "    global n, arr\n",
    "    candy = arr[r][c]\n",
    "    cnt = 1\n",
    "    mx = 0\n",
    "    for i in range(n-1):\n",
    "        if arr[r][i] == candy and arr[r][i+1] == candy:\n",
    "            cnt+=1\n",
    "            if cnt>mx:mx=cnt\n",
    "        else:cnt=1\n",
    "    cnt = 1\n",
    "    for i in range(n-1):\n",
    "        if arr[i][c] == candy and arr[i+1][c] == candy:\n",
    "            cnt+=1\n",
    "            if cnt>mx:mx=cnt\n",
    "        else:cnt=1\n",
    "\n",
    "    return mx\n"
   ]
  },
  {
   "cell_type": "code",
   "execution_count": 23,
   "metadata": {
    "collapsed": false
   },
   "outputs": [
    {
     "name": "stdout",
     "output_type": "stream",
     "text": [
      "4\n"
     ]
    }
   ],
   "source": [
    "mx = 0\n",
    "for i in range(n):\n",
    "    for j in range(n):\n",
    "        for k in range(4):\n",
    "            nr = i+y[k]\n",
    "            nc = j+x[k]\n",
    "            if 0<=nr and nr<n and 0<=nc and nc<n:\n",
    "                arr[i][j], arr[nr][nc] = arr[nr][nc], arr[i][j]\n",
    "                c1 = eat(i,j)\n",
    "                c2 = eat(nr,nc)\n",
    "                mx = max(mx, c1, c2)\n",
    "                arr[i][j], arr[nr][nc] = arr[nr][nc], arr[i][j]\n",
    "print(mx)\n",
    "        "
   ]
  },
  {
   "cell_type": "code",
   "execution_count": 21,
   "metadata": {
    "collapsed": false
   },
   "outputs": [
    {
     "data": {
      "text/plain": [
       "[['Y', 'C', 'P', 'Z', 'Y'],\n",
       " ['C', 'Y', 'Z', 'Z', 'P'],\n",
       " ['C', 'C', 'P', 'P', 'P'],\n",
       " ['Y', 'C', 'Y', 'Z', 'C'],\n",
       " ['C', 'P', 'P', 'Z', 'Z']]"
      ]
     },
     "execution_count": 21,
     "metadata": {},
     "output_type": "execute_result"
    }
   ],
   "source": [
    "arr"
   ]
  },
  {
   "cell_type": "code",
   "execution_count": null,
   "metadata": {
    "collapsed": true
   },
   "outputs": [],
   "source": []
  }
 ],
 "metadata": {
  "kernelspec": {
   "display_name": "Python 3",
   "language": "python",
   "name": "python3"
  },
  "language_info": {
   "codemirror_mode": {
    "name": "ipython",
    "version": 3
   },
   "file_extension": ".py",
   "mimetype": "text/x-python",
   "name": "python",
   "nbconvert_exporter": "python",
   "pygments_lexer": "ipython3",
   "version": "3.6.0"
  }
 },
 "nbformat": 4,
 "nbformat_minor": 2
}
