{
 "cells": [
  {
   "cell_type": "code",
   "execution_count": 61,
   "metadata": {
    "collapsed": false
   },
   "outputs": [
    {
     "name": "stdout",
     "output_type": "stream",
     "text": [
      "5\n",
      "B0011\n",
      "B0000\n",
      "B0000\n",
      "11000\n",
      "EEE00\n"
     ]
    }
   ],
   "source": [
    "n = int(input())\n",
    "arr = [list(input()) for _ in range(n)]"
   ]
  },
  {
   "cell_type": "code",
   "execution_count": 2,
   "metadata": {
    "collapsed": true
   },
   "outputs": [],
   "source": [
    "def find():\n",
    "    global arr,n\n",
    "    b =[]\n",
    "    e =[]\n",
    "    for i in range(n):\n",
    "        for j in range(n):\n",
    "            if arr[i][j] == 'B':\n",
    "                b.append((i,j))\n",
    "            elif arr[i][j]=='E':\n",
    "                e.append((i,j))\n",
    "    return (b, e)\n"
   ]
  },
  {
   "cell_type": "code",
   "execution_count": 46,
   "metadata": {
    "collapsed": true
   },
   "outputs": [],
   "source": [
    "def movable(b, di):\n",
    "    global n,arr\n",
    "    s = -1\n",
    "    if b[0][0]==b[1][0]==b[2][0]:\n",
    "        s = 1 # ---\n",
    "    elif b[0][1]==b[1][1]==b[2][1]:\n",
    "        s = 2 # |\n",
    "    x = [0,0,1,-1]\n",
    "    y = [1,-1,0,0]\n",
    "    if di<4:\n",
    "        for r,c in b:\n",
    "            nr = r + y[di]\n",
    "            nc = c + x[di]\n",
    "            if not 0<=nc<n or not 0<=nr<n:\n",
    "                return False           \n",
    "            else:\n",
    "                if arr[nr][nc] == '1':\n",
    "                    return False\n",
    "    else:\n",
    "        if s == 1:\n",
    "            for r,c in b:\n",
    "                if not r+1<n or not 0<=r-1:\n",
    "                    return False\n",
    "                if arr[r+1][c] == '1' or arr[r-1][c] =='1':\n",
    "                    return False\n",
    "        elif s==2:\n",
    "            for r,c in b:\n",
    "                if not c+1<n or not 0<=c-1:\n",
    "                    return False\n",
    "                if arr[r][c+1] == '1' or arr[r][c-1] =='1':\n",
    "                    return False\n",
    "    return True"
   ]
  },
  {
   "cell_type": "code",
   "execution_count": 62,
   "metadata": {
    "collapsed": false
   },
   "outputs": [],
   "source": [
    "b,e = find()"
   ]
  },
  {
   "cell_type": "code",
   "execution_count": 63,
   "metadata": {
    "collapsed": false
   },
   "outputs": [
    {
     "name": "stdout",
     "output_type": "stream",
     "text": [
      "False\n",
      "False\n",
      "True\n",
      "False\n",
      "False\n"
     ]
    }
   ],
   "source": [
    "for i in range(5):\n",
    "    print(movable(b,i))"
   ]
  },
  {
   "cell_type": "code",
   "execution_count": 28,
   "metadata": {
    "collapsed": false
   },
   "outputs": [],
   "source": [
    "from collections import deque"
   ]
  },
  {
   "cell_type": "code",
   "execution_count": 67,
   "metadata": {
    "collapsed": false
   },
   "outputs": [
    {
     "name": "stdout",
     "output_type": "stream",
     "text": [
      "9\n"
     ]
    }
   ],
   "source": [
    "x = [0,0,1,-1]\n",
    "y = [1,-1,0,0]\n",
    "B, E = find()\n",
    "visited = set()\n",
    "tmp = deque()\n",
    "cnt = 0\n",
    "q = deque()\n",
    "q.append(B)\n",
    "visited.add(tuple(B))\n",
    "while q:\n",
    "    b = q.popleft()\n",
    "    if b == E:\n",
    "        break\n",
    "    for i in range(5):\n",
    "        if movable(b, i):\n",
    "            nb = []\n",
    "            if i<4:\n",
    "                for r,c in b:\n",
    "                    nr = r+y[i]\n",
    "                    nc = c+x[i]\n",
    "                    nb.append((nr,nc))\n",
    "            else:\n",
    "                if b[0][0]==b[1][0]==b[2][0]:\n",
    "                    nb.append((b[0][0]-1, b[0][1]+1))\n",
    "                    nb.append(b[1])\n",
    "                    nb.append((b[2][0]+1, b[2][1]-1))\n",
    "                    \n",
    "                elif b[0][1]==b[1][1]==b[2][1]:\n",
    "                    nb.append((b[0][0]+1, b[0][1]-1))\n",
    "                    nb.append(b[1])\n",
    "                    nb.append((b[2][0]-1, b[2][1]+1))\n",
    "                    \n",
    "            if tuple(nb) not in visited:\n",
    "                tmp.append(nb)\n",
    "                visited.add(tuple(nb))\n",
    "    if not q:\n",
    "        q = tmp\n",
    "        tmp = deque()\n",
    "        cnt+=1\n",
    "if b == E:\n",
    "    print(cnt)\n",
    "else:\n",
    "    print(0)\n"
   ]
  },
  {
   "cell_type": "code",
   "execution_count": 42,
   "metadata": {
    "collapsed": false
   },
   "outputs": [
    {
     "name": "stdout",
     "output_type": "stream",
     "text": [
      "False\n",
      "False\n",
      "True\n",
      "False\n",
      "False\n"
     ]
    }
   ],
   "source": [
    "for i in range(5):\n",
    "    print(movable(b, i))"
   ]
  },
  {
   "cell_type": "code",
   "execution_count": 65,
   "metadata": {
    "collapsed": false
   },
   "outputs": [
    {
     "data": {
      "text/plain": [
       "9"
      ]
     },
     "execution_count": 65,
     "metadata": {},
     "output_type": "execute_result"
    }
   ],
   "source": [
    "cnt"
   ]
  },
  {
   "cell_type": "code",
   "execution_count": 59,
   "metadata": {
    "collapsed": false
   },
   "outputs": [
    {
     "data": {
      "text/plain": [
       "' '"
      ]
     },
     "execution_count": 59,
     "metadata": {},
     "output_type": "execute_result"
    }
   ],
   "source": [
    "arr[3][1]"
   ]
  },
  {
   "cell_type": "code",
   "execution_count": 66,
   "metadata": {
    "collapsed": false
   },
   "outputs": [
    {
     "data": {
      "text/plain": [
       "[['B', '0', '0', '1', '1'],\n",
       " ['B', '0', '0', '0', '0'],\n",
       " ['B', '0', '0', '0', '0'],\n",
       " ['1', '1', '0', '0', '0'],\n",
       " ['E', 'E', 'E', '0', '0']]"
      ]
     },
     "execution_count": 66,
     "metadata": {},
     "output_type": "execute_result"
    }
   ],
   "source": [
    "arr"
   ]
  },
  {
   "cell_type": "code",
   "execution_count": null,
   "metadata": {
    "collapsed": true
   },
   "outputs": [],
   "source": []
  }
 ],
 "metadata": {
  "kernelspec": {
   "display_name": "Python 3",
   "language": "python",
   "name": "python3"
  },
  "language_info": {
   "codemirror_mode": {
    "name": "ipython",
    "version": 3
   },
   "file_extension": ".py",
   "mimetype": "text/x-python",
   "name": "python",
   "nbconvert_exporter": "python",
   "pygments_lexer": "ipython3",
   "version": "3.6.0"
  }
 },
 "nbformat": 4,
 "nbformat_minor": 2
}
