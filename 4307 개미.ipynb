{
 "cells": [
  {
   "cell_type": "code",
   "execution_count": 4,
   "metadata": {
    "collapsed": false
   },
   "outputs": [
    {
     "name": "stdout",
     "output_type": "stream",
     "text": [
      "2\n",
      "10 3\n",
      "2\n",
      "6\n",
      "7\n",
      "4 8\n",
      "214 7\n",
      "11\n",
      "12\n",
      "7\n",
      "13\n",
      "176\n",
      "23\n",
      "191\n",
      "38 207\n"
     ]
    }
   ],
   "source": [
    "import sys\n",
    "#input = sys.stdin.readline\n",
    "t = int(input())\n",
    "for s in range(t):\n",
    "    r, n = map(int, input().split())\n",
    "    mid = r//2\n",
    "    mx, mi = 0, 9876543210\n",
    "    fa, ca = 0, 0\n",
    "    for _ in range(n):\n",
    "        i = int(input())\n",
    "        if abs(mid-i)>mx:\n",
    "            mx = abs(mid-i)\n",
    "            fa = i\n",
    "        if abs(mid-i)<mi:\n",
    "            mi = abs(mid-i)\n",
    "            ca = i\n",
    "    print(min(r-ca, ca), max(r-fa,fa))\n",
    "\n",
    "    \n"
   ]
  },
  {
   "cell_type": "code",
   "execution_count": null,
   "metadata": {
    "collapsed": true
   },
   "outputs": [],
   "source": []
  }
 ],
 "metadata": {
  "kernelspec": {
   "display_name": "Python 3",
   "language": "python",
   "name": "python3"
  },
  "language_info": {
   "codemirror_mode": {
    "name": "ipython",
    "version": 3
   },
   "file_extension": ".py",
   "mimetype": "text/x-python",
   "name": "python",
   "nbconvert_exporter": "python",
   "pygments_lexer": "ipython3",
   "version": "3.6.0"
  }
 },
 "nbformat": 4,
 "nbformat_minor": 2
}
