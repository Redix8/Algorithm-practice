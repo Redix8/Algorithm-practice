{
 "cells": [
  {
   "cell_type": "code",
   "execution_count": 10,
   "metadata": {
    "collapsed": true
   },
   "outputs": [],
   "source": [
    "from collections import deque\n",
    "\n",
    "def check(r,c):\n",
    "    global arr, n, x, y, visited\n",
    "    q = deque()\n",
    "    day = 1\n",
    "    if visited[r][c]:\n",
    "        day = visited[r][c]\n",
    "    visited[r][c] = day\n",
    "    q.append((r,c,day))\n",
    "    while q:\n",
    "        r,c, day = q.popleft()\n",
    "        for i in range(4):\n",
    "            nc = c+x[i]\n",
    "            nr = r+y[i]\n",
    "            if 0<=nr<n and 0<=nc<n:\n",
    "                if not visited[nr][nc] and arr[nr][nc]>arr[r][c]:\n",
    "                    q.append((nr,nc,day+1))\n",
    "                    visited[nr][nc] = visited[r][c]+1"
   ]
  },
  {
   "cell_type": "code",
   "execution_count": 18,
   "metadata": {
    "collapsed": false
   },
   "outputs": [
    {
     "name": "stdout",
     "output_type": "stream",
     "text": [
      "4\n",
      "14 9 12 10\n",
      "1 11 5 4\n",
      "7 15 2 13\n",
      "6 3 16 8\n",
      "4\n"
     ]
    }
   ],
   "source": [
    "n = int(input())\n",
    "arr = [list(map(int, input().split())) for _ in range(n)]\n",
    "visited = [[0]*n for _ in range(n)]\n",
    "mx = 0\n",
    "\n",
    "for i in range(n):\n",
    "    for j in range(n):        \n",
    "        if not visited[i][j]:\n",
    "            tmp = check(i,j)\n",
    "        if mx<tmp:mx =tmp\n",
    "print(mx)"
   ]
  },
  {
   "cell_type": "code",
   "execution_count": 17,
   "metadata": {
    "collapsed": false
   },
   "outputs": [],
   "source": [
    "from collections import deque\n",
    "\n",
    "def check(r,c):\n",
    "    global arr, n, x, y, visited\n",
    "    if visited[r][c]:\n",
    "        return visited[r][c]\n",
    "    x = [0,0,1,-1]\n",
    "    y = [1,-1,0,0]\n",
    "    visited[r][c] = 1\n",
    "    for i in range(4):\n",
    "        nc = c+x[i]\n",
    "        nr = r+y[i]\n",
    "        if 0<=nr<n and 0<=nc<n:\n",
    "            if arr[nr][nc]>arr[r][c]:\n",
    "                visited[r][c] = max(visited[r][c], check(nr,nc)+1)\n",
    "    return visited[r][c]\n",
    "                                       "
   ]
  },
  {
   "cell_type": "code",
   "execution_count": null,
   "metadata": {
    "collapsed": true
   },
   "outputs": [],
   "source": []
  }
 ],
 "metadata": {
  "kernelspec": {
   "display_name": "Python 3",
   "language": "python",
   "name": "python3"
  },
  "language_info": {
   "codemirror_mode": {
    "name": "ipython",
    "version": 3
   },
   "file_extension": ".py",
   "mimetype": "text/x-python",
   "name": "python",
   "nbconvert_exporter": "python",
   "pygments_lexer": "ipython3",
   "version": "3.6.0"
  }
 },
 "nbformat": 4,
 "nbformat_minor": 2
}
