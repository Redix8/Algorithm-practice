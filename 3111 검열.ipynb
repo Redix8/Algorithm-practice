{
 "cells": [
  {
   "cell_type": "code",
   "execution_count": null,
   "metadata": {
    "collapsed": false
   },
   "outputs": [],
   "source": [
    "A = input()\n",
    "B = input()"
   ]
  },
  {
   "cell_type": "code",
   "execution_count": null,
   "metadata": {
    "collapsed": true
   },
   "outputs": [],
   "source": [
    "from collections import deque"
   ]
  },
  {
   "cell_type": "code",
   "execution_count": null,
   "metadata": {
    "collapsed": false
   },
   "outputs": [],
   "source": [
    "B = 'babananananadeda'\n",
    "\n",
    "A = list(A)\n",
    "B = deque(B)"
   ]
  },
  {
   "cell_type": "code",
   "execution_count": null,
   "metadata": {
    "collapsed": false
   },
   "outputs": [],
   "source": [
    "front = deque()\n",
    "back = deque()"
   ]
  },
  {
   "cell_type": "code",
   "execution_count": null,
   "metadata": {
    "collapsed": false
   },
   "outputs": [],
   "source": [
    "i = 0\n",
    "combo = False\n",
    "while True:\n",
    "    try :\n",
    "        x = B.popleft()\n",
    "    except IndexError:\n",
    "        break\n",
    "    if x == A[i]: \n",
    "        i+=1\n",
    "        combo = True\n",
    "    else: \n",
    "        print(i, x, A[i])\n",
    "        i=0\n",
    "        if combo:\n",
    "            B.appendleft(x)\n",
    "            combo = False\n",
    "            continue\n",
    "    \n",
    "    if i==len(A):\n",
    "        for k in range(len(A)-1):\n",
    "            front.pop()\n",
    "        i=0\n",
    "        break\n",
    "    else:\n",
    "        front.append(x)\n"
   ]
  },
  {
   "cell_type": "code",
   "execution_count": null,
   "metadata": {
    "collapsed": false
   },
   "outputs": [],
   "source": [
    "j = len(A)-1\n",
    "combo = False\n",
    "while True:\n",
    "    try :\n",
    "        x = B.pop()\n",
    "    except IndexError:\n",
    "        break\n",
    "    if x == A[j]:\n",
    "        j-=1\n",
    "        combo = True\n",
    "    else:\n",
    "        j = len(A)-1\n",
    "        if combo:\n",
    "            B.append(x)\n",
    "            combo = False\n",
    "            continue\n",
    "    if j == -1:\n",
    "        for k in range(len(A)-1):\n",
    "            back.popleft()\n",
    "        j = len(A)-1\n",
    "        break\n",
    "    else:\n",
    "        back.appendleft(x)"
   ]
  },
  {
   "cell_type": "code",
   "execution_count": null,
   "metadata": {
    "collapsed": false
   },
   "outputs": [],
   "source": [
    "while True:\n",
    "    i = 0\n",
    "    combo = False\n",
    "    while True:\n",
    "        try :\n",
    "            x = B.popleft()\n",
    "        except IndexError:\n",
    "            break\n",
    "        if x == A[i]: \n",
    "            i+=1\n",
    "            combo = True\n",
    "        else: \n",
    "            i=0\n",
    "            if combo:\n",
    "                B.appendleft(x)\n",
    "                combo = False\n",
    "                continue\n",
    "        if i==len(A):\n",
    "            for k in range(len(A)-1):\n",
    "                front.pop()\n",
    "            i=0\n",
    "            break\n",
    "        else:\n",
    "            front.append(x)            \n",
    "    if not B:\n",
    "        break\n",
    "    else:\n",
    "        B = front + B\n",
    "        front.clear()\n",
    "\n",
    "    \n",
    "    j = len(A)-1\n",
    "    combo = False\n",
    "    while True:\n",
    "        try :\n",
    "            x = B.pop()\n",
    "        except IndexError:\n",
    "            break\n",
    "        if x == A[j]:\n",
    "            j-=1\n",
    "            combo = True\n",
    "        else:\n",
    "            j = len(A)-1\n",
    "            if combo:\n",
    "                B.append(x)\n",
    "                combo = False\n",
    "                continue\n",
    "        if j == -1:\n",
    "            for k in range(len(A)-1):\n",
    "                back.popleft()\n",
    "            j = len(A)-1\n",
    "            break\n",
    "        else:\n",
    "            back.appendleft(x)\n",
    "    if not B:\n",
    "        break\n",
    "    else:\n",
    "        B = B + back\n",
    "        back.clear()\n"
   ]
  },
  {
   "cell_type": "code",
   "execution_count": null,
   "metadata": {
    "collapsed": false
   },
   "outputs": [],
   "source": [
    "front"
   ]
  },
  {
   "cell_type": "code",
   "execution_count": null,
   "metadata": {
    "collapsed": false
   },
   "outputs": [],
   "source": [
    "back"
   ]
  },
  {
   "cell_type": "code",
   "execution_count": null,
   "metadata": {
    "collapsed": false
   },
   "outputs": [],
   "source": [
    "print(\"\".join(front+back))"
   ]
  },
  {
   "cell_type": "code",
   "execution_count": null,
   "metadata": {
    "collapsed": false
   },
   "outputs": [],
   "source": [
    "B"
   ]
  },
  {
   "cell_type": "code",
   "execution_count": null,
   "metadata": {
    "collapsed": true
   },
   "outputs": [],
   "source": [
    "B = 'bab anana nanananadeda'\n",
    "\n",
    "A = list('anana')\n",
    "A2 = list(A)\n",
    "A2.reverse()"
   ]
  },
  {
   "cell_type": "code",
   "execution_count": null,
   "metadata": {
    "collapsed": false
   },
   "outputs": [],
   "source": [
    "B[:-len(A)]\n",
    "'bab anana nan anana deda'\n",
    "'babnandeda'\n",
    "'babanndeda'"
   ]
  },
  {
   "cell_type": "code",
   "execution_count": null,
   "metadata": {
    "collapsed": false
   },
   "outputs": [],
   "source": [
    "left = []\n",
    "right = []\n",
    "\n",
    "i = 0\n",
    "fw = 0\n",
    "bw = len(B)-1\n",
    "pos = 0\n",
    "while fw<=bw:\n",
    "    if pos == 0:        \n",
    "        left.append(B[fw])\n",
    "        if len(left)>=len(A):\n",
    "            if left[-len(A):] == A:\n",
    "                left = left[:-len(A)]\n",
    "                #fw+=1\n",
    "                pos = 1\n",
    "                #print(left, fw)\n",
    "        fw+=1\n",
    "        #print(left, fw)\n",
    "    else:\n",
    "        right.append(B[bw])\n",
    "        if len(right)>=len(A2):\n",
    "            if right[-len(A2):] == A2:\n",
    "                right = right[:-len(A2)]\n",
    "                #bw-=1\n",
    "                pos = 0\n",
    "                #print(right, bw)\n",
    "        bw-=1\n",
    "        #print(right, bw)\n",
    "while left:\n",
    "    x = left.pop()\n",
    "    right.append(x)\n",
    "    if len(right)>=len(A2):\n",
    "        if right[-len(A2):] == A2:\n",
    "            right = right[:-len(A2)]\n",
    "\n",
    "right.reverse()\n",
    "print(\"\".join(right))"
   ]
  },
  {
   "cell_type": "code",
   "execution_count": 5,
   "metadata": {
    "collapsed": false
   },
   "outputs": [
    {
     "name": "stdout",
     "output_type": "stream",
     "text": [
      "aba\n",
      "ababacccababa\n"
     ]
    }
   ],
   "source": [
    "A = input()\n",
    "T = input()"
   ]
  },
  {
   "cell_type": "code",
   "execution_count": 17,
   "metadata": {
    "collapsed": false
   },
   "outputs": [
    {
     "name": "stdout",
     "output_type": "stream",
     "text": [
      "aba\n",
      "ababacccababa\n",
      "bacccab\n"
     ]
    }
   ],
   "source": [
    "import sys\n",
    "from collections import deque\n",
    "#input = sys.stdin.readline\n",
    "A = input()\n",
    "B = input()\n",
    "\n",
    "A = deque(A)\n",
    "left = deque()\n",
    "right = deque()\n",
    "\n",
    "def comp(arr, x, w):    \n",
    "    n = len(arr)-len(x)\n",
    "    if w: n = 0\n",
    "    ret = True\n",
    "    for i in range(len(x)):\n",
    "        if arr[n+i] != x[i]:\n",
    "            ret = False\n",
    "            break\n",
    "    return ret\n",
    "\n",
    "i = 0\n",
    "fw = 0\n",
    "bw = len(B)-1\n",
    "pos = 0\n",
    "while fw<=bw:\n",
    "    if pos == 0:        \n",
    "        left.append(B[fw])\n",
    "        if len(left)>=len(A):            \n",
    "            if comp(left, A, False):\n",
    "                for _ in range(len(A)): left.pop()\n",
    "                pos = 1\n",
    "        fw+=1\n",
    "    else:\n",
    "        right.appendleft(B[bw])\n",
    "        if len(right)>=len(A):\n",
    "            if comp(right, A, True):\n",
    "                for _ in range(len(A)): right.popleft()\n",
    "                pos = 0\n",
    "        bw-=1\n",
    "while right:\n",
    "    x = right.popleft()\n",
    "    left.append(x)\n",
    "    if len(left)>=len(A):\n",
    "        if comp(left, A, False):\n",
    "            for _ in range(len(A)): left.pop()\n",
    "            break\n",
    "\n",
    "print(\"\".join(left))"
   ]
  },
  {
   "cell_type": "code",
   "execution_count": null,
   "metadata": {
    "collapsed": true
   },
   "outputs": [],
   "source": []
  },
  {
   "cell_type": "code",
   "execution_count": null,
   "metadata": {
    "collapsed": true
   },
   "outputs": [],
   "source": []
  },
  {
   "cell_type": "code",
   "execution_count": 14,
   "metadata": {
    "collapsed": false
   },
   "outputs": [],
   "source": [
    "b = deque([1,2,3,4,5,6])"
   ]
  },
  {
   "cell_type": "code",
   "execution_count": 15,
   "metadata": {
    "collapsed": false
   },
   "outputs": [
    {
     "ename": "TypeError",
     "evalue": "sequence index must be integer, not 'slice'",
     "output_type": "error",
     "traceback": [
      "\u001b[0;31m---------------------------------------------------------------------------\u001b[0m",
      "\u001b[0;31mTypeError\u001b[0m                                 Traceback (most recent call last)",
      "\u001b[0;32m<ipython-input-15-9623636aef6f>\u001b[0m in \u001b[0;36m<module>\u001b[0;34m()\u001b[0m\n\u001b[0;32m----> 1\u001b[0;31m \u001b[0mb\u001b[0m\u001b[1;33m[\u001b[0m\u001b[1;33m:\u001b[0m\u001b[1;36m5\u001b[0m\u001b[1;33m]\u001b[0m\u001b[1;33m\u001b[0m\u001b[0m\n\u001b[0m",
      "\u001b[0;31mTypeError\u001b[0m: sequence index must be integer, not 'slice'"
     ]
    }
   ],
   "source": [
    "b[:5]"
   ]
  },
  {
   "cell_type": "code",
   "execution_count": null,
   "metadata": {
    "collapsed": true
   },
   "outputs": [],
   "source": []
  }
 ],
 "metadata": {
  "kernelspec": {
   "display_name": "Python 3",
   "language": "python",
   "name": "python3"
  },
  "language_info": {
   "codemirror_mode": {
    "name": "ipython",
    "version": 3
   },
   "file_extension": ".py",
   "mimetype": "text/x-python",
   "name": "python",
   "nbconvert_exporter": "python",
   "pygments_lexer": "ipython3",
   "version": "3.6.0"
  }
 },
 "nbformat": 4,
 "nbformat_minor": 2
}
