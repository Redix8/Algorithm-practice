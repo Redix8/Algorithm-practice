{
 "cells": [
  {
   "cell_type": "code",
   "execution_count": 108,
   "metadata": {
    "collapsed": false
   },
   "outputs": [
    {
     "name": "stdout",
     "output_type": "stream",
     "text": [
      "banana\n",
      "babananananadeda\n"
     ]
    }
   ],
   "source": [
    "A = input()\n",
    "B = input()"
   ]
  },
  {
   "cell_type": "code",
   "execution_count": 4,
   "metadata": {
    "collapsed": true
   },
   "outputs": [],
   "source": [
    "from collections import deque"
   ]
  },
  {
   "cell_type": "code",
   "execution_count": 192,
   "metadata": {
    "collapsed": false
   },
   "outputs": [],
   "source": [
    "B = 'babananananadeda'\n",
    "\n",
    "A = list(A)\n",
    "B = deque(B)"
   ]
  },
  {
   "cell_type": "code",
   "execution_count": 193,
   "metadata": {
    "collapsed": false
   },
   "outputs": [],
   "source": [
    "front = deque()\n",
    "back = deque()"
   ]
  },
  {
   "cell_type": "code",
   "execution_count": 171,
   "metadata": {
    "collapsed": false
   },
   "outputs": [
    {
     "name": "stdout",
     "output_type": "stream",
     "text": [
      "2 b n\n"
     ]
    }
   ],
   "source": [
    "i = 0\n",
    "combo = False\n",
    "while True:\n",
    "    try :\n",
    "        x = B.popleft()\n",
    "    except IndexError:\n",
    "        break\n",
    "    if x == A[i]: \n",
    "        i+=1\n",
    "        combo = True\n",
    "    else: \n",
    "        print(i, x, A[i])\n",
    "        i=0\n",
    "        if combo:\n",
    "            B.appendleft(x)\n",
    "            combo = False\n",
    "            continue\n",
    "    \n",
    "    if i==len(A):\n",
    "        for k in range(len(A)-1):\n",
    "            front.pop()\n",
    "        i=0\n",
    "        break\n",
    "    else:\n",
    "        front.append(x)\n"
   ]
  },
  {
   "cell_type": "code",
   "execution_count": 172,
   "metadata": {
    "collapsed": false
   },
   "outputs": [],
   "source": [
    "j = len(A)-1\n",
    "combo = False\n",
    "while True:\n",
    "    try :\n",
    "        x = B.pop()\n",
    "    except IndexError:\n",
    "        break\n",
    "    if x == A[j]:\n",
    "        j-=1\n",
    "        combo = True\n",
    "    else:\n",
    "        j = len(A)-1\n",
    "        if combo:\n",
    "            B.append(x)\n",
    "            combo = False\n",
    "            continue\n",
    "    if j == -1:\n",
    "        for k in range(len(A)-1):\n",
    "            back.popleft()\n",
    "        j = len(A)-1\n",
    "        break\n",
    "    else:\n",
    "        back.appendleft(x)"
   ]
  },
  {
   "cell_type": "code",
   "execution_count": 194,
   "metadata": {
    "collapsed": false
   },
   "outputs": [
    {
     "name": "stdout",
     "output_type": "stream",
     "text": [
      "deque(['n', 'a', 'n', 'a', 'd', 'e', 'd', 'a']) deque(['b', 'a'])\n"
     ]
    }
   ],
   "source": [
    "while True:\n",
    "    i = 0\n",
    "    combo = False\n",
    "    while True:\n",
    "        try :\n",
    "            x = B.popleft()\n",
    "        except IndexError:\n",
    "            break\n",
    "        if x == A[i]: \n",
    "            i+=1\n",
    "            combo = True\n",
    "        else: \n",
    "            i=0\n",
    "            if combo:\n",
    "                B.appendleft(x)\n",
    "                combo = False\n",
    "                continue\n",
    "        if i==len(A):\n",
    "            for k in range(len(A)-1):\n",
    "                front.pop()\n",
    "            i=0\n",
    "            break\n",
    "        else:\n",
    "            front.append(x)            \n",
    "    if not B:\n",
    "        break\n",
    "    else:\n",
    "        B = front + B\n",
    "        front.clear()\n",
    "\n",
    "    \n",
    "    j = len(A)-1\n",
    "    combo = False\n",
    "    while True:\n",
    "        try :\n",
    "            x = B.pop()\n",
    "        except IndexError:\n",
    "            break\n",
    "        if x == A[j]:\n",
    "            j-=1\n",
    "            combo = True\n",
    "        else:\n",
    "            j = len(A)-1\n",
    "            if combo:\n",
    "                B.append(x)\n",
    "                combo = False\n",
    "                continue\n",
    "        if j == -1:\n",
    "            for k in range(len(A)-1):\n",
    "                back.popleft()\n",
    "            j = len(A)-1\n",
    "            break\n",
    "        else:\n",
    "            back.appendleft(x)\n",
    "    if not B:\n",
    "        break\n",
    "    else:\n",
    "        B = B + back\n",
    "        back.clear()\n"
   ]
  },
  {
   "cell_type": "code",
   "execution_count": 195,
   "metadata": {
    "collapsed": false
   },
   "outputs": [
    {
     "data": {
      "text/plain": [
       "deque([])"
      ]
     },
     "execution_count": 195,
     "metadata": {},
     "output_type": "execute_result"
    }
   ],
   "source": [
    "front"
   ]
  },
  {
   "cell_type": "code",
   "execution_count": 196,
   "metadata": {
    "collapsed": false
   },
   "outputs": [
    {
     "data": {
      "text/plain": [
       "deque(['d', 'e', 'd', 'a'])"
      ]
     },
     "execution_count": 196,
     "metadata": {},
     "output_type": "execute_result"
    }
   ],
   "source": [
    "back"
   ]
  },
  {
   "cell_type": "code",
   "execution_count": 198,
   "metadata": {
    "collapsed": false
   },
   "outputs": [
    {
     "name": "stdout",
     "output_type": "stream",
     "text": [
      "deda\n"
     ]
    }
   ],
   "source": [
    "print(\"\".join(front+back))"
   ]
  },
  {
   "cell_type": "code",
   "execution_count": 188,
   "metadata": {
    "collapsed": false
   },
   "outputs": [
    {
     "data": {
      "text/plain": [
       "deque([])"
      ]
     },
     "execution_count": 188,
     "metadata": {},
     "output_type": "execute_result"
    }
   ],
   "source": [
    "B"
   ]
  },
  {
   "cell_type": "code",
   "execution_count": 275,
   "metadata": {
    "collapsed": true
   },
   "outputs": [],
   "source": [
    "B = 'bab anana nanananadeda'\n",
    "\n",
    "A = list('anana')\n",
    "A2 = list(A)\n",
    "A2.reverse()"
   ]
  },
  {
   "cell_type": "code",
   "execution_count": 205,
   "metadata": {
    "collapsed": false
   },
   "outputs": [
    {
     "data": {
      "text/plain": [
       "'babananana'"
      ]
     },
     "execution_count": 205,
     "metadata": {},
     "output_type": "execute_result"
    }
   ],
   "source": [
    "B[:-len(A)]\n",
    "'bab anana nan anana deda'\n",
    "'babnandeda'\n",
    "'babanndeda'"
   ]
  },
  {
   "cell_type": "code",
   "execution_count": 292,
   "metadata": {
    "collapsed": false
   },
   "outputs": [],
   "source": [
    "left = []\n",
    "right = []\n",
    "\n",
    "i = 0\n",
    "fw = 0\n",
    "bw = len(B)-1\n",
    "pos = 0\n",
    "while fw<=bw:\n",
    "    if pos == 0:        \n",
    "        left.append(B[fw])\n",
    "        if len(left)>=len(A):\n",
    "            if left[-len(A):] == A:\n",
    "                left = left[:-len(A)]\n",
    "                #fw+=1\n",
    "                pos = 1\n",
    "                #print(left, fw)\n",
    "        fw+=1\n",
    "        #print(left, fw)\n",
    "    else:\n",
    "        right.append(B[bw])\n",
    "        if len(right)>=len(A2):\n",
    "            if right[-len(A2):] == A2:\n",
    "                right = right[:-len(A2)]\n",
    "                #bw-=1\n",
    "                pos = 0\n",
    "                #print(right, bw)\n",
    "        bw-=1\n",
    "        #print(right, bw)\n",
    "while left:\n",
    "    x = left.pop()\n",
    "    right.append(x)\n",
    "    if len(right)>=len(A2):\n",
    "        if right[-len(A2):] == A2:\n",
    "            right = right[:-len(A2)]\n",
    "\n",
    "right.reverse()\n",
    "print(\"\".join(right))"
   ]
  },
  {
   "cell_type": "code",
   "execution_count": 265,
   "metadata": {
    "collapsed": false
   },
   "outputs": [
    {
     "data": {
      "text/plain": [
       "['a', 'n', 'a', 'n', 'a']"
      ]
     },
     "execution_count": 265,
     "metadata": {},
     "output_type": "execute_result"
    }
   ],
   "source": [
    "A"
   ]
  },
  {
   "cell_type": "code",
   "execution_count": 266,
   "metadata": {
    "collapsed": false
   },
   "outputs": [
    {
     "data": {
      "text/plain": [
       "['a', 'n', 'a', 'n', 'a']"
      ]
     },
     "execution_count": 266,
     "metadata": {},
     "output_type": "execute_result"
    }
   ],
   "source": [
    "A2"
   ]
  },
  {
   "cell_type": "code",
   "execution_count": 290,
   "metadata": {
    "collapsed": false
   },
   "outputs": [
    {
     "data": {
      "text/plain": [
       "['b', 'a', 'b', 'n', 'a', 'n']"
      ]
     },
     "execution_count": 290,
     "metadata": {},
     "output_type": "execute_result"
    }
   ],
   "source": [
    "left"
   ]
  },
  {
   "cell_type": "code",
   "execution_count": 293,
   "metadata": {
    "collapsed": false
   },
   "outputs": [
    {
     "data": {
      "text/plain": [
       "['a', 'd', 'e', 'd', 'n', 'a', 'n', 'b', 'a', 'b']"
      ]
     },
     "execution_count": 293,
     "metadata": {},
     "output_type": "execute_result"
    }
   ],
   "source": [
    "right"
   ]
  },
  {
   "cell_type": "code",
   "execution_count": 294,
   "metadata": {
    "collapsed": false
   },
   "outputs": [
    {
     "name": "stdout",
     "output_type": "stream",
     "text": [
      "babnandeda\n"
     ]
    }
   ],
   "source": []
  },
  {
   "cell_type": "code",
   "execution_count": null,
   "metadata": {
    "collapsed": true
   },
   "outputs": [],
   "source": []
  }
 ],
 "metadata": {
  "kernelspec": {
   "display_name": "Python 3",
   "language": "python",
   "name": "python3"
  },
  "language_info": {
   "codemirror_mode": {
    "name": "ipython",
    "version": 3
   },
   "file_extension": ".py",
   "mimetype": "text/x-python",
   "name": "python",
   "nbconvert_exporter": "python",
   "pygments_lexer": "ipython3",
   "version": "3.6.0"
  }
 },
 "nbformat": 4,
 "nbformat_minor": 2
}
