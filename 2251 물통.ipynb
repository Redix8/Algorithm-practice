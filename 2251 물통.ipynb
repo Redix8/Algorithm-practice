{
 "cells": [
  {
   "cell_type": "code",
   "execution_count": 13,
   "metadata": {
    "collapsed": false
   },
   "outputs": [
    {
     "name": "stdout",
     "output_type": "stream",
     "text": [
      "8 9 10\n"
     ]
    }
   ],
   "source": [
    "limit = list(map(int, input().split()))"
   ]
  },
  {
   "cell_type": "code",
   "execution_count": 28,
   "metadata": {
    "collapsed": false
   },
   "outputs": [
    {
     "name": "stdout",
     "output_type": "stream",
     "text": [
      "1 2 8 9 10\n"
     ]
    }
   ],
   "source": [
    "from collections import deque\n",
    "done = set()\n",
    "q = deque()\n",
    "q.append([0,0,limit[2]])\n",
    "done.add((0,0,limit[2]))\n",
    "ret = [limit[2]]\n",
    "while q:\n",
    "    ABC = q.popleft()    \n",
    "    for i in range(3):\n",
    "        for j in range(3):            \n",
    "            if i!=j and ABC[i]!=0 and ABC[j]<limit[j]:\n",
    "                box = ABC+[]\n",
    "                if limit[j]-ABC[j]>=ABC[i]:\n",
    "                    box[j] = ABC[j]+ABC[i]\n",
    "                    box[i] = 0\n",
    "                else:\n",
    "                    box[i] = ABC[i]-(limit[j]-ABC[j])\n",
    "                    box[j] = limit[j]\n",
    "                if tuple(box) not in done:\n",
    "                    q.append(box)\n",
    "                    done.add(tuple(box))\n",
    "                    if box[0]==0:\n",
    "                        ret.append(box[2])\n",
    "ret.sort()\n",
    "print(*ret)"
   ]
  },
  {
   "cell_type": "code",
   "execution_count": 27,
   "metadata": {
    "collapsed": false
   },
   "outputs": [
    {
     "name": "stdout",
     "output_type": "stream",
     "text": [
      "[1, 2, 8, 9]\n"
     ]
    }
   ],
   "source": [
    "print(ret)"
   ]
  },
  {
   "cell_type": "code",
   "execution_count": 23,
   "metadata": {
    "collapsed": false
   },
   "outputs": [
    {
     "data": {
      "text/plain": [
       "{(0, 0, 10), (0, 9, 9), (8, 0, 2), (8, 9, 1)}"
      ]
     },
     "execution_count": 23,
     "metadata": {},
     "output_type": "execute_result"
    }
   ],
   "source": [
    "done"
   ]
  },
  {
   "cell_type": "code",
   "execution_count": null,
   "metadata": {
    "collapsed": true
   },
   "outputs": [],
   "source": []
  }
 ],
 "metadata": {
  "kernelspec": {
   "display_name": "Python 3",
   "language": "python",
   "name": "python3"
  },
  "language_info": {
   "codemirror_mode": {
    "name": "ipython",
    "version": 3
   },
   "file_extension": ".py",
   "mimetype": "text/x-python",
   "name": "python",
   "nbconvert_exporter": "python",
   "pygments_lexer": "ipython3",
   "version": "3.6.0"
  }
 },
 "nbformat": 4,
 "nbformat_minor": 2
}
