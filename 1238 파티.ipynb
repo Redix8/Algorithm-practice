{
 "cells": [
  {
   "cell_type": "code",
   "execution_count": 4,
   "metadata": {
    "collapsed": false
   },
   "outputs": [
    {
     "name": "stdout",
     "output_type": "stream",
     "text": [
      "4 8 2\n",
      "1 2 4\n",
      "1 3 2\n",
      "1 4 7\n",
      "2 1 1\n",
      "2 3 5\n",
      "3 1 2\n",
      "3 4 4\n",
      "4 2 3\n",
      "[(3, 4), (4, 1)]\n",
      "[(4, 1), (7, 3)]\n",
      "[(6, 3), (7, 3)]\n",
      "[(7, 3)]\n",
      "6\n"
     ]
    }
   ],
   "source": [
    "import sys\n",
    "from heapq import *\n",
    "#input = sys.stdin.readline\n",
    "n, m, x = map(int, input().split())\n",
    "home = [[] for _ in range(n+1)]\n",
    "home2 = [[] for _ in range(n+1)]\n",
    "for _ in range(m):\n",
    "    s, e, t = map(int, input().split())\n",
    "    home[s].append((e, t))\n",
    "    home2[e].append((s, t))\n",
    "\n",
    "d=[9876543210]*(n+1)\n",
    "d[x] = 0\n",
    "heap = [(0,x)]\n",
    "while heap:\n",
    "    total, node = heappop(heap)\n",
    "    if d[node]<total:continue\n",
    "    for nxt, cost in home[node]:\n",
    "        if d[nxt]>d[node]+cost:\n",
    "            d[nxt] = d[node]+cost\n",
    "            heappush(heap, (d[nxt],nxt))\n",
    "    print(heap)\n",
    "print(max(d[1:]))"
   ]
  },
  {
   "cell_type": "code",
   "execution_count": 7,
   "metadata": {
    "collapsed": false
   },
   "outputs": [
    {
     "name": "stdout",
     "output_type": "stream",
     "text": [
      "4 8 2\n",
      "1 2 4\n",
      "1 3 2\n",
      "1 4 7\n",
      "2 1 1\n",
      "2 3 5\n",
      "3 1 2\n",
      "3 4 4\n",
      "4 2 3\n",
      "10\n"
     ]
    }
   ],
   "source": [
    "import sys\n",
    "from heapq import *\n",
    "#input = sys.stdin.readline\n",
    "n, m, x = map(int, input().split())\n",
    "home = [[] for _ in range(n+1)]\n",
    "home2 = [[] for _ in range(n+1)]\n",
    "for _ in range(m):\n",
    "    s, e, t = map(int, input().split())\n",
    "    home[s].append((e, t))\n",
    "    home2[e].append((s, t))\n",
    "\n",
    "def dijkstra(g, start):\n",
    "    d=[9876543210]*(n+1)\n",
    "    d[start] = 0\n",
    "    heap = [(0,start)]\n",
    "    while heap:\n",
    "        total, node = heappop(heap)\n",
    "        if d[node]<total:continue\n",
    "        for nxt, cost in g[node]:\n",
    "            if d[nxt]>d[node]+cost:\n",
    "                d[nxt] = d[node]+cost\n",
    "                heappush(heap, (d[nxt],nxt))\n",
    "    return d[1:]\n",
    "\n",
    "print(max([a+b for a, b in zip(dijkstra(home, x), dijkstra(home2,x))]))"
   ]
  },
  {
   "cell_type": "code",
   "execution_count": null,
   "metadata": {
    "collapsed": true
   },
   "outputs": [],
   "source": []
  }
 ],
 "metadata": {
  "kernelspec": {
   "display_name": "Python 3",
   "language": "python",
   "name": "python3"
  },
  "language_info": {
   "codemirror_mode": {
    "name": "ipython",
    "version": 3
   },
   "file_extension": ".py",
   "mimetype": "text/x-python",
   "name": "python",
   "nbconvert_exporter": "python",
   "pygments_lexer": "ipython3",
   "version": "3.6.0"
  }
 },
 "nbformat": 4,
 "nbformat_minor": 2
}
