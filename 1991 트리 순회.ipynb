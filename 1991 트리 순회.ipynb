{
 "cells": [
  {
   "cell_type": "code",
   "execution_count": 29,
   "metadata": {
    "collapsed": false
   },
   "outputs": [
    {
     "name": "stdout",
     "output_type": "stream",
     "text": [
      "7\n"
     ]
    }
   ],
   "source": [
    "N = int(input())\n",
    "tree = [[None for i in range(2)] for j in range(N)]"
   ]
  },
  {
   "cell_type": "code",
   "execution_count": 12,
   "metadata": {
    "collapsed": false
   },
   "outputs": [
    {
     "name": "stdout",
     "output_type": "stream",
     "text": [
      "A B C\n",
      "B D .\n",
      "C E F\n",
      "E . .\n",
      "F . G\n",
      "D . .\n",
      "G . .\n"
     ]
    }
   ],
   "source": [
    "for i in range(N):\n",
    "    root, left, right = input().split()    \n",
    "    root = ord(root)-ord('A')      \n",
    "    if left!='.' : tree[root][0] = ord(left)-ord('A')\n",
    "    if right != '.' : tree[root][1] = ord(right)-ord('A')"
   ]
  },
  {
   "cell_type": "code",
   "execution_count": 13,
   "metadata": {
    "collapsed": false
   },
   "outputs": [
    {
     "data": {
      "text/plain": [
       "[[1, 2],\n",
       " [3, None],\n",
       " [4, 5],\n",
       " [None, None],\n",
       " [None, None],\n",
       " [None, 6],\n",
       " [None, None]]"
      ]
     },
     "execution_count": 13,
     "metadata": {},
     "output_type": "execute_result"
    }
   ],
   "source": [
    "tree"
   ]
  },
  {
   "cell_type": "code",
   "execution_count": 17,
   "metadata": {
    "collapsed": false
   },
   "outputs": [],
   "source": [
    "def preorder(node):\n",
    "    global tree\n",
    "    if node == None: return\n",
    "    print(chr(ord('A')+node), end='') #루트 출력\n",
    "    preorder(tree[node][0])           #왼쪽 방문\n",
    "    preorder(tree[node][1])           #오른쪽 방문"
   ]
  },
  {
   "cell_type": "code",
   "execution_count": 23,
   "metadata": {
    "collapsed": false
   },
   "outputs": [],
   "source": [
    "def inorder(node):\n",
    "    global tree\n",
    "    if node == None: return\n",
    "    if tree[node][0]!= None : inorder(tree[node][0])\n",
    "    print(chr(ord('A')+node), end='')\n",
    "    inorder(tree[node][1])"
   ]
  },
  {
   "cell_type": "code",
   "execution_count": 25,
   "metadata": {
    "collapsed": false
   },
   "outputs": [],
   "source": [
    "def postorder(node):\n",
    "    global tree\n",
    "    if node == None: return\n",
    "    postorder(tree[node][0])\n",
    "    postorder(tree[node][1])\n",
    "    print(chr(ord('A')+node), end='')"
   ]
  },
  {
   "cell_type": "code",
   "execution_count": 28,
   "metadata": {
    "collapsed": false
   },
   "outputs": [
    {
     "name": "stdout",
     "output_type": "stream",
     "text": [
      "ABDCEFG\n",
      "DBAECFG\n",
      "DBEGFCA"
     ]
    }
   ],
   "source": [
    "preorder(0)\n",
    "print()\n",
    "inorder(0)\n",
    "print()\n",
    "postorder(0)"
   ]
  },
  {
   "cell_type": "code",
   "execution_count": null,
   "metadata": {
    "collapsed": true
   },
   "outputs": [],
   "source": []
  }
 ],
 "metadata": {
  "kernelspec": {
   "display_name": "Python 3",
   "language": "python",
   "name": "python3"
  },
  "language_info": {
   "codemirror_mode": {
    "name": "ipython",
    "version": 3
   },
   "file_extension": ".py",
   "mimetype": "text/x-python",
   "name": "python",
   "nbconvert_exporter": "python",
   "pygments_lexer": "ipython3",
   "version": "3.6.0"
  }
 },
 "nbformat": 4,
 "nbformat_minor": 2
}
