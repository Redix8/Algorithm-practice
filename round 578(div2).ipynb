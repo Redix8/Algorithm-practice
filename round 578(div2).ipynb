{
 "cells": [
  {
   "cell_type": "code",
   "execution_count": null,
   "metadata": {
    "collapsed": false
   },
   "outputs": [],
   "source": [
    "n = int(input())\n",
    "s = input()\n",
    "arr = [0]*10\n",
    "for x in s:\n",
    "    if x == 'L':\n",
    "        for i in range(10):\n",
    "            if arr[i]==0:\n",
    "                arr[i]=1\n",
    "                break\n",
    "    elif x == 'R':\n",
    "        for i in range(9,-1,-1):\n",
    "            if arr[i]==0:\n",
    "                arr[i]=1\n",
    "                break\n",
    "    else:\n",
    "        arr[int(x)] = 0\n",
    "print(''.join(map(str, arr)))"
   ]
  },
  {
   "cell_type": "code",
   "execution_count": null,
   "metadata": {
    "collapsed": false
   },
   "outputs": [],
   "source": [
    "import sys\n",
    "#input = sys.stdin.readline\n",
    "t = int(input())\n",
    "for _ in range(t):\n",
    "    n, m, k = map(int, input().split())\n",
    "    arr= list(map(int, input().split()))    \n",
    "    if n == 1:\n",
    "        print(\"YES\")\n",
    "    for i in range(n-1):\n",
    "        dif = arr[i+1]-k \n",
    "        if dif<0: dif = 0\n",
    "        if arr[i]>=dif and arr[i]>=0:\n",
    "            m+=arr[i]-dif\n",
    "        else:\n",
    "            m-=(arr[i+1]-k)-arr[i]\n",
    "        if m<0:\n",
    "            print(\"NO\")\n",
    "            break\n",
    "        if i==n-2:\n",
    "            print(\"YES\")\n",
    "    \n"
   ]
  },
  {
   "cell_type": "code",
   "execution_count": 1,
   "metadata": {
    "collapsed": true
   },
   "outputs": [],
   "source": [
    "def gcd(m,n):\n",
    "    while n != 0:\n",
    "        t = m%n\n",
    "        (m,n) = (n,t)\n",
    "    return abs(m)"
   ]
  },
  {
   "cell_type": "code",
   "execution_count": 11,
   "metadata": {
    "collapsed": false
   },
   "outputs": [
    {
     "name": "stdout",
     "output_type": "stream",
     "text": [
      "4 6 3\n",
      "1 1 2 3\n",
      "1 1\n",
      "YES\n",
      "2 6 1 2\n",
      "2 1\n",
      "NO\n",
      "2 6 2 4\n",
      "2 2\n",
      "YES\n"
     ]
    }
   ],
   "source": [
    "import sys\n",
    "#input = sys.stdin.readline\n",
    "n, m, q = map(int, input().split())\n",
    "g = gcd(n,m)\n",
    "ng = n//g\n",
    "mg = m//g\n",
    "def check(z,x):\n",
    "    global ng, mg\n",
    "    if z == 1:\n",
    "        return ((x-1)//ng+1)\n",
    "    elif z==2:\n",
    "        return ((x-1)//mg+1)\n",
    "\n",
    "for i in range(q):\n",
    "    z,x,c,v = map(int, input().split())\n",
    "    a = check(z,x)\n",
    "    b = check(c,v)\n",
    "    if a==b:\n",
    "        print(\"YES\")\n",
    "    else:\n",
    "        print(\"NO\")      \n"
   ]
  },
  {
   "cell_type": "code",
   "execution_count": 4,
   "metadata": {
    "collapsed": false
   },
   "outputs": [
    {
     "name": "stdout",
     "output_type": "stream",
     "text": [
      "2 3\n"
     ]
    }
   ],
   "source": [
    "print(ng, mg)\n"
   ]
  },
  {
   "cell_type": "code",
   "execution_count": null,
   "metadata": {
    "collapsed": true
   },
   "outputs": [],
   "source": []
  }
 ],
 "metadata": {
  "kernelspec": {
   "display_name": "Python 3",
   "language": "python",
   "name": "python3"
  },
  "language_info": {
   "codemirror_mode": {
    "name": "ipython",
    "version": 3
   },
   "file_extension": ".py",
   "mimetype": "text/x-python",
   "name": "python",
   "nbconvert_exporter": "python",
   "pygments_lexer": "ipython3",
   "version": "3.6.0"
  }
 },
 "nbformat": 4,
 "nbformat_minor": 2
}
