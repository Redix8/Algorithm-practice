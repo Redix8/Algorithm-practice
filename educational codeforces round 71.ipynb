{
 "cells": [
  {
   "cell_type": "code",
   "execution_count": null,
   "metadata": {
    "collapsed": false
   },
   "outputs": [],
   "source": [
    "import sys\n",
    "#input = sys.stdin.readline\n",
    "t = int(input())\n",
    "for _ in range(t):\n",
    "    b,p,f = map(int,input().split())\n",
    "    h,c = map(int, input().split())\n",
    "    mx = 0\n",
    "    if h>=c:\n",
    "        while b>1 and p:\n",
    "            b-=2\n",
    "            p-=1\n",
    "            mx+=h\n",
    "        while b>1 and f:\n",
    "            b-=2\n",
    "            f-=1\n",
    "            mx+=c\n",
    "    else:\n",
    "        while b>1 and f:\n",
    "            b-=2\n",
    "            f-=1\n",
    "            mx+=c\n",
    "        while b>1 and p:\n",
    "            b-=2\n",
    "            p-=1\n",
    "            mx+=h\n",
    "    print(mx)"
   ]
  },
  {
   "cell_type": "code",
   "execution_count": 8,
   "metadata": {
    "collapsed": false
   },
   "outputs": [
    {
     "name": "stdout",
     "output_type": "stream",
     "text": [
      "4 4\n",
      "1 0 1 0\n",
      "1 1 1 1\n",
      "1 1 1 1\n",
      "0 0 0 0\n",
      "-1\n"
     ]
    }
   ],
   "source": [
    "import sys\n",
    "sys.setrecursionlimit(10**6)\n",
    "#input = sys.stdin.readline\n",
    "N, M = map(int, input().split())\n",
    "B = [[0]*M for _ in range(N)]\n",
    "A = [list(map(int,input().split())) for _ in range(N)]\n",
    "\n",
    "def bOne(r,c):\n",
    "    global B\n",
    "    B[r][c] = 1\n",
    "    B[r+1][c] = 1\n",
    "    B[r][c+1] = 1\n",
    "    B[r+1][c+1]=1\n",
    "\n",
    "def bZ(r,c):\n",
    "    global B\n",
    "    B[r][c] = 0\n",
    "    B[r+1][c] = 0\n",
    "    B[r][c+1] = 0\n",
    "    B[r+1][c+1]=0\n",
    "            \n",
    "def isAllOne(r,c):\n",
    "    global A\n",
    "    x = [0,0,1,1]\n",
    "    y = [0,1,0,1]\n",
    "    for j in range(4):\n",
    "        nr = r + y[j]\n",
    "        nc = c + x[j]\n",
    "        if A[nr][nc] != 1:\n",
    "            return False\n",
    "    return True\n",
    "        \n",
    "            \n",
    "def find(B, k, s):\n",
    "    global N, M, q\n",
    "    if A == B:\n",
    "        print(len(s))\n",
    "        for x,y in s:\n",
    "            print(x,y)\n",
    "        sys.exit(0)\n",
    "    for i in range(k, len(q)):\n",
    "        r,c = q[i]\n",
    "        if isAllOne(r,c):\n",
    "            bOne(r,c)\n",
    "            find(B, i+1, s+[(r+1,c+1)])\n",
    "            bZ(r,c)            \n",
    "\n",
    "q = []\n",
    "for i in range(N-1):\n",
    "    for j in range(M-1):\n",
    "        if A[i][j] == 1:\n",
    "            q.append((i,j))            \n",
    "find(B, 0, [])    \n",
    "print(-1)            "
   ]
  },
  {
   "cell_type": "code",
   "execution_count": 13,
   "metadata": {
    "collapsed": false
   },
   "outputs": [
    {
     "name": "stdout",
     "output_type": "stream",
     "text": [
      "3 2\n",
      "0 0\n",
      "0 0 \n",
      "0 0\n",
      "0\n"
     ]
    }
   ],
   "source": [
    "import sys\n",
    "sys.setrecursionlimit(10**6)\n",
    "#input = sys.stdin.readline\n",
    "N, M = map(int, input().split())\n",
    "B = [[0]*M for _ in range(N)]\n",
    "A = [list(map(int,input().split())) for _ in range(N)]\n",
    "\n",
    "def bOne(r,c):\n",
    "    global B\n",
    "    B[r][c] = 1\n",
    "    B[r+1][c] = 1\n",
    "    B[r][c+1] = 1\n",
    "    B[r+1][c+1]=1\n",
    "\n",
    "def bZ(r,c):\n",
    "    global B\n",
    "    B[r][c] = 0\n",
    "    B[r+1][c] = 0\n",
    "    B[r][c+1] = 0\n",
    "    B[r+1][c+1]=0\n",
    "            \n",
    "def isAllOne(r,c):\n",
    "    global A\n",
    "    x = [0,0,1,1]\n",
    "    y = [0,1,0,1]\n",
    "    for j in range(4):\n",
    "        nr = r + y[j]\n",
    "        nc = c + x[j]\n",
    "        if A[nr][nc] != 1:\n",
    "            return False\n",
    "    return True\n",
    "        \n",
    "            \n",
    "def find(B, k, s):\n",
    "    global N, M, q\n",
    "    if A == B:\n",
    "        print(len(s))\n",
    "        for x,y in s:\n",
    "            print(x,y)\n",
    "        sys.exit(0)\n",
    "    for i in range(k, len(q)):\n",
    "        r,c = q[i]\n",
    "        if isAllOne(r,c):\n",
    "            bOne(r,c)\n",
    "            find(B, i+1, s+[(r+1,c+1)])\n",
    "            bZ(r,c)            \n",
    "\n",
    "q = []\n",
    "for i in range(N-1):\n",
    "    for j in range(M-1):\n",
    "        if isAllOne(i,j):\n",
    "            q.append((i,j))\n",
    "for r,c in q:    \n",
    "    bOne(r,c)\n",
    "if A == B:\n",
    "    print(len(q))\n",
    "    for r,c in q:\n",
    "        print(r+1,c+1)\n",
    "else:\n",
    "    print(-1)            "
   ]
  },
  {
   "cell_type": "code",
   "execution_count": null,
   "metadata": {
    "collapsed": true
   },
   "outputs": [],
   "source": [
    "t = int(input())\n",
    "for _ in range(t):\n",
    "    n, a, b = map(int, input().split())\n",
    "    d = [[0]*2 for i in range(n)]\n",
    "    s = list(input())\n",
    "    cost = 0\n",
    "    #a = pipe, b = pillar\n",
    "    d[0][0] = a+2*b \n",
    "    for i in range(n-1):\n",
    "        if s[i] == s[i+1]:\n",
    "            if s[i] == '0':\n",
    "                d[i+1][0] = d[i][0]+a+b\n",
    "                d[i+1][1] = d[i][0]+2*a+b\n",
    "            elif s[i] == '1':\n",
    "                d[i+1][1] = d[i][1]+a+b*2\n",
    "        elif s[i]=='0' and s[i+1]=='1':\n",
    "            d[i+1][1] = min(d[i][0]+a*, d[i][1])\n",
    "            \n",
    "        elif s[i]=='1' and s[i+1]=='0':\n",
    "                "
   ]
  },
  {
   "cell_type": "code",
   "execution_count": 14,
   "metadata": {
    "collapsed": true
   },
   "outputs": [],
   "source": [
    "a = [1,2,3]"
   ]
  },
  {
   "cell_type": "code",
   "execution_count": 15,
   "metadata": {
    "collapsed": false
   },
   "outputs": [
    {
     "data": {
      "text/plain": [
       "1"
      ]
     },
     "execution_count": 15,
     "metadata": {},
     "output_type": "execute_result"
    }
   ],
   "source": [
    "a.count(1)"
   ]
  },
  {
   "cell_type": "code",
   "execution_count": null,
   "metadata": {
    "collapsed": true
   },
   "outputs": [],
   "source": []
  }
 ],
 "metadata": {
  "kernelspec": {
   "display_name": "Python 3",
   "language": "python",
   "name": "python3"
  },
  "language_info": {
   "codemirror_mode": {
    "name": "ipython",
    "version": 3
   },
   "file_extension": ".py",
   "mimetype": "text/x-python",
   "name": "python",
   "nbconvert_exporter": "python",
   "pygments_lexer": "ipython3",
   "version": "3.6.0"
  }
 },
 "nbformat": 4,
 "nbformat_minor": 2
}
