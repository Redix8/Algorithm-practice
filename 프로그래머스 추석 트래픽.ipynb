{
 "cells": [
  {
   "cell_type": "code",
   "execution_count": 20,
   "metadata": {
    "collapsed": true
   },
   "outputs": [],
   "source": [
    "lines = [\n",
    "\"2016-09-15 20:59:57.421 0.351s\",\n",
    "\"2016-09-15 20:59:58.233 1.181s\",\n",
    "\"2016-09-15 20:59:58.299 0.8s\",\n",
    "\"2016-09-15 20:59:58.688 1.041s\",\n",
    "\"2016-09-15 20:59:59.591 1.412s\",\n",
    "\"2016-09-15 21:00:00.464 1.466s\",\n",
    "\"2016-09-15 21:00:00.741 1.581s\",\n",
    "\"2016-09-15 21:00:00.748 2.31s\",\n",
    "\"2016-09-15 21:00:00.966 0.381s\",\n",
    "\"2016-09-15 21:00:02.066 2.62s\"\n",
    "]\n",
    "\n",
    "lines = [\"2016-09-15 01:00:04.001 2.0s\", \"2016-09-15 01:00:07.000 2s\"]\n",
    "lines = [\"2016-09-15 01:00:04.002 2.0s\", \"2016-09-15 01:00:07.000 2s\"]"
   ]
  },
  {
   "cell_type": "code",
   "execution_count": 2,
   "metadata": {
    "collapsed": true
   },
   "outputs": [],
   "source": [
    "import re"
   ]
  },
  {
   "cell_type": "code",
   "execution_count": 21,
   "metadata": {
    "collapsed": false
   },
   "outputs": [
    {
     "name": "stdout",
     "output_type": "stream",
     "text": [
      "[(3602.003, 3604.002), (3605.001, 3607.0)]\n"
     ]
    }
   ],
   "source": [
    "ptime = re.compile(\"[0-9]{2}:[0-9]{2}:[0-9]{2}\\.[0-9]{3}\")\n",
    "ps    = re.compile(\"[0-3]\\.?[0-9]{0,3}[s]\")\n",
    "data = []\n",
    "for line in lines:\n",
    "    endh,endm,ends = ptime.search(line).group().split(\":\")\n",
    "    endh= int(endh)\n",
    "    endm= int(endm)\n",
    "    ends= float(ends)\n",
    "    tasktime = float(ps.search(line).group()[:-1])\n",
    "    end = 60*60*endh + 60*endm + ends\n",
    "    start = end-tasktime+0.001\n",
    "    data.append((round(start,3), round(end,3)))\n",
    "print(data)"
   ]
  },
  {
   "cell_type": "code",
   "execution_count": 24,
   "metadata": {
    "collapsed": false
   },
   "outputs": [
    {
     "name": "stdout",
     "output_type": "stream",
     "text": [
      "2\n"
     ]
    }
   ],
   "source": [
    "maxcount = 0\n",
    "for i in range(len(data)):\n",
    "    start = data[i][0]\n",
    "    end = data[i][1]\n",
    "    scount = 1\n",
    "    ecount = 1    \n",
    "    for j in range(len(data)):\n",
    "        if i == j: continue\n",
    "        s = data[j][0]\n",
    "        e = data[j][1]\n",
    "        if round(start-0.999,3)<=e and e<=start or round(start-0.999,3)<=s and s<=start:\n",
    "            scount+=1\n",
    "        if end<=e and e<=round(end+0.999,3) or end<= s and s<= round(end+0.999,3):\n",
    "            ecount+=1\n",
    "    maxcount = max(maxcount, scount)\n",
    "    maxcount = max(maxcount, ecount)\n",
    "print(maxcount)\n",
    "        "
   ]
  },
  {
   "cell_type": "code",
   "execution_count": 23,
   "metadata": {
    "collapsed": false
   },
   "outputs": [
    {
     "data": {
      "text/plain": [
       "3604.0020000000004"
      ]
     },
     "execution_count": 23,
     "metadata": {},
     "output_type": "execute_result"
    }
   ],
   "source": []
  },
  {
   "cell_type": "code",
   "execution_count": null,
   "metadata": {
    "collapsed": true
   },
   "outputs": [],
   "source": []
  }
 ],
 "metadata": {
  "kernelspec": {
   "display_name": "Python 3",
   "language": "python",
   "name": "python3"
  },
  "language_info": {
   "codemirror_mode": {
    "name": "ipython",
    "version": 3
   },
   "file_extension": ".py",
   "mimetype": "text/x-python",
   "name": "python",
   "nbconvert_exporter": "python",
   "pygments_lexer": "ipython3",
   "version": "3.6.0"
  }
 },
 "nbformat": 4,
 "nbformat_minor": 2
}
