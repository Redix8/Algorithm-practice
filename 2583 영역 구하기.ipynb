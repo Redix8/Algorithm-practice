{
 "cells": [
  {
   "cell_type": "code",
   "execution_count": 37,
   "metadata": {
    "collapsed": false
   },
   "outputs": [],
   "source": [
    "from collections import Counter\n",
    "\n",
    "def dfs(r,c,k):\n",
    "    global arr,m,n\n",
    "    arr[r][c] = k\n",
    "    x=[0,0,1,-1]\n",
    "    y=[1,-1,0,0]\n",
    "    for i in range(4):\n",
    "        nc = c+x[i]\n",
    "        nr = r+y[i]\n",
    "        if 0<=nr<n and 0<=nc<m:\n",
    "            if arr[nr][nc]==0:\n",
    "                dfs(nr,nc,k)"
   ]
  },
  {
   "cell_type": "code",
   "execution_count": 38,
   "metadata": {
    "collapsed": false
   },
   "outputs": [
    {
     "name": "stdout",
     "output_type": "stream",
     "text": [
      "5 7 3\n",
      "0 2 4 4 \n",
      "1 1 2 5\n",
      "4 0 6 2\n"
     ]
    }
   ],
   "source": [
    "m, n, k = map(int, input().split())\n",
    "arr = [[0]*(m) for _ in range(n)]\n",
    "for i in range(k):\n",
    "    a,b,c,d = map(int, input().split())\n",
    "    for i in range(a,c):\n",
    "        for j in range(b,d):\n",
    "            arr[i][j] = -1\n"
   ]
  },
  {
   "cell_type": "code",
   "execution_count": 48,
   "metadata": {
    "collapsed": false
   },
   "outputs": [
    {
     "name": "stdout",
     "output_type": "stream",
     "text": [
      "3\n",
      "1 7 13\n"
     ]
    }
   ],
   "source": [
    "k = 1\n",
    "for i in range(n):\n",
    "    for j in range(m):\n",
    "        if arr[i][j] == 0:\n",
    "            dfs(i,j,k)\n",
    "            k+=1\n",
    "\n",
    "c = Counter()\n",
    "for x in arr:\n",
    "    c+=Counter(x)\n",
    "del c[-1]\n",
    "print(len(c))\n",
    "print(' '.join(map(str,sorted(c.values()))))"
   ]
  },
  {
   "cell_type": "code",
   "execution_count": 41,
   "metadata": {
    "collapsed": false
   },
   "outputs": [
    {
     "data": {
      "text/plain": [
       "[[1, 1, -1, -1, 2],\n",
       " [1, -1, -1, -1, -1],\n",
       " [1, 1, -1, -1, 3],\n",
       " [1, 1, -1, -1, 3],\n",
       " [-1, -1, 3, 3, 3],\n",
       " [-1, -1, 3, 3, 3],\n",
       " [3, 3, 3, 3, 3]]"
      ]
     },
     "execution_count": 41,
     "metadata": {},
     "output_type": "execute_result"
    }
   ],
   "source": [
    "arr"
   ]
  },
  {
   "cell_type": "code",
   "execution_count": 33,
   "metadata": {
    "collapsed": false
   },
   "outputs": [
    {
     "ename": "TypeError",
     "evalue": "bad operand type for unary +: 'dict_values'",
     "output_type": "error",
     "traceback": [
      "\u001b[0;31m---------------------------------------------------------------------------\u001b[0m",
      "\u001b[0;31mTypeError\u001b[0m                                 Traceback (most recent call last)",
      "\u001b[0;32m<ipython-input-33-a4366c2044dc>\u001b[0m in \u001b[0;36m<module>\u001b[0;34m()\u001b[0m\n\u001b[0;32m----> 1\u001b[0;31m \u001b[0msorted\u001b[0m\u001b[1;33m(\u001b[0m\u001b[1;33m+\u001b[0m\u001b[0mc\u001b[0m\u001b[1;33m.\u001b[0m\u001b[0mvalues\u001b[0m\u001b[1;33m(\u001b[0m\u001b[1;33m)\u001b[0m\u001b[1;33m)\u001b[0m\u001b[1;33m\u001b[0m\u001b[0m\n\u001b[0m",
      "\u001b[0;31mTypeError\u001b[0m: bad operand type for unary +: 'dict_values'"
     ]
    }
   ],
   "source": [
    "sorted(c.values())"
   ]
  },
  {
   "cell_type": "code",
   "execution_count": 47,
   "metadata": {
    "collapsed": false
   },
   "outputs": [
    {
     "data": {
      "text/plain": [
       "14"
      ]
     },
     "execution_count": 47,
     "metadata": {},
     "output_type": "execute_result"
    }
   ],
   "source": []
  },
  {
   "cell_type": "code",
   "execution_count": 44,
   "metadata": {
    "collapsed": false
   },
   "outputs": [
    {
     "data": {
      "text/plain": [
       "Counter({-1: 14, 1: 7, 2: 1, 3: 13})"
      ]
     },
     "execution_count": 44,
     "metadata": {},
     "output_type": "execute_result"
    }
   ],
   "source": []
  },
  {
   "cell_type": "code",
   "execution_count": null,
   "metadata": {
    "collapsed": true
   },
   "outputs": [],
   "source": []
  }
 ],
 "metadata": {
  "kernelspec": {
   "display_name": "Python 3",
   "language": "python",
   "name": "python3"
  },
  "language_info": {
   "codemirror_mode": {
    "name": "ipython",
    "version": 3
   },
   "file_extension": ".py",
   "mimetype": "text/x-python",
   "name": "python",
   "nbconvert_exporter": "python",
   "pygments_lexer": "ipython3",
   "version": "3.6.0"
  }
 },
 "nbformat": 4,
 "nbformat_minor": 2
}
