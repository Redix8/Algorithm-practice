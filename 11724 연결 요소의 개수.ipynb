{
 "cells": [
  {
   "cell_type": "code",
   "execution_count": 22,
   "metadata": {
    "collapsed": false
   },
   "outputs": [
    {
     "name": "stdout",
     "output_type": "stream",
     "text": [
      "2 0\n",
      "0\n"
     ]
    }
   ],
   "source": [
    "n,m = map(int, input().split())\n",
    "graph = {}\n",
    "for _ in range(m):\n",
    "    a, b = map(int, input().split())\n",
    "    if a in graph:\n",
    "        graph[a].append(b)        \n",
    "    else:\n",
    "        graph[a] = [b]\n",
    "    if b in graph:\n",
    "        graph[b].append(a)\n",
    "    else:\n",
    "        graph[b] = [a]\n",
    "visited = [False]*1002\n",
    "comp = 0\n",
    "for i in range(1,n+1):    \n",
    "    st = []\n",
    "    if not visited[i]:\n",
    "        st.append(i)\n",
    "        visited[i] = True\n",
    "        comp +=1\n",
    "    while st:\n",
    "        node = st.pop()\n",
    "        if node in graph:            \n",
    "            for x in graph[node]:\n",
    "                if not visited[x]:\n",
    "                    st.append(x)\n",
    "                    visited[x] = True\n",
    "print(comp)"
   ]
  },
  {
   "cell_type": "code",
   "execution_count": 9,
   "metadata": {
    "collapsed": false
   },
   "outputs": [
    {
     "data": {
      "text/plain": [
       "['2', '5']"
      ]
     },
     "execution_count": 9,
     "metadata": {},
     "output_type": "execute_result"
    }
   ],
   "source": [
    "graph['1']"
   ]
  },
  {
   "cell_type": "code",
   "execution_count": 20,
   "metadata": {
    "collapsed": false
   },
   "outputs": [
    {
     "name": "stdout",
     "output_type": "stream",
     "text": [
      "1\n",
      "2\n",
      "5\n",
      "3\n",
      "4\n",
      "6\n"
     ]
    }
   ],
   "source": []
  },
  {
   "cell_type": "code",
   "execution_count": null,
   "metadata": {
    "collapsed": true
   },
   "outputs": [],
   "source": []
  }
 ],
 "metadata": {
  "kernelspec": {
   "display_name": "Python 3",
   "language": "python",
   "name": "python3"
  },
  "language_info": {
   "codemirror_mode": {
    "name": "ipython",
    "version": 3
   },
   "file_extension": ".py",
   "mimetype": "text/x-python",
   "name": "python",
   "nbconvert_exporter": "python",
   "pygments_lexer": "ipython3",
   "version": "3.6.0"
  }
 },
 "nbformat": 4,
 "nbformat_minor": 2
}
