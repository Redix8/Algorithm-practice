{
 "cells": [
  {
   "cell_type": "code",
   "execution_count": 3,
   "metadata": {
    "collapsed": false
   },
   "outputs": [
    {
     "name": "stdout",
     "output_type": "stream",
     "text": [
      "3\n"
     ]
    }
   ],
   "source": [
    "import sys\n",
    "N = int(input())"
   ]
  },
  {
   "cell_type": "code",
   "execution_count": 14,
   "metadata": {
    "collapsed": false
   },
   "outputs": [
    {
     "name": "stdout",
     "output_type": "stream",
     "text": [
      "..X....\n",
      ".XXX...\n",
      ".XX....\n",
      ".....X.\n",
      ".X...X.\n",
      "...X...\n",
      "..XX...\n",
      ".XX....\n",
      ".XX..X.\n",
      ".X...X.\n",
      "XX.....\n",
      "X......\n",
      "XX...XX\n",
      "XXXX.XX\n",
      "XXX..XX\n"
     ]
    }
   ],
   "source": [
    "#L = [[[x for x in sys.stdin.readline()] for i in range(5)] for j in range(N)]\n",
    "L = [[[x for x in input()] for i in range(5)] for j in range(N)]"
   ]
  },
  {
   "cell_type": "code",
   "execution_count": 17,
   "metadata": {
    "collapsed": false
   },
   "outputs": [],
   "source": [
    "def compare(A, B):\n",
    "    diff = 0\n",
    "    for i in range(5):\n",
    "        for j in range(7):\n",
    "            if A[i][j] != B[i][j]:\n",
    "                diff += 1\n",
    "    return diff"
   ]
  },
  {
   "cell_type": "code",
   "execution_count": 22,
   "metadata": {
    "collapsed": false
   },
   "outputs": [
    {
     "name": "stdout",
     "output_type": "stream",
     "text": [
      "1 2\n"
     ]
    }
   ],
   "source": [
    "mini = (987654, 0, 0)\n",
    "for i in range(N-1):\n",
    "    for j in range(i+1,N):\n",
    "        diff = compare(L[i], L[j])\n",
    "        if diff < mini[0]:\n",
    "            mini = (diff, i+1, j+1)\n",
    "print(mini[1], mini[2])"
   ]
  },
  {
   "cell_type": "code",
   "execution_count": 16,
   "metadata": {
    "collapsed": false
   },
   "outputs": [
    {
     "data": {
      "text/plain": [
       "[['.', '.', '.', 'X', '.', '.', '.'],\n",
       " ['.', '.', 'X', 'X', '.', '.', '.'],\n",
       " ['.', 'X', 'X', '.', '.', '.', '.'],\n",
       " ['.', 'X', 'X', '.', '.', 'X', '.'],\n",
       " ['.', 'X', '.', '.', '.', 'X', '.']]"
      ]
     },
     "execution_count": 16,
     "metadata": {},
     "output_type": "execute_result"
    }
   ],
   "source": [
    "L[1]"
   ]
  },
  {
   "cell_type": "code",
   "execution_count": null,
   "metadata": {
    "collapsed": true
   },
   "outputs": [],
   "source": []
  }
 ],
 "metadata": {
  "kernelspec": {
   "display_name": "Python 3",
   "language": "python",
   "name": "python3"
  },
  "language_info": {
   "codemirror_mode": {
    "name": "ipython",
    "version": 3
   },
   "file_extension": ".py",
   "mimetype": "text/x-python",
   "name": "python",
   "nbconvert_exporter": "python",
   "pygments_lexer": "ipython3",
   "version": "3.6.0"
  }
 },
 "nbformat": 4,
 "nbformat_minor": 2
}
