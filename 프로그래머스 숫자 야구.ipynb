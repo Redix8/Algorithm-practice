{
 "cells": [
  {
   "cell_type": "code",
   "execution_count": 30,
   "metadata": {
    "collapsed": false
   },
   "outputs": [],
   "source": [
    "l = [str(x) for x in range(123,988) if len(set(str(x)))==3 and not '0' in str(x)]"
   ]
  },
  {
   "cell_type": "code",
   "execution_count": 17,
   "metadata": {
    "collapsed": false
   },
   "outputs": [],
   "source": [
    "baseball = [[123, 1, 1], [356, 1, 0], [327, 2, 0], [489, 0, 1]]"
   ]
  },
  {
   "cell_type": "code",
   "execution_count": 34,
   "metadata": {
    "collapsed": false
   },
   "outputs": [
    {
     "name": "stdout",
     "output_type": "stream",
     "text": [
      "['324', '328']\n"
     ]
    }
   ],
   "source": [
    "answer = []\n",
    "for x in l:\n",
    "    isAnswer = True\n",
    "    for num, st, b in baseball:\n",
    "        num = str(num)\n",
    "        stp = 0\n",
    "        bp = 0\n",
    "        for i, c in enumerate(num):\n",
    "            if c == x[i]: stp +=1                \n",
    "            elif c in x:  bp +=1\n",
    "        if stp != st or bp != b:\n",
    "            isAnswer = False\n",
    "            break\n",
    "    if isAnswer: answer.append(x)\n",
    "print(answer)"
   ]
  },
  {
   "cell_type": "code",
   "execution_count": 36,
   "metadata": {
    "collapsed": false
   },
   "outputs": [],
   "source": []
  }
 ],
 "metadata": {
  "kernelspec": {
   "display_name": "Python 3",
   "language": "python",
   "name": "python3"
  },
  "language_info": {
   "codemirror_mode": {
    "name": "ipython",
    "version": 3
   },
   "file_extension": ".py",
   "mimetype": "text/x-python",
   "name": "python",
   "nbconvert_exporter": "python",
   "pygments_lexer": "ipython3",
   "version": "3.6.0"
  }
 },
 "nbformat": 4,
 "nbformat_minor": 2
}
