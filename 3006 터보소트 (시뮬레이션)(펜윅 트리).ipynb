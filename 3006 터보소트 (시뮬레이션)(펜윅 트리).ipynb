{
 "cells": [
  {
   "cell_type": "code",
   "execution_count": null,
   "metadata": {
    "collapsed": true
   },
   "outputs": [],
   "source": [
    "import sys"
   ]
  },
  {
   "cell_type": "code",
   "execution_count": 37,
   "metadata": {
    "collapsed": false
   },
   "outputs": [
    {
     "name": "stdout",
     "output_type": "stream",
     "text": [
      "4\n",
      "4\n",
      "3\n",
      "2\n",
      "1\n"
     ]
    }
   ],
   "source": [
    "N = int(input())\n",
    "#L = [int(input()) for i in range(N)]\n",
    "L = [[int(input()),i] for i in range(N)]"
   ]
  },
  {
   "cell_type": "code",
   "execution_count": null,
   "metadata": {
    "collapsed": false
   },
   "outputs": [],
   "source": [
    "N = int(sys.stdin.readline())\n",
    "L = [int(sys.stdin.readline()) for i in range(N)]"
   ]
  },
  {
   "cell_type": "code",
   "execution_count": null,
   "metadata": {
    "collapsed": false
   },
   "outputs": [],
   "source": [
    "for i in range(N//2):\n",
    "    count = 0\n",
    "    idx = L.index(i+1)\n",
    "    while idx != i :\n",
    "        L[idx], L[idx-1] = L[idx-1], L[idx]\n",
    "        idx -= 1\n",
    "        count +=1\n",
    "    print(count)\n",
    "    \n",
    "    count = 0\n",
    "    idx = L.index(N-i)\n",
    "    while idx != N-1-i :\n",
    "        L[idx], L[idx+1] = L[idx+1], L[idx]\n",
    "        idx += 1\n",
    "        count += 1\n",
    "    print(count)\n",
    "if N%2 ==1:\n",
    "    print(0)"
   ]
  },
  {
   "cell_type": "code",
   "execution_count": null,
   "metadata": {
    "collapsed": false
   },
   "outputs": [],
   "source": [
    "N"
   ]
  },
  {
   "cell_type": "code",
   "execution_count": null,
   "metadata": {
    "collapsed": false,
    "scrolled": true
   },
   "outputs": [],
   "source": [
    "L"
   ]
  },
  {
   "cell_type": "markdown",
   "metadata": {
    "collapsed": true
   },
   "source": [
    "펜윅트리의 구현\n",
    "\n",
    "![펜윅](fenwick tree.jpg)\n",
    "\n",
    "부분 합을 구하기 위해서의 이진수 패턴<br>\n",
    "ex) psum[7] = tree[7] + tree[6] + tree[4] <br>\n",
    "이진수 : 111, 110, 100 <br>\n",
    "마지막 비트를 지우면 다음 구간을 찾을 수 있다.\n",
    "\n",
    "부분합 배열의 값을 변경\n",
    "ex) A[5]를 3늘리고 싶다면 A[5]를 포함하는 모든 구간의 합을 3씩 늘려줌<br>\n",
    "포함하는 모든 구간 : tree[5], tree[6], tree[8], tree[16] <br>\n",
    "이진수 : 101, 110, 1000, 10000 <br>\n",
    "맨 오른족에 있는 1인 비트를 스스로에게 더해주는 연산<br>\n",
    "ex) 110 에서 가장 오른쪽은 10, 110+10 = 1000\n"
   ]
  },
  {
   "cell_type": "code",
   "execution_count": 38,
   "metadata": {
    "collapsed": true
   },
   "outputs": [],
   "source": [
    "tree = [0 for i in range(100002)]\n",
    "\n",
    "def sumTree(pos) :\n",
    "    global tree\n",
    "    pos+=1\n",
    "    ret = 0\n",
    "    while(pos>0):\n",
    "        ret += tree[pos]\n",
    "        pos &= (pos-1) #마지막 비트를 지우는 연산\n",
    "    \n",
    "    return ret\n",
    "\n",
    "def addTree(pos, val):\n",
    "    global tree\n",
    "    pos +=1\n",
    "    while(pos < len(tree)):\n",
    "        tree[pos] += val\n",
    "        pos += (pos & -pos) # 마지막 비트를 추출"
   ]
  },
  {
   "cell_type": "code",
   "execution_count": 39,
   "metadata": {
    "collapsed": false
   },
   "outputs": [
    {
     "name": "stdout",
     "output_type": "stream",
     "text": [
      "3\n",
      "2\n",
      "1\n",
      "0\n"
     ]
    }
   ],
   "source": [
    "#L = []\n",
    "for i in range(N):\n",
    "    addTree(i, 1)\n",
    "    #L.append([int(sys.stdin.readline()), i])\n",
    "L.sort()\n",
    "for i in range(N//2):\n",
    "    print(sumTree(L[i][1])-1)\n",
    "    addTree(L[i][1], -1)\n",
    "    print(sumTree(N) - sumTree(L[N-1-i][1]))\n",
    "    addTree(L[N-1-i][1], -1)\n",
    "if N%2 == 1:\n",
    "    print(0)"
   ]
  },
  {
   "cell_type": "code",
   "execution_count": 25,
   "metadata": {
    "collapsed": false
   },
   "outputs": [
    {
     "data": {
      "text/plain": [
       "[0, 0, 1, 0, 1, 0, 0]"
      ]
     },
     "execution_count": 25,
     "metadata": {},
     "output_type": "execute_result"
    }
   ],
   "source": [
    "tree[:N]"
   ]
  },
  {
   "cell_type": "code",
   "execution_count": 18,
   "metadata": {
    "collapsed": false
   },
   "outputs": [],
   "source": [
    "L.sort()"
   ]
  },
  {
   "cell_type": "code",
   "execution_count": 23,
   "metadata": {
    "collapsed": false
   },
   "outputs": [
    {
     "data": {
      "text/plain": [
       "[[1, 4], [2, 5], [3, 2], [4, 1], [5, 0], [6, 6], [7, 3]]"
      ]
     },
     "execution_count": 23,
     "metadata": {},
     "output_type": "execute_result"
    }
   ],
   "source": [
    "L"
   ]
  },
  {
   "cell_type": "code",
   "execution_count": 33,
   "metadata": {
    "collapsed": false
   },
   "outputs": [
    {
     "data": {
      "text/plain": [
       "4"
      ]
     },
     "execution_count": 33,
     "metadata": {},
     "output_type": "execute_result"
    }
   ],
   "source": [
    "L[0][1]"
   ]
  },
  {
   "cell_type": "code",
   "execution_count": null,
   "metadata": {
    "collapsed": true
   },
   "outputs": [],
   "source": []
  }
 ],
 "metadata": {
  "kernelspec": {
   "display_name": "Python 3",
   "language": "python",
   "name": "python3"
  },
  "language_info": {
   "codemirror_mode": {
    "name": "ipython",
    "version": 3
   },
   "file_extension": ".py",
   "mimetype": "text/x-python",
   "name": "python",
   "nbconvert_exporter": "python",
   "pygments_lexer": "ipython3",
   "version": "3.6.0"
  }
 },
 "nbformat": 4,
 "nbformat_minor": 2
}
