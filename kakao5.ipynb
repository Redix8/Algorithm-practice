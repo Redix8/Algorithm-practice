{
 "cells": [
  {
   "cell_type": "code",
   "execution_count": null,
   "metadata": {
    "collapsed": true
   },
   "outputs": [],
   "source": [
    "class Node:\n",
    "    def __init__(self, idx, value):\n",
    "        self.x = value[0]\n",
    "        self.y = value[1]\n",
    "        self.idx = idx+1\n",
    "        self.left = None\n",
    "        self.right = None\n",
    "\n",
    "def search(parent, minX, maxX, depthIdx):\n",
    "    global nodeList, depth\n",
    "    if depthIdx >= len(depth): return\n",
    "    for node in depth[depthIdx]:\n",
    "        if node.x > maxX+1: return\n",
    "        if minX <= node.x < parent.x:\n",
    "            parent.left = node\n",
    "            search(node, minX, parent.x-1, depthIdx+1)\n",
    "        elif parent.x < node.x <= maxX:\n",
    "            parent.right = node    \n",
    "            search(node, parent.x+1, maxX, depthIdx+1)\n",
    "    \n",
    "def preorder(node):\n",
    "    global preorderList\n",
    "    if not node: return\n",
    "    preorderList.append(node.idx)\n",
    "    preorder(node.left)\n",
    "    preorder(node.right)\n",
    "    \n",
    "def postorder(node):\n",
    "    global postorderList\n",
    "    if not node: return\n",
    "    postorder(node.left)\n",
    "    postorder(node.right)\n",
    "    postorderList.append(node.idx)\n",
    "    \n",
    "def solution(nodeinfo):\n",
    "    global nodeList, depth, preorderList, postorderList\n",
    "    preorderList, postorderList = [], []\n",
    "    nodeList = [None] * len(nodeinfo)\n",
    "    for i, v in enumerate(nodeinfo):\n",
    "        nodeList[i] = Node(i, v)\n",
    "    nodeList.sort(key=lambda node: node.x)\n",
    "    nodeList.sort(reverse = True, key=lambda node: node.y)\n",
    "    depth = [[nodeList[0]]]\n",
    "    for node in nodeList:\n",
    "        if depth[-1][-1].y != node.y:\n",
    "            depth.append([node])\n",
    "        else:\n",
    "            depth[-1].append(node)\n",
    "    root = nodeList[0]\n",
    "    \n",
    "    minX = min(map(lambda node: node.x, nodeList))\n",
    "    maxX = max(map(lambda node: node.x, nodeList))\n",
    "    \n",
    "    search(root, minX, maxX, 1)\n",
    "    \n",
    "    preorder(root)\n",
    "    postorder(root)\n",
    "\n",
    "    return [preorderList, postorderList]"
   ]
  }
 ],
 "metadata": {
  "kernelspec": {
   "display_name": "Python 3",
   "language": "python",
   "name": "python3"
  },
  "language_info": {
   "codemirror_mode": {
    "name": "ipython",
    "version": 3
   },
   "file_extension": ".py",
   "mimetype": "text/x-python",
   "name": "python",
   "nbconvert_exporter": "python",
   "pygments_lexer": "ipython3",
   "version": "3.6.0"
  }
 },
 "nbformat": 4,
 "nbformat_minor": 2
}
