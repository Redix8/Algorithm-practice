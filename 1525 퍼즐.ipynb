{
 "cells": [
  {
   "cell_type": "code",
   "execution_count": 43,
   "metadata": {
    "collapsed": false
   },
   "outputs": [
    {
     "name": "stdout",
     "output_type": "stream",
     "text": [
      "1 0 3\n",
      "4 2 5  \n",
      "7 8 6\n",
      "103425786\n"
     ]
    }
   ],
   "source": [
    "import sys\n",
    "from collections import deque\n",
    "#input = sys.stdin.readline\n",
    "s = ''\n",
    "for _ in range(3):\n",
    "    s+=''.join(input().split())\n"
   ]
  },
  {
   "cell_type": "code",
   "execution_count": 17,
   "metadata": {
    "collapsed": false
   },
   "outputs": [
    {
     "name": "stdout",
     "output_type": "stream",
     "text": [
      "2 5 7\n",
      "8 0 3\n",
      "4 1 6\n",
      "18\n"
     ]
    }
   ],
   "source": [
    "import sys\n",
    "from collections import deque\n",
    "#input = sys.stdin.readline\n",
    "s = ''\n",
    "for _ in range(3):\n",
    "    s+=input()\n",
    "s = s.replace(' ', '')\n",
    "nodes = {}\n",
    "nodes[s] = 0\n",
    "x = [0,1,0,-1] #up, right, down, left\n",
    "y = [1,0,-1,0]\n",
    "end = '123456780'\n",
    "q = deque()\n",
    "q.append(s)\n",
    "found = False\n",
    "while q:\n",
    "    node = q.popleft()\n",
    "    if node == end:\n",
    "        found = True\n",
    "    loc = node.find('0')\n",
    "    r = loc//3\n",
    "    c = loc%3   \n",
    "    for i in range(4):\n",
    "        nr = r+y[i]\n",
    "        nc = c+x[i]\n",
    "        if 0<=nr and nr<3 and 0<=nc and nc<3:        \n",
    "            j = nr*3+nc\n",
    "            nxt = node.replace('0', node[j])\n",
    "            nxt = nxt[:j]+'0'+nxt[j+1:]\n",
    "            if not nxt in nodes:\n",
    "                nodes[nxt] = nodes[node]+1            \n",
    "                q.append(nxt)\n",
    "            if nxt == end:\n",
    "                found = True\n",
    "    if found:break\n",
    "if found:\n",
    "    print(nodes[end])\n",
    "else:\n",
    "    print(-1) "
   ]
  },
  {
   "cell_type": "code",
   "execution_count": 18,
   "metadata": {
    "collapsed": false
   },
   "outputs": [
    {
     "data": {
      "text/plain": [
       "23896"
      ]
     },
     "execution_count": 18,
     "metadata": {},
     "output_type": "execute_result"
    }
   ],
   "source": [
    "len(nodes)"
   ]
  },
  {
   "cell_type": "code",
   "execution_count": 16,
   "metadata": {
    "collapsed": false
   },
   "outputs": [
    {
     "data": {
      "text/plain": [
       "{'120453786': 2,\n",
       " '123405786': 2,\n",
       " '123450786': 1,\n",
       " '123456708': 1,\n",
       " '123456780': 0}"
      ]
     },
     "execution_count": 16,
     "metadata": {},
     "output_type": "execute_result"
    }
   ],
   "source": [
    "nodes"
   ]
  },
  {
   "cell_type": "code",
   "execution_count": null,
   "metadata": {
    "collapsed": true
   },
   "outputs": [],
   "source": [
    "moves = [[0,1,2]\n",
    "        ,[3,4,5]\n",
    "        ,[6,7,8]]"
   ]
  },
  {
   "cell_type": "code",
   "execution_count": null,
   "metadata": {
    "collapsed": false
   },
   "outputs": [],
   "source": [
    "r,c=-1"
   ]
  },
  {
   "cell_type": "code",
   "execution_count": 41,
   "metadata": {
    "collapsed": false
   },
   "outputs": [
    {
     "name": "stdout",
     "output_type": "stream",
     "text": [
      "123485670\n"
     ]
    }
   ],
   "source": [
    "node = '123405678'\n",
    "j = 8\n",
    "nxt = node.replace('0', node[j])\n",
    "nxt = nxt[:j]+'0'+nxt[j+1:]\n",
    "print(nxt)"
   ]
  },
  {
   "cell_type": "code",
   "execution_count": null,
   "metadata": {
    "collapsed": true
   },
   "outputs": [],
   "source": []
  }
 ],
 "metadata": {
  "kernelspec": {
   "display_name": "Python 3",
   "language": "python",
   "name": "python3"
  },
  "language_info": {
   "codemirror_mode": {
    "name": "ipython",
    "version": 3
   },
   "file_extension": ".py",
   "mimetype": "text/x-python",
   "name": "python",
   "nbconvert_exporter": "python",
   "pygments_lexer": "ipython3",
   "version": "3.6.0"
  }
 },
 "nbformat": 4,
 "nbformat_minor": 2
}
