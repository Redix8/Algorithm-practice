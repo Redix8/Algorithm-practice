{
 "cells": [
  {
   "cell_type": "markdown",
   "metadata": {},
   "source": [
    "\n",
    "  0 1 2      0,0  0,1\n",
    "0 e          1,0  0,2\n",
    "1 e e e      1,1\n",
    "2            1,2\n",
    "\n",
    "  0 1 2      0,2  0,0\n",
    "0     e      1,0  0,1\n",
    "1 e e e      1,1\n",
    "2            1,2\n",
    "\n",
    "  0 1 2      0,1  0,0\n",
    "0   e        1,0  0,2\n",
    "1 e e e      1,1\n",
    "2            1,2\n",
    "\n",
    "  0 1 2      0,1  1,0\n",
    "0   e        1,1\n",
    "1   e        2,0\n",
    "2 e e        2,1\n",
    "\n",
    "  0 1 2      0,0  1,1\n",
    "0 e          1,0\n",
    "1 e          2,0\n",
    "2 e e        2,1"
   ]
  },
  {
   "cell_type": "code",
   "execution_count": 18,
   "metadata": {
    "collapsed": false
   },
   "outputs": [
    {
     "name": "stdout",
     "output_type": "stream",
     "text": [
      "in\n"
     ]
    },
    {
     "data": {
      "text/plain": [
       "5"
      ]
     },
     "execution_count": 18,
     "metadata": {},
     "output_type": "execute_result"
    }
   ],
   "source": []
  },
  {
   "cell_type": "code",
   "execution_count": 19,
   "metadata": {
    "collapsed": false
   },
   "outputs": [],
   "source": [
    "def checkShape(r,c,arr):\n",
    "    N = len(arr)\n",
    "    if 0<=r+1<N and 0<=c+2<N:\n",
    "        if arr[r][c] and arr[r][c]==arr[r+1][c]==arr[r+1][c+1]==arr[r+1][c+2]:\n",
    "            return 1\n",
    "        elif arr[r][c+2] and arr[r][c+2]==arr[r+1][c]==arr[r+1][c+1]==arr[r+1][c+2]:\n",
    "            return 2\n",
    "        elif arr[r][c+1] and arr[r][c+1]==arr[r+1][c]==arr[r+1][c+1]==arr[r+1][c+2]:\n",
    "            return 3\n",
    "    if 0<=r+2<N and 0<=c+1<N:\n",
    "        if arr[r][c+1] and arr[r][c+1]==arr[r+1][c+1]==arr[r+2][c]==arr[r+2][c+1]:\n",
    "            return 4\n",
    "        elif arr[r][c] and arr[r][c]==arr[r+1][c]==arr[r+2][c]==arr[r+2][c+1]:\n",
    "            return 5\n",
    "    return 0"
   ]
  },
  {
   "cell_type": "code",
   "execution_count": 2,
   "metadata": {
    "collapsed": true
   },
   "outputs": [],
   "source": [
    "def checkDark(r,c,arr,shape):\n",
    "    for i in range(r,-1,-1):\n",
    "        if shape == 1:\n",
    "            if arr[i][c+1] or arr[i][c+2]:\n",
    "                return False\n",
    "        elif shape == 2:\n",
    "            if arr[i][c] or arr[i][c+1]:\n",
    "                return False\n",
    "        elif shape == 3:\n",
    "            if arr[i][c] or arr[i][c+2]:\n",
    "                return False\n",
    "    for i in range(r+1,-1,-1):\n",
    "        if shape ==4:\n",
    "            if arr[i][c]:\n",
    "                return False\n",
    "        if shape ==5:\n",
    "            if arr[i][c+1]:\n",
    "                return False\n",
    "    return True\n"
   ]
  },
  {
   "cell_type": "code",
   "execution_count": 3,
   "metadata": {
    "collapsed": true
   },
   "outputs": [],
   "source": [
    "def deleteBlock(r,c,arr,shape):\n",
    "    d =[(),\n",
    "        ((0,0),(1,0),(1,1),(1,2)),\n",
    "        ((0,2),(1,0),(1,1),(1,2)),\n",
    "        ((0,1),(1,0),(1,1),(1,2)),\n",
    "        ((0,1),(1,1),(2,0),(2,1)),\n",
    "        ((0,0),(1,0),(2,0),(2,1))]\n",
    "    for row,col in d[shape]:        \n",
    "        arr[r+row][c+col] = 0\n"
   ]
  },
  {
   "cell_type": "code",
   "execution_count": 4,
   "metadata": {
    "collapsed": true
   },
   "outputs": [],
   "source": [
    "def solution(board):\n",
    "    N = len(board)\n",
    "    ret = 0    \n",
    "    while True:\n",
    "        cnt = 0\n",
    "        for i in range(N):\n",
    "            for j in range(N):\n",
    "                shape = checkShape(i,j,board)\n",
    "                if shape:\n",
    "                    if checkDark(i,j,board,shape):\n",
    "                        deleteBlock(i,j,board,shape)\n",
    "                        cnt+=1        \n",
    "        if cnt:ret+=cnt\n",
    "        else:break\n",
    "                \n",
    "    return ret"
   ]
  },
  {
   "cell_type": "code",
   "execution_count": 20,
   "metadata": {
    "collapsed": false
   },
   "outputs": [
    {
     "name": "stdout",
     "output_type": "stream",
     "text": [
      "[0, 0, 0, 0, 0, 0, 0, 0, 0, 0]\n",
      "[0, 0, 0, 0, 0, 0, 0, 0, 0, 0]\n",
      "[0, 0, 0, 0, 0, 0, 0, 0, 0, 0]\n",
      "[0, 0, 0, 0, 0, 0, 0, 0, 0, 0]\n",
      "[0, 0, 0, 0, 0, 0, 4, 0, 0, 0]\n",
      "[0, 0, 0, 0, 3, 4, 4, 0, 0, 0]\n",
      "[0, 0, 0, 3, 3, 0, 4, 0, 0, 0]\n",
      "[0, 0, 0, 0, 3, 0, 0, 0, 5, 5]\n",
      "[0, 0, 0, 0, 0, 0, 0, 0, 0, 5]\n",
      "[0, 0, 0, 0, 0, 0, 0, 0, 0, 5]\n",
      "\n",
      "[0, 0, 0, 0, 0, 0, 0, 0, 0, 0]\n",
      "[0, 0, 0, 0, 0, 0, 0, 0, 0, 0]\n",
      "[0, 0, 0, 0, 0, 0, 0, 0, 0, 0]\n",
      "[0, 0, 0, 0, 0, 0, 0, 0, 0, 0]\n",
      "[0, 0, 0, 0, 0, 0, 4, 0, 0, 0]\n",
      "[0, 0, 0, 0, 3, 4, 4, 0, 0, 0]\n",
      "[0, 0, 0, 3, 3, 0, 4, 0, 0, 0]\n",
      "[0, 0, 0, 0, 3, 0, 0, 0, 5, 5]\n",
      "[0, 0, 0, 0, 0, 0, 0, 0, 0, 5]\n",
      "[0, 0, 0, 0, 0, 0, 0, 0, 0, 5]\n",
      "\n"
     ]
    },
    {
     "data": {
      "text/plain": [
       "4"
      ]
     },
     "execution_count": 20,
     "metadata": {},
     "output_type": "execute_result"
    }
   ],
   "source": [
    "board = [[0,0,0,0,0,0,0,0,0,0],\n",
    "         [0,0,0,0,0,0,0,0,0,0],\n",
    "         [0,0,0,0,0,0,0,0,0,0],\n",
    "         [0,0,0,0,0,0,0,0,0,0],\n",
    "         [0,0,0,0,0,0,4,0,0,0],\n",
    "         [0,0,0,0,0,4,4,0,0,0],\n",
    "         [0,0,0,0,3,0,4,0,0,0],\n",
    "         [0,0,0,2,3,0,0,0,5,5],\n",
    "         [1,2,2,2,3,3,0,0,0,5],\n",
    "         [1,1,1,0,0,0,0,0,0,5]]\n",
    "\n",
    "board = [[0,0,0,0,0,0,0,0,0,0],\n",
    "         [0,0,0,0,0,0,0,0,0,0],\n",
    "         [0,0,0,0,0,0,0,0,0,0],\n",
    "         [0,0,0,0,0,0,0,0,0,0],\n",
    "         [7,0,0,0,0,0,4,0,0,0],\n",
    "         [7,0,0,0,3,4,4,0,0,0],\n",
    "         [7,7,6,3,3,0,4,0,0,0],\n",
    "         [6,6,6,2,3,0,0,0,5,5],\n",
    "         [1,2,2,2,0,0,0,0,0,5],\n",
    "         [1,1,1,0,0,0,0,0,0,5]]\n",
    "solution(board)"
   ]
  },
  {
   "cell_type": "code",
   "execution_count": 12,
   "metadata": {
    "collapsed": false
   },
   "outputs": [
    {
     "data": {
      "text/plain": [
       "0"
      ]
     },
     "execution_count": 12,
     "metadata": {},
     "output_type": "execute_result"
    }
   ],
   "source": [
    "checkShape(4, 0, board)"
   ]
  },
  {
   "cell_type": "code",
   "execution_count": 13,
   "metadata": {
    "collapsed": false
   },
   "outputs": [
    {
     "name": "stdout",
     "output_type": "stream",
     "text": [
      "[0, 0, 0, 0, 0, 0, 0, 0, 0, 0]\n",
      "[0, 0, 0, 0, 0, 0, 0, 0, 0, 0]\n",
      "[0, 0, 0, 0, 0, 0, 0, 0, 0, 0]\n",
      "[0, 0, 0, 0, 0, 0, 0, 0, 0, 0]\n",
      "[7, 0, 0, 0, 0, 0, 4, 0, 0, 0]\n",
      "[7, 0, 0, 0, 3, 4, 4, 0, 0, 0]\n",
      "[7, 7, 6, 3, 3, 0, 4, 0, 0, 0]\n",
      "[6, 6, 6, 2, 3, 0, 0, 0, 5, 5]\n",
      "[1, 2, 2, 2, 0, 0, 0, 0, 0, 5]\n",
      "[1, 1, 1, 0, 0, 0, 0, 0, 0, 5]\n",
      "\n"
     ]
    }
   ],
   "source": [
    "for x in board:\n",
    "    print(x)\n",
    "print()"
   ]
  },
  {
   "cell_type": "code",
   "execution_count": null,
   "metadata": {
    "collapsed": true
   },
   "outputs": [],
   "source": []
  }
 ],
 "metadata": {
  "kernelspec": {
   "display_name": "Python 3",
   "language": "python",
   "name": "python3"
  },
  "language_info": {
   "codemirror_mode": {
    "name": "ipython",
    "version": 3
   },
   "file_extension": ".py",
   "mimetype": "text/x-python",
   "name": "python",
   "nbconvert_exporter": "python",
   "pygments_lexer": "ipython3",
   "version": "3.6.0"
  }
 },
 "nbformat": 4,
 "nbformat_minor": 2
}
