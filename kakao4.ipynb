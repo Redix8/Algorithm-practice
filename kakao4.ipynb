{
 "cells": [
  {
   "cell_type": "code",
   "execution_count": null,
   "metadata": {
    "collapsed": true
   },
   "outputs": [],
   "source": [
    "def solution(foodTimes, k):\n",
    "    k = k + 1  \n",
    "    sortedFoodTimes = sorted(foodTimes)\n",
    "    leftFoods = len(foodTimes)\n",
    "    eatRound = 0\n",
    "    for time in sortedFoodTimes:\n",
    "\n",
    "        if leftFoods * (time-eatRound) < k:\n",
    "            k -= leftFoods * (time-eatRound)\n",
    "            leftFoods -= 1\n",
    "            eatRound = time\n",
    "        else:\n",
    "            break\n",
    "\n",
    "    while k > 0:\n",
    "        tmp = k\n",
    "        for i, time in enumerate(foodTimes):\n",
    "            if time <= eatRound:\n",
    "                continue\n",
    "            tmp -= 1\n",
    "            if not tmp:\n",
    "                return i+1\n",
    "        eatRound += 1\n",
    "        if tmp == k:\n",
    "            break\n",
    "        k = tmp\n",
    "        \n",
    "    return -1"
   ]
  }
 ],
 "metadata": {
  "kernelspec": {
   "display_name": "Python 3",
   "language": "python",
   "name": "python3"
  },
  "language_info": {
   "codemirror_mode": {
    "name": "ipython",
    "version": 3
   },
   "file_extension": ".py",
   "mimetype": "text/x-python",
   "name": "python",
   "nbconvert_exporter": "python",
   "pygments_lexer": "ipython3",
   "version": "3.6.0"
  }
 },
 "nbformat": 4,
 "nbformat_minor": 2
}
