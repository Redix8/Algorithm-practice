{
 "cells": [
  {
   "cell_type": "code",
   "execution_count": 66,
   "metadata": {},
   "outputs": [
    {
     "name": "stdout",
     "output_type": "stream",
     "text": [
      "E=M*C^2,e=m*c^2\n"
     ]
    }
   ],
   "source": [
    "str1, str2 = input().split(\",\")"
   ]
  },
  {
   "cell_type": "code",
   "execution_count": 67,
   "metadata": {},
   "outputs": [],
   "source": [
    "from collections import Counter  //다중집합으로 활용\n",
    "str1 = str1.lower()\n",
    "str2 = str2.lower()\n",
    "A = []\n",
    "B = []\n",
    "for i in range(len(str1)-1):\n",
    "    s = str1[i:i+2]\n",
    "    if s.isalpha():\n",
    "        A.append(s)\n",
    "for i in range(len(str2)-1):\n",
    "    s = str2[i:i+2]\n",
    "    if s.isalpha():\n",
    "        B.append(s)\n",
    "A = Counter(A)\n",
    "B = Counter(B)"
   ]
  },
  {
   "cell_type": "code",
   "execution_count": 70,
   "metadata": {},
   "outputs": [
    {
     "name": "stdout",
     "output_type": "stream",
     "text": [
      "65536\n"
     ]
    }
   ],
   "source": [
    "if sum((A|B).values()) == 0:\n",
    "    print(65536)\n",
    "else:\n",
    "    print(int(sum((A&B).values())/sum((A|B).values())*65536))"
   ]
  },
  {
   "cell_type": "code",
   "execution_count": 30,
   "metadata": {},
   "outputs": [],
   "source": []
  },
  {
   "cell_type": "code",
   "execution_count": 32,
   "metadata": {},
   "outputs": [],
   "source": [
    "C = Counter(['aa','aa'])\n",
    "D = Counter(['aa','aa','aa'])"
   ]
  },
  {
   "cell_type": "code",
   "execution_count": 42,
   "metadata": {},
   "outputs": [],
   "source": [
    "A = Counter(A)\n",
    "B = Counter(B)"
   ]
  },
  {
   "cell_type": "code",
   "execution_count": 49,
   "metadata": {},
   "outputs": [
    {
     "data": {
      "text/plain": [
       "5"
      ]
     },
     "execution_count": 49,
     "metadata": {},
     "output_type": "execute_result"
    }
   ],
   "source": [
    "sum(A.values())"
   ]
  },
  {
   "cell_type": "code",
   "execution_count": null,
   "metadata": {},
   "outputs": [],
   "source": []
  }
 ],
 "metadata": {
  "kernelspec": {
   "display_name": "Python 3",
   "language": "python",
   "name": "python3"
  },
  "language_info": {
   "codemirror_mode": {
    "name": "ipython",
    "version": 3
   },
   "file_extension": ".py",
   "mimetype": "text/x-python",
   "name": "python",
   "nbconvert_exporter": "python",
   "pygments_lexer": "ipython3",
   "version": "3.6.4"
  }
 },
 "nbformat": 4,
 "nbformat_minor": 2
}
