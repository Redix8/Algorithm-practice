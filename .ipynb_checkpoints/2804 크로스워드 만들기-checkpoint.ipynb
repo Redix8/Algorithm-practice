{
 "cells": [
  {
   "cell_type": "markdown",
   "metadata": {},
   "source": [
    "A를 기준으로 찾자마자 (가장 먼저 나오는 문자)\n",
    "멈추면 정렬이 필요없음."
   ]
  },
  {
   "cell_type": "code",
   "execution_count": 23,
   "metadata": {
    "collapsed": false
   },
   "outputs": [
    {
     "name": "stdout",
     "output_type": "stream",
     "text": [
      "BANANA PIDZAMA\n"
     ]
    }
   ],
   "source": [
    "A, B = input().split()"
   ]
  },
  {
   "cell_type": "code",
   "execution_count": 24,
   "metadata": {
    "collapsed": false
   },
   "outputs": [
    {
     "name": "stdout",
     "output_type": "stream",
     "text": [
      ".P....\n",
      ".I....\n",
      ".D....\n",
      ".Z....\n",
      "BANANA\n",
      ".M....\n",
      ".A....\n"
     ]
    }
   ],
   "source": [
    "temp = []\n",
    "for i, x in enumerate(A):\n",
    "    c = B.find(x)\n",
    "    if c != -1:\n",
    "        temp.append((i, c))\n",
    "temp.sort()\n",
    "m, n = temp[0]\n",
    "row = ['.' for i in range(len(A))]\n",
    "for i in range(len(B)):\n",
    "    if i == n:\n",
    "        print(A)\n",
    "    else:\n",
    "        row[m] = B[i]\n",
    "        print(''.join(row))\n",
    "        "
   ]
  },
  {
   "cell_type": "code",
   "execution_count": 19,
   "metadata": {
    "collapsed": false
   },
   "outputs": [
    {
     "data": {
      "text/plain": [
       "[(0, 7), (4, 2), (4, 4), (5, 3), (6, 1), (8, 0)]"
      ]
     },
     "execution_count": 19,
     "metadata": {},
     "output_type": "execute_result"
    }
   ],
   "source": [
    "temp"
   ]
  },
  {
   "cell_type": "code",
   "execution_count": null,
   "metadata": {
    "collapsed": true
   },
   "outputs": [],
   "source": []
  }
 ],
 "metadata": {
  "kernelspec": {
   "display_name": "Python 3",
   "language": "python",
   "name": "python3"
  },
  "language_info": {
   "codemirror_mode": {
    "name": "ipython",
    "version": 3
   },
   "file_extension": ".py",
   "mimetype": "text/x-python",
   "name": "python",
   "nbconvert_exporter": "python",
   "pygments_lexer": "ipython3",
   "version": "3.6.0"
  }
 },
 "nbformat": 4,
 "nbformat_minor": 2
}
