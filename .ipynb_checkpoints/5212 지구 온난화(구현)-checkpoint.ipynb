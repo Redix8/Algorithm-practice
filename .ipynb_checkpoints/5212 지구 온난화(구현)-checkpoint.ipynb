{
 "cells": [
  {
   "cell_type": "code",
   "execution_count": 145,
   "metadata": {
    "collapsed": false
   },
   "outputs": [
    {
     "name": "stdout",
     "output_type": "stream",
     "text": [
      "4 4\n"
     ]
    }
   ],
   "source": [
    "R, C = map(int, input().split())"
   ]
  },
  {
   "cell_type": "code",
   "execution_count": 166,
   "metadata": {
    "collapsed": false
   },
   "outputs": [
    {
     "name": "stdout",
     "output_type": "stream",
     "text": [
      "XXXX\n",
      "X..X\n",
      "XX..\n",
      "X...\n"
     ]
    }
   ],
   "source": [
    "M = [[x for x in input()] for i in range(R)]"
   ]
  },
  {
   "cell_type": "code",
   "execution_count": 167,
   "metadata": {
    "collapsed": false
   },
   "outputs": [
    {
     "name": "stdout",
     "output_type": "stream",
     "text": [
      "['X', 'X', 'X', 'X']\n",
      "['X', '.', '.', '0']\n",
      "['X', '0', '.', '.']\n",
      "['0', '.', '.', '.']\n"
     ]
    }
   ],
   "source": [
    "dr = [-1, 0, 1, 0] \n",
    "dc = [0, 1, 0, -1]\n",
    "count = 0\n",
    "for i in range(R):\n",
    "    for j in range(C):\n",
    "        count = 0\n",
    "        if M[i][j] != 'X':\n",
    "            continue\n",
    "        for k in range(4):\n",
    "            if (i+dr[k] <0 or j+dc[k] <0 or \n",
    "                i+dr[k] >R-1 or j+dc[k] >C-1 or\n",
    "                M[i+dr[k]][j+dc[k]] == '.') :\n",
    "                count +=1\n",
    "        if count == 3 or count == 4:\n",
    "            M[i][j] = '0'\n",
    "\n",
    "for i in range(R):\n",
    "    print(M[i])"
   ]
  },
  {
   "cell_type": "code",
   "execution_count": 158,
   "metadata": {
    "collapsed": false
   },
   "outputs": [],
   "source": [
    "minl = C\n",
    "maxr = 0\n",
    "minhi = R\n",
    "minlo = 0\n",
    "line = []\n",
    "for i in range(len(M)):\n",
    "    if 'X' not in M[i] : line.append(i)\n",
    "    else:\n",
    "        break\n",
    "\n",
    "for i in range(len(M)-1,-1,-1):\n",
    "    if 'X' not in M[i] : line.append(i)\n",
    "    else:\n",
    "        break\n",
    "        \n",
    "while line:\n",
    "    i = line.pop()\n",
    "    del M[i]\n",
    "\n",
    "for i in range(len(M)):\n",
    "    for j in range(len(M[i])):\n",
    "        if M[i][j] =='X':\n",
    "            minl = min(minl, j)\n",
    "            maxr = max(maxr, j)\n",
    "            \n",
    "for i in range(len(M)):\n",
    "    for j in range(len(M[i])):\n",
    "        if M[i][j] =='0' : M[i][j] = '.'"
   ]
  },
  {
   "cell_type": "code",
   "execution_count": 168,
   "metadata": {
    "collapsed": true
   },
   "outputs": [],
   "source": [
    "minl = C\n",
    "maxr = 0\n",
    "minhi = R\n",
    "maxlo = 0\n",
    "for i in range(R):\n",
    "    for j in range(C):\n",
    "        if M[i][j] =='X':\n",
    "            minl = min(minl, j)\n",
    "            maxr = max(maxr, j)\n",
    "for i in range(C):\n",
    "    for j in range(R):\n",
    "        if M[j][i] == 'X':\n",
    "            minhi = min(minhi, j)\n",
    "            maxlo = max(maxlo, j)\n",
    "            \n",
    "for i in range(len(M)):\n",
    "    for j in range(len(M[i])):\n",
    "        if M[i][j] =='0' : M[i][j] = '.'"
   ]
  },
  {
   "cell_type": "code",
   "execution_count": 137,
   "metadata": {
    "collapsed": false
   },
   "outputs": [
    {
     "name": "stdout",
     "output_type": "stream",
     "text": [
      "0 5 [0]\n"
     ]
    }
   ],
   "source": [
    "print(minl, maxr, delr)"
   ]
  },
  {
   "cell_type": "code",
   "execution_count": 159,
   "metadata": {
    "collapsed": false
   },
   "outputs": [
    {
     "name": "stdout",
     "output_type": "stream",
     "text": [
      "XXXX\n",
      "....\n",
      "....\n",
      ".XX.\n"
     ]
    }
   ],
   "source": [
    "for i in range(len(M)):\n",
    "    print(\"\".join(M[i][minl:maxr+1]))"
   ]
  },
  {
   "cell_type": "code",
   "execution_count": 171,
   "metadata": {
    "collapsed": false
   },
   "outputs": [
    {
     "name": "stdout",
     "output_type": "stream",
     "text": [
      "XXXX\n",
      "X...\n",
      "X...\n"
     ]
    }
   ],
   "source": [
    "for i in range(minhi, maxlo+1):\n",
    "    print(\"\".join(M[i][minl:maxr+1]))"
   ]
  },
  {
   "cell_type": "code",
   "execution_count": 160,
   "metadata": {
    "collapsed": true
   },
   "outputs": [],
   "source": [
    "a = R"
   ]
  },
  {
   "cell_type": "code",
   "execution_count": 161,
   "metadata": {
    "collapsed": false
   },
   "outputs": [
    {
     "data": {
      "text/plain": [
       "4"
      ]
     },
     "execution_count": 161,
     "metadata": {},
     "output_type": "execute_result"
    }
   ],
   "source": [
    "a"
   ]
  },
  {
   "cell_type": "code",
   "execution_count": 162,
   "metadata": {
    "collapsed": true
   },
   "outputs": [],
   "source": [
    "a = 3"
   ]
  },
  {
   "cell_type": "code",
   "execution_count": 164,
   "metadata": {
    "collapsed": false
   },
   "outputs": [
    {
     "data": {
      "text/plain": [
       "4"
      ]
     },
     "execution_count": 164,
     "metadata": {},
     "output_type": "execute_result"
    }
   ],
   "source": [
    "R"
   ]
  },
  {
   "cell_type": "code",
   "execution_count": null,
   "metadata": {
    "collapsed": true
   },
   "outputs": [],
   "source": []
  }
 ],
 "metadata": {
  "kernelspec": {
   "display_name": "Python 3",
   "language": "python",
   "name": "python3"
  },
  "language_info": {
   "codemirror_mode": {
    "name": "ipython",
    "version": 3
   },
   "file_extension": ".py",
   "mimetype": "text/x-python",
   "name": "python",
   "nbconvert_exporter": "python",
   "pygments_lexer": "ipython3",
   "version": "3.6.0"
  }
 },
 "nbformat": 4,
 "nbformat_minor": 2
}
