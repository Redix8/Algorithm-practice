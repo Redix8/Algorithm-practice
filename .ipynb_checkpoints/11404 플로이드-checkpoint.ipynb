{
 "cells": [
  {
   "cell_type": "code",
   "execution_count": 22,
   "metadata": {
    "collapsed": false
   },
   "outputs": [
    {
     "name": "stdout",
     "output_type": "stream",
     "text": [
      "5\n",
      "14\n"
     ]
    }
   ],
   "source": [
    "n = int(input())\n",
    "m = int(input())"
   ]
  },
  {
   "cell_type": "code",
   "execution_count": 69,
   "metadata": {
    "collapsed": false
   },
   "outputs": [
    {
     "name": "stdout",
     "output_type": "stream",
     "text": [
      "1 2 2\n",
      "1 3 3\n",
      "1 4 1\n",
      "1 5 10\n",
      "2 4 2\n",
      "3 4 1\n",
      "3 5 1\n",
      "4 5 3\n",
      "3 5 10\n",
      "3 1 8\n",
      "1 4 2\n",
      "5 1 7\n",
      "3 4 2\n",
      "5 2 4\n"
     ]
    }
   ],
   "source": [
    "nodes = [[9876543210]*(n) for x in range(n)]\n",
    "for i in range(m):\n",
    "    f,t,v =map(int, input().split())\n",
    "    nodes[f-1][t-1] = min(v, nodes[f-1][t-1])"
   ]
  },
  {
   "cell_type": "code",
   "execution_count": 87,
   "metadata": {
    "collapsed": false
   },
   "outputs": [
    {
     "name": "stdout",
     "output_type": "stream",
     "text": [
      "0 2 3 1 4\n",
      "12 0 15 2 5\n",
      "8 5 0 1 1\n",
      "10 7 13 0 3\n",
      "7 4 10 6 0\n"
     ]
    }
   ],
   "source": [
    "for k in range(n):\n",
    "    for i in range(n):\n",
    "        for j in range(n):\n",
    "            nodes[i][j] = min(nodes[i][j], nodes[i][k] + nodes[k][j])\n",
    "for i in range(n):\n",
    "    for j in range(n):\n",
    "        if nodes[i][j] == 9876543210:\n",
    "            nodes[i][j] = 0\n",
    "        nodes[i][i] = 0\n",
    "    print(*nodes[i])"
   ]
  },
  {
   "cell_type": "code",
   "execution_count": 71,
   "metadata": {
    "collapsed": false
   },
   "outputs": [],
   "source": [
    "from copy import deepcopy\n",
    "A = deepcopy(nodes)"
   ]
  },
  {
   "cell_type": "code",
   "execution_count": 85,
   "metadata": {
    "collapsed": false
   },
   "outputs": [],
   "source": [
    "nodes = deepcopy(A)"
   ]
  },
  {
   "cell_type": "code",
   "execution_count": 86,
   "metadata": {
    "collapsed": false
   },
   "outputs": [
    {
     "data": {
      "text/plain": [
       "[[9876543210, 2, 3, 1, 10],\n",
       " [9876543210, 9876543210, 9876543210, 2, 9876543210],\n",
       " [8, 9876543210, 9876543210, 1, 1],\n",
       " [9876543210, 9876543210, 9876543210, 9876543210, 3],\n",
       " [7, 4, 9876543210, 9876543210, 9876543210]]"
      ]
     },
     "execution_count": 86,
     "metadata": {},
     "output_type": "execute_result"
    }
   ],
   "source": [
    "nodes"
   ]
  },
  {
   "cell_type": "code",
   "execution_count": 83,
   "metadata": {
    "collapsed": false
   },
   "outputs": [
    {
     "name": "stdout",
     "output_type": "stream",
     "text": [
      "0 2 3 1 4\n",
      "12 0 15 2 5\n",
      "8 5 0 1 1\n",
      "10 7 13 0 3\n",
      "7 4 10 6 0\n"
     ]
    }
   ],
   "source": [
    "import sys\n",
    "n = int(sys.stdin.readline())\n",
    "m = int(sys.stdin.readline())\n",
    "\n",
    "nodes = [[9876543210]*(n) for x in range(n)]\n",
    "for i in range(m):\n",
    "    f,t,v =map(int, sys.stdin.readline().split())\n",
    "    nodes[f-1][t-1] = min(v, nodes[f-1][t-1])\n",
    "    \n",
    "for k in range(n):\n",
    "    for i in range(n):\n",
    "        for j in range(n):\n",
    "            nodes[i][j] = min(nodes[i][j], nodes[i][k] + nodes[k][j])\n",
    "            \n",
    "for i in range(n):\n",
    "    for j in range(n):\n",
    "        if nodes[i][j] == 9876543210:\n",
    "            nodes[i][j] = 0\n",
    "        nodes[i][i] = 0\n",
    "    print(*nodes[i])"
   ]
  },
  {
   "cell_type": "code",
   "execution_count": null,
   "metadata": {
    "collapsed": true
   },
   "outputs": [],
   "source": []
  }
 ],
 "metadata": {
  "kernelspec": {
   "display_name": "Python 3",
   "language": "python",
   "name": "python3"
  },
  "language_info": {
   "codemirror_mode": {
    "name": "ipython",
    "version": 3
   },
   "file_extension": ".py",
   "mimetype": "text/x-python",
   "name": "python",
   "nbconvert_exporter": "python",
   "pygments_lexer": "ipython3",
   "version": "3.6.0"
  }
 },
 "nbformat": 4,
 "nbformat_minor": 2
}
