{
 "cells": [
  {
   "cell_type": "code",
   "execution_count": 24,
   "metadata": {
    "collapsed": false,
    "scrolled": true
   },
   "outputs": [
    {
     "name": "stdout",
     "output_type": "stream",
     "text": [
      "5 40\n",
      "5 6 7 8 9\n"
     ]
    }
   ],
   "source": [
    "N, M = map(int, input().split())\n",
    "L = list(map(int, input().split()))"
   ]
  },
  {
   "cell_type": "code",
   "execution_count": 26,
   "metadata": {
    "collapsed": false
   },
   "outputs": [
    {
     "name": "stdout",
     "output_type": "stream",
     "text": [
      "24\n"
     ]
    }
   ],
   "source": [
    "L.sort()\n",
    "result = 0\n",
    "for i in range(N-2):\n",
    "#    summ = L[i]\n",
    "#    if summ > M: break\n",
    "#    result = max(summ, result)\n",
    "    for j in range(i+1,N-1):\n",
    "#        summ = L[i] + L[j]\n",
    "#        if summ > M: break\n",
    "#        result= max(summ, result)\n",
    "        for k in range(j+1,N):\n",
    "            summ = L[i] + L[j] + L[k]\n",
    "            if summ > M: break\n",
    "            if summ > result:\n",
    "                result = summ\n",
    "print(result)\n",
    "\n",
    "#max 함수가 if문보다느림."
   ]
  },
  {
   "cell_type": "markdown",
   "metadata": {},
   "source": [
    "백준에 올라온 파이썬의 콤비네이션 모듈을 이용한 방법.(아이디 thnam91)"
   ]
  },
  {
   "cell_type": "code",
   "execution_count": 20,
   "metadata": {
    "collapsed": false
   },
   "outputs": [
    {
     "data": {
      "text/plain": [
       "[1, 2, 3, 4]"
      ]
     },
     "execution_count": 20,
     "metadata": {},
     "output_type": "execute_result"
    }
   ],
   "source": [
    "from sys import stdin\n",
    "from itertools import combinations\n",
    "\n",
    "n, m = map(int, stdin.readline().split())\n",
    "cards = list(map(int, stdin.readline().split()))\n",
    "\n",
    "comb = combinations(cards, 3)\n",
    "\n",
    "max = 0\n",
    "for i in comb:\n",
    "    if max <= sum(i) <= m:\n",
    "        max = sum(i)\n",
    "\n",
    "print(max)"
   ]
  },
  {
   "cell_type": "code",
   "execution_count": null,
   "metadata": {
    "collapsed": true
   },
   "outputs": [],
   "source": []
  }
 ],
 "metadata": {
  "kernelspec": {
   "display_name": "Python 3",
   "language": "python",
   "name": "python3"
  },
  "language_info": {
   "codemirror_mode": {
    "name": "ipython",
    "version": 3
   },
   "file_extension": ".py",
   "mimetype": "text/x-python",
   "name": "python",
   "nbconvert_exporter": "python",
   "pygments_lexer": "ipython3",
   "version": "3.6.0"
  }
 },
 "nbformat": 4,
 "nbformat_minor": 2
}
