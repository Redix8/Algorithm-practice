{
 "cells": [
  {
   "cell_type": "code",
   "execution_count": 41,
   "metadata": {
    "collapsed": false
   },
   "outputs": [
    {
     "name": "stdout",
     "output_type": "stream",
     "text": [
      "6 10\n"
     ]
    }
   ],
   "source": [
    "N, L = map(int, input().split())"
   ]
  },
  {
   "cell_type": "code",
   "execution_count": 50,
   "metadata": {
    "collapsed": false
   },
   "outputs": [
    {
     "name": "stdout",
     "output_type": "stream",
     "text": [
      "-4\n",
      "2\n",
      "8\n",
      "-5\n",
      "9\n",
      "-6\n",
      "6 8\n"
     ]
    }
   ],
   "source": [
    "ants = []\n",
    "ants_sort = []\n",
    "for i in range(N):\n",
    "    ant = int(input())\n",
    "    ants.append(ant)\n",
    "    ants_sort.append(ant)\n",
    "ants_sort.sort()\n",
    "\n",
    "count = 0\n",
    "time = 0\n",
    "num = 0\n",
    "while True:    \n",
    "    time += 1\n",
    "    for i in range(N):\n",
    "        if ants[i] != 9876543210:\n",
    "            ants[i] += 1\n",
    "        if ants_sort[i] != 9876543210:\n",
    "            ants_sort[i] += 1        \n",
    "        if ants[i] == 0 or ants[i] == L:\n",
    "            ants[i] = 9876543210\n",
    "            count +=1\n",
    "        if ants_sort[i] == 0 or ants_sort[i] == L:\n",
    "            ants_sort[i] = 9876543210\n",
    "        if count == N:\n",
    "            num = i+1\n",
    "    if count == N:\n",
    "        break\n",
    "\n",
    "    cross = findCross()\n",
    "    for neg, pos in cross:\n",
    "        n, p = ants.index(neg), ants.index(pos)\n",
    "        ants[n], ants[p] = ants[p], ants[n]\n",
    "print(num, time)"
   ]
  },
  {
   "cell_type": "code",
   "execution_count": 10,
   "metadata": {
    "collapsed": true
   },
   "outputs": [],
   "source": [
    "import bisect"
   ]
  },
  {
   "cell_type": "code",
   "execution_count": 12,
   "metadata": {
    "collapsed": false
   },
   "outputs": [
    {
     "data": {
      "text/plain": [
       "2"
      ]
     },
     "execution_count": 12,
     "metadata": {},
     "output_type": "execute_result"
    }
   ],
   "source": [
    "bisect.bisect(A, 0)"
   ]
  },
  {
   "cell_type": "code",
   "execution_count": 27,
   "metadata": {
    "collapsed": false
   },
   "outputs": [],
   "source": [
    "def findCross():\n",
    "    global ants_sort\n",
    "    ret = []\n",
    "    bs = bisect.bisect(ants_sort, 0)\n",
    "    if bs == 0 or bs == len(ants_sort):\n",
    "        return ret\n",
    "    neg = bs - 1\n",
    "    pos = bs + 1\n",
    "    while neg and pos < len(ants_sort):\n",
    "        if ants_sort[neg] + ants_sort[pos] < -1:\n",
    "            pos+=1\n",
    "        elif ants_sort[neg] + ants_sort[pos] > -1:\n",
    "            neg-=1\n",
    "        elif ants_sort[neg] + ants_sort[pos] == -1:\n",
    "            ret.append((ants_sort[neg], ants_sort[pos]))\n",
    "    return ret\n",
    "        "
   ]
  },
  {
   "cell_type": "code",
   "execution_count": 32,
   "metadata": {
    "collapsed": true
   },
   "outputs": [],
   "source": [
    "def find_Mindist():\n",
    "    global ants_sort\n",
    "    ret = []\n",
    "    mindist = 0\n",
    "    bs = bisect.bisect(ants_sort, 0)\n",
    "    \n",
    "    if bs == 0 or bs == len(ants_sort):\n",
    "        return (ret, mindist)\n",
    "    \n",
    "    neg = bs - 1\n",
    "    pos = bs + 1\n",
    "    \n",
    "    while neg and pos < len(ants_sort):\n",
    "        dist = ants_sort[neg] + ants_sort[pos]\n",
    "        if  dist <= -1:\n",
    "            pos+=1\n",
    "            if dist < mindist:\n",
    "                mindist = dist\n",
    "                ret = [(ants_sort[neg], ants_sort[pos])]\n",
    "                continue\n",
    "            if dist == mindist:\n",
    "                ret.append((ants_sort[neg], ants_sort[pos]))\n",
    "        elif dist > -1:\n",
    "            neg-=1\n",
    "    return (ret, mindist)"
   ]
  },
  {
   "cell_type": "code",
   "execution_count": 36,
   "metadata": {
    "collapsed": false
   },
   "outputs": [
    {
     "name": "stdout",
     "output_type": "stream",
     "text": [
      "4\n",
      "-3\n",
      "2 3\n"
     ]
    }
   ],
   "source": [
    "ants = []\n",
    "ants_sort = []\n",
    "for i in range(N):\n",
    "    ant = int(input())\n",
    "    ants.append(ant)\n",
    "    ants_sort.append(ant)\n",
    "ants_sort.sort()\n",
    "\n",
    "count = 0\n",
    "time = 0\n",
    "num = 0\n",
    "while True:    \n",
    "    cross, mindist = find_Mindist()\n",
    "    if mindist == 0:\n",
    "        minval = min(ants_sort)\n",
    "        num = ants.index(minval)+1\n",
    "        if minval<0 : time+= 0-minval\n",
    "        else : time+=L+1-minval\n",
    "        break\n",
    "    time += mindist\n",
    "    for i in range(N):\n",
    "        if ants[i] != 9876543210:\n",
    "            ants[i] += mindist\n",
    "        if ants_sort[i] != 9876543210:\n",
    "            ants_sort[i] += mindist        \n",
    "        if ants[i] == 0 or ants[i] == L:\n",
    "            ants[i] = 9876543210\n",
    "            count +=1\n",
    "        if ants_sort[i] == 0 or ants_sort[i] == L:\n",
    "            ants_sort[i] = 9876543210\n",
    "        if count == N:\n",
    "            num = i+1\n",
    "    if count == N:\n",
    "        break\n",
    "\n",
    "    for neg, pos in cross:\n",
    "        n, p = ants.index(neg), ants.index(pos)\n",
    "        ants[n], ants[p] = ants[p], ants[n]\n",
    "print(num, time)"
   ]
  },
  {
   "cell_type": "code",
   "execution_count": 57,
   "metadata": {
    "collapsed": true
   },
   "outputs": [],
   "source": [
    "import sys"
   ]
  },
  {
   "cell_type": "code",
   "execution_count": 56,
   "metadata": {
    "collapsed": false
   },
   "outputs": [
    {
     "name": "stdout",
     "output_type": "stream",
     "text": [
      "-4\n",
      "2\n",
      "8\n",
      "-5\n",
      "9\n",
      "-6\n",
      "6 8\n"
     ]
    }
   ],
   "source": [
    "ants = []\n",
    "negmax = 0\n",
    "posmax = 0\n",
    "count = 0\n",
    "for i in range(1,N+1):\n",
    "    ant = int(sys.stdin.readline())\n",
    "    if ant < 0:\n",
    "        if -ant > negmax : negmax = -ant\n",
    "        count +=1\n",
    "    elif ant > 0:\n",
    "        if L - ant > posmax : posmax = L - ant\n",
    "    ants.append((abs(ant), i))\n",
    "    \n",
    "ants.sort()\n",
    "\n",
    "if negmax> posmax:\n",
    "    print(ants[count-1][1], negmax)\n",
    "elif posmax>negmax:\n",
    "    print(ants[count][1], posmax)"
   ]
  },
  {
   "cell_type": "code",
   "execution_count": 54,
   "metadata": {
    "collapsed": false
   },
   "outputs": [
    {
     "data": {
      "text/plain": [
       "[(2, 1), (4, 0), (5, 3), (6, 5), (8, 2), (9, 4)]"
      ]
     },
     "execution_count": 54,
     "metadata": {},
     "output_type": "execute_result"
    }
   ],
   "source": [
    "ants"
   ]
  },
  {
   "cell_type": "code",
   "execution_count": 53,
   "metadata": {
    "collapsed": false
   },
   "outputs": [
    {
     "data": {
      "text/plain": [
       "3"
      ]
     },
     "execution_count": 53,
     "metadata": {},
     "output_type": "execute_result"
    }
   ],
   "source": [
    "count"
   ]
  },
  {
   "cell_type": "code",
   "execution_count": null,
   "metadata": {
    "collapsed": true
   },
   "outputs": [],
   "source": []
  }
 ],
 "metadata": {
  "kernelspec": {
   "display_name": "Python 3",
   "language": "python",
   "name": "python3"
  },
  "language_info": {
   "codemirror_mode": {
    "name": "ipython",
    "version": 3
   },
   "file_extension": ".py",
   "mimetype": "text/x-python",
   "name": "python",
   "nbconvert_exporter": "python",
   "pygments_lexer": "ipython3",
   "version": "3.6.0"
  }
 },
 "nbformat": 4,
 "nbformat_minor": 2
}
