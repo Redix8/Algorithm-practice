{
 "cells": [
  {
   "cell_type": "code",
   "execution_count": 1,
   "metadata": {
    "collapsed": false
   },
   "outputs": [
    {
     "name": "stdout",
     "output_type": "stream",
     "text": [
      "7 1 2 3 4 5 6 7\n",
      "1 2 3 4 5 6\n",
      "1 2 3 4 5 7\n",
      "1 2 3 4 6 7\n",
      "1 2 3 5 6 7\n",
      "1 2 4 5 6 7\n",
      "1 3 4 5 6 7\n",
      "2 3 4 5 6 7\n",
      "8 1 2 3 5 8 13 21 34\n",
      "1 2 3 5 8 13\n",
      "1 2 3 5 8 21\n",
      "1 2 3 5 8 34\n",
      "1 2 3 5 13 21\n",
      "1 2 3 5 13 34\n",
      "1 2 3 5 21 34\n",
      "1 2 3 8 13 21\n",
      "1 2 3 8 13 34\n",
      "1 2 3 8 21 34\n",
      "1 2 3 13 21 34\n",
      "1 2 5 8 13 21\n",
      "1 2 5 8 13 34\n",
      "1 2 5 8 21 34\n",
      "1 2 5 13 21 34\n",
      "1 2 8 13 21 34\n",
      "1 3 5 8 13 21\n",
      "1 3 5 8 13 34\n",
      "1 3 5 8 21 34\n",
      "1 3 5 13 21 34\n",
      "1 3 8 13 21 34\n",
      "1 5 8 13 21 34\n",
      "2 3 5 8 13 21\n",
      "2 3 5 8 13 34\n",
      "2 3 5 8 21 34\n",
      "2 3 5 13 21 34\n",
      "2 3 8 13 21 34\n",
      "2 5 8 13 21 34\n",
      "3 5 8 13 21 34\n",
      "0\n"
     ]
    }
   ],
   "source": [
    "from itertools import combinations\n",
    "while True:\n",
    "    s = list(map(int, input().split()))\n",
    "    if s == [0]:\n",
    "        break\n",
    "    for x in combinations(s[1:], 6):\n",
    "        print(*x)\n",
    "    print()\n",
    "    "
   ]
  },
  {
   "cell_type": "code",
   "execution_count": 2,
   "metadata": {
    "collapsed": false
   },
   "outputs": [
    {
     "name": "stdout",
     "output_type": "stream",
     "text": [
      "a\n",
      "\n",
      "b\n"
     ]
    }
   ],
   "source": []
  },
  {
   "cell_type": "code",
   "execution_count": null,
   "metadata": {
    "collapsed": true
   },
   "outputs": [],
   "source": []
  }
 ],
 "metadata": {
  "kernelspec": {
   "display_name": "Python 3",
   "language": "python",
   "name": "python3"
  },
  "language_info": {
   "codemirror_mode": {
    "name": "ipython",
    "version": 3
   },
   "file_extension": ".py",
   "mimetype": "text/x-python",
   "name": "python",
   "nbconvert_exporter": "python",
   "pygments_lexer": "ipython3",
   "version": "3.6.0"
  }
 },
 "nbformat": 4,
 "nbformat_minor": 2
}
