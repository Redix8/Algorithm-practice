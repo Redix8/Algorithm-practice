{
 "cells": [
  {
   "cell_type": "code",
   "execution_count": 53,
   "metadata": {},
   "outputs": [
    {
     "name": "stdout",
     "output_type": "stream",
     "text": [
      "10000\n"
     ]
    }
   ],
   "source": [
    "N = int(input())\n",
    "cache = [-1]*1000001"
   ]
  },
  {
   "cell_type": "markdown",
   "metadata": {},
   "source": [
    "타일종류 : 1, 00"
   ]
  },
  {
   "cell_type": "code",
   "execution_count": 49,
   "metadata": {},
   "outputs": [
    {
     "name": "stdout",
     "output_type": "stream",
     "text": [
      "5329\n"
     ]
    }
   ],
   "source": [
    "def tiling(n):\n",
    "    global cache\n",
    "    if n <= 1 : return 1\n",
    "    if cache[n] != -1: return cache[n]\n",
    "    ret = tiling(n-1)+tiling(n-2)\n",
    "    cache[n] = ret\n",
    "    return ret%15746\n",
    "print(tiling(N))"
   ]
  },
  {
   "cell_type": "code",
   "execution_count": 54,
   "metadata": {},
   "outputs": [
    {
     "name": "stdout",
     "output_type": "stream",
     "text": [
      "4537\n"
     ]
    }
   ],
   "source": [
    "cache[1] = 1\n",
    "cache[2] = 2\n",
    "for i in range(3, N+1):\n",
    "    num = i\n",
    "    cache[num] = cache[num-1] + cache[num-2]\n",
    "    cache[num] %=15746\n",
    "print(cache[N])"
   ]
  },
  {
   "cell_type": "code",
   "execution_count": 42,
   "metadata": {},
   "outputs": [
    {
     "data": {
      "text/plain": [
       "0"
      ]
     },
     "execution_count": 42,
     "metadata": {},
     "output_type": "execute_result"
    }
   ],
   "source": [
    "0"
   ]
  },
  {
   "cell_type": "code",
   "execution_count": null,
   "metadata": {},
   "outputs": [],
   "source": []
  }
 ],
 "metadata": {
  "kernelspec": {
   "display_name": "Python 3",
   "language": "python",
   "name": "python3"
  },
  "language_info": {
   "codemirror_mode": {
    "name": "ipython",
    "version": 3
   },
   "file_extension": ".py",
   "mimetype": "text/x-python",
   "name": "python",
   "nbconvert_exporter": "python",
   "pygments_lexer": "ipython3",
   "version": "3.6.4"
  }
 },
 "nbformat": 4,
 "nbformat_minor": 2
}
