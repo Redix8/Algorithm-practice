{
 "cells": [
  {
   "cell_type": "code",
   "execution_count": null,
   "metadata": {
    "collapsed": true
   },
   "outputs": [],
   "source": [
    "def calCost(height, land, P, Q):\n",
    "    n = len(land)\n",
    "    cost = 0; pc = 0; qc= 0\n",
    "    for i in range(n):\n",
    "        for j in range(n):\n",
    "            if land[i][j] == height: continue\n",
    "            elif land[i][j] < height:\n",
    "                pc += (height - land[i][j])\n",
    "            elif land[i][j] > height:\n",
    "                qc += (land[i][j] - height)\n",
    "    return pc*P+qc*Q\n",
    "\n",
    "def minmaxH(land):\n",
    "    n = len(land)\n",
    "    minH = 1000000000\n",
    "    maxH = 0\n",
    "    for i in range(n):\n",
    "        for j in range(n):\n",
    "            minH = min(minH, land[i][j])\n",
    "            maxH = max(maxH, land[i][j])\n",
    "    return (minH, maxH)\n",
    "\n",
    "def solution(land, P, Q):\n",
    "    answer = 98765432109876543210    \n",
    "    S, E = minmaxH(land)\n",
    "    \n",
    "    while S+3<E:\n",
    "        L = (2*S+E)//3\n",
    "        R = (S+2*E)//3\n",
    "        if calCost(L, land, P, Q) > calCost(R, land, P, Q): #부등호의 방향 max 일때 L<R, min일때 L>R\n",
    "            S = L\n",
    "        else:\n",
    "            E = R\n",
    "    for i in range(S, E+1):\n",
    "        answer = min(answer, calCost(i, land, P, Q))\n",
    "    return answer"
   ]
  }
 ],
 "metadata": {
  "kernelspec": {
   "display_name": "Python 3",
   "language": "python",
   "name": "python3"
  },
  "language_info": {
   "codemirror_mode": {
    "name": "ipython",
    "version": 3
   },
   "file_extension": ".py",
   "mimetype": "text/x-python",
   "name": "python",
   "nbconvert_exporter": "python",
   "pygments_lexer": "ipython3",
   "version": "3.6.0"
  }
 },
 "nbformat": 4,
 "nbformat_minor": 2
}
