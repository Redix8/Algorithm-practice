{
 "cells": [
  {
   "cell_type": "code",
   "execution_count": 1,
   "metadata": {
    "collapsed": false
   },
   "outputs": [
    {
     "name": "stdout",
     "output_type": "stream",
     "text": [
      "4\n"
     ]
    }
   ],
   "source": [
    "N = int(input())"
   ]
  },
  {
   "cell_type": "code",
   "execution_count": 2,
   "metadata": {
    "collapsed": false
   },
   "outputs": [
    {
     "name": "stdout",
     "output_type": "stream",
     "text": [
      "0 10 15 20\n",
      "5 0 9 10\n",
      "6 13 0 12\n",
      "8 8 9 0\n"
     ]
    }
   ],
   "source": [
    "W = [list(map(int, input().split())) for x in range(N)]"
   ]
  },
  {
   "cell_type": "code",
   "execution_count": 52,
   "metadata": {
    "collapsed": false
   },
   "outputs": [
    {
     "name": "stdout",
     "output_type": "stream",
     "text": [
      "4 0 10 15 20 5  0  9 10 6 13  0 12 8  8  9  0\n"
     ]
    }
   ],
   "source": [
    "W = []\n",
    "N = 0\n",
    "temp = list(map(int, input().split()))\n",
    "N = temp[0]\n",
    "for i in range(N):\n",
    "    W.append(temp[1+i*N:1+i*N+N])"
   ]
  },
  {
   "cell_type": "code",
   "execution_count": 63,
   "metadata": {
    "collapsed": false
   },
   "outputs": [],
   "source": [
    "def shortestPath(path, visited, currentLength):\n",
    "    global W\n",
    "    if(len(path) == N):\n",
    "        return currentLength + W[path[-1]][path[0]]\n",
    "    ret = 9876543210\n",
    "    for going in range(N):\n",
    "        if(visited[going]): continue\n",
    "        now = path[-1]\n",
    "        path.append(going)\n",
    "        visited[going] = True\n",
    "        cand = shortestPath(path, visited, currentLength + W[now][going])\n",
    "        if W[now][going] == 0 : cand = cand+9876543210\n",
    "        ret = min(ret, cand)\n",
    "        visited[going] = False\n",
    "        path.pop()\n",
    "    return ret"
   ]
  },
  {
   "cell_type": "code",
   "execution_count": 62,
   "metadata": {
    "collapsed": false
   },
   "outputs": [
    {
     "data": {
      "text/plain": [
       "35"
      ]
     },
     "execution_count": 62,
     "metadata": {},
     "output_type": "execute_result"
    }
   ],
   "source": [
    "path = []\n",
    "visited = [False]*N\n",
    "currentLength = 0\n",
    "path.append(0)\n",
    "visited[0] = True\n",
    "shortestPath(path, visited, currentLength)"
   ]
  },
  {
   "cell_type": "code",
   "execution_count": null,
   "metadata": {
    "collapsed": true
   },
   "outputs": [],
   "source": []
  }
 ],
 "metadata": {
  "kernelspec": {
   "display_name": "Python 3",
   "language": "python",
   "name": "python3"
  },
  "language_info": {
   "codemirror_mode": {
    "name": "ipython",
    "version": 3
   },
   "file_extension": ".py",
   "mimetype": "text/x-python",
   "name": "python",
   "nbconvert_exporter": "python",
   "pygments_lexer": "ipython3",
   "version": "3.6.0"
  }
 },
 "nbformat": 4,
 "nbformat_minor": 2
}
