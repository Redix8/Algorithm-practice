{
 "cells": [
  {
   "cell_type": "code",
   "execution_count": 29,
   "metadata": {},
   "outputs": [
    {
     "name": "stdout",
     "output_type": "stream",
     "text": [
      "1D2S3T*\n"
     ]
    }
   ],
   "source": [
    "s = input()"
   ]
  },
  {
   "cell_type": "code",
   "execution_count": 30,
   "metadata": {},
   "outputs": [
    {
     "name": "stdout",
     "output_type": "stream",
     "text": [
      "0 0\n",
      "1 0\n",
      "2 1\n",
      "3 1\n",
      "4 2\n",
      "5 2\n",
      "6 3\n",
      "[1, 4, 54]\n",
      "59\n"
     ]
    }
   ],
   "source": [
    "num = [0]*3\n",
    "i = 0;\n",
    "n = 0;\n",
    "while(i<len(s)):\n",
    "    if '0'<= s[i] and s[i] <= '9':\n",
    "        if s[i] == '1' and s[i+1]=='0':\n",
    "            num[n] = 10\n",
    "            i+=2\n",
    "            continue\n",
    "        else:\n",
    "            num[n] = int(s[i])\n",
    "            i+=1\n",
    "            continue\n",
    "                \n",
    "    if s[i] == 'S':\n",
    "        num[n]**=1\n",
    "    elif s[i] == 'D':\n",
    "        num[n]**=2\n",
    "    elif s[i] == 'T':\n",
    "        num[n]**=3\n",
    "    if s[i] == '*':\n",
    "        n-=1\n",
    "        num[n]*=2\n",
    "        if n>0:\n",
    "            num[n-1]*=2\n",
    "    elif s[i] == '#':\n",
    "        n-=1\n",
    "        num[n] = -num[n]\n",
    "        \n",
    "    i+=1\n",
    "    n+=1\n",
    "print(num)\n",
    "print(sum(num))\n",
    "        \n",
    "\n",
    "    "
   ]
  },
  {
   "cell_type": "code",
   "execution_count": 7,
   "metadata": {},
   "outputs": [
    {
     "data": {
      "text/plain": [
       "True"
      ]
     },
     "execution_count": 7,
     "metadata": {},
     "output_type": "execute_result"
    }
   ],
   "source": []
  },
  {
   "cell_type": "code",
   "execution_count": null,
   "metadata": {},
   "outputs": [],
   "source": []
  }
 ],
 "metadata": {
  "kernelspec": {
   "display_name": "Python 3",
   "language": "python",
   "name": "python3"
  },
  "language_info": {
   "codemirror_mode": {
    "name": "ipython",
    "version": 3
   },
   "file_extension": ".py",
   "mimetype": "text/x-python",
   "name": "python",
   "nbconvert_exporter": "python",
   "pygments_lexer": "ipython3",
   "version": "3.6.4"
  }
 },
 "nbformat": 4,
 "nbformat_minor": 2
}
