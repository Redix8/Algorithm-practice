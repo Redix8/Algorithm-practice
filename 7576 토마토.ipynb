{
 "cells": [
  {
   "cell_type": "code",
   "execution_count": 1,
   "metadata": {
    "collapsed": true
   },
   "outputs": [],
   "source": [
    "import pprint"
   ]
  },
  {
   "cell_type": "code",
   "execution_count": 15,
   "metadata": {
    "collapsed": false
   },
   "outputs": [
    {
     "name": "stdout",
     "output_type": "stream",
     "text": [
      "2 2\n",
      "1 -1\n",
      "-1 1\n",
      "0\n"
     ]
    }
   ],
   "source": [
    "from collections import deque\n",
    "m, n = map(int, input().split())\n",
    "box=[]\n",
    "for _ in range(n):\n",
    "    box.append(list(map(int, input().split())))\n",
    "\n",
    "Q=deque()\n",
    "day =0\n",
    "for y in range(n):\n",
    "    for x in range(m):\n",
    "        if box[y][x] == 1:\n",
    "            Q.append((x-1, y, 1))\n",
    "            Q.append((x+1, y, 1))\n",
    "            Q.append((x, y+1, 1))\n",
    "            Q.append((x, y-1, 1))\n",
    "while Q:\n",
    "    x, y, t = Q.popleft()\n",
    "    if 0<=x and x<m and 0<=y and y<n and box[y][x] == 0:\n",
    "        box[y][x] = 1\n",
    "        Q.append((x+1, y, t+1))\n",
    "        Q.append((x-1, y, t+1))\n",
    "        Q.append((x, y+1, t+1))\n",
    "        Q.append((x, y-1, t+1))\n",
    "        day = t\n",
    "    #print(*box, sep='\\n')\n",
    "    #print()\n",
    "for y in box:\n",
    "    if 0 in y:\n",
    "        day = -1\n",
    "        break\n",
    "print(day)\n"
   ]
  },
  {
   "cell_type": "code",
   "execution_count": 11,
   "metadata": {
    "collapsed": false
   },
   "outputs": [
    {
     "name": "stdout",
     "output_type": "stream",
     "text": [
      "[1, 2, 3, 4]\n",
      "[1, 2, 3, 4]\n",
      "[1, 2, 3, 4]\n",
      "[1, 2, 3, 4]\n"
     ]
    }
   ],
   "source": [
    "a = [[1,2,3,4],[1,2,3,4],[1,2,3,4],[1,2,3,4]]\n",
    "for x in a:\n",
    "    if 1 in x:\n",
    "        print(x)"
   ]
  },
  {
   "cell_type": "code",
   "execution_count": null,
   "metadata": {
    "collapsed": true
   },
   "outputs": [],
   "source": []
  }
 ],
 "metadata": {
  "kernelspec": {
   "display_name": "Python 3",
   "language": "python",
   "name": "python3"
  },
  "language_info": {
   "codemirror_mode": {
    "name": "ipython",
    "version": 3
   },
   "file_extension": ".py",
   "mimetype": "text/x-python",
   "name": "python",
   "nbconvert_exporter": "python",
   "pygments_lexer": "ipython3",
   "version": "3.6.0"
  }
 },
 "nbformat": 4,
 "nbformat_minor": 2
}
