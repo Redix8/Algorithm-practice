{
 "cells": [
  {
   "cell_type": "code",
   "execution_count": 92,
   "metadata": {
    "collapsed": false
   },
   "outputs": [
    {
     "name": "stdout",
     "output_type": "stream",
     "text": [
      "120\n"
     ]
    }
   ],
   "source": [
    "n = int(input())"
   ]
  },
  {
   "cell_type": "code",
   "execution_count": 186,
   "metadata": {
    "collapsed": false
   },
   "outputs": [
    {
     "name": "stdout",
     "output_type": "stream",
     "text": [
      "2454\n"
     ]
    }
   ],
   "source": [
    "n = 854\n",
    "r = 0\n",
    "if n<10:print(n)\n",
    "else:    \n",
    "    for i in range(1, len(str(n))):\n",
    "        n -= 9*10**(i-1)\n",
    "        r += i*9*10**(i-1)\n",
    "    if n > 0:\n",
    "        r += (i+1)*n\n",
    "    print(r)"
   ]
  },
  {
   "cell_type": "code",
   "execution_count": 187,
   "metadata": {
    "collapsed": false
   },
   "outputs": [
    {
     "data": {
      "text/plain": [
       "2454"
      ]
     },
     "execution_count": 187,
     "metadata": {},
     "output_type": "execute_result"
    }
   ],
   "source": [
    "n = 854\n",
    "s=''\n",
    "for i in range(1, n+1):\n",
    "    s+=str(i)\n",
    "len(s)"
   ]
  },
  {
   "cell_type": "code",
   "execution_count": null,
   "metadata": {
    "collapsed": true
   },
   "outputs": [],
   "source": [
    "n = int(input())\n",
    "cnt = len(str(n))\n",
    "\n",
    "tmp = 0; result = 0\n",
    "for i in range(cnt, 0, -1):\n",
    "    tmp = n\n",
    "    if i > 1:\n",
    "        n = n - 10**(i-1) + 1\n",
    "    result += n * i\n",
    "    n = tmp - n\n",
    "print(result)"
   ]
  }
 ],
 "metadata": {
  "kernelspec": {
   "display_name": "Python 3",
   "language": "python",
   "name": "python3"
  },
  "language_info": {
   "codemirror_mode": {
    "name": "ipython",
    "version": 3
   },
   "file_extension": ".py",
   "mimetype": "text/x-python",
   "name": "python",
   "nbconvert_exporter": "python",
   "pygments_lexer": "ipython3",
   "version": "3.6.0"
  }
 },
 "nbformat": 4,
 "nbformat_minor": 2
}
