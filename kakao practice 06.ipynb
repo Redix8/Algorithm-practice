{
 "cells": [
  {
   "cell_type": "code",
   "execution_count": 12,
   "metadata": {
    "collapsed": true
   },
   "outputs": [],
   "source": [
    "def deleteBlock(m,n,board):\n",
    "    s = set()\n",
    "    for i in range(m-1):\n",
    "        for j in range(n-1):\n",
    "            if board[i][j]!='0':                \n",
    "                if board[i][j]==board[i][j+1]==board[i+1][j]==board[i+1][j+1]:\n",
    "                    s.add((i,j))\n",
    "                    s.add((i+1,j))\n",
    "                    s.add((i,j+1))\n",
    "                    s.add((i+1,j+1))\n",
    "    for r,c in s:\n",
    "        board[r][c] = '0'\n",
    "    return len(s)\n",
    "\n",
    "def pushBlock(m,n,board):\n",
    "    new = [['0']*n for _ in range(m)]\n",
    "    for j in range(n):\n",
    "        tmp = []\n",
    "        for i in range(m-1,-1,-1):\n",
    "            if board[i][j] !='0':\n",
    "                tmp.append(board[i][j])\n",
    "        for i,x in enumerate(tmp):\n",
    "            new[m-1-i][j] = x\n",
    "    return new\n",
    "        \n",
    "def solution(m, n, board):\n",
    "    board = list(map(list, board))\n",
    "    ret = 0\n",
    "    cnt = 0\n",
    "    while True:\n",
    "        num = deleteBlock(m,n,board)\n",
    "        if not num: break\n",
    "        ret += num\n",
    "        board = pushBlock(m,n,board)        \n",
    "    \n",
    "    return ret"
   ]
  },
  {
   "cell_type": "code",
   "execution_count": 13,
   "metadata": {
    "collapsed": false
   },
   "outputs": [
    {
     "data": {
      "text/plain": [
       "14"
      ]
     },
     "execution_count": 13,
     "metadata": {},
     "output_type": "execute_result"
    }
   ],
   "source": [
    "solution(4,5,['CCBDE', 'AAADE', 'AAABF', 'CCBBF'])"
   ]
  },
  {
   "cell_type": "code",
   "execution_count": null,
   "metadata": {
    "collapsed": true
   },
   "outputs": [],
   "source": []
  }
 ],
 "metadata": {
  "kernelspec": {
   "display_name": "Python 3",
   "language": "python",
   "name": "python3"
  },
  "language_info": {
   "codemirror_mode": {
    "name": "ipython",
    "version": 3
   },
   "file_extension": ".py",
   "mimetype": "text/x-python",
   "name": "python",
   "nbconvert_exporter": "python",
   "pygments_lexer": "ipython3",
   "version": "3.6.0"
  }
 },
 "nbformat": 4,
 "nbformat_minor": 2
}
