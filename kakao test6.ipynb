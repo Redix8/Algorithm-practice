{
 "cells": [
  {
   "cell_type": "code",
   "execution_count": 72,
   "metadata": {
    "collapsed": false
   },
   "outputs": [],
   "source": [
    "m = 4; n = 5\n",
    "board = ['CCBDE', 'AAADE', 'AAABF', 'CCBBF']"
   ]
  },
  {
   "cell_type": "code",
   "execution_count": 211,
   "metadata": {
    "collapsed": true
   },
   "outputs": [],
   "source": [
    "m = 6; n = 6\n",
    "board = ['TTTANT', 'RRFACC', 'RRRFCC', 'TRRRAA', 'TTMMMF', 'TMMTTJ']"
   ]
  },
  {
   "cell_type": "code",
   "execution_count": 212,
   "metadata": {
    "collapsed": false
   },
   "outputs": [],
   "source": [
    "board = list(map(list, zip(*board)))\n",
    "for x in board:\n",
    "    x.reverse()"
   ]
  },
  {
   "cell_type": "code",
   "execution_count": 213,
   "metadata": {
    "collapsed": false,
    "scrolled": true
   },
   "outputs": [
    {
     "name": "stdout",
     "output_type": "stream",
     "text": [
      "[(2, 1), (2, 2), (3, 0), (3, 1), (3, 2), (3, 4), (3, 5), (4, 0), (4, 1), (4, 4), (4, 5)]\n",
      "[(1, 0), (1, 1), (2, 0), (2, 1)]\n"
     ]
    }
   ],
   "source": [
    "while True:\n",
    "    temp = set()\n",
    "    for i in range(n-1):\n",
    "        for j in range(m-1):\n",
    "            if board[i][j] == ' ':\n",
    "                continue\n",
    "            if (board[i][j] == board[i][j+1] and \n",
    "                board[i][j] == board[i+1][j] and \n",
    "                board[i][j] == board[i+1][j+1]) :\n",
    "                temp.add((j,i))\n",
    "                temp.add((j+1,i))\n",
    "                temp.add((j,i+1))\n",
    "                temp.add((j+1,i+1))\n",
    "    if not temp: break\n",
    "    temp = list(temp)\n",
    "    temp.sort()\n",
    "    while(temp):\n",
    "        j, i = temp.pop()\n",
    "        del board[i][j]\n",
    "        board[i].append(' ')"
   ]
  },
  {
   "cell_type": "code",
   "execution_count": 217,
   "metadata": {
    "collapsed": false
   },
   "outputs": [
    {
     "name": "stdout",
     "output_type": "stream",
     "text": [
      "15\n"
     ]
    }
   ],
   "source": [
    "result = 0\n",
    "for x in board:\n",
    "    result += x.count(' ')\n",
    "print(result)"
   ]
  },
  {
   "cell_type": "code",
   "execution_count": null,
   "metadata": {
    "collapsed": true
   },
   "outputs": [],
   "source": []
  }
 ],
 "metadata": {
  "kernelspec": {
   "display_name": "Python 3",
   "language": "python",
   "name": "python3"
  },
  "language_info": {
   "codemirror_mode": {
    "name": "ipython",
    "version": 3
   },
   "file_extension": ".py",
   "mimetype": "text/x-python",
   "name": "python",
   "nbconvert_exporter": "python",
   "pygments_lexer": "ipython3",
   "version": "3.6.0"
  }
 },
 "nbformat": 4,
 "nbformat_minor": 2
}
