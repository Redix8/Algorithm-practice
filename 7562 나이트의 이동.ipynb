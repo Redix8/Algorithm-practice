{
 "cells": [
  {
   "cell_type": "code",
   "execution_count": 2,
   "metadata": {
    "collapsed": false
   },
   "outputs": [
    {
     "name": "stdout",
     "output_type": "stream",
     "text": [
      "3\n",
      "8\n",
      "0 0\n",
      "7 0\n",
      "5\n",
      "100\n",
      "0 0\n",
      "30 50\n",
      "28\n",
      "10\n",
      "1 1\n",
      "1 1\n",
      "0\n"
     ]
    }
   ],
   "source": [
    "import sys\n",
    "from collections import deque\n",
    "#input = sys.stdin.readline\n",
    "t = int(input())\n",
    "x = [1,2,2,1,-1,-2,-2,-1]\n",
    "y = [-2,-1,1,2,2,1,-1,-2]\n",
    "for _ in range(t):\n",
    "    n = int(input())\n",
    "    knight = tuple(map(int, input().split()))\n",
    "    target = tuple(map(int, input().split()))\n",
    "    visited = [[0]*n for z in range(n)]\n",
    "    q = deque()\n",
    "    q.append(knight)\n",
    "    visited[knight[0]][knight[1]] = 1\n",
    "    while q:\n",
    "        r, c = q.popleft()\n",
    "        if (r,c) == target:\n",
    "            break\n",
    "        for i in range(8):\n",
    "            nr = r+y[i]\n",
    "            nc = c+x[i]\n",
    "            if 0<=nr and nr<n and 0<=nc and nc<n:\n",
    "                if not visited[nr][nc]:\n",
    "                    visited[nr][nc] = visited[r][c]+1\n",
    "                    q.append((nr,nc))\n",
    "    print(visited[r][c]-1)              \n",
    "        "
   ]
  },
  {
   "cell_type": "code",
   "execution_count": 1,
   "metadata": {
    "collapsed": false
   },
   "outputs": [
    {
     "name": "stdout",
     "output_type": "stream",
     "text": [
      "yes\n"
     ]
    }
   ],
   "source": []
  },
  {
   "cell_type": "code",
   "execution_count": null,
   "metadata": {
    "collapsed": true
   },
   "outputs": [],
   "source": []
  }
 ],
 "metadata": {
  "kernelspec": {
   "display_name": "Python 3",
   "language": "python",
   "name": "python3"
  },
  "language_info": {
   "codemirror_mode": {
    "name": "ipython",
    "version": 3
   },
   "file_extension": ".py",
   "mimetype": "text/x-python",
   "name": "python",
   "nbconvert_exporter": "python",
   "pygments_lexer": "ipython3",
   "version": "3.6.0"
  }
 },
 "nbformat": 4,
 "nbformat_minor": 2
}
