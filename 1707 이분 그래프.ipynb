{
 "cells": [
  {
   "cell_type": "code",
   "execution_count": 6,
   "metadata": {
    "collapsed": false
   },
   "outputs": [
    {
     "name": "stdout",
     "output_type": "stream",
     "text": [
      "1\n",
      "2 2\n",
      "1 2\n",
      "2 1\n",
      "YES\n"
     ]
    }
   ],
   "source": [
    "k = int(input())\n",
    "for _ in range(k):\n",
    "    v, e = map(int, input().split())\n",
    "    graph = {}\n",
    "    visited = [0]*20002\n",
    "    isBipartite = True\n",
    "    for z in range(e):\n",
    "        a, b = map(int, input().split())\n",
    "        if a in graph:\n",
    "            graph[a].append(b)\n",
    "        else:\n",
    "            graph[a] = [b]\n",
    "        if b in graph:\n",
    "            graph[b].append(a)\n",
    "        else:\n",
    "            graph[b] = [a]\n",
    "        \n",
    "    for i in range(1, v+1):\n",
    "        st=[]\n",
    "        comp = 0\n",
    "        if not visited[i]:\n",
    "            st.append(i)\n",
    "            visited[i] = 1\n",
    "            comp+=1\n",
    "        while st:\n",
    "            node=st.pop()\n",
    "            dif = 0\n",
    "            if visited[node] == 1:\n",
    "                dif = 2\n",
    "            if visited[node] == 2:\n",
    "                dif = 1\n",
    "            for sub in graph[node]:                \n",
    "                if visited[sub]:\n",
    "                    if visited[sub] == visited[node]:\n",
    "                        isBipartite = False\n",
    "                        break\n",
    "                else:\n",
    "                    st.append(sub)\n",
    "                    visited[sub] = dif\n",
    "            if not isBipartite:\n",
    "                break\n",
    "        if not isBipartite:\n",
    "            break\n",
    "    \n",
    "    if isBipartite or comp>=2:\n",
    "        print(\"YES\")\n",
    "    else:\n",
    "        print(\"NO\")\n",
    "        "
   ]
  },
  {
   "cell_type": "code",
   "execution_count": 7,
   "metadata": {
    "collapsed": true
   },
   "outputs": [],
   "source": [
    "graph = {i:[] for i in range(1,v+1)}"
   ]
  },
  {
   "cell_type": "code",
   "execution_count": 8,
   "metadata": {
    "collapsed": false
   },
   "outputs": [
    {
     "data": {
      "text/plain": [
       "{1: [], 2: []}"
      ]
     },
     "execution_count": 8,
     "metadata": {},
     "output_type": "execute_result"
    }
   ],
   "source": [
    "graph"
   ]
  },
  {
   "cell_type": "code",
   "execution_count": 9,
   "metadata": {
    "collapsed": false
   },
   "outputs": [
    {
     "name": "stdout",
     "output_type": "stream",
     "text": [
      "2\n",
      "3 2\n",
      "1 3\n",
      "2 3\n",
      "YES\n",
      "4 4\n",
      "1 2\n",
      "2 3\n",
      "3 4\n",
      "4 2\n",
      "NO\n"
     ]
    }
   ],
   "source": [
    "k = int(input())\n",
    "for _ in range(k):\n",
    "    v, e = map(int, input().split())\n",
    "    graph = {i:[] for i in range(1,v+1)}\n",
    "    visited = [0]*20002\n",
    "    isBipartite = True\n",
    "    for z in range(e):\n",
    "        a, b = map(int, input().split())\n",
    "        graph[a].append(b)\n",
    "        graph[b].append(a)        \n",
    "        \n",
    "    for i in range(1, v+1):\n",
    "        st=[]\n",
    "        comp = 0\n",
    "        if not visited[i]:\n",
    "            st.append(i)\n",
    "            visited[i] = 1\n",
    "            comp+=1\n",
    "        while st:\n",
    "            node=st.pop()\n",
    "            dif = 0\n",
    "            if visited[node] == 1:\n",
    "                dif = 2\n",
    "            if visited[node] == 2:\n",
    "                dif = 1\n",
    "            for sub in graph[node]:                \n",
    "                if visited[sub]:\n",
    "                    if visited[sub] == visited[node]:\n",
    "                        isBipartite = False\n",
    "                        break\n",
    "                else:\n",
    "                    st.append(sub)\n",
    "                    visited[sub] = dif\n",
    "            if not isBipartite:\n",
    "                break\n",
    "        if not isBipartite:\n",
    "            break\n",
    "    \n",
    "    if isBipartite or comp>=2:\n",
    "        print(\"YES\")\n",
    "    else:\n",
    "        print(\"NO\") "
   ]
  },
  {
   "cell_type": "code",
   "execution_count": null,
   "metadata": {
    "collapsed": true
   },
   "outputs": [],
   "source": []
  }
 ],
 "metadata": {
  "kernelspec": {
   "display_name": "Python 3",
   "language": "python",
   "name": "python3"
  },
  "language_info": {
   "codemirror_mode": {
    "name": "ipython",
    "version": 3
   },
   "file_extension": ".py",
   "mimetype": "text/x-python",
   "name": "python",
   "nbconvert_exporter": "python",
   "pygments_lexer": "ipython3",
   "version": "3.6.0"
  }
 },
 "nbformat": 4,
 "nbformat_minor": 2
}
