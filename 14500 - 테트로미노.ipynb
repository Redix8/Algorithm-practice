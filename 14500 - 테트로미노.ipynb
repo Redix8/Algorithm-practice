{
 "cells": [
  {
   "cell_type": "code",
   "execution_count": 10,
   "metadata": {
    "collapsed": true
   },
   "outputs": [],
   "source": [
    "bar = (0,0),(0,1),(0,2),(0,3)\n",
    "bar2 = (0,0),(1,0),(2,0),(3,0)\n",
    "sq = (0,0),(0,1),(1,0),(1,1)\n",
    "L = (0,0),(1,0),(2,0),(2,1) #L\n",
    "L2 =(0,0),(0,1),(0,2),(1,0) \n",
    "L3 =(0,0),(0,1),(1,1),(2,1)\n",
    "L4 =(1,0),(1,1),(1,2),(0,2)\n",
    "L5 =(0,1),(1,1),(2,1),(2,0)\n",
    "L6 =(0,0),(1,0),(1,1),(1,2) #ㄴ\n",
    "L7 =(0,0),(1,0),(2,0),(0,1)\n",
    "L8 =(0,0),(0,1),(0,2),(1,2) #ㄱ\n",
    "s = (0,0),(1,0),(1,1),(2,1)\n",
    "s2= (0,1),(1,0),(1,1),(0,2)\n",
    "s3= (0,1),(1,0),(1,1),(2,0)\n",
    "s4= (0,0),(0,1),(1,1),(1,2)\n",
    "h = (0,0),(0,1),(0,2),(1,1)\n",
    "h1= (1,0),(1,1),(1,2),(0,1)\n",
    "h2= (0,0),(1,0),(2,0),(1,1)\n",
    "h3= (0,1),(1,1),(2,1),(1,0)\n"
   ]
  },
  {
   "cell_type": "code",
   "execution_count": 11,
   "metadata": {
    "collapsed": true
   },
   "outputs": [],
   "source": [
    "blocks = [bar, bar2, sq, L, L2,L3,L4,L5,L6,L7,L8,\n",
    "          s,s2,s3,s4,h,h1,h2,h3]"
   ]
  },
  {
   "cell_type": "code",
   "execution_count": 9,
   "metadata": {
    "collapsed": false
   },
   "outputs": [
    {
     "name": "stdout",
     "output_type": "stream",
     "text": [
      "4 10\n",
      "1 2 1 2 1 2 1 2 1 2\n",
      "2 1 2 1 2 1 2 1 2 1\n",
      "1 2 1 2 1 2 1 2 1 2\n",
      "2 1 2 1 2 1 2 1 2 1\n",
      "7\n"
     ]
    }
   ],
   "source": [
    "N,M = map(int,input().split())\n",
    "arr = []\n",
    "for _ in range(N):\n",
    "    arr.append(list(map(int, input().split())))\n",
    "mx = 0\n",
    "for i in range(N):\n",
    "    for j in range(M):\n",
    "        for block in blocks:\n",
    "            summ = 0\n",
    "            for r,c in block:\n",
    "                if i+r<N and j+c<M:\n",
    "                    summ +=arr[i+r][j+c]\n",
    "            if summ>mx: mx=summ\n",
    "print(mx)            \n",
    "    "
   ]
  },
  {
   "cell_type": "code",
   "execution_count": null,
   "metadata": {
    "collapsed": true
   },
   "outputs": [],
   "source": [
    "1 2 1 2 1 2 1 2 1 2 1"
   ]
  }
 ],
 "metadata": {
  "kernelspec": {
   "display_name": "Python 3",
   "language": "python",
   "name": "python3"
  },
  "language_info": {
   "codemirror_mode": {
    "name": "ipython",
    "version": 3
   },
   "file_extension": ".py",
   "mimetype": "text/x-python",
   "name": "python",
   "nbconvert_exporter": "python",
   "pygments_lexer": "ipython3",
   "version": "3.6.0"
  }
 },
 "nbformat": 4,
 "nbformat_minor": 2
}
