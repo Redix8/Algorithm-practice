{
 "cells": [
  {
   "cell_type": "code",
   "execution_count": 1,
   "metadata": {
    "collapsed": true
   },
   "outputs": [],
   "source": [
    "isPrime = [True]*10000\n",
    "isPrime[0] = False\n",
    "isPrime[1] = False\n",
    "for i in range(2,int(10000**0.5)+1):\n",
    "    if isPrime[i]:\n",
    "        for j in range(i+i, 10000, i):\n",
    "            isPrime[j] = False\n",
    "\n",
    "\n",
    "    \n"
   ]
  },
  {
   "cell_type": "code",
   "execution_count": 19,
   "metadata": {
    "collapsed": false
   },
   "outputs": [
    {
     "name": "stdout",
     "output_type": "stream",
     "text": [
      "1033 1033\n",
      "0\n"
     ]
    }
   ],
   "source": [
    "from collections import deque\n",
    "def search(p1, p2):\n",
    "    visited = [False]*10000\n",
    "    change = 0\n",
    "    q = deque()\n",
    "    q.append(p1)\n",
    "    isSame = False\n",
    "    visited[int(p1)] = True\n",
    "    while q:\n",
    "        temp = deque()\n",
    "        for _ in range(len(q)):\n",
    "            el = q.popleft()\n",
    "            if el == p2:\n",
    "                isSame = True\n",
    "                break\n",
    "            for i in range(4):\n",
    "                for j in range(1 if i==0 else 0,10):\n",
    "                    nextel = el[:i] + str(j) + el[i+1:]\n",
    "                    if isPrime[int(nextel)] and not visited[int(nextel)]:\n",
    "                        temp.append(nextel)\n",
    "                        visited[int(nextel)] = True\n",
    "        if isSame:break\n",
    "        change+=1\n",
    "        q = temp\n",
    "    if isSame:\n",
    "        print(change)\n",
    "    else:\n",
    "        print('Impossible')\n",
    "            \n",
    "\n",
    "a,b= input().split()\n",
    "search(a, b)        "
   ]
  },
  {
   "cell_type": "code",
   "execution_count": 8,
   "metadata": {
    "collapsed": false
   },
   "outputs": [
    {
     "data": {
      "text/plain": [
       "'1'"
      ]
     },
     "execution_count": 8,
     "metadata": {},
     "output_type": "execute_result"
    }
   ],
   "source": [
    "a = '1234'\n",
    "a[:1]"
   ]
  },
  {
   "cell_type": "code",
   "execution_count": 9,
   "metadata": {
    "collapsed": false
   },
   "outputs": [
    {
     "data": {
      "text/plain": [
       "'34'"
      ]
     },
     "execution_count": 9,
     "metadata": {},
     "output_type": "execute_result"
    }
   ],
   "source": [
    "a[2:]"
   ]
  },
  {
   "cell_type": "code",
   "execution_count": 15,
   "metadata": {
    "collapsed": false
   },
   "outputs": [
    {
     "data": {
      "text/plain": [
       "True"
      ]
     },
     "execution_count": 15,
     "metadata": {},
     "output_type": "execute_result"
    }
   ],
   "source": [
    "isPrime[8179]"
   ]
  },
  {
   "cell_type": "code",
   "execution_count": null,
   "metadata": {
    "collapsed": true
   },
   "outputs": [],
   "source": []
  }
 ],
 "metadata": {
  "kernelspec": {
   "display_name": "Python 3",
   "language": "python",
   "name": "python3"
  },
  "language_info": {
   "codemirror_mode": {
    "name": "ipython",
    "version": 3
   },
   "file_extension": ".py",
   "mimetype": "text/x-python",
   "name": "python",
   "nbconvert_exporter": "python",
   "pygments_lexer": "ipython3",
   "version": "3.6.0"
  }
 },
 "nbformat": 4,
 "nbformat_minor": 2
}
