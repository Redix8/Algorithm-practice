{
 "cells": [
  {
   "cell_type": "code",
   "execution_count": null,
   "metadata": {
    "collapsed": true
   },
   "outputs": [],
   "source": [
    "from collections import deque\n",
    "n, m = map(int, input().split())\n",
    "loc = list(map(int, input().split()))\n",
    "ret = 0\n",
    "for i in range(m):\n",
    "    if loc[i]-1<=n-loc[i]:\n",
    "        for j in range(i,m):\n",
    "            loc[j]=(loc[j]-loc[i]-1)%\n",
    "        ret+=loc[i]-1\n",
    "    else:\n",
    "        for j in range(i,m):\n",
    "            loc[j]-=\n",
    "\n"
   ]
  },
  {
   "cell_type": "code",
   "execution_count": 20,
   "metadata": {
    "collapsed": false
   },
   "outputs": [
    {
     "name": "stdout",
     "output_type": "stream",
     "text": [
      "10 10\n",
      "1 6 3 2 7 9 8 4 10 5\n",
      "0\n",
      "4\n",
      "7\n",
      "8\n",
      "10\n",
      "11\n",
      "12\n",
      "13\n",
      "14\n",
      "14\n"
     ]
    }
   ],
   "source": [
    "from collections import deque\n",
    "n, m = map(int, input().split())\n",
    "loc = list(map(lambda x: x-1, map(int, input().split())))\n",
    "ret = 0\n",
    "for i in range(m):\n",
    "    if loc[i]<n-loc[i]:\n",
    "        ret+=loc[i]\n",
    "        for j in range(i+1,m):\n",
    "            loc[j] = (loc[j]-loc[i]-1)%n        \n",
    "    else:\n",
    "        ret+=n-loc[i]\n",
    "        for j in range(i+1,m):\n",
    "            loc[j] = (loc[j]+(n-loc[i])-1)%n\n",
    "    n-=1\n",
    "print(ret)\n",
    "\n",
    "    \n"
   ]
  },
  {
   "cell_type": "code",
   "execution_count": 15,
   "metadata": {
    "collapsed": false
   },
   "outputs": [
    {
     "data": {
      "text/plain": [
       "[1, 6, 7]"
      ]
     },
     "execution_count": 15,
     "metadata": {},
     "output_type": "execute_result"
    }
   ],
   "source": [
    "loc"
   ]
  },
  {
   "cell_type": "code",
   "execution_count": null,
   "metadata": {
    "collapsed": true
   },
   "outputs": [],
   "source": []
  }
 ],
 "metadata": {
  "kernelspec": {
   "display_name": "Python 3",
   "language": "python",
   "name": "python3"
  },
  "language_info": {
   "codemirror_mode": {
    "name": "ipython",
    "version": 3
   },
   "file_extension": ".py",
   "mimetype": "text/x-python",
   "name": "python",
   "nbconvert_exporter": "python",
   "pygments_lexer": "ipython3",
   "version": "3.6.0"
  }
 },
 "nbformat": 4,
 "nbformat_minor": 2
}
