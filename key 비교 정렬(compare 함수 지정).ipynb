{
 "cells": [
  {
   "cell_type": "code",
   "execution_count": 5,
   "metadata": {
    "collapsed": false
   },
   "outputs": [
    {
     "name": "stdout",
     "output_type": "stream",
     "text": [
      "['9', '5', '34', '30', '3']\n"
     ]
    },
    {
     "data": {
      "text/plain": [
       "'9534330'"
      ]
     },
     "execution_count": 5,
     "metadata": {},
     "output_type": "execute_result"
    }
   ],
   "source": [
    "from functools import cmp_to_key\n",
    "numbers = [3,30,34,5,9]\n",
    "def compare(a, b):\n",
    "    return int(b+a)-int(a+b)\n",
    "def solution(numbers):\n",
    "    print(sorted(map(str, numbers),reverse=True))\n",
    "    answer = \"\".join(sorted(map(str, numbers),key=cmp_to_key(compare)))\n",
    "    return int(answer)\n",
    "solution(numbers)\n"
   ]
  },
  {
   "cell_type": "code",
   "execution_count": 8,
   "metadata": {
    "collapsed": false
   },
   "outputs": [],
   "source": [
    "s = 'ABCDEFGHIJKLMNOPQRSTUVWXYZ'"
   ]
  },
  {
   "cell_type": "code",
   "execution_count": 12,
   "metadata": {
    "collapsed": false
   },
   "outputs": [
    {
     "name": "stdout",
     "output_type": "stream",
     "text": [
      "A 0 26\n",
      "B 1 25\n",
      "C 2 24\n",
      "D 3 23\n",
      "E 4 22\n",
      "F 5 21\n",
      "G 6 20\n",
      "H 7 19\n",
      "I 8 18\n",
      "J 9 17\n",
      "K 10 16\n",
      "L 11 15\n",
      "M 12 14\n",
      "N 13 13\n",
      "O 14 12\n",
      "P 15 11\n",
      "Q 16 10\n",
      "R 17 9\n",
      "S 18 8\n",
      "T 19 7\n",
      "U 20 6\n",
      "V 21 5\n",
      "W 22 4\n",
      "X 23 3\n",
      "Y 24 2\n",
      "Z 25 1\n"
     ]
    }
   ],
   "source": [
    "for c in s:\n",
    "    print(c, ord(c)-ord('A'), ord('Z')-ord(c)+1)"
   ]
  },
  {
   "cell_type": "code",
   "execution_count": null,
   "metadata": {
    "collapsed": true
   },
   "outputs": [],
   "source": []
  }
 ],
 "metadata": {
  "kernelspec": {
   "display_name": "Python 3",
   "language": "python",
   "name": "python3"
  },
  "language_info": {
   "codemirror_mode": {
    "name": "ipython",
    "version": 3
   },
   "file_extension": ".py",
   "mimetype": "text/x-python",
   "name": "python",
   "nbconvert_exporter": "python",
   "pygments_lexer": "ipython3",
   "version": "3.6.0"
  }
 },
 "nbformat": 4,
 "nbformat_minor": 2
}
