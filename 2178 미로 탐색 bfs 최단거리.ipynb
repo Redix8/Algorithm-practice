{
 "cells": [
  {
   "cell_type": "code",
   "execution_count": 21,
   "metadata": {
    "collapsed": false
   },
   "outputs": [
    {
     "name": "stdout",
     "output_type": "stream",
     "text": [
      "7 7\n",
      "1011111\n",
      "1110001\n",
      "1000001\n",
      "1000001\n",
      "1000001\n",
      "1000001\n",
      "1111111\n",
      "13\n"
     ]
    }
   ],
   "source": [
    "from collections import deque\n",
    "n, m = map(int, input().split())\n",
    "arr = []\n",
    "for _ in range(n):\n",
    "    arr.append(list(input()))\n",
    "\n",
    "path = [[0]*m for _ in range(n)]\n",
    "q = deque()\n",
    "path[0][0] = 1\n",
    "q.append((0,0))\n",
    "\n",
    "x = [1,-1,0,0]\n",
    "y = [0,0,1,-1]\n",
    "while q:\n",
    "    r,c = q.popleft()\n",
    "    \n",
    "    if r==n-1 and c==m-1:\n",
    "        break\n",
    "    for i in range(4):\n",
    "        nr = r+y[i]\n",
    "        nc = c+x[i]\n",
    "        if 0<=nr and nr<n and 0<=nc and nc<m:\n",
    "            if not path[nr][nc] and arr[nr][nc]=='1':\n",
    "                q.append((nr,nc))\n",
    "                path[nr][nc] = path[r][c]+1\n",
    "print(path[n-1][m-1])                "
   ]
  },
  {
   "cell_type": "code",
   "execution_count": 6,
   "metadata": {
    "collapsed": false
   },
   "outputs": [],
   "source": [
    "path = [[0]*m for _ in range(n)]"
   ]
  },
  {
   "cell_type": "code",
   "execution_count": 3,
   "metadata": {
    "collapsed": false
   },
   "outputs": [],
   "source": [
    "n =4; m=6"
   ]
  },
  {
   "cell_type": "code",
   "execution_count": 19,
   "metadata": {
    "collapsed": false
   },
   "outputs": [
    {
     "data": {
      "text/plain": [
       "[[1, 2, 0, 8, 9, 0],\n",
       " [2, 3, 0, 7, 8, 0],\n",
       " [3, 4, 5, 6, 7, 8],\n",
       " [4, 5, 6, 7, 0, 9]]"
      ]
     },
     "execution_count": 19,
     "metadata": {},
     "output_type": "execute_result"
    }
   ],
   "source": [
    "path"
   ]
  },
  {
   "cell_type": "code",
   "execution_count": 15,
   "metadata": {
    "collapsed": false
   },
   "outputs": [
    {
     "data": {
      "text/plain": [
       "[['1', '0', '1', '1', '1', '1'],\n",
       " ['1', '0', '1', '0', '1', '0'],\n",
       " ['1', '0', '1', '0', '1', '1'],\n",
       " ['1', '1', '1', '0', '1', '1']]"
      ]
     },
     "execution_count": 15,
     "metadata": {},
     "output_type": "execute_result"
    }
   ],
   "source": [
    "arr"
   ]
  },
  {
   "cell_type": "code",
   "execution_count": null,
   "metadata": {
    "collapsed": true
   },
   "outputs": [],
   "source": []
  }
 ],
 "metadata": {
  "kernelspec": {
   "display_name": "Python 3",
   "language": "python",
   "name": "python3"
  },
  "language_info": {
   "codemirror_mode": {
    "name": "ipython",
    "version": 3
   },
   "file_extension": ".py",
   "mimetype": "text/x-python",
   "name": "python",
   "nbconvert_exporter": "python",
   "pygments_lexer": "ipython3",
   "version": "3.6.0"
  }
 },
 "nbformat": 4,
 "nbformat_minor": 2
}
