{
 "cells": [
  {
   "cell_type": "code",
   "execution_count": 13,
   "metadata": {
    "collapsed": false
   },
   "outputs": [
    {
     "name": "stdout",
     "output_type": "stream",
     "text": [
      "2\n",
      "7\n",
      "3 1 3 7 3 4 6 \n",
      "3\n",
      "8\n",
      "1 2 3 4 5 6 7 8\n",
      "0\n"
     ]
    }
   ],
   "source": [
    "t = int(input())\n",
    "for _ in range(t):\n",
    "    n = int(input())\n",
    "    arr = [0]+list(map(int, input().split()))\n",
    "    inPj = 0\n",
    "    graph = {i:[] for i in range(1,n+1)}\n",
    "    visited=[0]*100002\n",
    "    size=[0]*100002\n",
    "\n",
    "    for i in range(1,n+1):\n",
    "        if i == arr[i]:\n",
    "            inPj+=1\n",
    "            visited[i]=-1\n",
    "        else:\n",
    "            graph[i].append(arr[i])\n",
    "    \n",
    "    for i in range(1, n+1):\n",
    "        st = []\n",
    "        start = 0\n",
    "        if not visited[i]:\n",
    "            start = i\n",
    "            size[i] +=1\n",
    "            st.append(i)\n",
    "            visited[i] = i\n",
    "        \n",
    "        while st:\n",
    "            node = st.pop()            \n",
    "            for sub in graph[node]:\n",
    "                if visited[sub] == visited[node]:\n",
    "                    inPj += size[node]-size[sub]+1\n",
    "                if not visited[sub]:\n",
    "                    st.append(sub)\n",
    "                    visited[sub]= visited[node]\n",
    "                    size[sub]+=size[node]+1\n",
    "    print(n-inPj)                "
   ]
  },
  {
   "cell_type": "code",
   "execution_count": 9,
   "metadata": {
    "collapsed": false
   },
   "outputs": [
    {
     "name": "stdout",
     "output_type": "stream",
     "text": [
      "-1\n"
     ]
    }
   ],
   "source": []
  },
  {
   "cell_type": "code",
   "execution_count": null,
   "metadata": {
    "collapsed": true
   },
   "outputs": [],
   "source": []
  }
 ],
 "metadata": {
  "kernelspec": {
   "display_name": "Python 3",
   "language": "python",
   "name": "python3"
  },
  "language_info": {
   "codemirror_mode": {
    "name": "ipython",
    "version": 3
   },
   "file_extension": ".py",
   "mimetype": "text/x-python",
   "name": "python",
   "nbconvert_exporter": "python",
   "pygments_lexer": "ipython3",
   "version": "3.6.0"
  }
 },
 "nbformat": 4,
 "nbformat_minor": 2
}
